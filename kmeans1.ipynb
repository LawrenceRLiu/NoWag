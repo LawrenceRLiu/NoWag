{
 "cells": [
  {
   "cell_type": "code",
   "execution_count": 1,
   "metadata": {},
   "outputs": [],
   "source": [
    "import torch\n",
    "import torch.nn as nn"
   ]
  },
  {
   "cell_type": "code",
   "execution_count": 2,
   "metadata": {},
   "outputs": [],
   "source": [
    "data = torch.load('/home/lliu/huffman/test/original_weights.pt')"
   ]
  },
  {
   "cell_type": "code",
   "execution_count": 3,
   "metadata": {},
   "outputs": [],
   "source": [
    "#move the tensors cuda:7\n",
    "device = torch.device(\"cuda:6\")\n",
    "\n",
    "for key in data.keys():\n",
    "    if isinstance(data[key], torch.Tensor):\n",
    "        data[key] = data[key].to(device)\n",
    "    elif isinstance(data[key], list):\n",
    "        for i in range(len(data[key])):\n",
    "            data[key][i] = data[key][i].to(device)"
   ]
  },
  {
   "cell_type": "code",
   "execution_count": null,
   "metadata": {},
   "outputs": [],
   "source": [
    "data"
   ]
  },
  {
   "cell_type": "code",
   "execution_count": 5,
   "metadata": {},
   "outputs": [],
   "source": [
    "import tqdm\n",
    "\n",
    "\n",
    "@torch.jit.script\n",
    "def assigment_step(W:torch.Tensor, H:torch.Tensor, quantized_vectors:torch.Tensor):\n",
    "    \"\"\"_summary_\n",
    "\n",
    "    Args:\n",
    "        W (torch.tensor): weights of shape (n,n)\n",
    "        H (torch.tensor): matrix of shape (n,n)\n",
    "        quantized_vectors (torch.tensor): quantized vectors of shape (n,k)\n",
    "            where k is the number of quantized vectors\n",
    "    \n",
    "    Returns:\n",
    "        torch.tensor: updated assignments\n",
    "        torch.tensor: updated errors\n",
    "    \"\"\"\n",
    "\n",
    "    #create a tensor of shape (n,k,n)\n",
    "    #where the slice [i,k,:] consists of \n",
    "    # W[i] - quantized_vectors[k]   \n",
    "    #minus the k quantized vectors\n",
    "    # print(W.dtype)\n",
    "    # print(torch.max(H))\n",
    "    # print(quantized_vectors.shape)\n",
    "    assert torch.all(torch.isfinite(W)), f\"W is not finite, {W}, {W[~torch.isfinite(W)]}\"\n",
    "    assert torch.all(torch.isfinite(quantized_vectors)), f\"quantized_vectors is not finite, {quantized_vectors}, {quantized_vectors[~torch.isfinite(quantized_vectors)]}\"\n",
    "    assignments = torch.zeros(W.shape[0], dtype=torch.long)\n",
    "    error = torch.tensor(0.0, dtype=W.dtype, device=W.device)\n",
    "    for i in range(W.shape[0]):\n",
    "        diff = W[i].unsqueeze(0) - quantized_vectors.T\n",
    "        errors = torch.einsum('jk,kl,jl->j', diff, H, diff)\n",
    "        assignments[i] = torch.argmin(errors)\n",
    "        error += errors[assignments[i]]\n",
    "    return assignments, error\n",
    "\n",
    "@torch.jit.script\n",
    "def update_step(W:torch.Tensor, prev_quantized:torch.Tensor, assignments:torch.Tensor)->torch.Tensor:\n",
    "    \"\"\"_summary_\n",
    "\n",
    "    Args:\n",
    "        W (torch.tensor): weights of shape (n,n)\n",
    "        assignments (torch.tensor): assignments of shape (n,)\n",
    "    \n",
    "    Returns:\n",
    "        quantized_vectors (torch.tensor): quantized vectors of shape (n,k)\n",
    "    \"\"\"\n",
    "\n",
    "    #initialize the updated quantized vectors\n",
    "    updated_quantized_vectors = torch.zeros_like(prev_quantized)\n",
    "\n",
    "    #the quantized vectors are just the mean of the weights\n",
    "    #that are assigned to the same cluster\n",
    "    for i in range(updated_quantized_vectors.shape[0]):\n",
    "        # assert torch.all(torch.isfinite(W[assignments == i])), f\"W[assigments == i] is not finite, {W[assignments == i]}, {W[assignments == i][~torch.isfinite(W[assignments == i])]}\"\n",
    "        if torch.any(assignments == i):\n",
    "            updated_quantized_vectors[:,i] = W[assignments == i].mean(dim=0)\n",
    "    \n",
    "    return updated_quantized_vectors\n",
    "\n",
    "\n",
    "\n",
    "\n",
    "\n",
    "def vector_quantize(W, H, k, max_iters = 1000, \n",
    "                    max_init_iters = 10,\n",
    "                    convergence_threshold = 1e-3):\n",
    "    \"\"\"_summary_\n",
    "\n",
    "    Args:\n",
    "        W (torch.tensor): weights of shape (n,n)\n",
    "        H (torch.tensor): matrix of shape (n,n)\n",
    "        k (int): number of quantized vectors\n",
    "    \n",
    "    Returns:\n",
    "        torch.tensor: quantized vectors of shape (n,k)\n",
    "    \"\"\"\n",
    "    assert torch.all(torch.isfinite(H)), f\"H is not finite, {H}, {H[~torch.isfinite(H)]}\"\n",
    "    min_error = float('inf')\n",
    "    bar = tqdm.tqdm(total=max_init_iters*max_iters)\n",
    "    for i in range(max_init_iters):\n",
    "        #initialize the quantized vectors\n",
    "        indexs = torch.randperm(W.shape[1])[:k]\n",
    "        quantized_vectors = W[indexs,:].T\n",
    "        converged = False\n",
    "        for i in range(max_iters):\n",
    "            bar.update(1)\n",
    "            updated_assignments,error = assigment_step(W, H, quantized_vectors)\n",
    "            # print(\"error\", error)\n",
    "            quantized_vectors = update_step(W, quantized_vectors, updated_assignments)\n",
    "            # print(updated_quantized_vectors.shape)\n",
    "            if i != 0:\n",
    "                if torch.allclose(assignments, updated_assignments, atol=convergence_threshold):\n",
    "                    print(f\"Converged after {i} iterations, error {error}\")\n",
    "                    converged = True\n",
    "                    bar.update(max_iters - i - 1)\n",
    "                    break\n",
    "            assignments = updated_assignments\n",
    "        if not converged:\n",
    "            print(\"warning: did not converge\")\n",
    "        if error < min_error:\n",
    "            min_error = error\n",
    "            best_quantized_vectors = quantized_vectors\n",
    "            best_assignments = assignments\n",
    "    print(\"quantized with best error\", min_error)\n",
    "    return best_quantized_vectors, best_assignments"
   ]
  },
  {
   "cell_type": "code",
   "execution_count": null,
   "metadata": {},
   "outputs": [],
   "source": [
    "W = data[\"weights\"].half()\n",
    "H = data[\"H\"].half()\n",
    "\n",
    "quantized_vectors, assignments = vector_quantize(W, H/H.shape[0], 256)"
   ]
  },
  {
   "cell_type": "code",
   "execution_count": 7,
   "metadata": {},
   "outputs": [],
   "source": [
    "quantized_weights = quantized_vectors[:,assignments].T"
   ]
  },
  {
   "cell_type": "code",
   "execution_count": null,
   "metadata": {},
   "outputs": [],
   "source": [
    "torch.sum((quantized_weights - W)**2)/torch.sum(W**2)"
   ]
  },
  {
   "cell_type": "code",
   "execution_count": null,
   "metadata": {},
   "outputs": [],
   "source": [
    "quantized_weights"
   ]
  },
  {
   "cell_type": "code",
   "execution_count": 10,
   "metadata": {},
   "outputs": [],
   "source": [
    "data = torch.load(\"/home/lliu/huffman/test/original_weights2.pt\")\n",
    "\n",
    "device = torch.device(\"cuda:6\")\n",
    "\n",
    "for key in data.keys():\n",
    "    # if isinstance(data[key], torch.Tensor):\n",
    "    #     data[key] = data[key].to(device)\n",
    "    if isinstance(data[key], list):\n",
    "        for i in range(len(data[key])):\n",
    "            data[key][i] = data[key][i].to(device)\n"
   ]
  },
  {
   "cell_type": "code",
   "execution_count": 11,
   "metadata": {},
   "outputs": [],
   "source": [
    "for key in data.keys():\n",
    "    if isinstance(data[key], list):\n",
    "        data[key] = torch.stack(data[key], dim=0)"
   ]
  },
  {
   "cell_type": "code",
   "execution_count": 12,
   "metadata": {},
   "outputs": [],
   "source": [
    "x = data[\"Input\"].reshape(-1, W.shape[0]).to(W.dtype)\n",
    "y = data[\"Output\"].reshape(-1, W.shape[0]).to(W.dtype)"
   ]
  },
  {
   "cell_type": "code",
   "execution_count": null,
   "metadata": {},
   "outputs": [],
   "source": [
    "y_hat = x @ quantized_weights.T\n",
    "print(y_hat)\n",
    "print(torch.mean((y_hat - y)**2).item()/torch.mean(y**2).item())"
   ]
  },
  {
   "cell_type": "code",
   "execution_count": 14,
   "metadata": {},
   "outputs": [],
   "source": [
    "#plot a pca of the weights\n",
    "import matplotlib.pyplot as plt\n",
    "\n",
    "from sklearn.decomposition import PCA\n",
    "#also get a TSNE\n",
    "from sklearn.manifold import TSNE\n",
    "\n",
    "low_dim = TSNE(n_components=2)\n",
    "\n",
    "x,y = low_dim.fit_transform(W.T.cpu().numpy()).T"
   ]
  },
  {
   "cell_type": "code",
   "execution_count": 15,
   "metadata": {},
   "outputs": [],
   "source": [
    "#sort the quantized vectors by cosine similarity\n",
    "from sklearn.metrics.pairwise import cosine_similarity\n",
    "\n",
    "cosine_sim = cosine_similarity(quantized_vectors.T.cpu().numpy())"
   ]
  },
  {
   "cell_type": "code",
   "execution_count": 16,
   "metadata": {},
   "outputs": [],
   "source": [
    "cosine_sim[:,0]\n",
    "\n",
    "lookup_map = {j.item():i for i,j in enumerate(torch.argsort(torch.tensor(cosine_sim[:,0])))}"
   ]
  },
  {
   "cell_type": "code",
   "execution_count": null,
   "metadata": {},
   "outputs": [],
   "source": [
    "lookup_map"
   ]
  },
  {
   "cell_type": "code",
   "execution_count": null,
   "metadata": {},
   "outputs": [],
   "source": [
    "torch.argsort(torch.tensor(cosine_sim[:,0]))"
   ]
  },
  {
   "cell_type": "code",
   "execution_count": null,
   "metadata": {},
   "outputs": [],
   "source": [
    "\n",
    "\n",
    "colors = [plt.cm.viridis(lookup_map[i]/256) for i in assignments.cpu().numpy()]\n",
    "\n",
    "plt.figure(figsize=(10,10)) \n",
    "plt.yscale('linear')\n",
    "plt.scatter(x, y, c=colors)"
   ]
  },
  {
   "cell_type": "code",
   "execution_count": null,
   "metadata": {},
   "outputs": [],
   "source": [
    "#plot out the pca with the colors of the assignments\n",
    "plt.scatter(pca.(W.cpu().numpy())[:,0], pca.transform(W.cpu().numpy())[:,1], c=assignments.cpu().numpy())"
   ]
  },
  {
   "cell_type": "code",
   "execution_count": null,
   "metadata": {},
   "outputs": [],
   "source": []
  }
 ],
 "metadata": {
  "kernelspec": {
   "display_name": "base",
   "language": "python",
   "name": "python3"
  },
  "language_info": {
   "codemirror_mode": {
    "name": "ipython",
    "version": 3
   },
   "file_extension": ".py",
   "mimetype": "text/x-python",
   "name": "python",
   "nbconvert_exporter": "python",
   "pygments_lexer": "ipython3",
   "version": "3.11.5"
  }
 },
 "nbformat": 4,
 "nbformat_minor": 2
}
