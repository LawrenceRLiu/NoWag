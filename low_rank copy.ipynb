{
 "cells": [
  {
   "cell_type": "code",
   "execution_count": 1,
   "metadata": {},
   "outputs": [],
   "source": [
    "\n",
    "CUDA_LAUNCH_BLOCKING=1\n",
    "import torch\n",
    "import torch.nn as nn\n",
    "import numpy as np \n",
    "\n",
    "\n",
    "import random\n",
    "\n",
    "import tqdm\n",
    "import matplotlib.pyplot as plt"
   ]
  },
  {
   "cell_type": "code",
   "execution_count": 2,
   "metadata": {},
   "outputs": [],
   "source": [
    "device = torch.device(\"cuda:6\")\n",
    "\n",
    "H = torch.load(\"./test/original_weights.pt\")[\"H\"].to(device).float()\n",
    "weights = torch.load(\"./test/original_weights.pt\")[\"weights\"].to(device).float()    \n",
    "\n",
    "# weights = weights[:,:-2]\n",
    "# print(weights.shape)"
   ]
  },
  {
   "cell_type": "code",
   "execution_count": 3,
   "metadata": {},
   "outputs": [
    {
     "name": "stdout",
     "output_type": "stream",
     "text": [
      "row_mask.sum() =  tensor(4055, device='cuda:6')\n",
      "column_mask.sum() =  tensor(4055, device='cuda:6')\n"
     ]
    }
   ],
   "source": [
    "torch.random.manual_seed(0)\n",
    "np.random.seed(0)\n",
    "torch.cuda.manual_seed(0)\n",
    "random.seed(0)\n",
    "def create_mask(data:list,percent_top):\n",
    "    \"\"\"\n",
    "    data: list of torch.tensor of shape (n)\n",
    "    percent_top: float, the percentage of the top values to keep\n",
    "    \"\"\"\n",
    "    mask = torch.ones(data[0].shape, dtype = torch.bool, device = data[0].device)\n",
    "\n",
    "    datas_sorted = [torch.sort(data[i], descending = True)[0] for i in range(len(data))]\n",
    "    i = 0\n",
    "    big_i = 0\n",
    "    # print(mask.sum(), (100-percent_top)/100 * mask.numel())\n",
    "    # raise ValueError(\"The mask is not sparse enough\")\n",
    "    while mask.sum() > (100-percent_top)/100 * mask.numel():\n",
    "        # print(mask.sum())\n",
    "        mask &= data[i%len(data)] < datas_sorted[i][big_i]\n",
    "        i += 1\n",
    "        i = i % len(data)\n",
    "        if i == 0:\n",
    "            big_i += 1\n",
    "        # if i==0:\n",
    "        #     raise ValueError(\"The mask is not sparse enough\")\n",
    "    # threshold = torch.quantile(data, 1-percent_top/100)\n",
    "    return mask\n",
    "\n",
    "d = 1\n",
    "percent_dense_rowise = 1\n",
    "percent_dense_columnwise = 1\n",
    "\n",
    "\n",
    "# row_mask = create_mask([torch.norm(weights, dim = 1)], percent_dense_rowise)\n",
    "# column_mask = create_mask([torch.norm(weights, dim = 0),torch.norm(H, dim = 0)], percent_dense_columnwise)\n",
    "\n",
    "# print(\"row_mask.sum() = \", row_mask.sum())\n",
    "# print(\"column_mask.sum() = \", column_mask.sum())\n",
    "\n",
    "\n",
    "def mask_round(mask, d):\n",
    "\n",
    "    while mask.sum() % d != 0:\n",
    "        mask[torch.randint(0, mask.shape[0], (1,))] = False\n",
    "        print(mask.sum())\n",
    "\n",
    "    return mask\n",
    "\n",
    "if percent_dense_columnwise == 0:\n",
    "    column_mask = torch.ones(weights.shape[1], dtype = torch.bool, device = weights.device)\n",
    "else:\n",
    "    column_mask = create_mask([torch.norm(weights, dim = 0)], percent_dense_columnwise)\n",
    "    column_mask = mask_round(column_mask, d)\n",
    "    \n",
    "if percent_dense_rowise == 0:\n",
    "    \n",
    "    row_mask = torch.ones(weights.shape[0], dtype = torch.bool, device = weights.device)    \n",
    "else:\n",
    "    row_mask = create_mask([torch.norm(weights, dim = 1)], percent_dense_rowise)\n",
    "    row_mask = mask_round(row_mask, d)\n",
    "\n",
    "\n",
    "mask = row_mask.unsqueeze(1) & column_mask.unsqueeze(0)\n",
    "\n",
    "print(\"row_mask.sum() = \", row_mask.sum())\n",
    "print(\"column_mask.sum() = \", column_mask.sum())"
   ]
  },
  {
   "cell_type": "code",
   "execution_count": 4,
   "metadata": {},
   "outputs": [],
   "source": [
    "weights_adjusted = weights[row_mask,:][:, column_mask]\n",
    "# print()\n",
    "weights_norms_rowwise = torch.norm(weights_adjusted, dim = 0)\n",
    "weights_norms_rowwise[torch.isclose(weights_norms_rowwise, torch.zeros_like(weights_norms_rowwise))] = 1\n",
    "weights_normalized = weights_adjusted / weights_norms_rowwise.unsqueeze(0)\n",
    "# weights_norms_columnwise = torch.norm(weights_normalized, dim = 1)\n",
    "# weights_norms_columnwise[torch.isclose(weights_norms_columnwise, torch.zeros_like(weights_norms_columnwise))] = 1\n",
    "# weights_normalized = weights_normalized / weights_norms_columnwise.unsqueeze(1)"
   ]
  },
  {
   "cell_type": "code",
   "execution_count": 5,
   "metadata": {},
   "outputs": [
    {
     "data": {
      "text/plain": [
       "tensor([[-0.0039, -0.0158,  0.0058,  ...,  0.0090, -0.0031, -0.0219],\n",
       "        [-0.0012, -0.0053,  0.0069,  ...,  0.0074,  0.0025, -0.0062],\n",
       "        [-0.0002,  0.0073, -0.0051,  ..., -0.0042, -0.0043,  0.0087],\n",
       "        ...,\n",
       "        [-0.0044, -0.0032,  0.0212,  ..., -0.0026, -0.0087,  0.0141],\n",
       "        [-0.0043, -0.0112, -0.0089,  ..., -0.0101, -0.0087, -0.0061],\n",
       "        [ 0.0075,  0.0062,  0.0133,  ...,  0.0174, -0.0199, -0.0213]],\n",
       "       device='cuda:6')"
      ]
     },
     "execution_count": 5,
     "metadata": {},
     "output_type": "execute_result"
    }
   ],
   "source": [
    "weights_normalized"
   ]
  },
  {
   "cell_type": "code",
   "execution_count": 8,
   "metadata": {},
   "outputs": [
    {
     "name": "stdout",
     "output_type": "stream",
     "text": [
      "torch.Size([4055, 512]) 2076160\n",
      "total_bits =  71784176 bits per weight =  4.278670310974121 lora_overhead =  3.9599609375 sparse_overhead =  0.3187093734741211\n"
     ]
    },
    {
     "name": "stderr",
     "output_type": "stream",
     "text": [
      "  0%|          | 5/1000 [00:00<00:23, 41.66it/s]"
     ]
    },
    {
     "name": "stdout",
     "output_type": "stream",
     "text": [
      "average_error =  0.16381524503231049 H_error =  0.6523004770278931\n"
     ]
    },
    {
     "name": "stderr",
     "output_type": "stream",
     "text": [
      "  5%|▌         | 52/1000 [00:02<00:52, 17.97it/s]"
     ]
    },
    {
     "name": "stdout",
     "output_type": "stream",
     "text": [
      "average_error =  0.1645875871181488 H_error =  0.2989295721054077\n"
     ]
    },
    {
     "name": "stderr",
     "output_type": "stream",
     "text": [
      " 10%|█         | 104/1000 [00:05<00:36, 24.85it/s]"
     ]
    },
    {
     "name": "stdout",
     "output_type": "stream",
     "text": [
      "average_error =  0.1650630086660385 H_error =  0.26863646507263184\n"
     ]
    },
    {
     "name": "stderr",
     "output_type": "stream",
     "text": [
      " 16%|█▌        | 155/1000 [00:07<00:28, 29.56it/s]"
     ]
    },
    {
     "name": "stdout",
     "output_type": "stream",
     "text": [
      "average_error =  0.16543282568454742 H_error =  0.2534675896167755\n"
     ]
    },
    {
     "name": "stderr",
     "output_type": "stream",
     "text": [
      " 20%|██        | 203/1000 [00:09<00:48, 16.31it/s]"
     ]
    },
    {
     "name": "stdout",
     "output_type": "stream",
     "text": [
      "average_error =  0.16573594510555267 H_error =  0.2436908632516861\n"
     ]
    },
    {
     "name": "stderr",
     "output_type": "stream",
     "text": [
      " 26%|██▌       | 257/1000 [00:12<00:22, 32.44it/s]"
     ]
    },
    {
     "name": "stdout",
     "output_type": "stream",
     "text": [
      "average_error =  0.165995255112648 H_error =  0.23657332360744476\n"
     ]
    },
    {
     "name": "stderr",
     "output_type": "stream",
     "text": [
      " 30%|███       | 301/1000 [00:14<00:37, 18.88it/s]"
     ]
    },
    {
     "name": "stdout",
     "output_type": "stream",
     "text": [
      "average_error =  0.16622430086135864 H_error =  0.23101510107517242\n"
     ]
    },
    {
     "name": "stderr",
     "output_type": "stream",
     "text": [
      " 36%|███▌      | 357/1000 [00:17<00:21, 29.84it/s]"
     ]
    },
    {
     "name": "stdout",
     "output_type": "stream",
     "text": [
      "average_error =  0.1664314568042755 H_error =  0.22647541761398315\n"
     ]
    },
    {
     "name": "stderr",
     "output_type": "stream",
     "text": [
      " 40%|████      | 402/1000 [00:19<00:33, 18.07it/s]"
     ]
    },
    {
     "name": "stdout",
     "output_type": "stream",
     "text": [
      "average_error =  0.16662225127220154 H_error =  0.22265151143074036\n"
     ]
    },
    {
     "name": "stderr",
     "output_type": "stream",
     "text": [
      " 46%|████▌     | 456/1000 [00:22<00:23, 23.15it/s]"
     ]
    },
    {
     "name": "stdout",
     "output_type": "stream",
     "text": [
      "average_error =  0.1668003499507904 H_error =  0.2193576991558075\n"
     ]
    },
    {
     "name": "stderr",
     "output_type": "stream",
     "text": [
      " 50%|█████     | 505/1000 [00:24<00:16, 29.48it/s]"
     ]
    },
    {
     "name": "stdout",
     "output_type": "stream",
     "text": [
      "average_error =  0.16696839034557343 H_error =  0.2164720892906189\n"
     ]
    },
    {
     "name": "stderr",
     "output_type": "stream",
     "text": [
      " 55%|█████▌    | 553/1000 [00:26<00:26, 17.17it/s]"
     ]
    },
    {
     "name": "stdout",
     "output_type": "stream",
     "text": [
      "average_error =  0.16712802648544312 H_error =  0.21391038596630096\n"
     ]
    },
    {
     "name": "stderr",
     "output_type": "stream",
     "text": [
      " 60%|██████    | 605/1000 [00:29<00:16, 23.24it/s]"
     ]
    },
    {
     "name": "stdout",
     "output_type": "stream",
     "text": [
      "average_error =  0.16728055477142334 H_error =  0.21161188185214996\n"
     ]
    },
    {
     "name": "stderr",
     "output_type": "stream",
     "text": [
      " 65%|██████▌   | 653/1000 [00:31<00:14, 23.72it/s]"
     ]
    },
    {
     "name": "stdout",
     "output_type": "stream",
     "text": [
      "average_error =  0.16742698848247528 H_error =  0.20953133702278137\n"
     ]
    },
    {
     "name": "stderr",
     "output_type": "stream",
     "text": [
      " 70%|███████   | 702/1000 [00:34<00:18, 16.08it/s]"
     ]
    },
    {
     "name": "stdout",
     "output_type": "stream",
     "text": [
      "average_error =  0.16756804287433624 H_error =  0.20763421058654785\n"
     ]
    },
    {
     "name": "stderr",
     "output_type": "stream",
     "text": [
      " 75%|███████▌  | 752/1000 [00:36<00:15, 16.03it/s]"
     ]
    },
    {
     "name": "stdout",
     "output_type": "stream",
     "text": [
      "average_error =  0.1677042841911316 H_error =  0.20589342713356018\n"
     ]
    },
    {
     "name": "stderr",
     "output_type": "stream",
     "text": [
      " 80%|████████  | 802/1000 [00:40<00:12, 15.38it/s]"
     ]
    },
    {
     "name": "stdout",
     "output_type": "stream",
     "text": [
      "average_error =  0.16783617436885834 H_error =  0.20428742468357086\n"
     ]
    },
    {
     "name": "stderr",
     "output_type": "stream",
     "text": [
      " 85%|████████▌ | 852/1000 [00:43<00:09, 15.11it/s]"
     ]
    },
    {
     "name": "stdout",
     "output_type": "stream",
     "text": [
      "average_error =  0.1679641455411911 H_error =  0.2027987539768219\n"
     ]
    },
    {
     "name": "stderr",
     "output_type": "stream",
     "text": [
      " 90%|█████████ | 902/1000 [00:46<00:06, 15.05it/s]"
     ]
    },
    {
     "name": "stdout",
     "output_type": "stream",
     "text": [
      "average_error =  0.16808855533599854 H_error =  0.20141306519508362\n"
     ]
    },
    {
     "name": "stderr",
     "output_type": "stream",
     "text": [
      " 95%|█████████▌| 952/1000 [00:49<00:03, 14.94it/s]"
     ]
    },
    {
     "name": "stdout",
     "output_type": "stream",
     "text": [
      "average_error =  0.16820964217185974 H_error =  0.20011842250823975\n"
     ]
    },
    {
     "name": "stderr",
     "output_type": "stream",
     "text": [
      "100%|██████████| 1000/1000 [00:53<00:00, 18.79it/s]\n"
     ]
    }
   ],
   "source": [
    "#do a svd decomposition\n",
    "U, S, V = torch.svd(weights_normalized)\n",
    "\n",
    "k = 512\n",
    "\n",
    "A = (U[:, :k] @ torch.sqrt(torch.diag(S[:k]))).requires_grad_(True)\n",
    "B = (torch.sqrt(torch.diag(S[:k])) @ V[:, :k].t()).requires_grad_(True)\n",
    "print(A.shape,A.numel())\n",
    "lora_overhead = 16*(A.numel() + B.numel())/(weights.numel())\n",
    "sparse_overhead = 16*(torch.sum(~mask).item())/(weights.numel())\n",
    "total_bits = 16*(A.numel() + B.numel() + torch.sum(~mask).item())\n",
    "print(\"total_bits = \", total_bits, \"bits per weight = \", total_bits/weights.numel(),\n",
    "        \"lora_overhead = \", lora_overhead, \"sparse_overhead = \", sparse_overhead)\n",
    "\n",
    "n_iters = 1000\n",
    "lr = 5e-2\n",
    "grad_clip = 1e-1\n",
    "lr_multiple = 0.9\n",
    "prev_H_error = 1e10\n",
    "losses = []\n",
    "\n",
    "for i in tqdm.tqdm(range(n_iters)):\n",
    "\n",
    "    weights_reconstructed = torch.zeros_like(weights)\n",
    "    weights_reconstructed[mask] = ((A @ B) * weights_norms_rowwise.unsqueeze(0) #* weights_norms_columnwise.unsqueeze(1)\n",
    "                                   ).flatten()\n",
    "    weights_reconstructed[~mask] = weights[~mask]\n",
    "\n",
    "    diff = weights - weights_reconstructed\n",
    "\n",
    "    average_error = torch.sum(torch.abs(diff)**1)/torch.sum(torch.abs(weights)**1)\n",
    "\n",
    "    H_error = torch.einsum('ik,kl,il->', diff, H/H.shape[0], diff)\n",
    "    if H_error < 1e-5:\n",
    "        break\n",
    "    if i % 50 == 0:\n",
    "        print(\"average_error = \", average_error.item(), \"H_error = \", H_error.item())\n",
    "    H_error.backward()\n",
    "    losses.append(H_error.item())\n",
    "\n",
    "    if H_error > prev_H_error:\n",
    "        lr *= lr_multiple\n",
    "    prev_H_error = H_error.item()\n",
    "    with torch.no_grad():\n",
    "        if i % 1 == 0:\n",
    "            #update A\n",
    "            A.grad = A.grad.clamp(-grad_clip, grad_clip)\n",
    "            A -= lr * A.grad\n",
    "            A.grad.zero_()\n",
    "\n",
    "        # else:\n",
    "            #update B\n",
    "            B.grad = B.grad.clamp(-grad_clip, grad_clip)\n",
    "            B -= lr * B.grad\n",
    "            B.grad.zero_()"
   ]
  },
  {
   "cell_type": "code",
   "execution_count": 55,
   "metadata": {},
   "outputs": [],
   "source": [
    "X = torch.rand(100,weights.shape[1], device = device)\n",
    "\n",
    "Y_true = torch.nn.functional.linear(X, weights)\n",
    "\n",
    "Y_reconstructed = torch.nn.functional.linear(X, weights_reconstructed)\n",
    "\n",
    "Y_attempt = torch.zeros_like(Y_reconstructed)\n",
    "Y_attempt[...,row_mask] = torch.nn.functional.linear(torch.nn.functional.linear(X[..., column_mask]* weights_norms_rowwise.unsqueeze(0), B), A)\n",
    "Y_attempt[...,row_mask] += torch.nn.functional.linear(X[..., ~column_mask], weights[row_mask][...,~column_mask])\n",
    "Y_attempt[...,~row_mask] = torch.nn.functional.linear(X, weights[~row_mask])"
   ]
  },
  {
   "cell_type": "code",
   "execution_count": 56,
   "metadata": {},
   "outputs": [
    {
     "data": {
      "text/plain": [
       "tensor(0.0005, device='cuda:6', grad_fn=<MaxBackward1>)"
      ]
     },
     "execution_count": 56,
     "metadata": {},
     "output_type": "execute_result"
    }
   ],
   "source": [
    "torch.max(torch.abs(Y_attempt - Y_reconstructed))"
   ]
  },
  {
   "cell_type": "code",
   "execution_count": 52,
   "metadata": {},
   "outputs": [
    {
     "ename": "IndexError",
     "evalue": "shape mismatch: indexing tensors could not be broadcast together with shapes [21], [4055]",
     "output_type": "error",
     "traceback": [
      "\u001b[0;31m---------------------------------------------------------------------------\u001b[0m",
      "\u001b[0;31mIndexError\u001b[0m                                Traceback (most recent call last)",
      "Cell \u001b[0;32mIn[52], line 1\u001b[0m\n\u001b[0;32m----> 1\u001b[0m weights[\u001b[38;5;241m~\u001b[39mrow_mask,column_mask]\n",
      "\u001b[0;31mIndexError\u001b[0m: shape mismatch: indexing tensors could not be broadcast together with shapes [21], [4055]"
     ]
    }
   ],
   "source": [
    "weights[(~row_mask.unsqueeze(1)) | (~column_mask.unsqueeze(0))]\n",
    "        \n",
    "        column_mask]"
   ]
  },
  {
   "cell_type": "code",
   "execution_count": 30,
   "metadata": {},
   "outputs": [
    {
     "data": {
      "text/plain": [
       "torch.Size([4055])"
      ]
     },
     "execution_count": 30,
     "metadata": {},
     "output_type": "execute_result"
    }
   ],
   "source": [
    "weights_norms_rowwise.shape"
   ]
  },
  {
   "cell_type": "code",
   "execution_count": 98,
   "metadata": {},
   "outputs": [
    {
     "data": {
      "image/png": "[encoded data removed]",
      "text/plain": [
       "<Figure size 640x480 with 1 Axes>"
      ]
     },
     "metadata": {},
     "output_type": "display_data"
    }
   ],
   "source": [
    "plt.hist(A.flatten().detach().cpu().numpy(), bins = 100, density=True, alpha = 0.5)\n",
    "plt.hist(B.flatten().detach().cpu().numpy(), bins = 100, density=True, alpha = 0.5)\n",
    "plt.hist(weights.flatten().detach().cpu().numpy(), bins = 100, density=True, alpha = 0.5)\n",
    "plt.yscale(\"log\")"
   ]
  },
  {
   "cell_type": "code",
   "execution_count": 7,
   "metadata": {},
   "outputs": [
    {
     "name": "stdout",
     "output_type": "stream",
     "text": [
      "tensor([[1, 0, 0, 0, 0, 1, 0, 1, 1, 1],\n",
      "        [1, 0, 0, 1, 1, 1, 0, 1, 0, 1],\n",
      "        [0, 1, 1, 1, 0, 1, 0, 1, 0, 1],\n",
      "        [1, 1, 0, 0, 1, 1, 0, 0, 0, 0],\n",
      "        [0, 1, 0, 0, 0, 0, 1, 1, 1, 0],\n",
      "        [1, 1, 1, 1, 1, 0, 1, 0, 0, 0],\n",
      "        [0, 1, 1, 1, 1, 0, 1, 0, 1, 0],\n",
      "        [1, 1, 1, 1, 0, 1, 1, 0, 1, 1],\n",
      "        [1, 0, 0, 1, 0, 0, 0, 0, 1, 1],\n",
      "        [0, 0, 0, 0, 1, 0, 1, 1, 0, 0]], device='cuda:6')\n",
      "tensor([[1, 0, 0, 0, 0, 1, 0, 1, 1, 1],\n",
      "        [1, 0, 0, 1, 1, 1, 0, 1, 0, 1],\n",
      "        [0, 1, 1, 1, 0, 1, 0, 1, 0, 1],\n",
      "        [1, 1, 0, 0, 1, 1, 0, 0, 0, 0],\n",
      "        [0, 1, 0, 0, 0, 0, 1, 1, 1, 0],\n",
      "        [1, 1, 1, 1, 1, 0, 1, 0, 0, 0],\n",
      "        [0, 1, 1, 1, 1, 0, 1, 0, 1, 0],\n",
      "        [1, 1, 1, 1, 0, 1, 1, 0, 1, 1],\n",
      "        [1, 0, 0, 1, 0, 0, 0, 0, 1, 1],\n",
      "        [0, 0, 0, 0, 1, 0, 1, 1, 0, 0]])\n"
     ]
    }
   ],
   "source": [
    "import torch\n",
    "import torch.nn as nn \n",
    "\n",
    "device = torch.device(\"cuda:6\")\n",
    "\n",
    "class test(nn.Module):\n",
    "    def __init__(self):\n",
    "        super().__init__()\n",
    "        self.A = nn.Parameter(torch.randn(10,10, device = device))\n",
    "        self.register_buffer(\"mask\", torch.randn(10,10, device = device) > 0)\n",
    "        self.register_buffer(\"mask2\", torch.randint(0,2,(10,10), device = device))\n",
    "        \n",
    "t = test()\n",
    "print(t.mask2)\n",
    "t.to(torch.half)\n",
    "t.to(\"cpu\") \n",
    "print(t.mask2)\n",
    "        \n",
    "    "
   ]
  },
  {
   "cell_type": "code",
   "execution_count": 10,
   "metadata": {},
   "outputs": [
    {
     "data": {
      "text/plain": [
       "torch.Size([100, 10, 25])"
      ]
     },
     "execution_count": 10,
     "metadata": {},
     "output_type": "execute_result"
    }
   ],
   "source": [
    "a = torch.zeros(100,25)\n",
    "indexs = torch.randint(0,10,(100,10))\n",
    "a[indexs].shape"
   ]
  },
  {
   "cell_type": "code",
   "execution_count": 100,
   "metadata": {},
   "outputs": [],
   "source": [
    "def stochastic_round(X,codebook):\n",
    "    \"\"\"\n",
    "    X: torch.tensor of shape (n)\n",
    "    codebook: torch.tensor of shape (m)\n",
    "    \"\"\"\n",
    "\n",
    "    distances = torch.abs(X.reshape(list(X.shape) + [1]) - codebook.reshape([1]*len(X.shape) + list(codebook.shape)))\n",
    "    #for each one select the smallest 2 indices\n",
    "    distance, indices = torch.topk(distances, 2, dim = -1, largest = False)\n",
    "    # print(distance[0])\n",
    "    #randomly choose based on the distance\n",
    "    random_choice = torch.rand_like(X)\n",
    "\n",
    "    probabilities = distance/(distance.sum(-1, keepdim = True) + 1e-10)\n",
    "    # print(probabilities[0])\n",
    "    # print(probabilities.shape, random_choice.shape)\n",
    "    # print((random_choice < probabilities[..., 0])[0])\n",
    "    return torch.where(random_choice < probabilities[..., 0],  indices[..., 1],indices[..., 0])"
   ]
  },
  {
   "cell_type": "code",
   "execution_count": 111,
   "metadata": {},
   "outputs": [
    {
     "name": "stdout",
     "output_type": "stream",
     "text": [
      "quantized_low_rank_bits =  0.49871826171875 bits per weight =  0.580780029296875\n"
     ]
    },
    {
     "name": "stderr",
     "output_type": "stream",
     "text": [
      "  0%|          | 1/1000 [00:00<02:13,  7.46it/s]"
     ]
    },
    {
     "name": "stdout",
     "output_type": "stream",
     "text": [
      "average_error =  0.5106793642044067 H_error =  23.37791633605957\n"
     ]
    },
    {
     "name": "stderr",
     "output_type": "stream",
     "text": [
      "  5%|▌         | 51/1000 [00:04<01:16, 12.46it/s]"
     ]
    },
    {
     "name": "stdout",
     "output_type": "stream",
     "text": [
      "average_error =  0.39892807602882385 H_error =  10.105695724487305\n"
     ]
    },
    {
     "name": "stderr",
     "output_type": "stream",
     "text": [
      " 10%|█         | 101/1000 [00:08<01:12, 12.47it/s]"
     ]
    },
    {
     "name": "stdout",
     "output_type": "stream",
     "text": [
      "average_error =  0.3982369601726532 H_error =  10.00516128540039\n"
     ]
    },
    {
     "name": "stderr",
     "output_type": "stream",
     "text": [
      " 15%|█▍        | 148/1000 [00:12<01:10, 12.07it/s]"
     ]
    },
    {
     "name": "stdout",
     "output_type": "stream",
     "text": [
      "average_error =  0.3982584476470947 H_error =  10.002592086791992\n"
     ]
    },
    {
     "name": "stderr",
     "output_type": "stream",
     "text": [
      "\n"
     ]
    }
   ],
   "source": [
    "n_bits =  4\n",
    "# A = A.detach().requires_grad_(False)\n",
    "A_codebook = torch.linspace(A.min(), A.max(), 2**n_bits).to(device)\n",
    "errrors = torch.abs(A.unsqueeze(-1) - A_codebook.unsqueeze(0).unsqueeze(0))\n",
    "# assignments_A = stochastic_round(A, A_codebook)\n",
    "# raise ValueError(\"stop\")\n",
    "\n",
    "assignments_A = torch.argmin(torch.abs(A.unsqueeze(-1) - A_codebook.unsqueeze(0).unsqueeze(0)), dim = -1)\n",
    "A_codebook = A_codebook.requires_grad_(True)\n",
    "\n",
    "# B = B.detach().requires_grad_(False)\n",
    "B_codebook = torch.linspace(B.min(), B.max(), 2**n_bits).to(device)\n",
    "# assignments_B = stochastic_round(B, B_codebook)\n",
    "assignments_B = torch.argmin(torch.abs(B.unsqueeze(-1) - B_codebook.unsqueeze(0).unsqueeze(0)), dim = -1)\n",
    "\n",
    "quantized_low_rank_bits = (n_bits*assignments_A.numel() + n_bits*assignments_B.numel())\n",
    "total_bits = 16*(torch.sum(~mask).item()) + 16*(A_codebook.numel() + B_codebook.numel()) + quantized_low_rank_bits\n",
    "\n",
    "print(\"quantized_low_rank_bits = \", quantized_low_rank_bits/weights.numel(), \"bits per weight = \", (total_bits)\n",
    "                                                                                                    /weights.numel())\n",
    "\n",
    "# raise ValueError(\"stop\")\n",
    "B_codebook = B_codebook.requires_grad_(True)\n",
    "\n",
    "n_iters = 1000\n",
    "lr = 1e-1\n",
    "grad_clip = 1e-1\n",
    "lr_multiple = 0.9\n",
    "prev_H_error = 1e10\n",
    "patience = 100\n",
    "patience_used = 0\n",
    "eps = 1e-3\n",
    "\n",
    "for i in tqdm.tqdm(range(n_iters)):\n",
    "    \n",
    "    A_quantized = A_codebook[assignments_A]\n",
    "    B_quantized = B_codebook[assignments_B]\n",
    "    # print(\"A_quantized = \", A_quantized.shape, \"A= \", A.shape)\n",
    "    # print(\"B_quantized = \", B_quantized.shape, \"B= \", B.shape)\n",
    "    # raise ValueError(\"stop\")\n",
    "\n",
    "    weights_reconstructed = torch.zeros_like(weights)\n",
    "    weights_reconstructed[mask] = ((A_quantized @ B_quantized) * weights_norms_rowwise.unsqueeze(0) * weights_norms_columnwise.unsqueeze(1)\n",
    "                                   ).flatten()\n",
    "    weights_reconstructed[~mask] = weights[~mask]\n",
    "\n",
    "    diff = weights - weights_reconstructed\n",
    "\n",
    "    average_error = torch.sum(torch.abs(diff)**1)/torch.sum(torch.abs(weights)**1)\n",
    "\n",
    "    H_error = torch.einsum('ik,kl,il->', diff, H/H.shape[0], diff)\n",
    "    # print(\"average_error = \", average_error.item(), \"H_error = \", H_error.item())\n",
    "    # raise ValueError(\"stop\")\n",
    "    if H_error < 1e-5:\n",
    "        break\n",
    "    if i % 50 == 0:\n",
    "        print(\"average_error = \", average_error.item(), \"H_error = \", H_error.item())\n",
    "    H_error.backward()\n",
    "    losses.append(H_error.item())\n",
    "\n",
    "    if prev_H_error - H_error < eps:\n",
    "        lr *= lr_multiple\n",
    "        # print(\"lr = \", lr)\n",
    "        patience_used += 1\n",
    "        if patience_used > patience:\n",
    "            break\n",
    "    else:\n",
    "        patience_used = 0\n",
    "        prev_H_error = H_error.item()\n",
    "    with torch.no_grad():\n",
    "        if i % 1 == 0:\n",
    "            #update A\n",
    "            A_codebook.grad = A_codebook.grad.clamp(-grad_clip, grad_clip)\n",
    "            A_codebook -= lr * A_codebook.grad\n",
    "            A_codebook.grad.zero_()\n",
    "\n",
    "        # else:\n",
    "            #update B\n",
    "            B_codebook.grad = B_codebook.grad.clamp(-grad_clip, grad_clip)\n",
    "            B_codebook -= lr * B_codebook.grad\n",
    "            B_codebook.grad.zero_()\n",
    "    if i % 10 ==  9:\n",
    "        with torch.no_grad():\n",
    "            assignments_A = torch.argmin(torch.abs(A.unsqueeze(-1) - A_codebook.unsqueeze(0).unsqueeze(0)), dim = -1) #stochastic_round(A, A_codebook)\n",
    "            assignments_B = torch.argmin(torch.abs(B.unsqueeze(-1) - B_codebook.unsqueeze(0).unsqueeze(0)), dim = -1) #stochastic_round(B, B_codebook)\n",
    "\n",
    "print(\"average_error = \", average_error.item(), \"H_error = \", H_error.item())"
   ]
  },
  {
   "cell_type": "code",
   "execution_count": 102,
   "metadata": {},
   "outputs": [
    {
     "data": {
      "text/plain": [
       "tensor(7.9834, device='cuda:6', grad_fn=<ViewBackward0>)"
      ]
     },
     "execution_count": 102,
     "metadata": {},
     "output_type": "execute_result"
    }
   ],
   "source": [
    "H_error"
   ]
  },
  {
   "cell_type": "code",
   "execution_count": 26,
   "metadata": {},
   "outputs": [
    {
     "name": "stdout",
     "output_type": "stream",
     "text": [
      "average_error =  tensor(0.5148, device='cuda:6') H_error =  tensor(3955.0728, device='cuda:6')\n"
     ]
    }
   ],
   "source": [
    "diff = weights - weights_reconstructed\n",
    "\n",
    "average_error = torch.sum(torch.abs(diff)**1)/torch.sum(torch.abs(weights)**1)\n",
    "\n",
    "H_error = torch.einsum('ik,kl,il->', diff, H/H.shape[0], diff)\n",
    "\n",
    "print(\"average_error = \", average_error, \"H_error = \", H_error)"
   ]
  },
  {
   "cell_type": "code",
   "execution_count": null,
   "metadata": {},
   "outputs": [],
   "source": []
  }
 ],
 "metadata": {
  "kernelspec": {
   "display_name": "base",
   "language": "python",
   "name": "python3"
  },
  "language_info": {
   "codemirror_mode": {
    "name": "ipython",
    "version": 3
   },
   "file_extension": ".py",
   "mimetype": "text/x-python",
   "name": "python",
   "nbconvert_exporter": "python",
   "pygments_lexer": "ipython3",
   "version": "3.11.5"
  }
 },
 "nbformat": 4,
 "nbformat_minor": 2
}
