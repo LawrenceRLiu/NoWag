{
 "cells": [
  {
   "cell_type": "code",
   "execution_count": 1,
   "metadata": {},
   "outputs": [],
   "source": [
    "\n",
    "CUDA_LAUNCH_BLOCKING=1\n",
    "import torch\n",
    "import torch.nn as nn\n",
    "import numpy as np \n",
    "\n",
    "\n",
    "import random\n",
    "\n",
    "import tqdm\n",
    "import matplotlib.pyplot as plt"
   ]
  },
  {
   "cell_type": "code",
   "execution_count": 2,
   "metadata": {},
   "outputs": [],
   "source": [
    "device = torch.device(\"cuda:6\")\n",
    "\n",
    "H = torch.load(\"/home/lliu/huffman/test/original_weights.pt\")[\"H\"].to(device).float()\n",
    "weights = torch.load(\"/home/lliu/huffman/test/original_weights.pt\")[\"weights\"].to(device).float()    \n",
    "\n"
   ]
  },
  {
   "cell_type": "code",
   "execution_count": 3,
   "metadata": {},
   "outputs": [
    {
     "name": "stdout",
     "output_type": "stream",
     "text": [
      "row_mask.sum() =  tensor(4096, device='cuda:6')\n",
      "column_mask.sum() =  tensor(4075, device='cuda:6')\n"
     ]
    }
   ],
   "source": [
    "torch.random.manual_seed(0)\n",
    "np.random.seed(0)\n",
    "torch.cuda.manual_seed(0)\n",
    "random.seed(0)\n",
    "def create_mask(data:list,percent_top):\n",
    "    \"\"\"\n",
    "    data: list of torch.tensor of shape (n)\n",
    "    percent_top: float, the percentage of the top values to keep\n",
    "    \"\"\"\n",
    "    mask = torch.ones(data[0].shape, dtype = torch.bool, device = data[0].device)\n",
    "\n",
    "    datas_sorted = [torch.sort(data[i], descending = True)[0] for i in range(len(data))]\n",
    "    i = 0\n",
    "    big_i = 0\n",
    "    # print(mask.sum(), (100-percent_top)/100 * mask.numel())\n",
    "    # raise ValueError(\"The mask is not sparse enough\")\n",
    "    while mask.sum() > (100-percent_top)/100 * mask.numel():\n",
    "        # print(mask.sum())\n",
    "        mask &= data[i%len(data)] < datas_sorted[i][big_i]\n",
    "        i += 1\n",
    "        i = i % len(data)\n",
    "        if i == 0:\n",
    "            big_i += 1\n",
    "        # if i==0:\n",
    "        #     raise ValueError(\"The mask is not sparse enough\")\n",
    "    # threshold = torch.quantile(data, 1-percent_top/100)\n",
    "    return mask\n",
    "\n",
    "d = 1\n",
    "percent_dense_rowise = 0\n",
    "percent_dense_columnwise = 0.5\n",
    "\n",
    "\n",
    "# row_mask = create_mask([torch.norm(weights, dim = 1)], percent_dense_rowise)\n",
    "# column_mask = create_mask([torch.norm(weights, dim = 0),torch.norm(H, dim = 0)], percent_dense_columnwise)\n",
    "\n",
    "# print(\"row_mask.sum() = \", row_mask.sum())\n",
    "# print(\"column_mask.sum() = \", column_mask.sum())\n",
    "\n",
    "\n",
    "def mask_round(mask, d):\n",
    "\n",
    "    while mask.sum() % d != 0:\n",
    "        mask[torch.randint(0, mask.shape[0], (1,))] = False\n",
    "        print(mask.sum())\n",
    "\n",
    "    return mask\n",
    "\n",
    "if percent_dense_columnwise == 0:\n",
    "    column_mask = torch.ones(weights.shape[1], dtype = torch.bool, device = weights.device)\n",
    "else:\n",
    "    column_mask = create_mask([torch.norm(weights, dim = 0),torch.norm(H, dim = 0)], percent_dense_columnwise)\n",
    "    column_mask = mask_round(column_mask, d)\n",
    "    \n",
    "if percent_dense_rowise == 0:\n",
    "    \n",
    "    row_mask = torch.ones(weights.shape[0], dtype = torch.bool, device = weights.device)    \n",
    "else:\n",
    "    row_mask = create_mask([torch.norm(weights, dim = 1)], percent_dense_rowise)\n",
    "    row_mask = mask_round(row_mask, d)\n",
    "\n",
    "\n",
    "mask = row_mask.unsqueeze(1) & column_mask.unsqueeze(0)\n",
    "\n",
    "print(\"row_mask.sum() = \", row_mask.sum())\n",
    "print(\"column_mask.sum() = \", column_mask.sum())"
   ]
  },
  {
   "cell_type": "code",
   "execution_count": 4,
   "metadata": {},
   "outputs": [],
   "source": [
    "weights_adjusted = weights[row_mask,:][:, column_mask]\n",
    "# print()\n",
    "weights_norms_rowwise = torch.norm(weights_adjusted, dim = 0)\n",
    "weights_norms_rowwise[torch.isclose(weights_norms_rowwise, torch.zeros_like(weights_norms_rowwise))] = 1\n",
    "weights_normalized = weights_adjusted / weights_norms_rowwise.unsqueeze(0)\n",
    "weights_norms_columnwise = torch.norm(weights_normalized, dim = 1)\n",
    "weights_norms_columnwise[torch.isclose(weights_norms_columnwise, torch.zeros_like(weights_norms_columnwise))] = 1\n",
    "weights_normalized = weights_normalized / weights_norms_columnwise.unsqueeze(1)"
   ]
  },
  {
   "cell_type": "code",
   "execution_count": 5,
   "metadata": {},
   "outputs": [
    {
     "data": {
      "text/plain": [
       "tensor([[-0.0067, -0.0272,  0.0100,  ...,  0.0156, -0.0054, -0.0371],\n",
       "        [-0.0030, -0.0132,  0.0171,  ...,  0.0187,  0.0061, -0.0153],\n",
       "        [-0.0004,  0.0187, -0.0129,  ..., -0.0107, -0.0109,  0.0220],\n",
       "        ...,\n",
       "        [-0.0042, -0.0031,  0.0204,  ..., -0.0025, -0.0084,  0.0134],\n",
       "        [-0.0048, -0.0128, -0.0102,  ..., -0.0116, -0.0100, -0.0069],\n",
       "        [ 0.0067,  0.0056,  0.0121,  ...,  0.0158, -0.0181, -0.0190]],\n",
       "       device='cuda:6')"
      ]
     },
     "execution_count": 5,
     "metadata": {},
     "output_type": "execute_result"
    }
   ],
   "source": [
    "weights_normalized"
   ]
  },
  {
   "cell_type": "code",
   "execution_count": 7,
   "metadata": {},
   "outputs": [
    {
     "name": "stdout",
     "output_type": "stream",
     "text": [
      "total_bits =  524320256 bits per weight =  31.251922607421875 lora_overhead =  31.169891357421875 sparse_overhead =  0.08203125\n"
     ]
    },
    {
     "name": "stderr",
     "output_type": "stream",
     "text": [
      "  0%|          | 2/1000 [00:00<01:31, 10.91it/s]"
     ]
    },
    {
     "name": "stdout",
     "output_type": "stream",
     "text": [
      "average_error =  0.0004560679371934384 H_error =  4.0105474909069017e-05\n"
     ]
    },
    {
     "name": "stderr",
     "output_type": "stream",
     "text": [
      "  5%|▌         | 52/1000 [00:05<01:34, 10.06it/s]"
     ]
    },
    {
     "name": "stdout",
     "output_type": "stream",
     "text": [
      "average_error =  0.019618641585111618 H_error =  0.06350235641002655\n"
     ]
    },
    {
     "name": "stderr",
     "output_type": "stream",
     "text": [
      " 10%|█         | 102/1000 [00:10<01:28, 10.17it/s]"
     ]
    },
    {
     "name": "stdout",
     "output_type": "stream",
     "text": [
      "average_error =  0.018414407968521118 H_error =  0.04392657056450844\n"
     ]
    },
    {
     "name": "stderr",
     "output_type": "stream",
     "text": [
      " 15%|█▌        | 152/1000 [00:15<01:24, 10.02it/s]"
     ]
    },
    {
     "name": "stdout",
     "output_type": "stream",
     "text": [
      "average_error =  0.017574157565832138 H_error =  0.037090178579092026\n"
     ]
    },
    {
     "name": "stderr",
     "output_type": "stream",
     "text": [
      " 20%|██        | 202/1000 [00:19<01:19, 10.02it/s]"
     ]
    },
    {
     "name": "stdout",
     "output_type": "stream",
     "text": [
      "average_error =  0.01692386157810688 H_error =  0.032854221761226654\n"
     ]
    },
    {
     "name": "stderr",
     "output_type": "stream",
     "text": [
      " 25%|██▌       | 252/1000 [00:24<01:11, 10.47it/s]"
     ]
    },
    {
     "name": "stdout",
     "output_type": "stream",
     "text": [
      "average_error =  0.01639665476977825 H_error =  0.018139539286494255\n"
     ]
    },
    {
     "name": "stderr",
     "output_type": "stream",
     "text": [
      " 30%|███       | 302/1000 [00:29<01:09, 10.06it/s]"
     ]
    },
    {
     "name": "stdout",
     "output_type": "stream",
     "text": [
      "average_error =  0.015976913273334503 H_error =  0.011231830343604088\n"
     ]
    },
    {
     "name": "stderr",
     "output_type": "stream",
     "text": [
      " 35%|███▌      | 352/1000 [00:34<01:04, 10.09it/s]"
     ]
    },
    {
     "name": "stdout",
     "output_type": "stream",
     "text": [
      "average_error =  0.01563253067433834 H_error =  0.009892559610307217\n"
     ]
    },
    {
     "name": "stderr",
     "output_type": "stream",
     "text": [
      " 40%|████      | 402/1000 [00:39<00:58, 10.30it/s]"
     ]
    },
    {
     "name": "stdout",
     "output_type": "stream",
     "text": [
      "average_error =  0.015324599109590054 H_error =  0.008934386074543\n"
     ]
    },
    {
     "name": "stderr",
     "output_type": "stream",
     "text": [
      " 45%|████▌     | 452/1000 [00:44<00:54, 10.04it/s]"
     ]
    },
    {
     "name": "stdout",
     "output_type": "stream",
     "text": [
      "average_error =  0.015045889653265476 H_error =  0.008150316774845123\n"
     ]
    },
    {
     "name": "stderr",
     "output_type": "stream",
     "text": [
      " 50%|█████     | 502/1000 [00:49<00:49, 10.10it/s]"
     ]
    },
    {
     "name": "stdout",
     "output_type": "stream",
     "text": [
      "average_error =  0.014791474677622318 H_error =  0.007495115511119366\n"
     ]
    },
    {
     "name": "stderr",
     "output_type": "stream",
     "text": [
      " 55%|█████▌    | 552/1000 [00:54<00:43, 10.29it/s]"
     ]
    },
    {
     "name": "stdout",
     "output_type": "stream",
     "text": [
      "average_error =  0.01455747615545988 H_error =  0.006939450744539499\n"
     ]
    },
    {
     "name": "stderr",
     "output_type": "stream",
     "text": [
      " 60%|██████    | 602/1000 [00:59<00:39, 10.06it/s]"
     ]
    },
    {
     "name": "stdout",
     "output_type": "stream",
     "text": [
      "average_error =  0.014340958558022976 H_error =  0.006462342105805874\n"
     ]
    },
    {
     "name": "stderr",
     "output_type": "stream",
     "text": [
      " 65%|██████▌   | 652/1000 [01:04<00:34, 10.11it/s]"
     ]
    },
    {
     "name": "stdout",
     "output_type": "stream",
     "text": [
      "average_error =  0.014139614999294281 H_error =  0.006048341281712055\n"
     ]
    },
    {
     "name": "stderr",
     "output_type": "stream",
     "text": [
      " 70%|███████   | 702/1000 [01:09<00:29, 10.15it/s]"
     ]
    },
    {
     "name": "stdout",
     "output_type": "stream",
     "text": [
      "average_error =  0.013951482251286507 H_error =  0.005685785785317421\n"
     ]
    },
    {
     "name": "stderr",
     "output_type": "stream",
     "text": [
      " 75%|███████▌  | 752/1000 [01:14<00:23, 10.53it/s]"
     ]
    },
    {
     "name": "stdout",
     "output_type": "stream",
     "text": [
      "average_error =  0.013774972409009933 H_error =  0.005365735851228237\n"
     ]
    },
    {
     "name": "stderr",
     "output_type": "stream",
     "text": [
      " 80%|████████  | 802/1000 [01:19<00:19, 10.06it/s]"
     ]
    },
    {
     "name": "stdout",
     "output_type": "stream",
     "text": [
      "average_error =  0.013608754612505436 H_error =  0.005081199575215578\n"
     ]
    },
    {
     "name": "stderr",
     "output_type": "stream",
     "text": [
      " 85%|████████▌ | 852/1000 [01:23<00:14, 10.24it/s]"
     ]
    },
    {
     "name": "stdout",
     "output_type": "stream",
     "text": [
      "average_error =  0.013451768085360527 H_error =  0.004826607182621956\n"
     ]
    },
    {
     "name": "stderr",
     "output_type": "stream",
     "text": [
      " 90%|█████████ | 902/1000 [01:28<00:09, 10.08it/s]"
     ]
    },
    {
     "name": "stdout",
     "output_type": "stream",
     "text": [
      "average_error =  0.013303075917065144 H_error =  0.004597522784024477\n"
     ]
    },
    {
     "name": "stderr",
     "output_type": "stream",
     "text": [
      " 95%|█████████▌| 952/1000 [01:33<00:04, 10.53it/s]"
     ]
    },
    {
     "name": "stdout",
     "output_type": "stream",
     "text": [
      "average_error =  0.013161910697817802 H_error =  0.004390304442495108\n"
     ]
    },
    {
     "name": "stderr",
     "output_type": "stream",
     "text": [
      "100%|██████████| 1000/1000 [01:38<00:00, 10.15it/s]\n"
     ]
    }
   ],
   "source": [
    "#do a svd decomposition\n",
    "U, S, V = torch.svd(weights_normalized)\n",
    "\n",
    "k = 4000\n",
    "\n",
    "A = (U[:, :k] @ torch.sqrt(torch.diag(S[:k]))).requires_grad_(True)\n",
    "B = (torch.sqrt(torch.diag(S[:k])) @ V[:, :k].t()).requires_grad_(True)\n",
    "\n",
    "lora_overhead = 16*(A.numel() + B.numel())/(weights.numel())\n",
    "sparse_overhead = 16*(torch.sum(~mask).item())/(weights.numel())\n",
    "total_bits = 16*(A.numel() + B.numel() + torch.sum(~mask).item())\n",
    "print(\"total_bits = \", total_bits, \"bits per weight = \", total_bits/weights.numel(),\n",
    "        \"lora_overhead = \", lora_overhead, \"sparse_overhead = \", sparse_overhead)\n",
    "\n",
    "n_iters = 1000\n",
    "lr = 5e-2\n",
    "grad_clip = 1e-1\n",
    "lr_multiple = 0.9\n",
    "prev_H_error = 1e10\n",
    "losses = []\n",
    "\n",
    "for i in tqdm.tqdm(range(n_iters)):\n",
    "\n",
    "    weights_reconstructed = torch.zeros_like(weights)\n",
    "    weights_reconstructed[mask] = ((A @ B) * weights_norms_rowwise.unsqueeze(0) * weights_norms_columnwise.unsqueeze(1)\n",
    "                                   ).flatten()\n",
    "    weights_reconstructed[~mask] = weights[~mask]\n",
    "\n",
    "    diff = weights - weights_reconstructed\n",
    "\n",
    "    average_error = torch.sum(torch.abs(diff)**1)/torch.sum(torch.abs(weights)**1)\n",
    "\n",
    "    H_error = torch.einsum('ik,kl,il->', diff, H/H.shape[0], diff)\n",
    "    if H_error < 1e-5:\n",
    "        break\n",
    "    if i % 50 == 0:\n",
    "        print(\"average_error = \", average_error.item(), \"H_error = \", H_error.item())\n",
    "    H_error.backward()\n",
    "    losses.append(H_error.item())\n",
    "\n",
    "    if H_error > prev_H_error:\n",
    "        lr *= lr_multiple\n",
    "    prev_H_error = H_error.item()\n",
    "    with torch.no_grad():\n",
    "        if i % 1 == 0:\n",
    "            #update A\n",
    "            A.grad = A.grad.clamp(-grad_clip, grad_clip)\n",
    "            A -= lr * A.grad\n",
    "            A.grad.zero_()\n",
    "\n",
    "        # else:\n",
    "            #update B\n",
    "            B.grad = B.grad.clamp(-grad_clip, grad_clip)\n",
    "            B -= lr * B.grad\n",
    "            B.grad.zero_()"
   ]
  },
  {
   "cell_type": "code",
   "execution_count": 96,
   "metadata": {},
   "outputs": [
    {
     "data": {
      "text/plain": [
       "[<matplotlib.lines.Line2D at 0x7d15e02ab3d0>]"
      ]
     },
     "execution_count": 96,
     "metadata": {},
     "output_type": "execute_result"
    },
    {
     "data": {
      "image/png": "[encoded data removed]",
      "text/plain": [
       "<Figure size 640x480 with 1 Axes>"
      ]
     },
     "metadata": {},
     "output_type": "display_data"
    }
   ],
   "source": [
    "plt.plot(losses)"
   ]
  },
  {
   "cell_type": "code",
   "execution_count": 97,
   "metadata": {},
   "outputs": [
    {
     "data": {
      "text/plain": [
       "16691200"
      ]
     },
     "execution_count": 97,
     "metadata": {},
     "output_type": "execute_result"
    }
   ],
   "source": [
    "torch.sum(mask).item()"
   ]
  },
  {
   "cell_type": "code",
   "execution_count": 98,
   "metadata": {},
   "outputs": [
    {
     "data": {
      "image/png": "[encoded data removed]",
      "text/plain": [
       "<Figure size 640x480 with 1 Axes>"
      ]
     },
     "metadata": {},
     "output_type": "display_data"
    }
   ],
   "source": [
    "plt.hist(A.flatten().detach().cpu().numpy(), bins = 100, density=True, alpha = 0.5)\n",
    "plt.hist(B.flatten().detach().cpu().numpy(), bins = 100, density=True, alpha = 0.5)\n",
    "plt.hist(weights.flatten().detach().cpu().numpy(), bins = 100, density=True, alpha = 0.5)\n",
    "plt.yscale(\"log\")"
   ]
  },
  {
   "cell_type": "code",
   "execution_count": 99,
   "metadata": {},
   "outputs": [],
   "source": [
    "A = A.detach().requires_grad_(False)\n",
    "B = B.detach().requires_grad_(False)"
   ]
  },
  {
   "cell_type": "code",
   "execution_count": 100,
   "metadata": {},
   "outputs": [],
   "source": [
    "def stochastic_round(X,codebook):\n",
    "    \"\"\"\n",
    "    X: torch.tensor of shape (n)\n",
    "    codebook: torch.tensor of shape (m)\n",
    "    \"\"\"\n",
    "\n",
    "    distances = torch.abs(X.reshape(list(X.shape) + [1]) - codebook.reshape([1]*len(X.shape) + list(codebook.shape)))\n",
    "    #for each one select the smallest 2 indices\n",
    "    distance, indices = torch.topk(distances, 2, dim = -1, largest = False)\n",
    "    # print(distance[0])\n",
    "    #randomly choose based on the distance\n",
    "    random_choice = torch.rand_like(X)\n",
    "\n",
    "    probabilities = distance/(distance.sum(-1, keepdim = True) + 1e-10)\n",
    "    # print(probabilities[0])\n",
    "    # print(probabilities.shape, random_choice.shape)\n",
    "    # print((random_choice < probabilities[..., 0])[0])\n",
    "    return torch.where(random_choice < probabilities[..., 0],  indices[..., 1],indices[..., 0])"
   ]
  },
  {
   "cell_type": "code",
   "execution_count": 111,
   "metadata": {},
   "outputs": [
    {
     "name": "stdout",
     "output_type": "stream",
     "text": [
      "quantized_low_rank_bits =  0.49871826171875 bits per weight =  0.580780029296875\n"
     ]
    },
    {
     "name": "stderr",
     "output_type": "stream",
     "text": [
      "  0%|          | 1/1000 [00:00<02:13,  7.46it/s]"
     ]
    },
    {
     "name": "stdout",
     "output_type": "stream",
     "text": [
      "average_error =  0.5106793642044067 H_error =  23.37791633605957\n"
     ]
    },
    {
     "name": "stderr",
     "output_type": "stream",
     "text": [
      "  5%|▌         | 51/1000 [00:04<01:16, 12.46it/s]"
     ]
    },
    {
     "name": "stdout",
     "output_type": "stream",
     "text": [
      "average_error =  0.39892807602882385 H_error =  10.105695724487305\n"
     ]
    },
    {
     "name": "stderr",
     "output_type": "stream",
     "text": [
      " 10%|█         | 101/1000 [00:08<01:12, 12.47it/s]"
     ]
    },
    {
     "name": "stdout",
     "output_type": "stream",
     "text": [
      "average_error =  0.3982369601726532 H_error =  10.00516128540039\n"
     ]
    },
    {
     "name": "stderr",
     "output_type": "stream",
     "text": [
      " 15%|█▍        | 148/1000 [00:12<01:10, 12.07it/s]"
     ]
    },
    {
     "name": "stdout",
     "output_type": "stream",
     "text": [
      "average_error =  0.3982584476470947 H_error =  10.002592086791992\n"
     ]
    },
    {
     "name": "stderr",
     "output_type": "stream",
     "text": [
      "\n"
     ]
    }
   ],
   "source": [
    "n_bits =  4\n",
    "# A = A.detach().requires_grad_(False)\n",
    "A_codebook = torch.linspace(A.min(), A.max(), 2**n_bits).to(device)\n",
    "errrors = torch.abs(A.unsqueeze(-1) - A_codebook.unsqueeze(0).unsqueeze(0))\n",
    "# assignments_A = stochastic_round(A, A_codebook)\n",
    "# raise ValueError(\"stop\")\n",
    "\n",
    "assignments_A = torch.argmin(torch.abs(A.unsqueeze(-1) - A_codebook.unsqueeze(0).unsqueeze(0)), dim = -1)\n",
    "A_codebook = A_codebook.requires_grad_(True)\n",
    "\n",
    "# B = B.detach().requires_grad_(False)\n",
    "B_codebook = torch.linspace(B.min(), B.max(), 2**n_bits).to(device)\n",
    "# assignments_B = stochastic_round(B, B_codebook)\n",
    "assignments_B = torch.argmin(torch.abs(B.unsqueeze(-1) - B_codebook.unsqueeze(0).unsqueeze(0)), dim = -1)\n",
    "\n",
    "quantized_low_rank_bits = (n_bits*assignments_A.numel() + n_bits*assignments_B.numel())\n",
    "total_bits = 16*(torch.sum(~mask).item()) + 16*(A_codebook.numel() + B_codebook.numel()) + quantized_low_rank_bits\n",
    "\n",
    "print(\"quantized_low_rank_bits = \", quantized_low_rank_bits/weights.numel(), \"bits per weight = \", (total_bits)\n",
    "                                                                                                    /weights.numel())\n",
    "\n",
    "# raise ValueError(\"stop\")\n",
    "B_codebook = B_codebook.requires_grad_(True)\n",
    "\n",
    "n_iters = 1000\n",
    "lr = 1e-1\n",
    "grad_clip = 1e-1\n",
    "lr_multiple = 0.9\n",
    "prev_H_error = 1e10\n",
    "patience = 100\n",
    "patience_used = 0\n",
    "eps = 1e-3\n",
    "\n",
    "for i in tqdm.tqdm(range(n_iters)):\n",
    "    \n",
    "    A_quantized = A_codebook[assignments_A]\n",
    "    B_quantized = B_codebook[assignments_B]\n",
    "    # print(\"A_quantized = \", A_quantized.shape, \"A= \", A.shape)\n",
    "    # print(\"B_quantized = \", B_quantized.shape, \"B= \", B.shape)\n",
    "    # raise ValueError(\"stop\")\n",
    "\n",
    "    weights_reconstructed = torch.zeros_like(weights)\n",
    "    weights_reconstructed[mask] = ((A_quantized @ B_quantized) * weights_norms_rowwise.unsqueeze(0) * weights_norms_columnwise.unsqueeze(1)\n",
    "                                   ).flatten()\n",
    "    weights_reconstructed[~mask] = weights[~mask]\n",
    "\n",
    "    diff = weights - weights_reconstructed\n",
    "\n",
    "    average_error = torch.sum(torch.abs(diff)**1)/torch.sum(torch.abs(weights)**1)\n",
    "\n",
    "    H_error = torch.einsum('ik,kl,il->', diff, H/H.shape[0], diff)\n",
    "    # print(\"average_error = \", average_error.item(), \"H_error = \", H_error.item())\n",
    "    # raise ValueError(\"stop\")\n",
    "    if H_error < 1e-5:\n",
    "        break\n",
    "    if i % 50 == 0:\n",
    "        print(\"average_error = \", average_error.item(), \"H_error = \", H_error.item())\n",
    "    H_error.backward()\n",
    "    losses.append(H_error.item())\n",
    "\n",
    "    if prev_H_error - H_error < eps:\n",
    "        lr *= lr_multiple\n",
    "        # print(\"lr = \", lr)\n",
    "        patience_used += 1\n",
    "        if patience_used > patience:\n",
    "            break\n",
    "    else:\n",
    "        patience_used = 0\n",
    "        prev_H_error = H_error.item()\n",
    "    with torch.no_grad():\n",
    "        if i % 1 == 0:\n",
    "            #update A\n",
    "            A_codebook.grad = A_codebook.grad.clamp(-grad_clip, grad_clip)\n",
    "            A_codebook -= lr * A_codebook.grad\n",
    "            A_codebook.grad.zero_()\n",
    "\n",
    "        # else:\n",
    "            #update B\n",
    "            B_codebook.grad = B_codebook.grad.clamp(-grad_clip, grad_clip)\n",
    "            B_codebook -= lr * B_codebook.grad\n",
    "            B_codebook.grad.zero_()\n",
    "    if i % 10 ==  9:\n",
    "        with torch.no_grad():\n",
    "            assignments_A = torch.argmin(torch.abs(A.unsqueeze(-1) - A_codebook.unsqueeze(0).unsqueeze(0)), dim = -1) #stochastic_round(A, A_codebook)\n",
    "            assignments_B = torch.argmin(torch.abs(B.unsqueeze(-1) - B_codebook.unsqueeze(0).unsqueeze(0)), dim = -1) #stochastic_round(B, B_codebook)\n",
    "\n",
    "print(\"average_error = \", average_error.item(), \"H_error = \", H_error.item())"
   ]
  },
  {
   "cell_type": "code",
   "execution_count": 102,
   "metadata": {},
   "outputs": [
    {
     "data": {
      "text/plain": [
       "tensor(7.9834, device='cuda:6', grad_fn=<ViewBackward0>)"
      ]
     },
     "execution_count": 102,
     "metadata": {},
     "output_type": "execute_result"
    }
   ],
   "source": [
    "H_error"
   ]
  },
  {
   "cell_type": "code",
   "execution_count": 26,
   "metadata": {},
   "outputs": [
    {
     "name": "stdout",
     "output_type": "stream",
     "text": [
      "average_error =  tensor(0.5148, device='cuda:6') H_error =  tensor(3955.0728, device='cuda:6')\n"
     ]
    }
   ],
   "source": [
    "diff = weights - weights_reconstructed\n",
    "\n",
    "average_error = torch.sum(torch.abs(diff)**1)/torch.sum(torch.abs(weights)**1)\n",
    "\n",
    "H_error = torch.einsum('ik,kl,il->', diff, H/H.shape[0], diff)\n",
    "\n",
    "print(\"average_error = \", average_error, \"H_error = \", H_error)"
   ]
  },
  {
   "cell_type": "code",
   "execution_count": null,
   "metadata": {},
   "outputs": [],
   "source": []
  }
 ],
 "metadata": {
  "kernelspec": {
   "display_name": "base",
   "language": "python",
   "name": "python3"
  },
  "language_info": {
   "codemirror_mode": {
    "name": "ipython",
    "version": 3
   },
   "file_extension": ".py",
   "mimetype": "text/x-python",
   "name": "python",
   "nbconvert_exporter": "python",
   "pygments_lexer": "ipython3",
   "version": "3.11.5"
  }
 },
 "nbformat": 4,
 "nbformat_minor": 2
}
