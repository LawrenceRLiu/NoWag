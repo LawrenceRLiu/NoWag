{
 "cells": [
  {
   "cell_type": "code",
   "execution_count": 1,
   "metadata": {},
   "outputs": [],
   "source": [
    "import sys \n",
    "import os \n",
    "import numpy as np\n",
    "import torch\n",
    "import matplotlib.pyplot as plt\n",
    "import matplotlib.colors as mcolors\n",
    "sys.path.append('../')\n",
    "import glob\n",
    "import tqdm\n"
   ]
  },
  {
   "cell_type": "code",
   "execution_count": 2,
   "metadata": {},
   "outputs": [],
   "source": [
    "from src.utils.normalizer import Normalizer"
   ]
  },
  {
   "cell_type": "code",
   "execution_count": null,
   "metadata": {},
   "outputs": [],
   "source": [
    "def calculate_C(samples):\n",
    "    \"\"\"\n",
    "    Calculates the C if the samples from a distribution are subgaussian\n",
    "    \"\"\"\n",
    "    \n",
    "    samples_demeaned = samples.flatten()# - torch.mean(samples)\n",
    "    \n",
    "    #calculate the absolute cdf\n",
    "    X = torch.sort(torch.abs(samples_demeaned))[0]\n",
    "    log_y = torch.log(torch.arange(1, len(X)+1, device = X.device,\n",
    "                     )) - np.log(2*len(X))\n",
    "    \n",
    "    #for a subgaussian P(|X| > t) <= 2 exp(-t^2/C^2)\n",
    "    #so calculate the max C \n",
    "    # print(\"y= \", y)\n",
    "    Cs = X / torch.sqrt(- log_y)\n",
    "    # print(f\"Cs = {Cs}\")\n",
    "    C = torch.max(Cs[torch.isfinite(Cs)])\n",
    "    # print(f\"C = {C}\")\n",
    "    return C.item(), [x, log_y]\n",
    "\n",
    "# def calculate_C(samples):\n",
    "#     return torch.max(samples).item()\n",
    "    "
   ]
  },
  {
   "cell_type": "code",
   "execution_count": 50,
   "metadata": {},
   "outputs": [
    {
     "name": "stderr",
     "output_type": "stream",
     "text": [
      "100%|██████████| 224/224 [00:13<00:00, 16.62it/s]\n"
     ]
    }
   ],
   "source": [
    "# linear_layer = \"layer_1/mlp.up_proj\"\n",
    "\n",
    "layers = glob.glob(f\"/data/lliu/huffman/models/meta-llama/Llama-2-7b-hf/original_weights/*/*.pt\")\n",
    "\n",
    "device = torch.device(\"cuda:7\")\n",
    "Cs_orig = []\n",
    "Cs_norm = []\n",
    "with torch.no_grad():\n",
    "    for linear_layer in tqdm.tqdm(layers):\n",
    "        weight = torch.load(linear_layer, map_location=device)[\"weight\"]\n",
    "        \n",
    "        C_orig = calculate_C(weight)\n",
    "        # raise ValueError\n",
    "        _,weight_normalized = Normalizer.normalize_init(weight, [0,1], [False,False],norm_rescale=True, powers=2,\n",
    "                                                    p=2)\n",
    "        \n",
    "        C_norm = calculate_C(weight_normalized)\n",
    "        \n",
    "        Cs_orig.append(C_orig)\n",
    "        Cs_norm.append(C_norm)\n",
    "        \n",
    "        \n",
    "        \n",
    "    "
   ]
  },
  {
   "cell_type": "code",
   "execution_count": 51,
   "metadata": {},
   "outputs": [
    {
     "data": {
      "text/plain": [
       "[<matplotlib.lines.Line2D at 0x77f1ae1016d0>]"
      ]
     },
     "execution_count": 51,
     "metadata": {},
     "output_type": "execute_result"
    },
    {
     "data": {
      "image/png": "[encoded data removed]",
      "text/plain": [
       "<Figure size 640x480 with 1 Axes>"
      ]
     },
     "metadata": {},
     "output_type": "display_data"
    }
   ],
   "source": [
    "import matplotlib.pyplot as plt\n",
    "\n",
    "plt.plot(Cs_orig, Cs_norm, 'o')\n",
    "#set equal aspect ratio\n",
    "plt.ylim([0, max(max(Cs_orig), max(Cs_norm))])\n",
    "plt.xlim([0, max(max(Cs_orig), max(Cs_norm))])\n",
    "#draw a 1:1 line\n",
    "plt.plot([0,max(Cs_orig)], [0,max(Cs_orig)], 'k--')"
   ]
  },
  {
   "cell_type": "code",
   "execution_count": 8,
   "metadata": {},
   "outputs": [
    {
     "data": {
      "text/plain": [
       "[]"
      ]
     },
     "execution_count": 8,
     "metadata": {},
     "output_type": "execute_result"
    }
   ],
   "source": [
    "layers"
   ]
  },
  {
   "cell_type": "code",
   "execution_count": null,
   "metadata": {},
   "outputs": [],
   "source": []
  }
 ],
 "metadata": {
  "kernelspec": {
   "display_name": "NoWAC-VQ",
   "language": "python",
   "name": "python3"
  },
  "language_info": {
   "codemirror_mode": {
    "name": "ipython",
    "version": 3
   },
   "file_extension": ".py",
   "mimetype": "text/x-python",
   "name": "python",
   "nbconvert_exporter": "python",
   "pygments_lexer": "ipython3",
   "version": "3.13.2"
  }
 },
 "nbformat": 4,
 "nbformat_minor": 2
}
