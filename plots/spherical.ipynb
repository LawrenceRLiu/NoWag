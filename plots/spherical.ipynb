{
 "cells": [
  {
   "cell_type": "code",
   "execution_count": 1,
   "metadata": {},
   "outputs": [],
   "source": [
    "import sys \n",
    "import os \n",
    "import numpy as np\n",
    "import torch\n",
    "import matplotlib.pyplot as plt\n",
    "import matplotlib.colors as mcolors\n",
    "sys.path.append('../')\n",
    "import glob\n",
    "import tqdm"
   ]
  },
  {
   "cell_type": "code",
   "execution_count": 2,
   "metadata": {},
   "outputs": [],
   "source": [
    "from src.utils.normalizer import Normalizer"
   ]
  },
  {
   "cell_type": "code",
   "execution_count": 40,
   "metadata": {},
   "outputs": [],
   "source": [
    "#our spherical measure is the the conditioning of the eigenvalues of the covariance matrix\n",
    "\n",
    "def spherical_measure(samples):\n",
    "    samples = samples - samples.mean(dim=0)\n",
    "    #samples of shape (n, d)\n",
    "    n, d = samples.shape\n",
    "    corr = torch.corrcoef(samples.T)\n",
    "    # print(corr.shape)\n",
    "    # raise ValueError\n",
    "    #get the eigenvalues\n",
    "    eigvals, _ = torch.linalg.eig(corr)\n",
    "    \n",
    "    eigvals = torch.abs(eigvals)\n",
    "    # print(eigvals)\n",
    "    # raise ValueError\n",
    "    #condition number\n",
    "    cond = torch.max(eigvals) / torch.min(eigvals)\n",
    "    return cond.item()\n",
    "\n",
    "def subvectorize_and_condition(W, d):\n",
    "    \n",
    "    if W.shape[1] % d != 0:\n",
    "        #pad with zeros\n",
    "        pad = d - (W.shape[1] % d)\n",
    "        W = torch.cat([W, torch.zeros(W.shape[0], pad, device=W.device)], dim=1)\n",
    "    \n",
    "\n",
    "    #subvectorize\n",
    "    W_sub = W.view(-1, d)\n",
    "    return spherical_measure(W_sub)"
   ]
  },
  {
   "cell_type": "code",
   "execution_count": 43,
   "metadata": {},
   "outputs": [
    {
     "name": "stderr",
     "output_type": "stream",
     "text": [
      " 74%|███████▍  | 792/1064 [01:52<00:15, 17.19it/s]"
     ]
    },
    {
     "name": "stdout",
     "output_type": "stream",
     "text": [
      "torch.linalg.eig: input tensor should not contain infs or NaNs.\n"
     ]
    },
    {
     "name": "stderr",
     "output_type": "stream",
     "text": [
      " 75%|███████▌  | 799/1064 [01:52<00:16, 16.31it/s]"
     ]
    },
    {
     "name": "stdout",
     "output_type": "stream",
     "text": [
      "torch.linalg.eig: input tensor should not contain infs or NaNs.\n"
     ]
    },
    {
     "name": "stderr",
     "output_type": "stream",
     "text": [
      " 76%|███████▌  | 806/1064 [01:53<00:16, 15.96it/s]"
     ]
    },
    {
     "name": "stdout",
     "output_type": "stream",
     "text": [
      "torch.linalg.eig: input tensor should not contain infs or NaNs.\n"
     ]
    },
    {
     "name": "stderr",
     "output_type": "stream",
     "text": [
      " 76%|███████▋  | 813/1064 [01:53<00:15, 15.83it/s]"
     ]
    },
    {
     "name": "stdout",
     "output_type": "stream",
     "text": [
      "torch.linalg.eig: input tensor should not contain infs or NaNs.\n"
     ]
    },
    {
     "name": "stderr",
     "output_type": "stream",
     "text": [
      " 77%|███████▋  | 820/1064 [01:54<00:15, 15.66it/s]"
     ]
    },
    {
     "name": "stdout",
     "output_type": "stream",
     "text": [
      "torch.linalg.eig: input tensor should not contain infs or NaNs.\n"
     ]
    },
    {
     "name": "stderr",
     "output_type": "stream",
     "text": [
      " 78%|███████▊  | 827/1064 [01:54<00:15, 15.65it/s]"
     ]
    },
    {
     "name": "stdout",
     "output_type": "stream",
     "text": [
      "torch.linalg.eig: input tensor should not contain infs or NaNs.\n"
     ]
    },
    {
     "name": "stderr",
     "output_type": "stream",
     "text": [
      " 78%|███████▊  | 834/1064 [01:54<00:14, 15.70it/s]"
     ]
    },
    {
     "name": "stdout",
     "output_type": "stream",
     "text": [
      "torch.linalg.eig: input tensor should not contain infs or NaNs.\n"
     ]
    },
    {
     "name": "stderr",
     "output_type": "stream",
     "text": [
      " 79%|███████▉  | 841/1064 [01:55<00:14, 15.77it/s]"
     ]
    },
    {
     "name": "stdout",
     "output_type": "stream",
     "text": [
      "torch.linalg.eig: input tensor should not contain infs or NaNs.\n"
     ]
    },
    {
     "name": "stderr",
     "output_type": "stream",
     "text": [
      " 80%|███████▉  | 848/1064 [01:55<00:13, 15.69it/s]"
     ]
    },
    {
     "name": "stdout",
     "output_type": "stream",
     "text": [
      "torch.linalg.eig: input tensor should not contain infs or NaNs.\n"
     ]
    },
    {
     "name": "stderr",
     "output_type": "stream",
     "text": [
      " 80%|████████  | 855/1064 [01:56<00:13, 15.68it/s]"
     ]
    },
    {
     "name": "stdout",
     "output_type": "stream",
     "text": [
      "torch.linalg.eig: input tensor should not contain infs or NaNs.\n"
     ]
    },
    {
     "name": "stderr",
     "output_type": "stream",
     "text": [
      " 81%|████████  | 862/1064 [01:56<00:12, 15.71it/s]"
     ]
    },
    {
     "name": "stdout",
     "output_type": "stream",
     "text": [
      "torch.linalg.eig: input tensor should not contain infs or NaNs.\n"
     ]
    },
    {
     "name": "stderr",
     "output_type": "stream",
     "text": [
      " 82%|████████▏ | 869/1064 [01:57<00:12, 15.71it/s]"
     ]
    },
    {
     "name": "stdout",
     "output_type": "stream",
     "text": [
      "torch.linalg.eig: input tensor should not contain infs or NaNs.\n"
     ]
    },
    {
     "name": "stderr",
     "output_type": "stream",
     "text": [
      " 82%|████████▏ | 876/1064 [01:57<00:11, 15.76it/s]"
     ]
    },
    {
     "name": "stdout",
     "output_type": "stream",
     "text": [
      "torch.linalg.eig: input tensor should not contain infs or NaNs.\n"
     ]
    },
    {
     "name": "stderr",
     "output_type": "stream",
     "text": [
      " 83%|████████▎ | 883/1064 [01:58<00:11, 15.63it/s]"
     ]
    },
    {
     "name": "stdout",
     "output_type": "stream",
     "text": [
      "torch.linalg.eig: input tensor should not contain infs or NaNs.\n"
     ]
    },
    {
     "name": "stderr",
     "output_type": "stream",
     "text": [
      " 84%|████████▎ | 890/1064 [01:58<00:11, 15.66it/s]"
     ]
    },
    {
     "name": "stdout",
     "output_type": "stream",
     "text": [
      "torch.linalg.eig: input tensor should not contain infs or NaNs.\n"
     ]
    },
    {
     "name": "stderr",
     "output_type": "stream",
     "text": [
      " 84%|████████▍ | 897/1064 [01:58<00:10, 15.66it/s]"
     ]
    },
    {
     "name": "stdout",
     "output_type": "stream",
     "text": [
      "torch.linalg.eig: input tensor should not contain infs or NaNs.\n"
     ]
    },
    {
     "name": "stderr",
     "output_type": "stream",
     "text": [
      " 85%|████████▍ | 904/1064 [01:59<00:10, 15.66it/s]"
     ]
    },
    {
     "name": "stdout",
     "output_type": "stream",
     "text": [
      "torch.linalg.eig: input tensor should not contain infs or NaNs.\n"
     ]
    },
    {
     "name": "stderr",
     "output_type": "stream",
     "text": [
      " 86%|████████▌ | 911/1064 [01:59<00:09, 15.70it/s]"
     ]
    },
    {
     "name": "stdout",
     "output_type": "stream",
     "text": [
      "torch.linalg.eig: input tensor should not contain infs or NaNs.\n"
     ]
    },
    {
     "name": "stderr",
     "output_type": "stream",
     "text": [
      " 86%|████████▋ | 918/1064 [02:00<00:09, 15.56it/s]"
     ]
    },
    {
     "name": "stdout",
     "output_type": "stream",
     "text": [
      "torch.linalg.eig: input tensor should not contain infs or NaNs.\n"
     ]
    },
    {
     "name": "stderr",
     "output_type": "stream",
     "text": [
      " 87%|████████▋ | 925/1064 [02:00<00:08, 15.75it/s]"
     ]
    },
    {
     "name": "stdout",
     "output_type": "stream",
     "text": [
      "torch.linalg.eig: input tensor should not contain infs or NaNs.\n"
     ]
    },
    {
     "name": "stderr",
     "output_type": "stream",
     "text": [
      " 88%|████████▊ | 932/1064 [02:01<00:08, 15.72it/s]"
     ]
    },
    {
     "name": "stdout",
     "output_type": "stream",
     "text": [
      "torch.linalg.eig: input tensor should not contain infs or NaNs.\n"
     ]
    },
    {
     "name": "stderr",
     "output_type": "stream",
     "text": [
      " 88%|████████▊ | 939/1064 [02:01<00:07, 15.71it/s]"
     ]
    },
    {
     "name": "stdout",
     "output_type": "stream",
     "text": [
      "torch.linalg.eig: input tensor should not contain infs or NaNs.\n"
     ]
    },
    {
     "name": "stderr",
     "output_type": "stream",
     "text": [
      " 89%|████████▉ | 946/1064 [02:02<00:07, 15.68it/s]"
     ]
    },
    {
     "name": "stdout",
     "output_type": "stream",
     "text": [
      "torch.linalg.eig: input tensor should not contain infs or NaNs.\n"
     ]
    },
    {
     "name": "stderr",
     "output_type": "stream",
     "text": [
      " 90%|████████▉ | 953/1064 [02:02<00:07, 15.67it/s]"
     ]
    },
    {
     "name": "stdout",
     "output_type": "stream",
     "text": [
      "torch.linalg.eig: input tensor should not contain infs or NaNs.\n"
     ]
    },
    {
     "name": "stderr",
     "output_type": "stream",
     "text": [
      " 90%|█████████ | 960/1064 [02:03<00:06, 15.48it/s]"
     ]
    },
    {
     "name": "stdout",
     "output_type": "stream",
     "text": [
      "torch.linalg.eig: input tensor should not contain infs or NaNs.\n"
     ]
    },
    {
     "name": "stderr",
     "output_type": "stream",
     "text": [
      " 91%|█████████ | 967/1064 [02:03<00:06, 15.61it/s]"
     ]
    },
    {
     "name": "stdout",
     "output_type": "stream",
     "text": [
      "torch.linalg.eig: input tensor should not contain infs or NaNs.\n"
     ]
    },
    {
     "name": "stderr",
     "output_type": "stream",
     "text": [
      " 92%|█████████▏| 974/1064 [02:03<00:05, 15.66it/s]"
     ]
    },
    {
     "name": "stdout",
     "output_type": "stream",
     "text": [
      "torch.linalg.eig: input tensor should not contain infs or NaNs.\n"
     ]
    },
    {
     "name": "stderr",
     "output_type": "stream",
     "text": [
      " 92%|█████████▏| 981/1064 [02:04<00:05, 15.66it/s]"
     ]
    },
    {
     "name": "stdout",
     "output_type": "stream",
     "text": [
      "torch.linalg.eig: input tensor should not contain infs or NaNs.\n"
     ]
    },
    {
     "name": "stderr",
     "output_type": "stream",
     "text": [
      " 93%|█████████▎| 988/1064 [02:04<00:04, 15.56it/s]"
     ]
    },
    {
     "name": "stdout",
     "output_type": "stream",
     "text": [
      "torch.linalg.eig: input tensor should not contain infs or NaNs.\n"
     ]
    },
    {
     "name": "stderr",
     "output_type": "stream",
     "text": [
      " 94%|█████████▎| 995/1064 [02:05<00:04, 15.55it/s]"
     ]
    },
    {
     "name": "stdout",
     "output_type": "stream",
     "text": [
      "torch.linalg.eig: input tensor should not contain infs or NaNs.\n"
     ]
    },
    {
     "name": "stderr",
     "output_type": "stream",
     "text": [
      " 94%|█████████▍| 1002/1064 [02:05<00:03, 15.62it/s]"
     ]
    },
    {
     "name": "stdout",
     "output_type": "stream",
     "text": [
      "torch.linalg.eig: input tensor should not contain infs or NaNs.\n"
     ]
    },
    {
     "name": "stderr",
     "output_type": "stream",
     "text": [
      " 95%|█████████▍| 1009/1064 [02:06<00:03, 15.58it/s]"
     ]
    },
    {
     "name": "stdout",
     "output_type": "stream",
     "text": [
      "torch.linalg.eig: input tensor should not contain infs or NaNs.\n"
     ]
    },
    {
     "name": "stderr",
     "output_type": "stream",
     "text": [
      " 95%|█████████▌| 1016/1064 [02:06<00:03, 15.53it/s]"
     ]
    },
    {
     "name": "stdout",
     "output_type": "stream",
     "text": [
      "torch.linalg.eig: input tensor should not contain infs or NaNs.\n"
     ]
    },
    {
     "name": "stderr",
     "output_type": "stream",
     "text": [
      " 96%|█████████▌| 1023/1064 [02:07<00:02, 15.51it/s]"
     ]
    },
    {
     "name": "stdout",
     "output_type": "stream",
     "text": [
      "torch.linalg.eig: input tensor should not contain infs or NaNs.\n"
     ]
    },
    {
     "name": "stderr",
     "output_type": "stream",
     "text": [
      " 97%|█████████▋| 1030/1064 [02:07<00:02, 15.64it/s]"
     ]
    },
    {
     "name": "stdout",
     "output_type": "stream",
     "text": [
      "torch.linalg.eig: input tensor should not contain infs or NaNs.\n"
     ]
    },
    {
     "name": "stderr",
     "output_type": "stream",
     "text": [
      " 97%|█████████▋| 1037/1064 [02:07<00:01, 15.57it/s]"
     ]
    },
    {
     "name": "stdout",
     "output_type": "stream",
     "text": [
      "torch.linalg.eig: input tensor should not contain infs or NaNs.\n"
     ]
    },
    {
     "name": "stderr",
     "output_type": "stream",
     "text": [
      " 98%|█████████▊| 1044/1064 [02:08<00:01, 15.56it/s]"
     ]
    },
    {
     "name": "stdout",
     "output_type": "stream",
     "text": [
      "torch.linalg.eig: input tensor should not contain infs or NaNs.\n"
     ]
    },
    {
     "name": "stderr",
     "output_type": "stream",
     "text": [
      " 99%|█████████▉| 1051/1064 [02:08<00:00, 15.52it/s]"
     ]
    },
    {
     "name": "stdout",
     "output_type": "stream",
     "text": [
      "torch.linalg.eig: input tensor should not contain infs or NaNs.\n"
     ]
    },
    {
     "name": "stderr",
     "output_type": "stream",
     "text": [
      " 99%|█████████▉| 1058/1064 [02:09<00:00, 15.71it/s]"
     ]
    },
    {
     "name": "stdout",
     "output_type": "stream",
     "text": [
      "torch.linalg.eig: input tensor should not contain infs or NaNs.\n"
     ]
    },
    {
     "name": "stderr",
     "output_type": "stream",
     "text": [
      "100%|██████████| 1064/1064 [02:09<00:00,  8.21it/s]"
     ]
    },
    {
     "name": "stdout",
     "output_type": "stream",
     "text": [
      "torch.linalg.eig: input tensor should not contain infs or NaNs.\n"
     ]
    },
    {
     "name": "stderr",
     "output_type": "stream",
     "text": [
      "\n"
     ]
    }
   ],
   "source": [
    "# linear_layer = \"layer_1/mlp.up_proj\"\n",
    "\n",
    "layers = glob.glob(f\"/data/lliu/huffman/models/meta-llama/Llama-2-*/original_weights/*/*.pt\")\n",
    "\n",
    "device = torch.device(\"cuda:6\")\n",
    "Cs_orig = []\n",
    "Cs_norm = []\n",
    "d=6\n",
    "with torch.no_grad():\n",
    "    for linear_layer in tqdm.tqdm(layers):\n",
    "        try:\n",
    "            weight = torch.load(linear_layer, map_location=device)[\"weight\"]\n",
    "            \n",
    "            C_orig = subvectorize_and_condition(weight,d)\n",
    "            # raise ValueError\n",
    "            _,weight_normalized = Normalizer.normalize_init(weight, [0,1], [False,False],norm_rescale=True, powers=2,\n",
    "                                                        p=2)\n",
    "            \n",
    "            C_norm = subvectorize_and_condition(weight_normalized,d)\n",
    "            \n",
    "            Cs_orig.append(C_orig)\n",
    "            Cs_norm.append(C_norm)\n",
    "        except Exception as e:\n",
    "            print(e)\n",
    "            continue"
   ]
  },
  {
   "cell_type": "code",
   "execution_count": 44,
   "metadata": {},
   "outputs": [
    {
     "data": {
      "text/plain": [
       "[<matplotlib.lines.Line2D at 0x78380f570910>]"
      ]
     },
     "execution_count": 44,
     "metadata": {},
     "output_type": "execute_result"
    },
    {
     "data": {
      "image/png": "[encoded data removed]",
      "text/plain": [
       "<Figure size 640x480 with 1 Axes>"
      ]
     },
     "metadata": {},
     "output_type": "display_data"
    }
   ],
   "source": [
    "import matplotlib.pyplot as plt\n",
    "\n",
    "plt.plot(Cs_norm,Cs_orig, 'o',alpha = 0.5)\n",
    "#set equal aspect ratio\n",
    "\n",
    "plot_range = [1, 1.1]\n",
    "plt.ylim(plot_range)\n",
    "plt.xlim(plot_range)\n",
    "\n",
    "#draw a 1:1 line\n",
    "plt.plot([0,max(Cs_orig)], [0,max(Cs_orig)], 'k--')"
   ]
  },
  {
   "cell_type": "code",
   "execution_count": 21,
   "metadata": {},
   "outputs": [
    {
     "data": {
      "text/plain": [
       "[21.65917205810547,\n",
       " 34.98318099975586,\n",
       " 330.45819091796875,\n",
       " 96.13386535644531,\n",
       " 34.54720687866211,\n",
       " 125.41545867919922,\n",
       " 11.744349479675293,\n",
       " 146.7382049560547,\n",
       " 36.88841247558594,\n",
       " 66.92771911621094,\n",
       " 42.30125427246094,\n",
       " 223.82974243164062,\n",
       " 68.85382080078125,\n",
       " 404.880859375,\n",
       " 273.0745544433594,\n",
       " 83.74523162841797,\n",
       " 443.5111999511719,\n",
       " 24.02142333984375,\n",
       " 41.62482452392578,\n",
       " 61.11040496826172,\n",
       " 1026.084716796875,\n",
       " 44.128170013427734,\n",
       " 80.7614517211914,\n",
       " 240.41563415527344,\n",
       " 11.175971984863281,\n",
       " 206.8996124267578,\n",
       " 25.788101196289062,\n",
       " 286.2560119628906,\n",
       " 15.053216934204102,\n",
       " 285.3208923339844,\n",
       " 28.68284797668457,\n",
       " 45.2976188659668,\n",
       " 200.17530822753906,\n",
       " 29.729496002197266,\n",
       " 124.35733795166016,\n",
       " 11.430561065673828,\n",
       " 83.33008575439453,\n",
       " 20.1378116607666,\n",
       " 30.47677993774414,\n",
       " 20.704666137695312,\n",
       " 298.2412109375,\n",
       " 19.044483184814453,\n",
       " 10.679890632629395,\n",
       " 119.38057708740234,\n",
       " 78.32709503173828,\n",
       " 1226.63427734375,\n",
       " 34.7823486328125,\n",
       " 173.1982879638672,\n",
       " 51.439125061035156,\n",
       " 13.603559494018555,\n",
       " 29.012832641601562,\n",
       " 24.4692440032959,\n",
       " 30.28096580505371,\n",
       " 26.52326202392578,\n",
       " 102.02555847167969,\n",
       " 20.979990005493164,\n",
       " 79.91429901123047,\n",
       " 49.757381439208984,\n",
       " 95.04196166992188,\n",
       " 51.69922637939453,\n",
       " 22.624820709228516,\n",
       " 14.900152206420898,\n",
       " 303.37237548828125,\n",
       " 25.554067611694336,\n",
       " 1828.479248046875,\n",
       " 51.91678237915039,\n",
       " 40.298213958740234,\n",
       " 15.334698677062988,\n",
       " 17.059431076049805,\n",
       " 88.35102844238281,\n",
       " 105.78890228271484,\n",
       " 27.29905891418457,\n",
       " 19.49927520751953,\n",
       " 75.84888458251953,\n",
       " 93.18116760253906,\n",
       " 20.902637481689453,\n",
       " 474.3824462890625,\n",
       " 223.73443603515625,\n",
       " 212.94378662109375,\n",
       " 73.51982116699219,\n",
       " 35.65327835083008,\n",
       " 92.31427764892578,\n",
       " 18.298025131225586,\n",
       " 52.74074935913086,\n",
       " 251.71206665039062,\n",
       " 32.787662506103516,\n",
       " 15.547355651855469,\n",
       " 23.801380157470703,\n",
       " 19.496212005615234,\n",
       " 14.803135871887207,\n",
       " 11.189590454101562,\n",
       " 44.795082092285156,\n",
       " 99.48616790771484,\n",
       " 123.56490325927734,\n",
       " 8.526803016662598,\n",
       " 100.02837371826172,\n",
       " 158.6918487548828,\n",
       " 28.79639434814453,\n",
       " 973.684326171875,\n",
       " 72.928955078125,\n",
       " 20.028139114379883,\n",
       " 34.984500885009766,\n",
       " 36.908782958984375,\n",
       " 17.606964111328125,\n",
       " 124.96196746826172,\n",
       " 19.70945167541504,\n",
       " 137.13888549804688,\n",
       " 18.593303680419922,\n",
       " 628.4713745117188,\n",
       " 49.39924621582031,\n",
       " 115.9654312133789,\n",
       " 110.50399780273438,\n",
       " 45.12327194213867,\n",
       " 930.8573608398438,\n",
       " 60.24064254760742,\n",
       " 251.56431579589844,\n",
       " 19.000314712524414,\n",
       " 47.31787872314453,\n",
       " 148.78208923339844,\n",
       " 42.491310119628906,\n",
       " 20.48971939086914,\n",
       " 86.05221557617188,\n",
       " 3315.41357421875,\n",
       " 44.49959945678711,\n",
       " 1048.763427734375,\n",
       " 38.15424728393555,\n",
       " 190.93736267089844,\n",
       " 262.3045349121094,\n",
       " 146.9481201171875,\n",
       " 58.49715805053711,\n",
       " 232.93499755859375,\n",
       " 113.18110656738281,\n",
       " 36.57637405395508,\n",
       " 192.56118774414062,\n",
       " 33.42269515991211,\n",
       " 61.98450469970703,\n",
       " 38.43933868408203,\n",
       " 61.7229118347168,\n",
       " 445.1611022949219,\n",
       " 514.0905151367188,\n",
       " 31.998226165771484,\n",
       " 63.157474517822266,\n",
       " 373.03594970703125,\n",
       " 87.17874145507812,\n",
       " 107.64957427978516,\n",
       " 37.07768630981445,\n",
       " 61.902462005615234,\n",
       " 30.636234283447266,\n",
       " 71.56206512451172,\n",
       " 43.499916076660156,\n",
       " 113.94004821777344,\n",
       " 19.79362678527832,\n",
       " 22.666353225708008,\n",
       " 523.302490234375,\n",
       " 41.45961380004883,\n",
       " 14.955677032470703,\n",
       " 83.72050476074219,\n",
       " 75.54064178466797,\n",
       " 121.46675872802734,\n",
       " 17.801706314086914,\n",
       " 26.96095848083496,\n",
       " 242.57943725585938,\n",
       " 37.19468688964844,\n",
       " 124.41040802001953,\n",
       " 77.93851470947266,\n",
       " 17.198205947875977,\n",
       " 67.37065124511719,\n",
       " 47.93107604980469,\n",
       " 47.879974365234375,\n",
       " 21.17609977722168,\n",
       " 60.99998474121094,\n",
       " 46.32781982421875,\n",
       " 72.23339080810547,\n",
       " 26.773788452148438,\n",
       " 47.90334701538086,\n",
       " 54.859432220458984,\n",
       " 38.18878173828125,\n",
       " 53.51266098022461,\n",
       " 2228.9345703125,\n",
       " 186.84564208984375,\n",
       " 95.5916976928711,\n",
       " 244.2032470703125,\n",
       " 56.53312683105469,\n",
       " 82.9798355102539,\n",
       " 45.164283752441406,\n",
       " 32.71759033203125,\n",
       " 90.3814697265625,\n",
       " 41.880794525146484,\n",
       " 167.08541870117188,\n",
       " 54.84601593017578,\n",
       " 24.012550354003906,\n",
       " 12.664961814880371,\n",
       " 27.781038284301758,\n",
       " 26.850671768188477,\n",
       " 110.66967010498047,\n",
       " 627.13671875,\n",
       " 23.70453453063965,\n",
       " 103.1706771850586,\n",
       " 49.48173522949219,\n",
       " 169.427978515625,\n",
       " 62.20022201538086,\n",
       " 7.591507434844971,\n",
       " 90.9810562133789,\n",
       " 39.31365203857422,\n",
       " 12.171390533447266,\n",
       " 15.223012924194336,\n",
       " 25.063146591186523,\n",
       " 129.53334045410156,\n",
       " 8.454876899719238,\n",
       " 91.80252075195312,\n",
       " 160.4812469482422,\n",
       " 67.1800765991211,\n",
       " 1706.4315185546875,\n",
       " 23.116043090820312,\n",
       " 31.391681671142578,\n",
       " 45.30501937866211,\n",
       " 36.596370697021484,\n",
       " 33.805145263671875,\n",
       " 221.4977569580078,\n",
       " 37.333099365234375,\n",
       " 53.38666915893555,\n",
       " 47.167972564697266,\n",
       " 170.10183715820312,\n",
       " 23.623455047607422]"
      ]
     },
     "execution_count": 21,
     "metadata": {},
     "output_type": "execute_result"
    }
   ],
   "source": [
    "Cs_orig"
   ]
  },
  {
   "cell_type": "code",
   "execution_count": null,
   "metadata": {},
   "outputs": [],
   "source": []
  },
  {
   "cell_type": "code",
   "execution_count": null,
   "metadata": {},
   "outputs": [],
   "source": []
  }
 ],
 "metadata": {
  "kernelspec": {
   "display_name": "NoWAC-VQ",
   "language": "python",
   "name": "python3"
  },
  "language_info": {
   "codemirror_mode": {
    "name": "ipython",
    "version": 3
   },
   "file_extension": ".py",
   "mimetype": "text/x-python",
   "name": "python",
   "nbconvert_exporter": "python",
   "pygments_lexer": "ipython3",
   "version": "3.13.2"
  }
 },
 "nbformat": 4,
 "nbformat_minor": 2
}
