{
 "cells": [
  {
   "cell_type": "code",
   "execution_count": 2,
   "metadata": {},
   "outputs": [],
   "source": [
    "import torch\n",
    "import torch.nn as nn\n",
    "import numpy as np \n",
    "import random\n",
    "\n",
    "\n",
    "import tqdm\n",
    "import matplotlib.pyplot as plt"
   ]
  },
  {
   "cell_type": "code",
   "execution_count": 3,
   "metadata": {},
   "outputs": [],
   "source": [
    "device = torch.device(\"cuda:5\")\n",
    "\n",
    "H = torch.load(\"test/original_weights.pt\")[\"H\"].to(device).float()\n",
    "weights = torch.load(\"test/original_weights.pt\")[\"weights\"].to(device).float()    "
   ]
  },
  {
   "cell_type": "code",
   "execution_count": 4,
   "metadata": {},
   "outputs": [],
   "source": [
    "import sklearn.cluster as cluster"
   ]
  },
  {
   "cell_type": "code",
   "execution_count": 5,
   "metadata": {},
   "outputs": [],
   "source": [
    "import torch.jit as jit\n",
    "\n",
    "@jit.script\n",
    "def cluster_e_step(X:torch.Tensor,centriods:torch.Tensor,\n",
    "                   weights:torch.Tensor,\n",
    "                     subblock_size:int = 1024):\n",
    "    \n",
    "    \"\"\"\n",
    "    X: torch tensor of the weights, rearanged into a shape of (n, d)\n",
    "    centriods: torch.tensor of the centriods, shape of (k, d)\n",
    "    weights: torch.tensor of shape (n,d)\n",
    "    \"\"\"\n",
    "\n",
    "    n = X.shape[0]\n",
    "    assignments = torch.zeros(n, dtype = torch.int64, device = X.device)\n",
    "    \n",
    "    for i in range(0, n, subblock_size):\n",
    "        X_block = X[i:i+subblock_size]\n",
    "        weights_block = weights[i:i+subblock_size]\n",
    "        errors = (X_block.unsqueeze(-1) - centriods.T.unsqueeze(0))**2\n",
    "        #shape of (n, d, k)\n",
    "\n",
    "        #multiply by the diagonal\n",
    "        errors = errors * weights_block.unsqueeze(-1)\n",
    "\n",
    "        #sum by the d\n",
    "        errors = errors.sum(1)\n",
    "        #shape of (n, k)\n",
    "        # print(errors[0,10,:])\n",
    "        assignments_block = errors.argmin(-1)\n",
    "        # print(assignments_block[0,10])\n",
    "        assignments[i:i+subblock_size] = assignments_block\n",
    "    # errors = (X.unsqueeze(-1) - centriods.T.unsqueeze(0))**2\n",
    "    # #shape of (n, d, k)\n",
    "\n",
    "    # #multiply by the diagonal\n",
    "    # errors = errors * weights.unsqueeze(-1)\n",
    "\n",
    "    # #sum by the d\n",
    "    # errors = errors.sum(1)\n",
    "    # # print(\"errors[0,10,:] = \", errors[0,10,:])\n",
    "    # #shape of (n, k)\n",
    "    # # print(errors[0,10,:])\n",
    "    # assignments = errors.argmin(-1)\n",
    "    # # print(\"assignments[0,10] = \", assignments[0,10])\n",
    "    # # print(\"=\"*10)\n",
    "    # #shape of (n)\n",
    "    return assignments\n",
    "\n",
    "@jit.script\n",
    "def cluster_m_step(X:torch.Tensor, assignments:torch.Tensor, k:int, weights:torch.Tensor):\n",
    "    \"\"\"\n",
    "    X: torch tensor of the weights, rearanged into a shape of (n, d)\n",
    "    assignments: torch.tensor of the assignments, shape of (n)\n",
    "    k: int, number of clusters\n",
    "    weights: torch.tensor of shape (n, d)\n",
    "    \"\"\"\n",
    "    n, d = weights.shape\n",
    "\n",
    "    #compute the new centriods\n",
    "    centriods = torch.zeros((k,d), dtype = weights.dtype, device = weights.device)\n",
    "    #shape of (k,d)\n",
    "    for i in range(k):\n",
    "        assignment_X = X[assignments == i] #shape of (n_i,d)\n",
    "        assignments_weights = weights[assignments == i] #shape of (n_i,d)\n",
    "\n",
    "        centriods[i] = torch.sum(assignments_weights * assignment_X, dim = 0) / torch.sum(assignments_weights, dim = 0)\n",
    "\n",
    "    return centriods\n",
    "\n",
    "# @jit.script\n",
    "def our_cluster(X:torch.Tensor, k:int, weights:torch.Tensor, n_iter:int = 100):\n",
    "    \"\"\"\n",
    "    weights: torch tensor of the weights, rearanged into a shape of (n, d)\n",
    "    k: int, number of clusters\n",
    "    weights: torch.tensor of shape (n, d)\n",
    "    n_iter: int, number of iterations\n",
    "    \"\"\"\n",
    "    n, d = weights.shape\n",
    "\n",
    "\n",
    "    n_1 = torch.from_numpy(np.random.choice(n, k, replace = False)).to(device)\n",
    "    centriods = X[n_1, :]\n",
    "    centriods[0,:] = 0\n",
    "        # print(centriods)\n",
    "    #shape of (k, d)\n",
    "    for i in range(n_iter):\n",
    "        # print(\"X.shape = \", X.shape, \"centriods.shape = \", centriods.shape, \"weights.shape = \", weights.shape)\n",
    "        assignments = cluster_e_step(X, centriods, weights)\n",
    "        # print(assignments)\n",
    "        # print(assignments.shape)\n",
    "        centriods = cluster_m_step(X, assignments, k, weights)\n",
    "        \n",
    "        centriods[torch.argmin(torch.norm(centriods, dim = 1))] = 0\n",
    "        if i > 0:\n",
    "            if torch.all(assignments == assignments_old):\n",
    "                # print(\"breaking at iteration\", i)\n",
    "                break\n",
    "            # print(\"n_change:\", torch.sum(assignments != assignments_old))\n",
    "        assignments_old = assignments.clone()\n",
    "    return assignments, centriods\n",
    "    \n",
    "\n"
   ]
  },
  {
   "cell_type": "code",
   "execution_count": 6,
   "metadata": {},
   "outputs": [
    {
     "data": {
      "text/plain": [
       "tensor([2.2361, 5.0000])"
      ]
     },
     "execution_count": 6,
     "metadata": {},
     "output_type": "execute_result"
    }
   ],
   "source": [
    "a = torch.tensor([[1,2],[3,4]]).float()\n",
    "\n",
    "torch.norm(a, dim = 1)"
   ]
  },
  {
   "cell_type": "code",
   "execution_count": 23,
   "metadata": {},
   "outputs": [
    {
     "name": "stdout",
     "output_type": "stream",
     "text": [
      "row_mask.sum() =  tensor(4067, device='cuda:5')\n",
      "column_mask.sum() =  tensor(4052, device='cuda:5')\n",
      "row_mask.sum() =  tensor(4064, device='cuda:5')\n",
      "column_mask.sum() =  tensor(4052, device='cuda:5')\n"
     ]
    }
   ],
   "source": [
    "torch.random.manual_seed(0)\n",
    "np.random.seed(0)\n",
    "torch.cuda.manual_seed(0)\n",
    "random.seed(0)\n",
    "def create_mask(data,percent_top):\n",
    "    \"\"\"\n",
    "    data: torch.tensor of shape (n)\n",
    "    percent_top: float, the percentage of the top values to keep\n",
    "    \"\"\"\n",
    "\n",
    "    threshold = torch.quantile(data, 1-percent_top/100)\n",
    "    return data < threshold\n",
    "\n",
    "\n",
    "d = 4\n",
    "percent_dense_rowise = 0.7\n",
    "percent_dense_columnwise = 1\n",
    "\n",
    "\n",
    "row_mask = create_mask(torch.norm(weights, dim = 1), percent_dense_rowise)\n",
    "column_mask = create_mask(torch.norm(weights, dim = 0), percent_dense_columnwise) & create_mask(torch.norm(H, dim = 0), percent_dense_columnwise)\n",
    "\n",
    "print(\"row_mask.sum() = \", row_mask.sum())\n",
    "print(\"column_mask.sum() = \", column_mask.sum())\n",
    "\n",
    "\n",
    "def mask_round(mask, d):\n",
    "\n",
    "    while mask.sum() % d != 0:\n",
    "        mask[torch.randint(0, mask.shape[0], (1,))] = False\n",
    "\n",
    "    return mask\n",
    "\n",
    "row_mask = mask_round(row_mask, d)\n",
    "column_mask = mask_round(column_mask, d)\n",
    "\n",
    "mask = row_mask.unsqueeze(1) & column_mask.unsqueeze(0)\n",
    "\n",
    "print(\"row_mask.sum() = \", row_mask.sum())\n",
    "print(\"column_mask.sum() = \", column_mask.sum())\n"
   ]
  },
  {
   "cell_type": "code",
   "execution_count": 24,
   "metadata": {},
   "outputs": [
    {
     "data": {
      "text/plain": [
       "<matplotlib.image.AxesImage at 0x7369b6c95b50>"
      ]
     },
     "execution_count": 24,
     "metadata": {},
     "output_type": "execute_result"
    },
    {
     "data": {
      "image/png": "[encoded data removed]",
      "text/plain": [
       "<Figure size 1500x500 with 3 Axes>"
      ]
     },
     "metadata": {},
     "output_type": "display_data"
    }
   ],
   "source": [
    "cmap = \"gray\"\n",
    "fig,axs = plt.subplots(1,3, figsize = (15,5))\n",
    "\n",
    "plt.sca(axs[0])\n",
    "plt.imshow(row_mask.unsqueeze(1).cpu().numpy(), cmap = cmap, aspect = \"auto\")\n",
    "plt.sca(axs[1])\n",
    "plt.imshow(column_mask.unsqueeze(0).cpu().numpy(), cmap = cmap, aspect = \"auto\")\n",
    "plt.sca(axs[2])\n",
    "plt.imshow(mask.cpu().numpy(), cmap = cmap, aspect = \"auto\")"
   ]
  },
  {
   "cell_type": "code",
   "execution_count": 25,
   "metadata": {},
   "outputs": [
    {
     "data": {
      "text/plain": [
       "tensor(4052, device='cuda:5')"
      ]
     },
     "execution_count": 25,
     "metadata": {},
     "output_type": "execute_result"
    }
   ],
   "source": [
    "torch.sum(column_mask)"
   ]
  },
  {
   "cell_type": "code",
   "execution_count": 26,
   "metadata": {},
   "outputs": [
    {
     "data": {
      "text/plain": [
       "tensor(4072.0393, device='cuda:5')"
      ]
     },
     "execution_count": 26,
     "metadata": {},
     "output_type": "execute_result"
    }
   ],
   "source": [
    "torch.sum(mask)/4044"
   ]
  },
  {
   "cell_type": "code",
   "execution_count": 27,
   "metadata": {},
   "outputs": [
    {
     "data": {
      "text/plain": [
       "torch.Size([4064, 4044])"
      ]
     },
     "execution_count": 27,
     "metadata": {},
     "output_type": "execute_result"
    }
   ],
   "source": [
    "weights_masked.shape"
   ]
  },
  {
   "cell_type": "code",
   "execution_count": 28,
   "metadata": {},
   "outputs": [
    {
     "name": "stdout",
     "output_type": "stream",
     "text": [
      "tensor(4064.0002, device='cuda:5')\n",
      "sparse bits: 0.2955322265625 encoding bits: 1.9630584716796875 overhead: tensor(3.9688, device='cuda:5')\n",
      "bits per value: tensor(6.2273, device='cuda:5')\n"
     ]
    },
    {
     "ename": "ValueError",
     "evalue": "",
     "output_type": "error",
     "traceback": [
      "\u001b[0;31m---------------------------------------------------------------------------\u001b[0m",
      "\u001b[0;31mValueError\u001b[0m                                Traceback (most recent call last)",
      "Cell \u001b[0;32mIn[28], line 33\u001b[0m\n\u001b[1;32m     28\u001b[0m \u001b[38;5;28mprint\u001b[39m(\u001b[38;5;124m\"\u001b[39m\u001b[38;5;124msparse bits:\u001b[39m\u001b[38;5;124m\"\u001b[39m, sparse_bits\u001b[38;5;241m/\u001b[39mweights\u001b[38;5;241m.\u001b[39mnumel(),\n\u001b[1;32m     29\u001b[0m         \u001b[38;5;124m\"\u001b[39m\u001b[38;5;124mencoding bits:\u001b[39m\u001b[38;5;124m\"\u001b[39m, encoding_bits\u001b[38;5;241m/\u001b[39mweights\u001b[38;5;241m.\u001b[39mnumel(),\n\u001b[1;32m     30\u001b[0m         \u001b[38;5;124m\"\u001b[39m\u001b[38;5;124moverhead:\u001b[39m\u001b[38;5;124m\"\u001b[39m, overhead\u001b[38;5;241m/\u001b[39mweights\u001b[38;5;241m.\u001b[39mnumel())\n\u001b[1;32m     32\u001b[0m \u001b[38;5;28mprint\u001b[39m(\u001b[38;5;124m\"\u001b[39m\u001b[38;5;124mbits per value:\u001b[39m\u001b[38;5;124m\"\u001b[39m, (sparse_bits \u001b[38;5;241m+\u001b[39m encoding_bits \u001b[38;5;241m+\u001b[39m overhead)\u001b[38;5;241m/\u001b[39m(weights\u001b[38;5;241m.\u001b[39mshape[\u001b[38;5;241m0\u001b[39m] \u001b[38;5;241m*\u001b[39m weights\u001b[38;5;241m.\u001b[39mshape[\u001b[38;5;241m1\u001b[39m]))\n\u001b[0;32m---> 33\u001b[0m \u001b[38;5;28;01mraise\u001b[39;00m \u001b[38;5;167;01mValueError\u001b[39;00m\n\u001b[1;32m     36\u001b[0m weights_masked \u001b[38;5;241m=\u001b[39m weights[row_mask,:][:,column_mask]\n\u001b[1;32m     37\u001b[0m \u001b[38;5;28mprint\u001b[39m(\u001b[38;5;124m\"\u001b[39m\u001b[38;5;124mweights_masked.shape = \u001b[39m\u001b[38;5;124m\"\u001b[39m, weights_masked\u001b[38;5;241m.\u001b[39mshape)\n",
      "\u001b[0;31mValueError\u001b[0m: "
     ]
    }
   ],
   "source": [
    "torch.random.manual_seed(0)\n",
    "np.random.seed(0)\n",
    "torch.cuda.manual_seed(0)\n",
    "random.seed(0)\n",
    "import tqdm\n",
    "import sklearn.cluster\n",
    "\n",
    "n_iters = 25\n",
    "\n",
    "grouping = torch.sum(column_mask) * 128\n",
    "d = 4\n",
    "k_coseine_codebook = 2**(4*2)\n",
    "keep_top = 0.01\n",
    "\n",
    "# print(\"average bits:\", (np.log2(k_magnitude_codebook) + np.log2(k_coseine_codebook))/d)\n",
    "\n",
    "def get_bytes(bits):\n",
    "    #return as MB\n",
    "    return bits/8/1024/1024\n",
    "\n",
    "print(torch.sum(mask).item()/grouping)\n",
    "\n",
    "overhead = k_coseine_codebook * 16 * d * torch.sum(mask).item()/grouping\n",
    "\n",
    "encoding_bits = (np.ceil(np.log2(k_coseine_codebook)))/d * torch.sum(mask).item()\n",
    "\n",
    "sparse_bits = 16 * torch.sum(~mask).item()\n",
    "print(\"sparse bits:\", sparse_bits/weights.numel(),\n",
    "        \"encoding bits:\", encoding_bits/weights.numel(),\n",
    "        \"overhead:\", overhead/weights.numel())\n",
    "\n",
    "print(\"bits per value:\", (sparse_bits + encoding_bits + overhead)/(weights.shape[0] * weights.shape[1]))\n",
    "raise ValueError\n",
    "\n",
    "\n",
    "weights_masked = weights[row_mask,:][:,column_mask]\n",
    "print(\"weights_masked.shape = \", weights_masked.shape)\n",
    "subvector_assignments = torch.arange(weights_masked.shape[1]).reshape((-1, d))\n",
    "# row_assignments = torch.randperm(weights.shape[1]).reshape(-1, d)\n",
    "\n",
    "# assert torch.isfinite(weights_masked).all()\n",
    "# assert torch.isfinite(H).all()\n",
    "\n",
    "weights_reshaped = weights_masked[:,subvector_assignments] \n",
    "print(\"weights_reshaped.shape = \", weights_reshaped.shape)\n",
    "#shape of (n, m/d, d)\n",
    "\n",
    "print(H[column_mask,column_mask].shape)\n",
    "H_diag = H[column_mask,column_mask][subvector_assignments]\n",
    "print(\"H_diag.shape = \", H_diag.shape)\n",
    "# H_diag = torch.ones_like(weights_reshaped)\n",
    "#shape of (n, m/d, d)\n",
    "\n",
    "# raise ValueError\n",
    "# print(torch.quantile(weights_norms, 1-keep_top), torch.max(weights_norms), torch.min(weights_norms))\n",
    "# print(torch.sum(mask)/(mask.shape[0]*mask.shape[1]), 1 - torch.sum(mask)/(mask.shape[0]*mask.shape[1]))\n",
    "# raise ValueError\n",
    "#mask of the top 1% of the weights\n",
    "\n",
    "\n",
    "print(\"weights_norms_masked.shape\", weights_reshaped.shape)\n",
    "\n",
    "\n",
    "mappings, codebooks = our_cluster(weights_reshaped.reshape(-1,d), k_coseine_codebook, H_diag.unsqueeze(0).expand(weights_reshaped.shape[0], -1, -1).reshape(-1,d), n_iter = n_iters)\n",
    "#mapping of shape (m/d*n)\n",
    "#codebooks of shape (k, d)\n",
    "\n",
    "weights_reconstructed = torch.empty_like(weights_masked)\n",
    "weights_reconstructed[:,subvector_assignments] = codebooks[mappings,:].reshape(weights_reconstructed.shape[0], -1, d)\n",
    "\n",
    "\n",
    "\n",
    "\n",
    "weights_quantized = torch.empty_like(weights)\n",
    "\n",
    "weights_quantized[mask] = weights_reconstructed.flatten()\n",
    "weights_quantized[~mask] = weights[~mask]\n",
    "\n",
    "\n",
    "diff = weights - weights_quantized\n",
    "\n",
    "average_error = torch.sum(torch.abs(diff)**1)/torch.sum(torch.abs(weights)**1)\n",
    "\n",
    "H_error = torch.einsum('ik,kl,il->', diff, H/H.shape[0], diff)\n",
    "\n",
    "free, total = torch.cuda.mem_get_info(device)\n",
    "print(f\"free = {free/1024/1024}, total = {total/1024/1024}\")\n",
    "\n",
    "print(f\"average error {average_error}, H error {H_error}\")"
   ]
  },
  {
   "cell_type": "code",
   "execution_count": 22,
   "metadata": {},
   "outputs": [
    {
     "data": {
      "text/plain": [
       "3.968"
      ]
     },
     "execution_count": 22,
     "metadata": {},
     "output_type": "execute_result"
    }
   ],
   "source": [
    "0.0310*128"
   ]
  },
  {
   "cell_type": "code",
   "execution_count": 9,
   "metadata": {},
   "outputs": [
    {
     "data": {
      "text/plain": [
       "tensor([[ 0.0000,  0.0000,  0.0000,  0.0000],\n",
       "        [-0.0320, -0.0396, -0.0030, -0.0167],\n",
       "        [ 0.0049, -0.0041,  0.0284,  0.0059],\n",
       "        ...,\n",
       "        [-0.0106, -0.0084,  0.0246, -0.0368],\n",
       "        [-0.0037,  0.0386,  0.0462, -0.0283],\n",
       "        [-0.1039,  0.0030, -0.0499, -0.0391]], device='cuda:5')"
      ]
     },
     "execution_count": 9,
     "metadata": {},
     "output_type": "execute_result"
    }
   ],
   "source": [
    "codebooks"
   ]
  },
  {
   "cell_type": "code",
   "execution_count": 10,
   "metadata": {},
   "outputs": [
    {
     "name": "stdout",
     "output_type": "stream",
     "text": [
      "free = 47265.0, total = 48676.75\n",
      "average error 0.18199363350868225, H error 0.4525001347064972\n",
      "unique_mappings.shape =  torch.Size([4096])\n",
      "entropy =  tensor(11.8933, device='cuda:5')\n"
     ]
    }
   ],
   "source": [
    "frac_to_bin_to_zero = 0.0\n",
    "\n",
    "codebook_norms = torch.norm(codebooks, dim = 1)\n",
    "sorted_indexs = torch.argsort(codebook_norms)\n",
    "zero_index = torch.argmin(codebook_norms)\n",
    "\n",
    "mappings_new = mappings.clone()\n",
    "\n",
    "frac_binned = 0\n",
    "i = 0\n",
    "while frac_binned < frac_to_bin_to_zero:\n",
    "    frac_binned += torch.sum(mappings_new == sorted_indexs[i])/mappings_new.shape[0]\n",
    "    mappings_new[mappings_new == sorted_indexs[i]] = zero_index\n",
    "    i += 1\n",
    "    \n",
    "weights_reconstructed = torch.empty_like(weights_masked)\n",
    "weights_reconstructed[:,subvector_assignments] = codebooks[mappings_new,:].reshape(weights_reconstructed.shape[0], -1, d)\n",
    "\n",
    "\n",
    "\n",
    "\n",
    "weights_quantized = torch.empty_like(weights)\n",
    "\n",
    "weights_quantized[mask] = weights_reconstructed.flatten()\n",
    "weights_quantized[~mask] = weights[~mask]\n",
    "\n",
    "\n",
    "diff = weights - weights_quantized\n",
    "\n",
    "average_error = torch.sum(torch.abs(diff)**1)/torch.sum(torch.abs(weights)**1)\n",
    "\n",
    "H_error = torch.einsum('ik,kl,il->', diff, H/H.shape[0], diff)\n",
    "\n",
    "free, total = torch.cuda.mem_get_info(device)\n",
    "print(f\"free = {free/1024/1024}, total = {total/1024/1024}\")\n",
    "\n",
    "print(f\"average error {average_error}, H error {H_error}\")\n",
    "    \n",
    "unique_mappings, counts = torch.unique(mappings_new, return_counts = True)\n",
    "print(\"unique_mappings.shape = \", unique_mappings.shape)\n",
    "entropy = -torch.sum(counts/torch.sum(counts) * torch.log2(counts/torch.sum(counts)))\n",
    "print(\"entropy = \", entropy)\n",
    "    \n",
    "\n"
   ]
  },
  {
   "cell_type": "code",
   "execution_count": 11,
   "metadata": {},
   "outputs": [],
   "source": [
    "class huff_node:\n",
    "    def __init__(self, value, count):\n",
    "        self.value = value\n",
    "        self.count = count\n",
    "        self.left = None\n",
    "        self.right = None\n",
    "        self.code = \"\"\n",
    "\n",
    "def huffman_code_recursive(nodes:list[huff_node]):\n",
    "    if len(nodes) == 1:\n",
    "        \n",
    "        return nodes[0]\n",
    "    nodes = sorted(nodes, key = lambda x: x.count)\n",
    "    new_node = huff_node(None, nodes[0].count + nodes[1].count)\n",
    "    new_node.left = nodes[0]\n",
    "    new_node.right = nodes[1]\n",
    "    return huffman_code_recursive([new_node] + nodes[2:])\n",
    "\n",
    "def huffman_code_generate(node:huff_node):\n",
    "    if node.left is not None:\n",
    "        node.left.code = node.code + \"0\"\n",
    "        huffman_code_generate(node.left)\n",
    "    if node.right is not None:\n",
    "        node.right.code = node.code + \"1\"\n",
    "        huffman_code_generate(node.right)\n",
    "\n",
    "def huffman_code(values,counts):\n",
    "    nodes = [huff_node(value, count) for value, count in zip(values,counts)]\n",
    "    root = huffman_code_recursive(nodes)\n",
    "    huffman_code_generate(root)\n",
    "    return {node.value: node.code for node in nodes}"
   ]
  },
  {
   "cell_type": "code",
   "execution_count": 14,
   "metadata": {},
   "outputs": [
    {
     "data": {
      "text/plain": [
       "torch.Size([4096])"
      ]
     },
     "execution_count": 14,
     "metadata": {},
     "output_type": "execute_result"
    }
   ],
   "source": [
    "unique_mappings.shape"
   ]
  },
  {
   "cell_type": "code",
   "execution_count": 12,
   "metadata": {},
   "outputs": [
    {
     "ename": "RecursionError",
     "evalue": "maximum recursion depth exceeded",
     "output_type": "error",
     "traceback": [
      "\u001b[0;31m---------------------------------------------------------------------------\u001b[0m",
      "\u001b[0;31mRecursionError\u001b[0m                            Traceback (most recent call last)",
      "Cell \u001b[0;32mIn[12], line 1\u001b[0m\n\u001b[0;32m----> 1\u001b[0m codes \u001b[38;5;241m=\u001b[39m huffman_code(unique_mappings\u001b[38;5;241m.\u001b[39mcpu()\u001b[38;5;241m.\u001b[39mnumpy(), counts\u001b[38;5;241m.\u001b[39mcpu()\u001b[38;5;241m.\u001b[39mnumpy())\n\u001b[1;32m      3\u001b[0m n_bits \u001b[38;5;241m=\u001b[39m torch\u001b[38;5;241m.\u001b[39mzeros(k_coseine_codebook, dtype \u001b[38;5;241m=\u001b[39m torch\u001b[38;5;241m.\u001b[39mint64)\u001b[38;5;241m.\u001b[39mto(device)\n\u001b[1;32m      5\u001b[0m \u001b[38;5;28;01mfor\u001b[39;00m index \u001b[38;5;129;01min\u001b[39;00m unique_mappings:\n",
      "Cell \u001b[0;32mIn[11], line 29\u001b[0m, in \u001b[0;36mhuffman_code\u001b[0;34m(values, counts)\u001b[0m\n\u001b[1;32m     27\u001b[0m \u001b[38;5;28;01mdef\u001b[39;00m \u001b[38;5;21mhuffman_code\u001b[39m(values,counts):\n\u001b[1;32m     28\u001b[0m     nodes \u001b[38;5;241m=\u001b[39m [huff_node(value, count) \u001b[38;5;28;01mfor\u001b[39;00m value, count \u001b[38;5;129;01min\u001b[39;00m \u001b[38;5;28mzip\u001b[39m(values,counts)]\n\u001b[0;32m---> 29\u001b[0m     root \u001b[38;5;241m=\u001b[39m huffman_code_recursive(nodes)\n\u001b[1;32m     30\u001b[0m     huffman_code_generate(root)\n\u001b[1;32m     31\u001b[0m     \u001b[38;5;28;01mreturn\u001b[39;00m {node\u001b[38;5;241m.\u001b[39mvalue: node\u001b[38;5;241m.\u001b[39mcode \u001b[38;5;28;01mfor\u001b[39;00m node \u001b[38;5;129;01min\u001b[39;00m nodes}\n",
      "Cell \u001b[0;32mIn[11], line 17\u001b[0m, in \u001b[0;36mhuffman_code_recursive\u001b[0;34m(nodes)\u001b[0m\n\u001b[1;32m     15\u001b[0m new_node\u001b[38;5;241m.\u001b[39mleft \u001b[38;5;241m=\u001b[39m nodes[\u001b[38;5;241m0\u001b[39m]\n\u001b[1;32m     16\u001b[0m new_node\u001b[38;5;241m.\u001b[39mright \u001b[38;5;241m=\u001b[39m nodes[\u001b[38;5;241m1\u001b[39m]\n\u001b[0;32m---> 17\u001b[0m \u001b[38;5;28;01mreturn\u001b[39;00m huffman_code_recursive([new_node] \u001b[38;5;241m+\u001b[39m nodes[\u001b[38;5;241m2\u001b[39m:])\n",
      "Cell \u001b[0;32mIn[11], line 17\u001b[0m, in \u001b[0;36mhuffman_code_recursive\u001b[0;34m(nodes)\u001b[0m\n\u001b[1;32m     15\u001b[0m new_node\u001b[38;5;241m.\u001b[39mleft \u001b[38;5;241m=\u001b[39m nodes[\u001b[38;5;241m0\u001b[39m]\n\u001b[1;32m     16\u001b[0m new_node\u001b[38;5;241m.\u001b[39mright \u001b[38;5;241m=\u001b[39m nodes[\u001b[38;5;241m1\u001b[39m]\n\u001b[0;32m---> 17\u001b[0m \u001b[38;5;28;01mreturn\u001b[39;00m huffman_code_recursive([new_node] \u001b[38;5;241m+\u001b[39m nodes[\u001b[38;5;241m2\u001b[39m:])\n",
      "    \u001b[0;31m[... skipping similar frames: huffman_code_recursive at line 17 (2968 times)]\u001b[0m\n",
      "Cell \u001b[0;32mIn[11], line 17\u001b[0m, in \u001b[0;36mhuffman_code_recursive\u001b[0;34m(nodes)\u001b[0m\n\u001b[1;32m     15\u001b[0m new_node\u001b[38;5;241m.\u001b[39mleft \u001b[38;5;241m=\u001b[39m nodes[\u001b[38;5;241m0\u001b[39m]\n\u001b[1;32m     16\u001b[0m new_node\u001b[38;5;241m.\u001b[39mright \u001b[38;5;241m=\u001b[39m nodes[\u001b[38;5;241m1\u001b[39m]\n\u001b[0;32m---> 17\u001b[0m \u001b[38;5;28;01mreturn\u001b[39;00m huffman_code_recursive([new_node] \u001b[38;5;241m+\u001b[39m nodes[\u001b[38;5;241m2\u001b[39m:])\n",
      "Cell \u001b[0;32mIn[11], line 13\u001b[0m, in \u001b[0;36mhuffman_code_recursive\u001b[0;34m(nodes)\u001b[0m\n\u001b[1;32m     10\u001b[0m \u001b[38;5;28;01mif\u001b[39;00m \u001b[38;5;28mlen\u001b[39m(nodes) \u001b[38;5;241m==\u001b[39m \u001b[38;5;241m1\u001b[39m:\n\u001b[1;32m     12\u001b[0m     \u001b[38;5;28;01mreturn\u001b[39;00m nodes[\u001b[38;5;241m0\u001b[39m]\n\u001b[0;32m---> 13\u001b[0m nodes \u001b[38;5;241m=\u001b[39m \u001b[38;5;28msorted\u001b[39m(nodes, key \u001b[38;5;241m=\u001b[39m \u001b[38;5;28;01mlambda\u001b[39;00m x: x\u001b[38;5;241m.\u001b[39mcount)\n\u001b[1;32m     14\u001b[0m new_node \u001b[38;5;241m=\u001b[39m huff_node(\u001b[38;5;28;01mNone\u001b[39;00m, nodes[\u001b[38;5;241m0\u001b[39m]\u001b[38;5;241m.\u001b[39mcount \u001b[38;5;241m+\u001b[39m nodes[\u001b[38;5;241m1\u001b[39m]\u001b[38;5;241m.\u001b[39mcount)\n\u001b[1;32m     15\u001b[0m new_node\u001b[38;5;241m.\u001b[39mleft \u001b[38;5;241m=\u001b[39m nodes[\u001b[38;5;241m0\u001b[39m]\n",
      "\u001b[0;31mRecursionError\u001b[0m: maximum recursion depth exceeded"
     ]
    }
   ],
   "source": [
    "codes = huffman_code(unique_mappings.cpu().numpy(), counts.cpu().numpy())\n",
    "\n",
    "n_bits = torch.zeros(k_coseine_codebook, dtype = torch.int64).to(device)\n",
    "\n",
    "for index in unique_mappings:\n",
    "    n_bits[index] += len(codes[index.item()])\n",
    "\n",
    "print(\"n_bits.shape = \", n_bits.shape)\n",
    "d_big = 32\n",
    "n_bits_per_value = n_bits[mappings_new].reshape(-1,d_big).sum(1)\n",
    "target_n_bits = 2 * d_big * d\n",
    "print(\"frac_violations\", torch.sum(n_bits_per_value > target_n_bits)/n_bits_per_value.shape[0])"
   ]
  },
  {
   "cell_type": "code",
   "execution_count": 69,
   "metadata": {},
   "outputs": [
    {
     "data": {
      "text/plain": [
       "tensor([14, 12, 14, 14, 14, 13, 14, 14, 14, 14, 12, 14, 14, 14, 16, 13, 15, 13,\n",
       "        15, 13, 13, 14, 13, 15, 14, 13, 12, 14, 14, 13, 14, 14],\n",
       "       device='cuda:5')"
      ]
     },
     "execution_count": 69,
     "metadata": {},
     "output_type": "execute_result"
    }
   ],
   "source": [
    "n_bits[mappings_new].reshape(-1,d_big)[torch.argmax(n_bits_per_value)]"
   ]
  },
  {
   "cell_type": "code",
   "execution_count": 70,
   "metadata": {},
   "outputs": [
    {
     "data": {
      "text/plain": [
       "torch.Size([0, 4])"
      ]
     },
     "execution_count": 70,
     "metadata": {},
     "output_type": "execute_result"
    }
   ],
   "source": [
    "codebooks[n_bits == 8].shape"
   ]
  },
  {
   "cell_type": "code",
   "execution_count": 71,
   "metadata": {},
   "outputs": [
    {
     "data": {
      "text/plain": [
       "tensor(17, device='cuda:5')"
      ]
     },
     "execution_count": 71,
     "metadata": {},
     "output_type": "execute_result"
    }
   ],
   "source": [
    "torch.max(n_bits)"
   ]
  },
  {
   "cell_type": "code",
   "execution_count": 72,
   "metadata": {},
   "outputs": [
    {
     "data": {
      "text/plain": [
       "<matplotlib.lines.Line2D at 0x7bdc0fbd9c90>"
      ]
     },
     "execution_count": 72,
     "metadata": {},
     "output_type": "execute_result"
    },
    {
     "data": {
      "image/png": "[encoded data removed]",
      "text/plain": [
       "<Figure size 640x480 with 1 Axes>"
      ]
     },
     "metadata": {},
     "output_type": "display_data"
    }
   ],
   "source": [
    "plt.plot(np.sort(n_bits_per_value.cpu().numpy()))    \n",
    "plt.axhline(target_n_bits, color = \"red\")"
   ]
  },
  {
   "cell_type": "code",
   "execution_count": null,
   "metadata": {},
   "outputs": [],
   "source": []
  },
  {
   "cell_type": "code",
   "execution_count": null,
   "metadata": {},
   "outputs": [],
   "source": []
  },
  {
   "cell_type": "code",
   "execution_count": null,
   "metadata": {},
   "outputs": [],
   "source": []
  },
  {
   "cell_type": "code",
   "execution_count": null,
   "metadata": {},
   "outputs": [],
   "source": []
  },
  {
   "cell_type": "code",
   "execution_count": null,
   "metadata": {},
   "outputs": [],
   "source": []
  },
  {
   "cell_type": "code",
   "execution_count": null,
   "metadata": {},
   "outputs": [],
   "source": []
  },
  {
   "cell_type": "code",
   "execution_count": null,
   "metadata": {},
   "outputs": [],
   "source": []
  },
  {
   "cell_type": "code",
   "execution_count": null,
   "metadata": {},
   "outputs": [],
   "source": []
  },
  {
   "cell_type": "code",
   "execution_count": null,
   "metadata": {},
   "outputs": [],
   "source": []
  },
  {
   "cell_type": "code",
   "execution_count": null,
   "metadata": {},
   "outputs": [],
   "source": []
  },
  {
   "cell_type": "code",
   "execution_count": null,
   "metadata": {},
   "outputs": [],
   "source": []
  },
  {
   "cell_type": "code",
   "execution_count": null,
   "metadata": {},
   "outputs": [],
   "source": []
  },
  {
   "cell_type": "code",
   "execution_count": 67,
   "metadata": {},
   "outputs": [
    {
     "data": {
      "text/plain": [
       "128397.0"
      ]
     },
     "execution_count": 67,
     "metadata": {},
     "output_type": "execute_result"
    }
   ],
   "source": [
    "mappings_new.shape[0]/(32)"
   ]
  },
  {
   "cell_type": "code",
   "execution_count": 20,
   "metadata": {},
   "outputs": [
    {
     "data": {
      "text/plain": [
       "112.0"
      ]
     },
     "execution_count": 20,
     "metadata": {},
     "output_type": "execute_result"
    }
   ],
   "source": [
    "target_n_bits"
   ]
  },
  {
   "cell_type": "code",
   "execution_count": 17,
   "metadata": {},
   "outputs": [
    {
     "name": "stdout",
     "output_type": "stream",
     "text": [
      "entropy: tensor(7.5073, device='cuda:5')\n"
     ]
    },
    {
     "data": {
      "image/png": "[encoded data removed]",
      "text/plain": [
       "<Figure size 640x480 with 1 Axes>"
      ]
     },
     "metadata": {},
     "output_type": "display_data"
    }
   ],
   "source": [
    "unique_mappings, counts = torch.unique(mappings, return_counts = True)\n",
    "\n",
    "plt.plot(counts.cpu().numpy())\n",
    "entropy = -torch.sum((counts/counts.sum())*torch.log2(counts/counts.sum()))\n",
    "print(\"entropy:\", entropy)"
   ]
  },
  {
   "cell_type": "code",
   "execution_count": 35,
   "metadata": {},
   "outputs": [
    {
     "data": {
      "text/plain": [
       "(array([2.072253e+06, 0.000000e+00, 0.000000e+00, 0.000000e+00,\n",
       "        0.000000e+00, 0.000000e+00, 0.000000e+00, 0.000000e+00,\n",
       "        0.000000e+00, 0.000000e+00, 1.473610e+05, 1.787250e+05,\n",
       "        2.047590e+05, 1.485940e+05, 1.518200e+05, 1.210450e+05,\n",
       "        6.986200e+04, 1.627030e+05, 7.561100e+04, 5.757500e+04,\n",
       "        1.202450e+05, 8.202500e+04, 9.438600e+04, 3.497200e+04,\n",
       "        5.468500e+04, 3.663700e+04, 2.930500e+04, 2.656100e+04,\n",
       "        1.292800e+04, 1.174100e+04, 2.828100e+04, 2.072900e+04,\n",
       "        2.393700e+04, 3.685300e+04, 8.633000e+03, 2.026800e+04,\n",
       "        0.000000e+00, 7.576000e+03, 1.656400e+04, 1.205600e+04,\n",
       "        1.222800e+04, 8.054000e+03, 2.400000e+03, 4.649000e+03,\n",
       "        9.250000e+03, 0.000000e+00, 4.428000e+03, 0.000000e+00,\n",
       "        0.000000e+00, 0.000000e+00, 0.000000e+00, 1.645000e+03,\n",
       "        0.000000e+00, 0.000000e+00, 0.000000e+00, 0.000000e+00,\n",
       "        0.000000e+00, 0.000000e+00, 8.310000e+02, 6.660000e+02,\n",
       "        0.000000e+00, 8.050000e+02, 6.170000e+02, 0.000000e+00,\n",
       "        0.000000e+00, 1.139000e+03, 0.000000e+00, 0.000000e+00,\n",
       "        0.000000e+00, 0.000000e+00, 0.000000e+00, 6.500000e+02,\n",
       "        0.000000e+00, 6.330000e+02, 0.000000e+00, 0.000000e+00,\n",
       "        0.000000e+00, 0.000000e+00, 0.000000e+00, 0.000000e+00,\n",
       "        0.000000e+00, 0.000000e+00, 0.000000e+00, 0.000000e+00,\n",
       "        0.000000e+00, 0.000000e+00, 0.000000e+00, 0.000000e+00,\n",
       "        0.000000e+00, 0.000000e+00, 1.050000e+02, 0.000000e+00,\n",
       "        0.000000e+00, 0.000000e+00, 0.000000e+00, 0.000000e+00,\n",
       "        0.000000e+00, 0.000000e+00, 0.000000e+00, 2.600000e+01]),\n",
       " array([0.        , 0.00360657, 0.00721314, 0.01081971, 0.01442628,\n",
       "        0.01803285, 0.02163942, 0.02524599, 0.02885256, 0.03245913,\n",
       "        0.03606571, 0.03967227, 0.04327884, 0.04688542, 0.05049198,\n",
       "        0.05409855, 0.05770513, 0.0613117 , 0.06491826, 0.06852484,\n",
       "        0.07213141, 0.07573798, 0.07934455, 0.08295112, 0.08655769,\n",
       "        0.09016426, 0.09377083, 0.0973774 , 0.10098397, 0.10459054,\n",
       "        0.10819711, 0.11180368, 0.11541025, 0.11901682, 0.12262339,\n",
       "        0.12622996, 0.12983653, 0.1334431 , 0.13704967, 0.14065625,\n",
       "        0.14426282, 0.14786938, 0.15147595, 0.15508252, 0.1586891 ,\n",
       "        0.16229567, 0.16590224, 0.1695088 , 0.17311537, 0.17672195,\n",
       "        0.18032852, 0.18393509, 0.18754166, 0.19114824, 0.19475479,\n",
       "        0.19836137, 0.20196794, 0.20557451, 0.20918109, 0.21278766,\n",
       "        0.21639422, 0.22000079, 0.22360736, 0.22721393, 0.23082051,\n",
       "        0.23442708, 0.23803364, 0.24164021, 0.24524678, 0.24885336,\n",
       "        0.25245991, 0.2560665 , 0.25967306, 0.26327965, 0.2668862 ,\n",
       "        0.27049279, 0.27409935, 0.27770591, 0.2813125 , 0.28491905,\n",
       "        0.28852564, 0.2921322 , 0.29573876, 0.29934534, 0.3029519 ,\n",
       "        0.30655849, 0.31016505, 0.31377164, 0.31737819, 0.32098475,\n",
       "        0.32459134, 0.3281979 , 0.33180448, 0.33541104, 0.3390176 ,\n",
       "        0.34262419, 0.34623075, 0.34983733, 0.35344389, 0.35705048,\n",
       "        0.36065704]),\n",
       " <BarContainer object of 100 artists>)"
      ]
     },
     "execution_count": 35,
     "metadata": {},
     "output_type": "execute_result"
    },
    {
     "data": {
      "image/png": "[encoded data removed]",
      "text/plain": [
       "<Figure size 640x480 with 1 Axes>"
      ]
     },
     "metadata": {},
     "output_type": "display_data"
    }
   ],
   "source": [
    "plt.hist(torch.norm(codebooks, dim = 1)[mappings_new].cpu().numpy(), bins = 100)    "
   ]
  }
 ],
 "metadata": {
  "kernelspec": {
   "display_name": "base",
   "language": "python",
   "name": "python3"
  },
  "language_info": {
   "codemirror_mode": {
    "name": "ipython",
    "version": 3
   },
   "file_extension": ".py",
   "mimetype": "text/x-python",
   "name": "python",
   "nbconvert_exporter": "python",
   "pygments_lexer": "ipython3",
   "version": "3.11.5"
  }
 },
 "nbformat": 4,
 "nbformat_minor": 2
}
