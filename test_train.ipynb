{
 "cells": [
  {
   "cell_type": "code",
   "execution_count": 1,
   "metadata": {},
   "outputs": [],
   "source": [
    "%load_ext autoreload\n",
    "%autoreload 2\n",
    "\n",
    "import torch\n",
    "import transformers\n",
    "import yaml\n",
    "from src.utils import model_utils\n",
    "from src.utils import quantized_model\n",
    "from src.model import llama\n",
    "from transformers import LlamaForCausalLM as OrigLlama\n",
    "import os\n",
    "from src import data\n",
    "import tqdm \n",
    "import torch"
   ]
  },
  {
   "cell_type": "code",
   "execution_count": 2,
   "metadata": {},
   "outputs": [],
   "source": [
    "# !export CUDA_VISIBLE_DEVICES=0,1\n",
    "# !export CUDA_LAUNCH_BLOCKING=1\n",
    "os.environ[\"CUDA_VISIBLE_DEVICES\"] = \"0,1\"\n",
    "os.environ[\"CUDA_LAUNCH_BLOCKING\"] = \"1\"\n",
    "# torch.distributed.init_process_group(backend='nccl')"
   ]
  },
  {
   "cell_type": "code",
   "execution_count": null,
   "metadata": {},
   "outputs": [],
   "source": [
    "#config\n",
    "ft_n_train = 128\n",
    "ft_n_val = 32\n",
    "ft_dataset = \"pajama\"\n",
    "base_model = \"meta-llama/Llama-2-7b-hf\"\n",
    "seqlen = 4096\n",
    "batch_size = 1\n",
    "per_device_train_batch_size = 2\n",
    "use_embedding = False\n",
    "cache_logits_path = f\"temp/cache_logits_{ft_n_train}_{ft_n_val}.pt\""
   ]
  },
  {
   "cell_type": "code",
   "execution_count": 4,
   "metadata": {},
   "outputs": [
    {
     "data": {
      "application/vnd.jupyter.widget-view+json": {
       "model_id": "3d664cc4ef26439c87ec8c6438d7fa81",
       "version_major": 2,
       "version_minor": 0
      },
      "text/plain": [
       "Loading checkpoint shards:   0%|          | 0/2 [00:00<?, ?it/s]"
      ]
     },
     "metadata": {},
     "output_type": "display_data"
    }
   ],
   "source": [
    "orig_model = OrigLlama.from_pretrained(base_model,\n",
    "                                       device_map=\"auto\", torch_dtype=torch.float32)\n",
    "\n"
   ]
  },
  {
   "cell_type": "code",
   "execution_count": 5,
   "metadata": {},
   "outputs": [
    {
     "name": "stderr",
     "output_type": "stream",
     "text": [
      "Loading Red Pajama: 100%|██████████| 24/24 [00:01<00:00, 12.82it/s]\n"
     ]
    }
   ],
   "source": [
    "overall_data:list[torch.FloatTensor] = data.get_loaders(ft_dataset, nsamples = ft_n_train+ft_n_val\n",
    "                                  , model = base_model, train_test = \"train\",\n",
    "                                  seqlen=seqlen)\n",
    "\n",
    "overall_data = torch.stack([_[0][0] for _ in overall_data])"
   ]
  },
  {
   "cell_type": "code",
   "execution_count": null,
   "metadata": {},
   "outputs": [],
   "source": [
    "@torch.no_grad()\n",
    "def calculate_logits(model: llama.LlamaForCausalLM, devset, batch_size):\n",
    "    logits = []\n",
    "    for i in tqdm.tqdm(range(len(devset) // batch_size), desc = \"Calculating logits\"):\n",
    "        logits.append(\n",
    "            model(devset[i * batch_size:(i + 1) *\n",
    "                         batch_size].cuda())['logits'].cpu())\n",
    "    logits = torch.concat(logits, dim=0)\n",
    "    return logits"
   ]
  },
  {
   "cell_type": "code",
   "execution_count": 7,
   "metadata": {},
   "outputs": [],
   "source": [
    "if os.path.exists(cache_logits_path):\n",
    "    overall_out = torch.load(cache_logits_path)\n",
    "else:\n",
    "    overall_out = calculate_logits(orig_model,overall_data, batch_size)\n",
    "    torch.save(overall_out, cache_logits_path)"
   ]
  },
  {
   "cell_type": "code",
   "execution_count": 13,
   "metadata": {},
   "outputs": [
    {
     "data": {
      "text/plain": [
       "torch.Size([288, 4095, 32000])"
      ]
     },
     "execution_count": 13,
     "metadata": {},
     "output_type": "execute_result"
    }
   ],
   "source": [
    "overall_out.shape"
   ]
  },
  {
   "cell_type": "code",
   "execution_count": 9,
   "metadata": {},
   "outputs": [],
   "source": [
    "overall_out = overall_out[:, :-1].contiguous().softmax(dim=-1).float()"
   ]
  },
  {
   "cell_type": "code",
   "execution_count": 10,
   "metadata": {},
   "outputs": [
    {
     "data": {
      "text/plain": [
       "tensor([[[2.9361e-09, 1.5627e-09, 1.2552e-05,  ..., 6.4221e-08,\n",
       "          1.7284e-08, 3.9558e-08],\n",
       "         [2.8027e-10, 2.6807e-10, 3.8141e-05,  ..., 8.4279e-08,\n",
       "          3.0857e-09, 3.9223e-08],\n",
       "         [1.1124e-10, 1.8740e-10, 3.0101e-05,  ..., 2.3399e-08,\n",
       "          3.0280e-10, 5.1523e-09],\n",
       "         ...,\n",
       "         [3.9986e-11, 6.1179e-11, 1.3312e-03,  ..., 3.3386e-09,\n",
       "          4.4961e-10, 2.0344e-09],\n",
       "         [2.4797e-12, 2.1652e-12, 1.0475e-07,  ..., 2.1769e-12,\n",
       "          1.2719e-11, 3.1388e-12],\n",
       "         [2.2948e-11, 4.9620e-12, 2.5483e-06,  ..., 6.4511e-10,\n",
       "          5.8581e-09, 6.8206e-10]],\n",
       "\n",
       "        [[1.0061e-09, 1.4295e-10, 1.3197e-05,  ..., 2.6846e-08,\n",
       "          1.9731e-09, 5.9343e-09],\n",
       "         [1.4114e-10, 5.5605e-10, 1.3946e-05,  ..., 3.2076e-09,\n",
       "          7.9734e-10, 3.6518e-09],\n",
       "         [5.6694e-11, 3.2917e-10, 4.2352e-05,  ..., 8.4615e-10,\n",
       "          1.2762e-09, 8.3645e-10],\n",
       "         ...,\n",
       "         [1.7560e-12, 5.1188e-13, 1.7436e-06,  ..., 2.9868e-10,\n",
       "          6.4651e-12, 1.6294e-09],\n",
       "         [1.5394e-11, 1.2506e-11, 2.0719e-05,  ..., 1.9409e-09,\n",
       "          4.3171e-11, 6.0756e-10],\n",
       "         [4.9356e-12, 4.0654e-12, 3.9270e-06,  ..., 1.5878e-09,\n",
       "          3.9700e-11, 7.8413e-10]],\n",
       "\n",
       "        [[3.4514e-09, 1.2845e-07, 2.4277e-05,  ..., 1.1197e-07,\n",
       "          1.9841e-08, 1.9832e-08],\n",
       "         [1.9149e-09, 1.0664e-09, 5.2908e-05,  ..., 7.3990e-08,\n",
       "          1.1163e-07, 7.0215e-08],\n",
       "         [9.8420e-10, 2.0901e-09, 1.6187e-03,  ..., 7.6338e-08,\n",
       "          7.6445e-08, 7.8697e-08],\n",
       "         ...,\n",
       "         [1.3057e-11, 4.8781e-11, 7.8209e-07,  ..., 5.6055e-10,\n",
       "          2.9631e-10, 4.1705e-10],\n",
       "         [1.3073e-11, 8.2143e-12, 2.9242e-06,  ..., 2.0107e-09,\n",
       "          7.7379e-10, 1.7227e-09],\n",
       "         [1.0042e-11, 1.0749e-10, 1.4668e-06,  ..., 6.7886e-10,\n",
       "          2.0688e-09, 9.0095e-10]],\n",
       "\n",
       "        ...,\n",
       "\n",
       "        [[2.6818e-09, 5.4254e-08, 3.4408e-04,  ..., 1.6382e-07,\n",
       "          2.6287e-08, 4.5454e-08],\n",
       "         [7.6198e-11, 1.0368e-10, 7.8038e-05,  ..., 1.3771e-09,\n",
       "          3.8928e-09, 2.5488e-10],\n",
       "         [2.3602e-10, 3.7171e-10, 3.2356e-05,  ..., 1.6044e-08,\n",
       "          8.1720e-09, 5.1363e-09],\n",
       "         ...,\n",
       "         [4.4093e-13, 1.4808e-13, 4.6431e-08,  ..., 8.8850e-13,\n",
       "          7.6243e-13, 2.2331e-11],\n",
       "         [8.8868e-11, 7.1702e-11, 9.3243e-08,  ..., 4.3233e-09,\n",
       "          2.9304e-09, 9.7722e-10],\n",
       "         [2.8188e-11, 5.1567e-13, 1.0142e-07,  ..., 3.1317e-09,\n",
       "          4.1440e-09, 1.4727e-09]],\n",
       "\n",
       "        [[1.0191e-09, 1.3889e-08, 7.1724e-05,  ..., 1.3306e-09,\n",
       "          1.7197e-09, 2.5387e-09],\n",
       "         [7.4822e-11, 5.8701e-10, 1.0516e-02,  ..., 5.0411e-08,\n",
       "          1.9685e-08, 2.2339e-08],\n",
       "         [6.2525e-11, 2.2683e-08, 1.5880e-05,  ..., 1.6512e-09,\n",
       "          3.0659e-10, 7.4518e-10],\n",
       "         ...,\n",
       "         [5.4703e-11, 2.2865e-13, 1.0659e-07,  ..., 1.4269e-10,\n",
       "          3.8141e-11, 9.0988e-09],\n",
       "         [7.5087e-11, 8.2633e-14, 8.3542e-08,  ..., 1.8128e-09,\n",
       "          3.0434e-09, 7.8381e-08],\n",
       "         [5.9397e-11, 3.0203e-13, 7.6897e-08,  ..., 7.1319e-10,\n",
       "          5.7225e-10, 6.2841e-08]],\n",
       "\n",
       "        [[1.6323e-09, 6.3918e-08, 5.5983e-05,  ..., 7.2284e-06,\n",
       "          1.4606e-06, 2.4574e-06],\n",
       "         [1.0558e-10, 2.7220e-09, 7.7160e-05,  ..., 6.0252e-09,\n",
       "          2.2302e-09, 5.4126e-09],\n",
       "         [8.4804e-11, 2.1492e-08, 2.6891e-03,  ..., 4.1523e-08,\n",
       "          3.7933e-09, 7.4362e-09],\n",
       "         ...,\n",
       "         [9.7722e-11, 5.1764e-12, 2.9784e-07,  ..., 1.1782e-09,\n",
       "          2.2014e-09, 1.1725e-09],\n",
       "         [7.5686e-11, 3.1478e-12, 1.8394e-07,  ..., 2.2380e-09,\n",
       "          9.1062e-09, 9.6286e-08],\n",
       "         [8.2360e-11, 1.8798e-12, 1.4700e-07,  ..., 1.1134e-09,\n",
       "          7.5420e-11, 1.2799e-09]]])"
      ]
     },
     "execution_count": 10,
     "metadata": {},
     "output_type": "execute_result"
    }
   ],
   "source": [
    "overall_out"
   ]
  },
  {
   "cell_type": "code",
   "execution_count": 11,
   "metadata": {},
   "outputs": [],
   "source": [
    "\n",
    "del orig_model"
   ]
  },
  {
   "cell_type": "code",
   "execution_count": 12,
   "metadata": {},
   "outputs": [],
   "source": [
    "from src.utils import utils\n",
    "\n",
    "\n",
    "\n",
    "utils.clean()"
   ]
  },
  {
   "cell_type": "code",
   "execution_count": null,
   "metadata": {},
   "outputs": [],
   "source": []
  },
  {
   "cell_type": "code",
   "execution_count": 14,
   "metadata": {},
   "outputs": [
    {
     "data": {
      "application/vnd.jupyter.widget-view+json": {
       "model_id": "359c11d3fe9c41efa0ab51e78e9d8eea",
       "version_major": 2,
       "version_minor": 0
      },
      "text/plain": [
       "Loading checkpoint shards:   0%|          | 0/2 [00:00<?, ?it/s]"
      ]
     },
     "metadata": {},
     "output_type": "display_data"
    }
   ],
   "source": [
    "model = llama.LlamaForCausalLM.from_pretrained(\"/data/lliu/huffman/models/meta-llama/Llama-2-7b-hf/compressed_hf/run_38\",\n",
    "                                               device_map=\"auto\",\n",
    "                                                  torch_dtype=torch.float32,\n",
    "                                                    low_cpu_mem_usage=True)\n",
    "\n",
    "# model = model_utils.get_llama(\"meta-llama/Llama-2-7b-hf\",\n",
    "#                                device_map=\"auto\",\n",
    "#                                 dtype=torch.float32)\n",
    "                          \n",
    "    "
   ]
  },
  {
   "cell_type": "code",
   "execution_count": 22,
   "metadata": {},
   "outputs": [],
   "source": [
    "with torch.no_grad():\n",
    "    non_trained_outs = model(overall_data[[5]].cuda())"
   ]
  },
  {
   "cell_type": "code",
   "execution_count": 19,
   "metadata": {},
   "outputs": [
    {
     "data": {
      "text/plain": [
       "torch.Size([1, 4095, 32000])"
      ]
     },
     "execution_count": 19,
     "metadata": {},
     "output_type": "execute_result"
    }
   ],
   "source": [
    "overall_out[[0]].shape"
   ]
  },
  {
   "cell_type": "code",
   "execution_count": 21,
   "metadata": {},
   "outputs": [
    {
     "data": {
      "text/plain": [
       "torch.Size([1, 4096, 32000])"
      ]
     },
     "execution_count": 21,
     "metadata": {},
     "output_type": "execute_result"
    }
   ],
   "source": [
    "non_trained_outs.logits.shape"
   ]
  },
  {
   "cell_type": "code",
   "execution_count": 23,
   "metadata": {},
   "outputs": [
    {
     "data": {
      "text/plain": [
       "tensor(16.4344, device='cuda:0')"
      ]
     },
     "execution_count": 23,
     "metadata": {},
     "output_type": "execute_result"
    }
   ],
   "source": [
    "#custom kld loss\n",
    "def custom_kld_loss(outputs, labels, num_items_in_batch):\n",
    "    # print(outputs['logits'].shape)\n",
    "    logits = outputs['logits'][:,:-1,:].contiguous()\n",
    "    # print(logits.shape, labels.shape, num_items_in_batch)\n",
    "    \n",
    "    #take the cross entropy loss along the last dimension\n",
    "    #labels are of the same shape as logits\n",
    "    loss = -torch.sum(labels * torch.log_softmax(logits, dim=-1), dim=-1)\n",
    "    loss = loss.mean()\n",
    "    return loss\n",
    "\n",
    "custom_kld_loss(non_trained_outs, overall_out[[5]].cuda(), 1)"
   ]
  },
  {
   "cell_type": "code",
   "execution_count": 27,
   "metadata": {},
   "outputs": [
    {
     "data": {
      "text/plain": [
       "[<matplotlib.lines.Line2D at 0x723ea0021090>]"
      ]
     },
     "execution_count": 27,
     "metadata": {},
     "output_type": "execute_result"
    },
    {
     "data": {
      "image/png": "[encoded data removed]",
      "text/plain": [
       "<Figure size 640x480 with 1 Axes>"
      ]
     },
     "metadata": {},
     "output_type": "display_data"
    }
   ],
   "source": [
    "import matplotlib.pyplot as plt\n",
    "\n",
    "plt.plot(non_trained_outs.logits[0,0].softmax(dim=-1).cpu().numpy())\n",
    "plt.plot(overall_out[[5]][0,0].cpu().numpy())"
   ]
  },
  {
   "cell_type": "code",
   "execution_count": null,
   "metadata": {},
   "outputs": [
    {
     "data": {
      "text/plain": [
       "tensor([[[2.9361e-09, 1.5627e-09, 1.2552e-05,  ..., 6.4221e-08,\n",
       "          1.7284e-08, 3.9558e-08],\n",
       "         [2.8027e-10, 2.6807e-10, 3.8141e-05,  ..., 8.4279e-08,\n",
       "          3.0857e-09, 3.9223e-08],\n",
       "         [1.1124e-10, 1.8740e-10, 3.0101e-05,  ..., 2.3399e-08,\n",
       "          3.0280e-10, 5.1523e-09],\n",
       "         ...,\n",
       "         [3.9986e-11, 6.1179e-11, 1.3312e-03,  ..., 3.3386e-09,\n",
       "          4.4961e-10, 2.0344e-09],\n",
       "         [2.4797e-12, 2.1652e-12, 1.0475e-07,  ..., 2.1769e-12,\n",
       "          1.2719e-11, 3.1388e-12],\n",
       "         [2.2948e-11, 4.9620e-12, 2.5483e-06,  ..., 6.4511e-10,\n",
       "          5.8581e-09, 6.8206e-10]],\n",
       "\n",
       "        [[1.0061e-09, 1.4295e-10, 1.3197e-05,  ..., 2.6846e-08,\n",
       "          1.9731e-09, 5.9343e-09],\n",
       "         [1.4114e-10, 5.5605e-10, 1.3946e-05,  ..., 3.2076e-09,\n",
       "          7.9734e-10, 3.6518e-09],\n",
       "         [5.6694e-11, 3.2917e-10, 4.2352e-05,  ..., 8.4615e-10,\n",
       "          1.2762e-09, 8.3645e-10],\n",
       "         ...,\n",
       "         [1.7560e-12, 5.1188e-13, 1.7436e-06,  ..., 2.9868e-10,\n",
       "          6.4651e-12, 1.6294e-09],\n",
       "         [1.5394e-11, 1.2506e-11, 2.0719e-05,  ..., 1.9409e-09,\n",
       "          4.3171e-11, 6.0756e-10],\n",
       "         [4.9356e-12, 4.0654e-12, 3.9270e-06,  ..., 1.5878e-09,\n",
       "          3.9700e-11, 7.8413e-10]],\n",
       "\n",
       "        [[3.4514e-09, 1.2845e-07, 2.4277e-05,  ..., 1.1197e-07,\n",
       "          1.9841e-08, 1.9832e-08],\n",
       "         [1.9149e-09, 1.0664e-09, 5.2908e-05,  ..., 7.3990e-08,\n",
       "          1.1163e-07, 7.0215e-08],\n",
       "         [9.8420e-10, 2.0901e-09, 1.6187e-03,  ..., 7.6338e-08,\n",
       "          7.6445e-08, 7.8697e-08],\n",
       "         ...,\n",
       "         [1.3057e-11, 4.8781e-11, 7.8209e-07,  ..., 5.6055e-10,\n",
       "          2.9631e-10, 4.1705e-10],\n",
       "         [1.3073e-11, 8.2143e-12, 2.9242e-06,  ..., 2.0107e-09,\n",
       "          7.7379e-10, 1.7227e-09],\n",
       "         [1.0042e-11, 1.0749e-10, 1.4668e-06,  ..., 6.7886e-10,\n",
       "          2.0688e-09, 9.0095e-10]],\n",
       "\n",
       "        ...,\n",
       "\n",
       "        [[2.6818e-09, 5.4254e-08, 3.4408e-04,  ..., 1.6382e-07,\n",
       "          2.6287e-08, 4.5454e-08],\n",
       "         [7.6198e-11, 1.0368e-10, 7.8038e-05,  ..., 1.3771e-09,\n",
       "          3.8928e-09, 2.5488e-10],\n",
       "         [2.3602e-10, 3.7171e-10, 3.2356e-05,  ..., 1.6044e-08,\n",
       "          8.1720e-09, 5.1363e-09],\n",
       "         ...,\n",
       "         [4.4093e-13, 1.4808e-13, 4.6431e-08,  ..., 8.8850e-13,\n",
       "          7.6243e-13, 2.2331e-11],\n",
       "         [8.8868e-11, 7.1702e-11, 9.3243e-08,  ..., 4.3233e-09,\n",
       "          2.9304e-09, 9.7722e-10],\n",
       "         [2.8188e-11, 5.1567e-13, 1.0142e-07,  ..., 3.1317e-09,\n",
       "          4.1440e-09, 1.4727e-09]],\n",
       "\n",
       "        [[1.0191e-09, 1.3889e-08, 7.1724e-05,  ..., 1.3306e-09,\n",
       "          1.7197e-09, 2.5387e-09],\n",
       "         [7.4822e-11, 5.8701e-10, 1.0516e-02,  ..., 5.0411e-08,\n",
       "          1.9685e-08, 2.2339e-08],\n",
       "         [6.2525e-11, 2.2683e-08, 1.5880e-05,  ..., 1.6512e-09,\n",
       "          3.0659e-10, 7.4518e-10],\n",
       "         ...,\n",
       "         [5.4703e-11, 2.2865e-13, 1.0659e-07,  ..., 1.4269e-10,\n",
       "          3.8141e-11, 9.0988e-09],\n",
       "         [7.5087e-11, 8.2633e-14, 8.3542e-08,  ..., 1.8128e-09,\n",
       "          3.0434e-09, 7.8381e-08],\n",
       "         [5.9397e-11, 3.0203e-13, 7.6897e-08,  ..., 7.1319e-10,\n",
       "          5.7225e-10, 6.2841e-08]],\n",
       "\n",
       "        [[1.6323e-09, 6.3918e-08, 5.5983e-05,  ..., 7.2284e-06,\n",
       "          1.4606e-06, 2.4574e-06],\n",
       "         [1.0558e-10, 2.7220e-09, 7.7160e-05,  ..., 6.0252e-09,\n",
       "          2.2302e-09, 5.4126e-09],\n",
       "         [8.4804e-11, 2.1492e-08, 2.6891e-03,  ..., 4.1523e-08,\n",
       "          3.7933e-09, 7.4362e-09],\n",
       "         ...,\n",
       "         [9.7722e-11, 5.1764e-12, 2.9784e-07,  ..., 1.1782e-09,\n",
       "          2.2014e-09, 1.1725e-09],\n",
       "         [7.5686e-11, 3.1478e-12, 1.8394e-07,  ..., 2.2380e-09,\n",
       "          9.1062e-09, 9.6286e-08],\n",
       "         [8.2360e-11, 1.8798e-12, 1.4700e-07,  ..., 1.1134e-09,\n",
       "          7.5420e-11, 1.2799e-09]]])"
      ]
     },
     "execution_count": 26,
     "metadata": {},
     "output_type": "execute_result"
    }
   ],
   "source": [
    "overall_out"
   ]
  },
  {
   "cell_type": "code",
   "execution_count": 18,
   "metadata": {},
   "outputs": [],
   "source": [
    "from torch.utils.data import Dataset\n",
    "from typing import Tuple\n",
    "import torch.nn as nn\n",
    "\n",
    "class SimpleDataset(Dataset):\n",
    "\n",
    "    def __init__(self, inputs, soft_labels):\n",
    "        self.inputs = inputs\n",
    "        self.soft_labels = soft_labels\n",
    "    \n",
    "\n",
    "    def __len__(self):\n",
    "        return len(self.inputs)\n",
    "\n",
    "    def __getitem__(self, idx):\n",
    "        return {\n",
    "            'input_ids': self.inputs[idx],\n",
    "            'labels': self.soft_labels[idx],\n",
    "        }\n",
    "    \n",
    "def make_datasets(X:torch.FloatTensor, Y:torch.FloatTensor, n_val:int) -> Tuple[Dataset, Dataset]:\n",
    "    \n",
    "\n",
    "    #make the indices\n",
    "    idxs = torch.randperm(len(X))\n",
    "    train_idxs = idxs[:-n_val]\n",
    "\n",
    "    train_ds = SimpleDataset(X[train_idxs], Y[train_idxs])\n",
    "    valid_ds = SimpleDataset(X[idxs[-n_val:]], Y[idxs[-n_val:]])\n",
    "    return train_ds, valid_ds\n",
    "\n",
    "traindataset, validdataset = make_datasets(overall_data, overall_out, ft_n_val)"
   ]
  },
  {
   "cell_type": "code",
   "execution_count": 19,
   "metadata": {},
   "outputs": [
    {
     "data": {
      "text/plain": [
       "(16, 8)"
      ]
     },
     "execution_count": 19,
     "metadata": {},
     "output_type": "execute_result"
    }
   ],
   "source": [
    "len(traindataset), len(validdataset)"
   ]
  },
  {
   "cell_type": "code",
   "execution_count": 20,
   "metadata": {},
   "outputs": [
    {
     "name": "stderr",
     "output_type": "stream",
     "text": [
      "/home/lliu/miniconda3/envs/NoWAC-VQ/lib/python3.13/site-packages/transformers/training_args.py:1611: FutureWarning: `evaluation_strategy` is deprecated and will be removed in version 4.46 of 🤗 Transformers. Use `eval_strategy` instead\n",
      "  warnings.warn(\n",
      "\u001b[34m\u001b[1mwandb\u001b[0m: Using wandb-core as the SDK backend.  Please refer to https://wandb.me/wandb-core for more information.\n",
      "\u001b[34m\u001b[1mwandb\u001b[0m: Currently logged in as: \u001b[33mm6481\u001b[0m to \u001b[32mhttps://api.wandb.ai\u001b[0m. Use \u001b[1m`wandb login --relogin`\u001b[0m to force relogin\n"
     ]
    },
    {
     "data": {
      "text/html": [
       "Tracking run with wandb version 0.19.8"
      ],
      "text/plain": [
       "<IPython.core.display.HTML object>"
      ]
     },
     "metadata": {},
     "output_type": "display_data"
    },
    {
     "data": {
      "text/html": [
       "Run data is saved locally in <code>/data/lliu/huffman/wandb/run-20250323_001717-vj70041o</code>"
      ],
      "text/plain": [
       "<IPython.core.display.HTML object>"
      ]
     },
     "metadata": {},
     "output_type": "display_data"
    },
    {
     "data": {
      "text/html": [
       "Syncing run <strong><a href='https://wandb.ai/m6481/huggingface/runs/vj70041o' target=\"_blank\">llama-2-7b-hf-soft</a></strong> to <a href='https://wandb.ai/m6481/huggingface' target=\"_blank\">Weights & Biases</a> (<a href='https://wandb.me/developer-guide' target=\"_blank\">docs</a>)<br>"
      ],
      "text/plain": [
       "<IPython.core.display.HTML object>"
      ]
     },
     "metadata": {},
     "output_type": "display_data"
    },
    {
     "data": {
      "text/html": [
       " View project at <a href='https://wandb.ai/m6481/huggingface' target=\"_blank\">https://wandb.ai/m6481/huggingface</a>"
      ],
      "text/plain": [
       "<IPython.core.display.HTML object>"
      ]
     },
     "metadata": {},
     "output_type": "display_data"
    },
    {
     "data": {
      "text/html": [
       " View run at <a href='https://wandb.ai/m6481/huggingface/runs/vj70041o' target=\"_blank\">https://wandb.ai/m6481/huggingface/runs/vj70041o</a>"
      ],
      "text/plain": [
       "<IPython.core.display.HTML object>"
      ]
     },
     "metadata": {},
     "output_type": "display_data"
    },
    {
     "data": {
      "text/html": [
       "\n",
       "    <div>\n",
       "      \n",
       "      <progress value='16' max='16' style='width:300px; height:20px; vertical-align: middle;'></progress>\n",
       "      [16/16 02:06, Epoch 2/2]\n",
       "    </div>\n",
       "    <table border=\"1\" class=\"dataframe\">\n",
       "  <thead>\n",
       " <tr style=\"text-align: left;\">\n",
       "      <th>Epoch</th>\n",
       "      <th>Training Loss</th>\n",
       "      <th>Validation Loss</th>\n",
       "    </tr>\n",
       "  </thead>\n",
       "  <tbody>\n",
       "    <tr>\n",
       "      <td>0</td>\n",
       "      <td>No log</td>\n",
       "      <td>1.873177</td>\n",
       "    </tr>\n",
       "    <tr>\n",
       "      <td>1</td>\n",
       "      <td>1.932400</td>\n",
       "      <td>1.870640</td>\n",
       "    </tr>\n",
       "    <tr>\n",
       "      <td>2</td>\n",
       "      <td>1.638000</td>\n",
       "      <td>1.861166</td>\n",
       "    </tr>\n",
       "  </tbody>\n",
       "</table><p>"
      ],
      "text/plain": [
       "<IPython.core.display.HTML object>"
      ]
     },
     "metadata": {},
     "output_type": "display_data"
    },
    {
     "name": "stderr",
     "output_type": "stream",
     "text": [
      "`use_cache=True` is incompatible with gradient checkpointing. Setting `use_cache=False`.\n"
     ]
    },
    {
     "data": {
      "text/plain": [
       "TrainOutput(global_step=16, training_loss=2.0369246751070023, metrics={'train_runtime': 138.0796, 'train_samples_per_second': 0.232, 'train_steps_per_second': 0.116, 'total_flos': 110652316188672.0, 'train_loss': 2.0369246751070023, 'epoch': 2.0})"
      ]
     },
     "execution_count": 20,
     "metadata": {},
     "output_type": "execute_result"
    }
   ],
   "source": [
    "#train the model on the dataset with transformers trainer\n",
    "\n",
    "trainer = transformers.Trainer(\n",
    "    model=model,\n",
    "    args=transformers.TrainingArguments(\n",
    "        per_device_train_batch_size=per_device_train_batch_size,\n",
    "        gradient_accumulation_steps=1,\n",
    "        gradient_checkpointing=True,\n",
    "        fp16=True,\n",
    "        logging_steps=1,\n",
    "        output_dir=\"./output\",\n",
    "        num_train_epochs=2,\n",
    "        save_total_limit=3,\n",
    "        evaluation_strategy=\"epoch\",\n",
    "        save_strategy=\"epoch\",\n",
    "        # eval_steps=100,\n",
    "        # per_device_train_batch_size=32,\n",
    "        load_best_model_at_end=True,\n",
    "        #add a tqdm progress bar\n",
    "        #set the lr to 1e-5\n",
    "        learning_rate=1e-5,\n",
    "        warmup_steps=100,\n",
    "        lr_scheduler_type=\"cosine_with_restarts\",\n",
    "        lr_scheduler_kwargs={\"num_cycles\": 5},\n",
    "        dataloader_pin_memory=False,\n",
    "        #set the logging dir to ./logs\n",
    "        logging_dir=\"./logs\",\n",
    "        #log to wandb\n",
    "        report_to=\"wandb\",\n",
    "        run_name=\"llama-2-7b-hf-soft\",\n",
    "        eval_on_start = True,\n",
    "    ),\n",
    "    train_dataset=traindataset,\n",
    "    eval_dataset=validdataset,\n",
    "    compute_loss_func=custom_kld_loss,\n",
    ")\n",
    "\n",
    "trainer.train()\n",
    "\n"
   ]
  },
  {
   "cell_type": "code",
   "execution_count": 21,
   "metadata": {},
   "outputs": [
    {
     "data": {
      "text/plain": [
       "tensor([[[2.4570e-07, 1.0009e-05, 7.6252e-04,  ..., 4.1097e-07,\n",
       "          1.6429e-07, 1.1824e-06],\n",
       "         [8.1737e-11, 2.8434e-11, 1.3481e-05,  ..., 3.7359e-10,\n",
       "          1.0008e-09, 8.9002e-10],\n",
       "         [1.2812e-10, 8.4170e-11, 2.1571e-05,  ..., 4.8376e-09,\n",
       "          2.5928e-09, 1.4138e-09],\n",
       "         ...,\n",
       "         [5.9615e-12, 1.5918e-11, 9.1196e-07,  ..., 9.6534e-11,\n",
       "          1.9837e-10, 3.1553e-10],\n",
       "         [1.4834e-10, 4.9392e-11, 1.6311e-06,  ..., 3.8183e-10,\n",
       "          1.6049e-10, 7.7437e-11],\n",
       "         [1.9405e-10, 1.5238e-10, 6.4399e-05,  ..., 1.4155e-09,\n",
       "          5.2544e-10, 1.8255e-10]]], device='cuda:0')"
      ]
     },
     "execution_count": 21,
     "metadata": {},
     "output_type": "execute_result"
    }
   ],
   "source": [
    "prev_logits = temp_out[\"logits\"].contiguous().softmax(dim=-1).float()\n",
    "prev_logits"
   ]
  },
  {
   "cell_type": "code",
   "execution_count": 25,
   "metadata": {},
   "outputs": [
    {
     "name": "stdout",
     "output_type": "stream",
     "text": [
      "tensor([2.7338e-07, 1.0782e-05, 7.6258e-04,  ..., 4.5604e-07, 1.7242e-07,\n",
      "        1.2228e-06], device='cuda:0')\n"
     ]
    }
   ],
   "source": [
    "with torch.no_grad():\n",
    "    temp_out = model(overall_data[[0]].cuda())\n",
    "    print(temp_out[\"logits\"].contiguous().softmax(dim=-1).float()[0,0])"
   ]
  },
  {
   "cell_type": "code",
   "execution_count": null,
   "metadata": {},
   "outputs": [],
   "source": []
  },
  {
   "cell_type": "code",
   "execution_count": 23,
   "metadata": {},
   "outputs": [
    {
     "data": {
      "text/plain": [
       "tensor([[[2.6485e-10, 1.4232e-08, 4.8993e-05,  ..., 1.4750e-08,\n",
       "          4.8198e-09, 2.6300e-09],\n",
       "         [6.9249e-11, 7.0647e-11, 1.5791e-05,  ..., 3.2829e-10,\n",
       "          2.1836e-09, 3.5391e-10],\n",
       "         [4.9343e-11, 1.3910e-10, 1.5000e-05,  ..., 4.9455e-09,\n",
       "          1.6772e-09, 5.6072e-10],\n",
       "         ...,\n",
       "         [2.3104e-13, 1.9384e-13, 3.8083e-07,  ..., 2.5601e-12,\n",
       "          2.5149e-14, 2.0033e-12],\n",
       "         [4.0694e-14, 2.1865e-14, 2.1472e-07,  ..., 2.7358e-13,\n",
       "          9.1159e-15, 1.8203e-13],\n",
       "         [2.0762e-12, 2.6297e-12, 5.5321e-07,  ..., 5.5716e-11,\n",
       "          5.3207e-13, 1.6526e-12]]])"
      ]
     },
     "execution_count": 23,
     "metadata": {},
     "output_type": "execute_result"
    }
   ],
   "source": [
    "overall_out[[0]]"
   ]
  },
  {
   "cell_type": "code",
   "execution_count": 27,
   "metadata": {},
   "outputs": [
    {
     "data": {
      "text/plain": [
       "[<matplotlib.lines.Line2D at 0x7099cbb92c10>]"
      ]
     },
     "execution_count": 27,
     "metadata": {},
     "output_type": "execute_result"
    },
    {
     "data": {
      "image/png": "[encoded data removed]",
      "text/plain": [
       "<Figure size 640x480 with 1 Axes>"
      ]
     },
     "metadata": {},
     "output_type": "display_data"
    }
   ],
   "source": [
    "import matplotlib.pyplot as plt\n",
    "plt.plot(temp_out[\"logits\"].contiguous().softmax(dim=-1).float()[0,0].cpu().numpy())"
   ]
  },
  {
   "cell_type": "code",
   "execution_count": 29,
   "metadata": {},
   "outputs": [
    {
     "name": "stdout",
     "output_type": "stream",
     "text": [
      "Error in callback <bound method _WandbInit._resume_backend of <wandb.sdk.wandb_init._WandbInit object at 0x7099db57cc20>> (for pre_run_cell), with arguments args (<ExecutionInfo object at 7092e821bee0, raw_cell=\"plt.plot(overall_out[[0]][0,0].cpu().numpy())\" store_history=True silent=False shell_futures=True cell_id=vscode-notebook-cell://ssh-remote%2B164.67.204.101/data/lliu/huffman/test_train.ipynb#Y131sdnNjb2RlLXJlbW90ZQ%3D%3D>,),kwargs {}:\n"
     ]
    },
    {
     "ename": "BrokenPipeError",
     "evalue": "[Errno 32] Broken pipe",
     "output_type": "error",
     "traceback": [
      "\u001b[31m---------------------------------------------------------------------------\u001b[39m",
      "\u001b[31mBrokenPipeError\u001b[39m                           Traceback (most recent call last)",
      "\u001b[36mFile \u001b[39m\u001b[32m~/miniconda3/envs/NoWAC-VQ/lib/python3.13/site-packages/wandb/sdk/wandb_init.py:570\u001b[39m, in \u001b[36m_WandbInit._resume_backend\u001b[39m\u001b[34m(self, *args, **kwargs)\u001b[39m\n\u001b[32m    568\u001b[39m \u001b[38;5;28;01mif\u001b[39;00m \u001b[38;5;28mself\u001b[39m.backend \u001b[38;5;129;01mis\u001b[39;00m \u001b[38;5;129;01mnot\u001b[39;00m \u001b[38;5;28;01mNone\u001b[39;00m \u001b[38;5;129;01mand\u001b[39;00m \u001b[38;5;28mself\u001b[39m.backend.interface \u001b[38;5;129;01mis\u001b[39;00m \u001b[38;5;129;01mnot\u001b[39;00m \u001b[38;5;28;01mNone\u001b[39;00m:\n\u001b[32m    569\u001b[39m     \u001b[38;5;28mself\u001b[39m._logger.info(\u001b[33m\"\u001b[39m\u001b[33mresuming backend\u001b[39m\u001b[33m\"\u001b[39m)  \u001b[38;5;66;03m# type: ignore\u001b[39;00m\n\u001b[32m--> \u001b[39m\u001b[32m570\u001b[39m     \u001b[38;5;28;43mself\u001b[39;49m\u001b[43m.\u001b[49m\u001b[43mbackend\u001b[49m\u001b[43m.\u001b[49m\u001b[43minterface\u001b[49m\u001b[43m.\u001b[49m\u001b[43mpublish_resume\u001b[49m\u001b[43m(\u001b[49m\u001b[43m)\u001b[49m\n",
      "\u001b[36mFile \u001b[39m\u001b[32m~/miniconda3/envs/NoWAC-VQ/lib/python3.13/site-packages/wandb/sdk/interface/interface.py:777\u001b[39m, in \u001b[36mInterfaceBase.publish_resume\u001b[39m\u001b[34m(self)\u001b[39m\n\u001b[32m    775\u001b[39m \u001b[38;5;28;01mdef\u001b[39;00m\u001b[38;5;250m \u001b[39m\u001b[34mpublish_resume\u001b[39m(\u001b[38;5;28mself\u001b[39m) -> \u001b[38;5;28;01mNone\u001b[39;00m:\n\u001b[32m    776\u001b[39m     resume = pb.ResumeRequest()\n\u001b[32m--> \u001b[39m\u001b[32m777\u001b[39m     \u001b[38;5;28;43mself\u001b[39;49m\u001b[43m.\u001b[49m\u001b[43m_publish_resume\u001b[49m\u001b[43m(\u001b[49m\u001b[43mresume\u001b[49m\u001b[43m)\u001b[49m\n",
      "\u001b[36mFile \u001b[39m\u001b[32m~/miniconda3/envs/NoWAC-VQ/lib/python3.13/site-packages/wandb/sdk/interface/interface_shared.py:293\u001b[39m, in \u001b[36mInterfaceShared._publish_resume\u001b[39m\u001b[34m(self, resume)\u001b[39m\n\u001b[32m    291\u001b[39m \u001b[38;5;28;01mdef\u001b[39;00m\u001b[38;5;250m \u001b[39m\u001b[34m_publish_resume\u001b[39m(\u001b[38;5;28mself\u001b[39m, resume: pb.ResumeRequest) -> \u001b[38;5;28;01mNone\u001b[39;00m:\n\u001b[32m    292\u001b[39m     rec = \u001b[38;5;28mself\u001b[39m._make_request(resume=resume)\n\u001b[32m--> \u001b[39m\u001b[32m293\u001b[39m     \u001b[38;5;28;43mself\u001b[39;49m\u001b[43m.\u001b[49m\u001b[43m_publish\u001b[49m\u001b[43m(\u001b[49m\u001b[43mrec\u001b[49m\u001b[43m)\u001b[49m\n",
      "\u001b[36mFile \u001b[39m\u001b[32m~/miniconda3/envs/NoWAC-VQ/lib/python3.13/site-packages/wandb/sdk/interface/interface_sock.py:39\u001b[39m, in \u001b[36mInterfaceSock._publish\u001b[39m\u001b[34m(self, record, local)\u001b[39m\n\u001b[32m     37\u001b[39m \u001b[38;5;28;01mdef\u001b[39;00m\u001b[38;5;250m \u001b[39m\u001b[34m_publish\u001b[39m(\u001b[38;5;28mself\u001b[39m, record: \u001b[33m\"\u001b[39m\u001b[33mpb.Record\u001b[39m\u001b[33m\"\u001b[39m, local: Optional[\u001b[38;5;28mbool\u001b[39m] = \u001b[38;5;28;01mNone\u001b[39;00m) -> \u001b[38;5;28;01mNone\u001b[39;00m:\n\u001b[32m     38\u001b[39m     \u001b[38;5;28mself\u001b[39m._assign(record)\n\u001b[32m---> \u001b[39m\u001b[32m39\u001b[39m     \u001b[38;5;28;43mself\u001b[39;49m\u001b[43m.\u001b[49m\u001b[43m_sock_client\u001b[49m\u001b[43m.\u001b[49m\u001b[43msend_record_publish\u001b[49m\u001b[43m(\u001b[49m\u001b[43mrecord\u001b[49m\u001b[43m)\u001b[49m\n",
      "\u001b[36mFile \u001b[39m\u001b[32m~/miniconda3/envs/NoWAC-VQ/lib/python3.13/site-packages/wandb/sdk/lib/sock_client.py:174\u001b[39m, in \u001b[36mSockClient.send_record_publish\u001b[39m\u001b[34m(self, record)\u001b[39m\n\u001b[32m    172\u001b[39m server_req.request_id = record.control.mailbox_slot\n\u001b[32m    173\u001b[39m server_req.record_publish.CopyFrom(record)\n\u001b[32m--> \u001b[39m\u001b[32m174\u001b[39m \u001b[38;5;28;43mself\u001b[39;49m\u001b[43m.\u001b[49m\u001b[43msend_server_request\u001b[49m\u001b[43m(\u001b[49m\u001b[43mserver_req\u001b[49m\u001b[43m)\u001b[49m\n",
      "\u001b[36mFile \u001b[39m\u001b[32m~/miniconda3/envs/NoWAC-VQ/lib/python3.13/site-packages/wandb/sdk/lib/sock_client.py:154\u001b[39m, in \u001b[36mSockClient.send_server_request\u001b[39m\u001b[34m(self, msg)\u001b[39m\n\u001b[32m    153\u001b[39m \u001b[38;5;28;01mdef\u001b[39;00m\u001b[38;5;250m \u001b[39m\u001b[34msend_server_request\u001b[39m(\u001b[38;5;28mself\u001b[39m, msg: spb.ServerRequest) -> \u001b[38;5;28;01mNone\u001b[39;00m:\n\u001b[32m--> \u001b[39m\u001b[32m154\u001b[39m     \u001b[38;5;28;43mself\u001b[39;49m\u001b[43m.\u001b[49m\u001b[43m_send_message\u001b[49m\u001b[43m(\u001b[49m\u001b[43mmsg\u001b[49m\u001b[43m)\u001b[49m\n",
      "\u001b[36mFile \u001b[39m\u001b[32m~/miniconda3/envs/NoWAC-VQ/lib/python3.13/site-packages/wandb/sdk/lib/sock_client.py:151\u001b[39m, in \u001b[36mSockClient._send_message\u001b[39m\u001b[34m(self, msg)\u001b[39m\n\u001b[32m    149\u001b[39m header = struct.pack(\u001b[33m\"\u001b[39m\u001b[33m<BI\u001b[39m\u001b[33m\"\u001b[39m, \u001b[38;5;28mord\u001b[39m(\u001b[33m\"\u001b[39m\u001b[33mW\u001b[39m\u001b[33m\"\u001b[39m), raw_size)\n\u001b[32m    150\u001b[39m \u001b[38;5;28;01mwith\u001b[39;00m \u001b[38;5;28mself\u001b[39m._lock:\n\u001b[32m--> \u001b[39m\u001b[32m151\u001b[39m     \u001b[38;5;28;43mself\u001b[39;49m\u001b[43m.\u001b[49m\u001b[43m_sendall_with_error_handle\u001b[49m\u001b[43m(\u001b[49m\u001b[43mheader\u001b[49m\u001b[43m \u001b[49m\u001b[43m+\u001b[49m\u001b[43m \u001b[49m\u001b[43mdata\u001b[49m\u001b[43m)\u001b[49m\n",
      "\u001b[36mFile \u001b[39m\u001b[32m~/miniconda3/envs/NoWAC-VQ/lib/python3.13/site-packages/wandb/sdk/lib/sock_client.py:130\u001b[39m, in \u001b[36mSockClient._sendall_with_error_handle\u001b[39m\u001b[34m(self, data)\u001b[39m\n\u001b[32m    128\u001b[39m start_time = time.monotonic()\n\u001b[32m    129\u001b[39m \u001b[38;5;28;01mtry\u001b[39;00m:\n\u001b[32m--> \u001b[39m\u001b[32m130\u001b[39m     sent = \u001b[38;5;28;43mself\u001b[39;49m\u001b[43m.\u001b[49m\u001b[43m_sock\u001b[49m\u001b[43m.\u001b[49m\u001b[43msend\u001b[49m\u001b[43m(\u001b[49m\u001b[43mdata\u001b[49m\u001b[43m)\u001b[49m\n\u001b[32m    131\u001b[39m     \u001b[38;5;66;03m# sent equal to 0 indicates a closed socket\u001b[39;00m\n\u001b[32m    132\u001b[39m     \u001b[38;5;28;01mif\u001b[39;00m sent == \u001b[32m0\u001b[39m:\n",
      "\u001b[31mBrokenPipeError\u001b[39m: [Errno 32] Broken pipe"
     ]
    },
    {
     "data": {
      "text/plain": [
       "[<matplotlib.lines.Line2D at 0x7092dcb46d50>]"
      ]
     },
     "execution_count": 29,
     "metadata": {},
     "output_type": "execute_result"
    },
    {
     "data": {
      "image/png": "[encoded data removed]",
      "text/plain": [
       "<Figure size 640x480 with 1 Axes>"
      ]
     },
     "metadata": {},
     "output_type": "display_data"
    },
    {
     "name": "stdout",
     "output_type": "stream",
     "text": [
      "Error in callback <bound method _WandbInit._pause_backend of <wandb.sdk.wandb_init._WandbInit object at 0x7099db57cc20>> (for post_run_cell), with arguments args (<ExecutionResult object at 7092e8239c10, execution_count=29 error_before_exec=None error_in_exec=None info=<ExecutionInfo object at 7092e821bee0, raw_cell=\"plt.plot(overall_out[[0]][0,0].cpu().numpy())\" store_history=True silent=False shell_futures=True cell_id=vscode-notebook-cell://ssh-remote%2B164.67.204.101/data/lliu/huffman/test_train.ipynb#Y131sdnNjb2RlLXJlbW90ZQ%3D%3D> result=[<matplotlib.lines.Line2D object at 0x7092dcb46d50>]>,),kwargs {}:\n"
     ]
    },
    {
     "ename": "BrokenPipeError",
     "evalue": "[Errno 32] Broken pipe",
     "output_type": "error",
     "traceback": [
      "\u001b[31m---------------------------------------------------------------------------\u001b[39m",
      "\u001b[31mBrokenPipeError\u001b[39m                           Traceback (most recent call last)",
      "\u001b[36mFile \u001b[39m\u001b[32m~/miniconda3/envs/NoWAC-VQ/lib/python3.13/site-packages/wandb/sdk/wandb_init.py:565\u001b[39m, in \u001b[36m_WandbInit._pause_backend\u001b[39m\u001b[34m(self, *args, **kwargs)\u001b[39m\n\u001b[32m    563\u001b[39m \u001b[38;5;28;01mif\u001b[39;00m \u001b[38;5;28mself\u001b[39m.backend.interface \u001b[38;5;129;01mis\u001b[39;00m \u001b[38;5;129;01mnot\u001b[39;00m \u001b[38;5;28;01mNone\u001b[39;00m:\n\u001b[32m    564\u001b[39m     \u001b[38;5;28mself\u001b[39m._logger.info(\u001b[33m\"\u001b[39m\u001b[33mpausing backend\u001b[39m\u001b[33m\"\u001b[39m)  \u001b[38;5;66;03m# type: ignore\u001b[39;00m\n\u001b[32m--> \u001b[39m\u001b[32m565\u001b[39m     \u001b[38;5;28;43mself\u001b[39;49m\u001b[43m.\u001b[49m\u001b[43mbackend\u001b[49m\u001b[43m.\u001b[49m\u001b[43minterface\u001b[49m\u001b[43m.\u001b[49m\u001b[43mpublish_pause\u001b[49m\u001b[43m(\u001b[49m\u001b[43m)\u001b[49m\n",
      "\u001b[36mFile \u001b[39m\u001b[32m~/miniconda3/envs/NoWAC-VQ/lib/python3.13/site-packages/wandb/sdk/interface/interface.py:769\u001b[39m, in \u001b[36mInterfaceBase.publish_pause\u001b[39m\u001b[34m(self)\u001b[39m\n\u001b[32m    767\u001b[39m \u001b[38;5;28;01mdef\u001b[39;00m\u001b[38;5;250m \u001b[39m\u001b[34mpublish_pause\u001b[39m(\u001b[38;5;28mself\u001b[39m) -> \u001b[38;5;28;01mNone\u001b[39;00m:\n\u001b[32m    768\u001b[39m     pause = pb.PauseRequest()\n\u001b[32m--> \u001b[39m\u001b[32m769\u001b[39m     \u001b[38;5;28;43mself\u001b[39;49m\u001b[43m.\u001b[49m\u001b[43m_publish_pause\u001b[49m\u001b[43m(\u001b[49m\u001b[43mpause\u001b[49m\u001b[43m)\u001b[49m\n",
      "\u001b[36mFile \u001b[39m\u001b[32m~/miniconda3/envs/NoWAC-VQ/lib/python3.13/site-packages/wandb/sdk/interface/interface_shared.py:289\u001b[39m, in \u001b[36mInterfaceShared._publish_pause\u001b[39m\u001b[34m(self, pause)\u001b[39m\n\u001b[32m    287\u001b[39m \u001b[38;5;28;01mdef\u001b[39;00m\u001b[38;5;250m \u001b[39m\u001b[34m_publish_pause\u001b[39m(\u001b[38;5;28mself\u001b[39m, pause: pb.PauseRequest) -> \u001b[38;5;28;01mNone\u001b[39;00m:\n\u001b[32m    288\u001b[39m     rec = \u001b[38;5;28mself\u001b[39m._make_request(pause=pause)\n\u001b[32m--> \u001b[39m\u001b[32m289\u001b[39m     \u001b[38;5;28;43mself\u001b[39;49m\u001b[43m.\u001b[49m\u001b[43m_publish\u001b[49m\u001b[43m(\u001b[49m\u001b[43mrec\u001b[49m\u001b[43m)\u001b[49m\n",
      "\u001b[36mFile \u001b[39m\u001b[32m~/miniconda3/envs/NoWAC-VQ/lib/python3.13/site-packages/wandb/sdk/interface/interface_sock.py:39\u001b[39m, in \u001b[36mInterfaceSock._publish\u001b[39m\u001b[34m(self, record, local)\u001b[39m\n\u001b[32m     37\u001b[39m \u001b[38;5;28;01mdef\u001b[39;00m\u001b[38;5;250m \u001b[39m\u001b[34m_publish\u001b[39m(\u001b[38;5;28mself\u001b[39m, record: \u001b[33m\"\u001b[39m\u001b[33mpb.Record\u001b[39m\u001b[33m\"\u001b[39m, local: Optional[\u001b[38;5;28mbool\u001b[39m] = \u001b[38;5;28;01mNone\u001b[39;00m) -> \u001b[38;5;28;01mNone\u001b[39;00m:\n\u001b[32m     38\u001b[39m     \u001b[38;5;28mself\u001b[39m._assign(record)\n\u001b[32m---> \u001b[39m\u001b[32m39\u001b[39m     \u001b[38;5;28;43mself\u001b[39;49m\u001b[43m.\u001b[49m\u001b[43m_sock_client\u001b[49m\u001b[43m.\u001b[49m\u001b[43msend_record_publish\u001b[49m\u001b[43m(\u001b[49m\u001b[43mrecord\u001b[49m\u001b[43m)\u001b[49m\n",
      "\u001b[36mFile \u001b[39m\u001b[32m~/miniconda3/envs/NoWAC-VQ/lib/python3.13/site-packages/wandb/sdk/lib/sock_client.py:174\u001b[39m, in \u001b[36mSockClient.send_record_publish\u001b[39m\u001b[34m(self, record)\u001b[39m\n\u001b[32m    172\u001b[39m server_req.request_id = record.control.mailbox_slot\n\u001b[32m    173\u001b[39m server_req.record_publish.CopyFrom(record)\n\u001b[32m--> \u001b[39m\u001b[32m174\u001b[39m \u001b[38;5;28;43mself\u001b[39;49m\u001b[43m.\u001b[49m\u001b[43msend_server_request\u001b[49m\u001b[43m(\u001b[49m\u001b[43mserver_req\u001b[49m\u001b[43m)\u001b[49m\n",
      "\u001b[36mFile \u001b[39m\u001b[32m~/miniconda3/envs/NoWAC-VQ/lib/python3.13/site-packages/wandb/sdk/lib/sock_client.py:154\u001b[39m, in \u001b[36mSockClient.send_server_request\u001b[39m\u001b[34m(self, msg)\u001b[39m\n\u001b[32m    153\u001b[39m \u001b[38;5;28;01mdef\u001b[39;00m\u001b[38;5;250m \u001b[39m\u001b[34msend_server_request\u001b[39m(\u001b[38;5;28mself\u001b[39m, msg: spb.ServerRequest) -> \u001b[38;5;28;01mNone\u001b[39;00m:\n\u001b[32m--> \u001b[39m\u001b[32m154\u001b[39m     \u001b[38;5;28;43mself\u001b[39;49m\u001b[43m.\u001b[49m\u001b[43m_send_message\u001b[49m\u001b[43m(\u001b[49m\u001b[43mmsg\u001b[49m\u001b[43m)\u001b[49m\n",
      "\u001b[36mFile \u001b[39m\u001b[32m~/miniconda3/envs/NoWAC-VQ/lib/python3.13/site-packages/wandb/sdk/lib/sock_client.py:151\u001b[39m, in \u001b[36mSockClient._send_message\u001b[39m\u001b[34m(self, msg)\u001b[39m\n\u001b[32m    149\u001b[39m header = struct.pack(\u001b[33m\"\u001b[39m\u001b[33m<BI\u001b[39m\u001b[33m\"\u001b[39m, \u001b[38;5;28mord\u001b[39m(\u001b[33m\"\u001b[39m\u001b[33mW\u001b[39m\u001b[33m\"\u001b[39m), raw_size)\n\u001b[32m    150\u001b[39m \u001b[38;5;28;01mwith\u001b[39;00m \u001b[38;5;28mself\u001b[39m._lock:\n\u001b[32m--> \u001b[39m\u001b[32m151\u001b[39m     \u001b[38;5;28;43mself\u001b[39;49m\u001b[43m.\u001b[49m\u001b[43m_sendall_with_error_handle\u001b[49m\u001b[43m(\u001b[49m\u001b[43mheader\u001b[49m\u001b[43m \u001b[49m\u001b[43m+\u001b[49m\u001b[43m \u001b[49m\u001b[43mdata\u001b[49m\u001b[43m)\u001b[49m\n",
      "\u001b[36mFile \u001b[39m\u001b[32m~/miniconda3/envs/NoWAC-VQ/lib/python3.13/site-packages/wandb/sdk/lib/sock_client.py:130\u001b[39m, in \u001b[36mSockClient._sendall_with_error_handle\u001b[39m\u001b[34m(self, data)\u001b[39m\n\u001b[32m    128\u001b[39m start_time = time.monotonic()\n\u001b[32m    129\u001b[39m \u001b[38;5;28;01mtry\u001b[39;00m:\n\u001b[32m--> \u001b[39m\u001b[32m130\u001b[39m     sent = \u001b[38;5;28;43mself\u001b[39;49m\u001b[43m.\u001b[49m\u001b[43m_sock\u001b[49m\u001b[43m.\u001b[49m\u001b[43msend\u001b[49m\u001b[43m(\u001b[49m\u001b[43mdata\u001b[49m\u001b[43m)\u001b[49m\n\u001b[32m    131\u001b[39m     \u001b[38;5;66;03m# sent equal to 0 indicates a closed socket\u001b[39;00m\n\u001b[32m    132\u001b[39m     \u001b[38;5;28;01mif\u001b[39;00m sent == \u001b[32m0\u001b[39m:\n",
      "\u001b[31mBrokenPipeError\u001b[39m: [Errno 32] Broken pipe"
     ]
    }
   ],
   "source": [
    "plt.plot(overall_out[[0]][0,0].cpu().numpy())"
   ]
  },
  {
   "cell_type": "code",
   "execution_count": 24,
   "metadata": {},
   "outputs": [
    {
     "data": {
      "text/plain": [
       "tensor(13.3660, device='cuda:0', grad_fn=<ToCopyBackward0>)"
      ]
     },
     "execution_count": 24,
     "metadata": {},
     "output_type": "execute_result"
    }
   ],
   "source": [
    "model(valset[0][\"input_ids\"][...,:-2].cuda(),\n",
    "      labels=valset[0][\"input_ids\"][...,1:].cuda()[...,:-1]  # shift labels\n",
    "      ).loss"
   ]
  },
  {
   "cell_type": "code",
   "execution_count": 6,
   "metadata": {},
   "outputs": [],
   "source": [
    "import glob\n",
    "import tqdm\n",
    "import torch"
   ]
  },
  {
   "cell_type": "code",
   "execution_count": 7,
   "metadata": {},
   "outputs": [
    {
     "name": "stdout",
     "output_type": "stream",
     "text": [
      "1848\n"
     ]
    }
   ],
   "source": [
    "paths = glob.glob(\"/data/lliu/huffman/models/meta-llama/*/hessianDiags/seed_0/pajama/128/*/*.pt\")\n",
    "print(len(paths))"
   ]
  },
  {
   "cell_type": "code",
   "execution_count": null,
   "metadata": {},
   "outputs": [
    {
     "name": "stderr",
     "output_type": "stream",
     "text": [
      "100%|██████████| 1848/1848 [00:01<00:00, 979.71it/s] \n"
     ]
    },
    {
     "ename": "",
     "evalue": "",
     "output_type": "error",
     "traceback": [
      "\u001b[1;31mThe Kernel crashed while executing code in the current cell or a previous cell. \n",
      "\u001b[1;31mPlease review the code in the cell(s) to identify a possible cause of the failure. \n",
      "\u001b[1;31mClick <a href='https://aka.ms/vscodeJupyterKernelCrash'>here</a> for more info. \n",
      "\u001b[1;31mView Jupyter <a href='command:jupyter.viewOutput'>log</a> for further details."
     ]
    }
   ],
   "source": [
    "for p in tqdm.tqdm(paths):\n",
    "    hessianDiag = torch.load(p)\n",
    "    if \"hessianDiag\" in hessianDiag:\n",
    "        continue\n",
    "    torch.save({\"hessianDiag\": hessianDiag[\"hessian\"]}, p)"
   ]
  },
  {
   "cell_type": "code",
   "execution_count": 9,
   "metadata": {},
   "outputs": [
    {
     "data": {
      "text/plain": [
       "{'hessianDiag': tensor([0.0067, 0.0076, 0.0071,  ..., 0.0070, 0.0077, 0.0074], device='cuda:1',\n",
       "        dtype=torch.float16)}"
      ]
     },
     "execution_count": 9,
     "metadata": {},
     "output_type": "execute_result"
    }
   ],
   "source": [
    "torch.load(p)"
   ]
  },
  {
   "cell_type": "code",
   "execution_count": null,
   "metadata": {},
   "outputs": [
    {
     "name": "stdout",
     "output_type": "stream",
     "text": [
      "initializing B\n",
      "fn1_B\n"
     ]
    },
    {
     "data": {
      "text/plain": [
       "<__main__.B at 0x7a053f3f42f0>"
      ]
     },
     "execution_count": 27,
     "metadata": {},
     "output_type": "execute_result"
    },
    {
     "ename": "",
     "evalue": "",
     "output_type": "error",
     "traceback": [
      "\u001b[1;31mThe Kernel crashed while executing code in the current cell or a previous cell. \n",
      "\u001b[1;31mPlease review the code in the cell(s) to identify a possible cause of the failure. \n",
      "\u001b[1;31mClick <a href='https://aka.ms/vscodeJupyterKernelCrash'>here</a> for more info. \n",
      "\u001b[1;31mView Jupyter <a href='command:jupyter.viewOutput'>log</a> for further details."
     ]
    }
   ],
   "source": [
    "class A:\n",
    "    \n",
    "    def __init__(self):\n",
    "        self.a = 1\n",
    "        self.b = 2\n",
    "        self.c = 3\n",
    "        \n",
    "    def fn1(self):\n",
    "        print(\"fn1_A\")\n",
    "        \n",
    "    @classmethod\n",
    "    def fn1_static(cls):\n",
    "        c = cls()\n",
    "        c.fn1()\n",
    "        return c\n",
    "    \n",
    "class B(A):\n",
    "    \n",
    "    def __init__(self):\n",
    "        super().__init__()\n",
    "        print(\"initializing B\")\n",
    "        self.d = 4\n",
    "        \n",
    "    def fn1(self):\n",
    "        print(\"fn1_B\")\n",
    "        \n",
    "B.fn1_static()\n",
    "    \n"
   ]
  },
  {
   "cell_type": "code",
   "execution_count": null,
   "metadata": {},
   "outputs": [],
   "source": []
  }
 ],
 "metadata": {
  "kernelspec": {
   "display_name": "NoWAC-VQ",
   "language": "python",
   "name": "python3"
  },
  "language_info": {
   "codemirror_mode": {
    "name": "ipython",
    "version": 3
   },
   "file_extension": ".py",
   "mimetype": "text/x-python",
   "name": "python",
   "nbconvert_exporter": "python",
   "pygments_lexer": "ipython3",
   "version": "3.13.2"
  }
 },
 "nbformat": 4,
 "nbformat_minor": 2
}
