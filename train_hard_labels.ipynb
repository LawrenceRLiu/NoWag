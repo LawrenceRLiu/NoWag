{
 "cells": [
  {
   "cell_type": "code",
   "execution_count": 1,
   "metadata": {},
   "outputs": [],
   "source": [
    "%load_ext autoreload\n",
    "%autoreload 2\n",
    "\n",
    "import torch\n",
    "import transformers\n",
    "import yaml\n",
    "from src.utils import model_utils\n",
    "from src.utils import quantized_model\n",
    "from src.model import llama\n",
    "from transformers import LlamaForCausalLM as OrigLlama\n",
    "import os\n",
    "from src import data\n",
    "from src.utils import utils\n",
    "import tqdm\n",
    "import torch"
   ]
  },
  {
   "cell_type": "code",
   "execution_count": 2,
   "metadata": {},
   "outputs": [],
   "source": [
    "# !export CUDA_VISIBLE_DEVICES=0,1\n",
    "# !export CUDA_LAUNCH_BLOCKING=1\n",
    "os.environ[\"CUDA_VISIBLE_DEVICES\"] = \"0,1\"\n",
    "os.environ[\"CUDA_LAUNCH_BLOCKING\"] = \"1\"\n",
    "# torch.distributed.init_process_group(backend='nccl')"
   ]
  },
  {
   "cell_type": "code",
   "execution_count": 3,
   "metadata": {},
   "outputs": [],
   "source": [
    "#config\n",
    "ft_n_train = 256\n",
    "ft_n_val = 32\n",
    "ft_dataset = \"pajama\"\n",
    "base_model = \"meta-llama/Llama-2-7b-hf\"\n",
    "seqlen = 4096\n",
    "batch_size = 1\n",
    "per_device_train_batch_size = 4\n",
    "use_embedding = False\n",
    "seed = 0\n",
    "\n",
    "\n",
    "utils.seed(seed)"
   ]
  },
  {
   "cell_type": "code",
   "execution_count": 4,
   "metadata": {},
   "outputs": [
    {
     "name": "stderr",
     "output_type": "stream",
     "text": [
      "Loading Red Pajama: 100%|██████████| 288/288 [00:23<00:00, 12.09it/s]\n"
     ]
    }
   ],
   "source": [
    "overall_data:list[torch.FloatTensor] = data.get_loaders(ft_dataset, nsamples = ft_n_train+ft_n_val\n",
    "                                  , model = base_model, train_test = \"train\",\n",
    "                                  seqlen=seqlen)\n",
    "\n",
    "overall_data = torch.stack([_[0][0] for _ in overall_data])"
   ]
  },
  {
   "cell_type": "code",
   "execution_count": 5,
   "metadata": {},
   "outputs": [
    {
     "name": "stdout",
     "output_type": "stream",
     "text": [
      "device None dtype torch.float32\n",
      "codebook shape:  torch.Size([4096, 6]) device:  meta dtype:  torch.float32\n",
      "device None dtype torch.float32\n",
      "codebook shape:  torch.Size([4096, 6]) device:  meta dtype:  torch.float32\n",
      "device None dtype torch.float32\n",
      "codebook shape:  torch.Size([4096, 6]) device:  meta dtype:  torch.float32\n",
      "device None dtype torch.float32\n",
      "codebook shape:  torch.Size([4096, 6]) device:  meta dtype:  torch.float32\n",
      "device None dtype torch.float32\n",
      "codebook shape:  torch.Size([4096, 6]) device:  meta dtype:  torch.float32\n",
      "device None dtype torch.float32\n",
      "codebook shape:  torch.Size([4096, 6]) device:  meta dtype:  torch.float32\n",
      "device None dtype torch.float32\n",
      "codebook shape:  torch.Size([4096, 6]) device:  meta dtype:  torch.float32\n",
      "device None dtype torch.float32\n",
      "codebook shape:  torch.Size([4096, 6]) device:  meta dtype:  torch.float32\n",
      "device None dtype torch.float32\n",
      "codebook shape:  torch.Size([4096, 6]) device:  meta dtype:  torch.float32\n",
      "device None dtype torch.float32\n",
      "codebook shape:  torch.Size([4096, 6]) device:  meta dtype:  torch.float32\n",
      "device None dtype torch.float32\n",
      "codebook shape:  torch.Size([4096, 6]) device:  meta dtype:  torch.float32\n",
      "device None dtype torch.float32\n",
      "codebook shape:  torch.Size([4096, 6]) device:  meta dtype:  torch.float32\n",
      "device None dtype torch.float32\n",
      "codebook shape:  torch.Size([4096, 6]) device:  meta dtype:  torch.float32\n",
      "device None dtype torch.float32\n",
      "codebook shape:  torch.Size([4096, 6]) device:  meta dtype:  torch.float32\n",
      "device None dtype torch.float32\n",
      "codebook shape:  torch.Size([4096, 6]) device:  meta dtype:  torch.float32\n",
      "device None dtype torch.float32\n",
      "codebook shape:  torch.Size([4096, 6]) device:  meta dtype:  torch.float32\n",
      "device None dtype torch.float32\n",
      "codebook shape:  torch.Size([4096, 6]) device:  meta dtype:  torch.float32\n",
      "device None dtype torch.float32\n",
      "codebook shape:  torch.Size([4096, 6]) device:  meta dtype:  torch.float32\n",
      "device None dtype torch.float32\n",
      "codebook shape:  torch.Size([4096, 6]) device:  meta dtype:  torch.float32\n",
      "device None dtype torch.float32\n",
      "codebook shape:  torch.Size([4096, 6]) device:  meta dtype:  torch.float32\n",
      "device None dtype torch.float32\n",
      "codebook shape:  torch.Size([4096, 6]) device:  meta dtype:  torch.float32\n",
      "device None dtype torch.float32\n",
      "codebook shape:  torch.Size([4096, 6]) device:  meta dtype:  torch.float32\n",
      "device None dtype torch.float32\n",
      "codebook shape:  torch.Size([4096, 6]) device:  meta dtype:  torch.float32\n",
      "device None dtype torch.float32\n",
      "codebook shape:  torch.Size([4096, 6]) device:  meta dtype:  torch.float32\n",
      "device None dtype torch.float32\n",
      "codebook shape:  torch.Size([4096, 6]) device:  meta dtype:  torch.float32\n",
      "device None dtype torch.float32\n",
      "codebook shape:  torch.Size([4096, 6]) device:  meta dtype:  torch.float32\n",
      "device None dtype torch.float32\n",
      "codebook shape:  torch.Size([4096, 6]) device:  meta dtype:  torch.float32\n",
      "device None dtype torch.float32\n",
      "codebook shape:  torch.Size([4096, 6]) device:  meta dtype:  torch.float32\n",
      "device None dtype torch.float32\n",
      "codebook shape:  torch.Size([4096, 6]) device:  meta dtype:  torch.float32\n",
      "device None dtype torch.float32\n",
      "codebook shape:  torch.Size([4096, 6]) device:  meta dtype:  torch.float32\n",
      "device None dtype torch.float32\n",
      "codebook shape:  torch.Size([4096, 6]) device:  meta dtype:  torch.float32\n",
      "device None dtype torch.float32\n",
      "codebook shape:  torch.Size([4096, 6]) device:  meta dtype:  torch.float32\n",
      "device None dtype torch.float32\n",
      "codebook shape:  torch.Size([4096, 6]) device:  meta dtype:  torch.float32\n",
      "device None dtype torch.float32\n",
      "codebook shape:  torch.Size([4096, 6]) device:  meta dtype:  torch.float32\n",
      "device None dtype torch.float32\n",
      "codebook shape:  torch.Size([4096, 6]) device:  meta dtype:  torch.float32\n",
      "device None dtype torch.float32\n",
      "codebook shape:  torch.Size([4096, 6]) device:  meta dtype:  torch.float32\n",
      "device None dtype torch.float32\n",
      "codebook shape:  torch.Size([4096, 6]) device:  meta dtype:  torch.float32\n",
      "device None dtype torch.float32\n",
      "codebook shape:  torch.Size([4096, 6]) device:  meta dtype:  torch.float32\n",
      "device None dtype torch.float32\n",
      "codebook shape:  torch.Size([4096, 6]) device:  meta dtype:  torch.float32\n",
      "device None dtype torch.float32\n",
      "codebook shape:  torch.Size([4096, 6]) device:  meta dtype:  torch.float32\n",
      "device None dtype torch.float32\n",
      "codebook shape:  torch.Size([4096, 6]) device:  meta dtype:  torch.float32\n",
      "device None dtype torch.float32\n",
      "codebook shape:  torch.Size([4096, 6]) device:  meta dtype:  torch.float32\n",
      "device None dtype torch.float32\n",
      "codebook shape:  torch.Size([4096, 6]) device:  meta dtype:  torch.float32\n",
      "device None dtype torch.float32\n",
      "codebook shape:  torch.Size([4096, 6]) device:  meta dtype:  torch.float32\n",
      "device None dtype torch.float32\n",
      "codebook shape:  torch.Size([4096, 6]) device:  meta dtype:  torch.float32\n",
      "device None dtype torch.float32\n",
      "codebook shape:  torch.Size([4096, 6]) device:  meta dtype:  torch.float32\n",
      "device None dtype torch.float32\n",
      "codebook shape:  torch.Size([4096, 6]) device:  meta dtype:  torch.float32\n",
      "device None dtype torch.float32\n",
      "codebook shape:  torch.Size([4096, 6]) device:  meta dtype:  torch.float32\n",
      "device None dtype torch.float32\n",
      "codebook shape:  torch.Size([4096, 6]) device:  meta dtype:  torch.float32\n",
      "device None dtype torch.float32\n",
      "codebook shape:  torch.Size([4096, 6]) device:  meta dtype:  torch.float32\n",
      "device None dtype torch.float32\n",
      "codebook shape:  torch.Size([4096, 6]) device:  meta dtype:  torch.float32\n",
      "device None dtype torch.float32\n",
      "codebook shape:  torch.Size([4096, 6]) device:  meta dtype:  torch.float32\n",
      "device None dtype torch.float32\n",
      "codebook shape:  torch.Size([4096, 6]) device:  meta dtype:  torch.float32\n",
      "device None dtype torch.float32\n",
      "codebook shape:  torch.Size([4096, 6]) device:  meta dtype:  torch.float32\n",
      "device None dtype torch.float32\n",
      "codebook shape:  torch.Size([4096, 6]) device:  meta dtype:  torch.float32\n",
      "device None dtype torch.float32\n",
      "codebook shape:  torch.Size([4096, 6]) device:  meta dtype:  torch.float32\n",
      "device None dtype torch.float32\n",
      "codebook shape:  torch.Size([4096, 6]) device:  meta dtype:  torch.float32\n",
      "device None dtype torch.float32\n",
      "codebook shape:  torch.Size([4096, 6]) device:  meta dtype:  torch.float32\n",
      "device None dtype torch.float32\n",
      "codebook shape:  torch.Size([4096, 6]) device:  meta dtype:  torch.float32\n",
      "device None dtype torch.float32\n",
      "codebook shape:  torch.Size([4096, 6]) device:  meta dtype:  torch.float32\n",
      "device None dtype torch.float32\n",
      "codebook shape:  torch.Size([4096, 6]) device:  meta dtype:  torch.float32\n",
      "device None dtype torch.float32\n",
      "codebook shape:  torch.Size([4096, 6]) device:  meta dtype:  torch.float32\n",
      "device None dtype torch.float32\n",
      "codebook shape:  torch.Size([4096, 6]) device:  meta dtype:  torch.float32\n",
      "device None dtype torch.float32\n",
      "codebook shape:  torch.Size([4096, 6]) device:  meta dtype:  torch.float32\n",
      "device None dtype torch.float32\n",
      "codebook shape:  torch.Size([4096, 6]) device:  meta dtype:  torch.float32\n",
      "device None dtype torch.float32\n",
      "codebook shape:  torch.Size([4096, 6]) device:  meta dtype:  torch.float32\n",
      "device None dtype torch.float32\n",
      "codebook shape:  torch.Size([4096, 6]) device:  meta dtype:  torch.float32\n",
      "device None dtype torch.float32\n",
      "codebook shape:  torch.Size([4096, 6]) device:  meta dtype:  torch.float32\n",
      "device None dtype torch.float32\n",
      "codebook shape:  torch.Size([4096, 6]) device:  meta dtype:  torch.float32\n",
      "device None dtype torch.float32\n",
      "codebook shape:  torch.Size([4096, 6]) device:  meta dtype:  torch.float32\n",
      "device None dtype torch.float32\n",
      "codebook shape:  torch.Size([4096, 6]) device:  meta dtype:  torch.float32\n",
      "device None dtype torch.float32\n",
      "codebook shape:  torch.Size([4096, 6]) device:  meta dtype:  torch.float32\n",
      "device None dtype torch.float32\n",
      "codebook shape:  torch.Size([4096, 6]) device:  meta dtype:  torch.float32\n",
      "device None dtype torch.float32\n",
      "codebook shape:  torch.Size([4096, 6]) device:  meta dtype:  torch.float32\n",
      "device None dtype torch.float32\n",
      "codebook shape:  torch.Size([4096, 6]) device:  meta dtype:  torch.float32\n",
      "device None dtype torch.float32\n",
      "codebook shape:  torch.Size([4096, 6]) device:  meta dtype:  torch.float32\n",
      "device None dtype torch.float32\n",
      "codebook shape:  torch.Size([4096, 6]) device:  meta dtype:  torch.float32\n",
      "device None dtype torch.float32\n",
      "codebook shape:  torch.Size([4096, 6]) device:  meta dtype:  torch.float32\n",
      "device None dtype torch.float32\n",
      "codebook shape:  torch.Size([4096, 6]) device:  meta dtype:  torch.float32\n",
      "device None dtype torch.float32\n",
      "codebook shape:  torch.Size([4096, 6]) device:  meta dtype:  torch.float32\n",
      "device None dtype torch.float32\n",
      "codebook shape:  torch.Size([4096, 6]) device:  meta dtype:  torch.float32\n",
      "device None dtype torch.float32\n",
      "codebook shape:  torch.Size([4096, 6]) device:  meta dtype:  torch.float32\n",
      "device None dtype torch.float32\n",
      "codebook shape:  torch.Size([4096, 6]) device:  meta dtype:  torch.float32\n",
      "device None dtype torch.float32\n",
      "codebook shape:  torch.Size([4096, 6]) device:  meta dtype:  torch.float32\n",
      "device None dtype torch.float32\n",
      "codebook shape:  torch.Size([4096, 6]) device:  meta dtype:  torch.float32\n",
      "device None dtype torch.float32\n",
      "codebook shape:  torch.Size([4096, 6]) device:  meta dtype:  torch.float32\n",
      "device None dtype torch.float32\n",
      "codebook shape:  torch.Size([4096, 6]) device:  meta dtype:  torch.float32\n",
      "device None dtype torch.float32\n",
      "codebook shape:  torch.Size([4096, 6]) device:  meta dtype:  torch.float32\n",
      "device None dtype torch.float32\n",
      "codebook shape:  torch.Size([4096, 6]) device:  meta dtype:  torch.float32\n",
      "device None dtype torch.float32\n",
      "codebook shape:  torch.Size([4096, 6]) device:  meta dtype:  torch.float32\n",
      "device None dtype torch.float32\n",
      "codebook shape:  torch.Size([4096, 6]) device:  meta dtype:  torch.float32\n",
      "device None dtype torch.float32\n",
      "codebook shape:  torch.Size([4096, 6]) device:  meta dtype:  torch.float32\n",
      "device None dtype torch.float32\n",
      "codebook shape:  torch.Size([4096, 6]) device:  meta dtype:  torch.float32\n",
      "device None dtype torch.float32\n",
      "codebook shape:  torch.Size([4096, 6]) device:  meta dtype:  torch.float32\n",
      "device None dtype torch.float32\n",
      "codebook shape:  torch.Size([4096, 6]) device:  meta dtype:  torch.float32\n",
      "device None dtype torch.float32\n",
      "codebook shape:  torch.Size([4096, 6]) device:  meta dtype:  torch.float32\n",
      "device None dtype torch.float32\n",
      "codebook shape:  torch.Size([4096, 6]) device:  meta dtype:  torch.float32\n",
      "device None dtype torch.float32\n",
      "codebook shape:  torch.Size([4096, 6]) device:  meta dtype:  torch.float32\n",
      "device None dtype torch.float32\n",
      "codebook shape:  torch.Size([4096, 6]) device:  meta dtype:  torch.float32\n",
      "device None dtype torch.float32\n",
      "codebook shape:  torch.Size([4096, 6]) device:  meta dtype:  torch.float32\n",
      "device None dtype torch.float32\n",
      "codebook shape:  torch.Size([4096, 6]) device:  meta dtype:  torch.float32\n",
      "device None dtype torch.float32\n",
      "codebook shape:  torch.Size([4096, 6]) device:  meta dtype:  torch.float32\n",
      "device None dtype torch.float32\n",
      "codebook shape:  torch.Size([4096, 6]) device:  meta dtype:  torch.float32\n",
      "device None dtype torch.float32\n",
      "codebook shape:  torch.Size([4096, 6]) device:  meta dtype:  torch.float32\n",
      "device None dtype torch.float32\n",
      "codebook shape:  torch.Size([4096, 6]) device:  meta dtype:  torch.float32\n",
      "device None dtype torch.float32\n",
      "codebook shape:  torch.Size([4096, 6]) device:  meta dtype:  torch.float32\n",
      "device None dtype torch.float32\n",
      "codebook shape:  torch.Size([4096, 6]) device:  meta dtype:  torch.float32\n",
      "device None dtype torch.float32\n",
      "codebook shape:  torch.Size([4096, 6]) device:  meta dtype:  torch.float32\n",
      "device None dtype torch.float32\n",
      "codebook shape:  torch.Size([4096, 6]) device:  meta dtype:  torch.float32\n",
      "device None dtype torch.float32\n",
      "codebook shape:  torch.Size([4096, 6]) device:  meta dtype:  torch.float32\n",
      "device None dtype torch.float32\n",
      "codebook shape:  torch.Size([4096, 6]) device:  meta dtype:  torch.float32\n",
      "device None dtype torch.float32\n",
      "codebook shape:  torch.Size([4096, 6]) device:  meta dtype:  torch.float32\n",
      "device None dtype torch.float32\n",
      "codebook shape:  torch.Size([4096, 6]) device:  meta dtype:  torch.float32\n",
      "device None dtype torch.float32\n",
      "codebook shape:  torch.Size([4096, 6]) device:  meta dtype:  torch.float32\n",
      "device None dtype torch.float32\n",
      "codebook shape:  torch.Size([4096, 6]) device:  meta dtype:  torch.float32\n",
      "device None dtype torch.float32\n",
      "codebook shape:  torch.Size([4096, 6]) device:  meta dtype:  torch.float32\n",
      "device None dtype torch.float32\n",
      "codebook shape:  torch.Size([4096, 6]) device:  meta dtype:  torch.float32\n",
      "device None dtype torch.float32\n",
      "codebook shape:  torch.Size([4096, 6]) device:  meta dtype:  torch.float32\n",
      "device None dtype torch.float32\n",
      "codebook shape:  torch.Size([4096, 6]) device:  meta dtype:  torch.float32\n",
      "device None dtype torch.float32\n",
      "codebook shape:  torch.Size([4096, 6]) device:  meta dtype:  torch.float32\n",
      "device None dtype torch.float32\n",
      "codebook shape:  torch.Size([4096, 6]) device:  meta dtype:  torch.float32\n",
      "device None dtype torch.float32\n",
      "codebook shape:  torch.Size([4096, 6]) device:  meta dtype:  torch.float32\n",
      "device None dtype torch.float32\n",
      "codebook shape:  torch.Size([4096, 6]) device:  meta dtype:  torch.float32\n",
      "device None dtype torch.float32\n",
      "codebook shape:  torch.Size([4096, 6]) device:  meta dtype:  torch.float32\n",
      "device None dtype torch.float32\n",
      "codebook shape:  torch.Size([4096, 6]) device:  meta dtype:  torch.float32\n",
      "device None dtype torch.float32\n",
      "codebook shape:  torch.Size([4096, 6]) device:  meta dtype:  torch.float32\n",
      "device None dtype torch.float32\n",
      "codebook shape:  torch.Size([4096, 6]) device:  meta dtype:  torch.float32\n",
      "device None dtype torch.float32\n",
      "codebook shape:  torch.Size([4096, 6]) device:  meta dtype:  torch.float32\n",
      "device None dtype torch.float32\n",
      "codebook shape:  torch.Size([4096, 6]) device:  meta dtype:  torch.float32\n",
      "device None dtype torch.float32\n",
      "codebook shape:  torch.Size([4096, 6]) device:  meta dtype:  torch.float32\n",
      "device None dtype torch.float32\n",
      "codebook shape:  torch.Size([4096, 6]) device:  meta dtype:  torch.float32\n",
      "device None dtype torch.float32\n",
      "codebook shape:  torch.Size([4096, 6]) device:  meta dtype:  torch.float32\n",
      "device None dtype torch.float32\n",
      "codebook shape:  torch.Size([4096, 6]) device:  meta dtype:  torch.float32\n",
      "device None dtype torch.float32\n",
      "codebook shape:  torch.Size([4096, 6]) device:  meta dtype:  torch.float32\n",
      "device None dtype torch.float32\n",
      "codebook shape:  torch.Size([4096, 6]) device:  meta dtype:  torch.float32\n",
      "device None dtype torch.float32\n",
      "codebook shape:  torch.Size([4096, 6]) device:  meta dtype:  torch.float32\n",
      "device None dtype torch.float32\n",
      "codebook shape:  torch.Size([4096, 6]) device:  meta dtype:  torch.float32\n",
      "device None dtype torch.float32\n",
      "codebook shape:  torch.Size([4096, 6]) device:  meta dtype:  torch.float32\n",
      "device None dtype torch.float32\n",
      "codebook shape:  torch.Size([4096, 6]) device:  meta dtype:  torch.float32\n",
      "device None dtype torch.float32\n",
      "codebook shape:  torch.Size([4096, 6]) device:  meta dtype:  torch.float32\n",
      "device None dtype torch.float32\n",
      "codebook shape:  torch.Size([4096, 6]) device:  meta dtype:  torch.float32\n",
      "device None dtype torch.float32\n",
      "codebook shape:  torch.Size([4096, 6]) device:  meta dtype:  torch.float32\n",
      "device None dtype torch.float32\n",
      "codebook shape:  torch.Size([4096, 6]) device:  meta dtype:  torch.float32\n",
      "device None dtype torch.float32\n",
      "codebook shape:  torch.Size([4096, 6]) device:  meta dtype:  torch.float32\n",
      "device None dtype torch.float32\n",
      "codebook shape:  torch.Size([4096, 6]) device:  meta dtype:  torch.float32\n",
      "device None dtype torch.float32\n",
      "codebook shape:  torch.Size([4096, 6]) device:  meta dtype:  torch.float32\n",
      "device None dtype torch.float32\n",
      "codebook shape:  torch.Size([4096, 6]) device:  meta dtype:  torch.float32\n",
      "device None dtype torch.float32\n",
      "codebook shape:  torch.Size([4096, 6]) device:  meta dtype:  torch.float32\n",
      "device None dtype torch.float32\n",
      "codebook shape:  torch.Size([4096, 6]) device:  meta dtype:  torch.float32\n",
      "device None dtype torch.float32\n",
      "codebook shape:  torch.Size([4096, 6]) device:  meta dtype:  torch.float32\n",
      "device None dtype torch.float32\n",
      "codebook shape:  torch.Size([4096, 6]) device:  meta dtype:  torch.float32\n",
      "device None dtype torch.float32\n",
      "codebook shape:  torch.Size([4096, 6]) device:  meta dtype:  torch.float32\n",
      "device None dtype torch.float32\n",
      "codebook shape:  torch.Size([4096, 6]) device:  meta dtype:  torch.float32\n",
      "device None dtype torch.float32\n",
      "codebook shape:  torch.Size([4096, 6]) device:  meta dtype:  torch.float32\n",
      "device None dtype torch.float32\n",
      "codebook shape:  torch.Size([4096, 6]) device:  meta dtype:  torch.float32\n",
      "device None dtype torch.float32\n",
      "codebook shape:  torch.Size([4096, 6]) device:  meta dtype:  torch.float32\n",
      "device None dtype torch.float32\n",
      "codebook shape:  torch.Size([4096, 6]) device:  meta dtype:  torch.float32\n",
      "device None dtype torch.float32\n",
      "codebook shape:  torch.Size([4096, 6]) device:  meta dtype:  torch.float32\n",
      "device None dtype torch.float32\n",
      "codebook shape:  torch.Size([4096, 6]) device:  meta dtype:  torch.float32\n",
      "device None dtype torch.float32\n",
      "codebook shape:  torch.Size([4096, 6]) device:  meta dtype:  torch.float32\n",
      "device None dtype torch.float32\n",
      "codebook shape:  torch.Size([4096, 6]) device:  meta dtype:  torch.float32\n",
      "device None dtype torch.float32\n",
      "codebook shape:  torch.Size([4096, 6]) device:  meta dtype:  torch.float32\n",
      "device None dtype torch.float32\n",
      "codebook shape:  torch.Size([4096, 6]) device:  meta dtype:  torch.float32\n",
      "device None dtype torch.float32\n",
      "codebook shape:  torch.Size([4096, 6]) device:  meta dtype:  torch.float32\n",
      "device None dtype torch.float32\n",
      "codebook shape:  torch.Size([4096, 6]) device:  meta dtype:  torch.float32\n",
      "device None dtype torch.float32\n",
      "codebook shape:  torch.Size([4096, 6]) device:  meta dtype:  torch.float32\n",
      "device None dtype torch.float32\n",
      "codebook shape:  torch.Size([4096, 6]) device:  meta dtype:  torch.float32\n",
      "device None dtype torch.float32\n",
      "codebook shape:  torch.Size([4096, 6]) device:  meta dtype:  torch.float32\n",
      "device None dtype torch.float32\n",
      "codebook shape:  torch.Size([4096, 6]) device:  meta dtype:  torch.float32\n",
      "device None dtype torch.float32\n",
      "codebook shape:  torch.Size([4096, 6]) device:  meta dtype:  torch.float32\n",
      "device None dtype torch.float32\n",
      "codebook shape:  torch.Size([4096, 6]) device:  meta dtype:  torch.float32\n",
      "device None dtype torch.float32\n",
      "codebook shape:  torch.Size([4096, 6]) device:  meta dtype:  torch.float32\n",
      "device None dtype torch.float32\n",
      "codebook shape:  torch.Size([4096, 6]) device:  meta dtype:  torch.float32\n",
      "device None dtype torch.float32\n",
      "codebook shape:  torch.Size([4096, 6]) device:  meta dtype:  torch.float32\n",
      "device None dtype torch.float32\n",
      "codebook shape:  torch.Size([4096, 6]) device:  meta dtype:  torch.float32\n",
      "device None dtype torch.float32\n",
      "codebook shape:  torch.Size([4096, 6]) device:  meta dtype:  torch.float32\n",
      "device None dtype torch.float32\n",
      "codebook shape:  torch.Size([4096, 6]) device:  meta dtype:  torch.float32\n",
      "device None dtype torch.float32\n",
      "codebook shape:  torch.Size([4096, 6]) device:  meta dtype:  torch.float32\n",
      "device None dtype torch.float32\n",
      "codebook shape:  torch.Size([4096, 6]) device:  meta dtype:  torch.float32\n",
      "device None dtype torch.float32\n",
      "codebook shape:  torch.Size([4096, 6]) device:  meta dtype:  torch.float32\n",
      "device None dtype torch.float32\n",
      "codebook shape:  torch.Size([4096, 6]) device:  meta dtype:  torch.float32\n",
      "device None dtype torch.float32\n",
      "codebook shape:  torch.Size([4096, 6]) device:  meta dtype:  torch.float32\n",
      "device None dtype torch.float32\n",
      "codebook shape:  torch.Size([4096, 6]) device:  meta dtype:  torch.float32\n",
      "device None dtype torch.float32\n",
      "codebook shape:  torch.Size([4096, 6]) device:  meta dtype:  torch.float32\n",
      "device None dtype torch.float32\n",
      "codebook shape:  torch.Size([4096, 6]) device:  meta dtype:  torch.float32\n",
      "device None dtype torch.float32\n",
      "codebook shape:  torch.Size([4096, 6]) device:  meta dtype:  torch.float32\n",
      "device None dtype torch.float32\n",
      "codebook shape:  torch.Size([4096, 6]) device:  meta dtype:  torch.float32\n",
      "device None dtype torch.float32\n",
      "codebook shape:  torch.Size([4096, 6]) device:  meta dtype:  torch.float32\n",
      "device None dtype torch.float32\n",
      "codebook shape:  torch.Size([4096, 6]) device:  meta dtype:  torch.float32\n",
      "device None dtype torch.float32\n",
      "codebook shape:  torch.Size([4096, 6]) device:  meta dtype:  torch.float32\n",
      "device None dtype torch.float32\n",
      "codebook shape:  torch.Size([4096, 6]) device:  meta dtype:  torch.float32\n",
      "device None dtype torch.float32\n",
      "codebook shape:  torch.Size([4096, 6]) device:  meta dtype:  torch.float32\n",
      "device None dtype torch.float32\n",
      "codebook shape:  torch.Size([4096, 6]) device:  meta dtype:  torch.float32\n",
      "device None dtype torch.float32\n",
      "codebook shape:  torch.Size([4096, 6]) device:  meta dtype:  torch.float32\n",
      "device None dtype torch.float32\n",
      "codebook shape:  torch.Size([4096, 6]) device:  meta dtype:  torch.float32\n",
      "device None dtype torch.float32\n",
      "codebook shape:  torch.Size([4096, 6]) device:  meta dtype:  torch.float32\n",
      "device None dtype torch.float32\n",
      "codebook shape:  torch.Size([4096, 6]) device:  meta dtype:  torch.float32\n",
      "device None dtype torch.float32\n",
      "codebook shape:  torch.Size([4096, 6]) device:  meta dtype:  torch.float32\n",
      "device None dtype torch.float32\n",
      "codebook shape:  torch.Size([4096, 6]) device:  meta dtype:  torch.float32\n",
      "device None dtype torch.float32\n",
      "codebook shape:  torch.Size([4096, 6]) device:  meta dtype:  torch.float32\n",
      "device None dtype torch.float32\n",
      "codebook shape:  torch.Size([4096, 6]) device:  meta dtype:  torch.float32\n",
      "device None dtype torch.float32\n",
      "codebook shape:  torch.Size([4096, 6]) device:  meta dtype:  torch.float32\n",
      "device None dtype torch.float32\n",
      "codebook shape:  torch.Size([4096, 6]) device:  meta dtype:  torch.float32\n",
      "device None dtype torch.float32\n",
      "codebook shape:  torch.Size([4096, 6]) device:  meta dtype:  torch.float32\n",
      "device None dtype torch.float32\n",
      "codebook shape:  torch.Size([4096, 6]) device:  meta dtype:  torch.float32\n",
      "device None dtype torch.float32\n",
      "codebook shape:  torch.Size([4096, 6]) device:  meta dtype:  torch.float32\n",
      "device None dtype torch.float32\n",
      "codebook shape:  torch.Size([4096, 6]) device:  meta dtype:  torch.float32\n",
      "device None dtype torch.float32\n",
      "codebook shape:  torch.Size([4096, 6]) device:  meta dtype:  torch.float32\n",
      "device None dtype torch.float32\n",
      "codebook shape:  torch.Size([4096, 6]) device:  meta dtype:  torch.float32\n",
      "device None dtype torch.float32\n",
      "codebook shape:  torch.Size([4096, 6]) device:  meta dtype:  torch.float32\n",
      "device None dtype torch.float32\n",
      "codebook shape:  torch.Size([4096, 6]) device:  meta dtype:  torch.float32\n",
      "device None dtype torch.float32\n",
      "codebook shape:  torch.Size([4096, 6]) device:  meta dtype:  torch.float32\n",
      "device None dtype torch.float32\n",
      "codebook shape:  torch.Size([4096, 6]) device:  meta dtype:  torch.float32\n",
      "device None dtype torch.float32\n",
      "codebook shape:  torch.Size([4096, 6]) device:  meta dtype:  torch.float32\n",
      "device None dtype torch.float32\n",
      "codebook shape:  torch.Size([4096, 6]) device:  meta dtype:  torch.float32\n",
      "device None dtype torch.float32\n",
      "codebook shape:  torch.Size([4096, 6]) device:  meta dtype:  torch.float32\n",
      "device None dtype torch.float32\n",
      "codebook shape:  torch.Size([4096, 6]) device:  meta dtype:  torch.float32\n",
      "device None dtype torch.float32\n",
      "codebook shape:  torch.Size([4096, 6]) device:  meta dtype:  torch.float32\n",
      "device None dtype torch.float32\n",
      "codebook shape:  torch.Size([4096, 6]) device:  meta dtype:  torch.float32\n",
      "device None dtype torch.float32\n",
      "codebook shape:  torch.Size([4096, 6]) device:  meta dtype:  torch.float32\n",
      "device None dtype torch.float32\n",
      "codebook shape:  torch.Size([4096, 6]) device:  meta dtype:  torch.float32\n",
      "device None dtype torch.float32\n",
      "codebook shape:  torch.Size([4096, 6]) device:  meta dtype:  torch.float32\n",
      "device None dtype torch.float32\n",
      "codebook shape:  torch.Size([4096, 6]) device:  meta dtype:  torch.float32\n",
      "device None dtype torch.float32\n",
      "codebook shape:  torch.Size([4096, 6]) device:  meta dtype:  torch.float32\n"
     ]
    },
    {
     "data": {
      "application/vnd.jupyter.widget-view+json": {
       "model_id": "2a1487f94d9b49f1a6f7d368810a3301",
       "version_major": 2,
       "version_minor": 0
      },
      "text/plain": [
       "Loading checkpoint shards:   0%|          | 0/2 [00:00<?, ?it/s]"
      ]
     },
     "metadata": {},
     "output_type": "display_data"
    }
   ],
   "source": [
    "model = llama.LlamaForCausalLM.from_pretrained(\"/data/lliu/huffman/models/meta-llama/Llama-2-7b-hf/compressed_hf/run_38\",\n",
    "                                               device_map=\"auto\",\n",
    "                                                  torch_dtype=torch.float32,\n",
    "                                                    low_cpu_mem_usage=True)\n",
    "\n",
    "# model = model_utils.get_llama(\"meta-llama/Llama-2-7b-hf\",\n",
    "#                                device_map=\"auto\",\n",
    "#                                 dtype=torch.float32)\n",
    "                          \n",
    "    "
   ]
  },
  {
   "cell_type": "code",
   "execution_count": 6,
   "metadata": {},
   "outputs": [
    {
     "data": {
      "text/plain": [
       "Parameter containing:\n",
       "tensor([], device='cuda:0', requires_grad=True)"
      ]
     },
     "execution_count": 6,
     "metadata": {},
     "output_type": "execute_result"
    }
   ],
   "source": [
    "model.model.layers[0].self_attn.k_proj.normalizer.zeros[0]"
   ]
  },
  {
   "cell_type": "code",
   "execution_count": 7,
   "metadata": {},
   "outputs": [],
   "source": [
    "from torch.utils.data import Dataset\n",
    "from typing import Tuple\n",
    "\n",
    "class SimpleDataset(Dataset):\n",
    "\n",
    "    def __init__(self, input_ids):\n",
    "        self.input_ids = input_ids\n",
    "    \n",
    "\n",
    "    def __len__(self):\n",
    "        return len(self.input_ids)\n",
    "\n",
    "    def __getitem__(self, idx):\n",
    "        return {\n",
    "            'input_ids': self.input_ids[idx], \"labels\": self.input_ids[idx]\n",
    "        }\n",
    "    \n",
    "def make_datasets(X, n_val:int) -> Tuple[Dataset, Dataset]:\n",
    "    \n",
    "\n",
    "    #make the indices\n",
    "    idxs = torch.randperm(len(X))\n",
    "    train_idxs = idxs[:-n_val]\n",
    "\n",
    "    train_ds = SimpleDataset(X[train_idxs])\n",
    "    valid_ds = SimpleDataset(X[idxs[-n_val:]])\n",
    "    return train_ds, valid_ds\n",
    "\n",
    "traindataset, validdataset = make_datasets(overall_data, ft_n_val)"
   ]
  },
  {
   "cell_type": "code",
   "execution_count": 8,
   "metadata": {},
   "outputs": [
    {
     "data": {
      "text/plain": [
       "(256, 32)"
      ]
     },
     "execution_count": 8,
     "metadata": {},
     "output_type": "execute_result"
    }
   ],
   "source": [
    "len(traindataset), len(validdataset)"
   ]
  },
  {
   "cell_type": "code",
   "execution_count": 9,
   "metadata": {},
   "outputs": [
    {
     "data": {
      "text/plain": [
       "{'input_ids': tensor([  746,  1906, 14582,  ...,  3153, 13433,   470]),\n",
       " 'labels': tensor([  746,  1906, 14582,  ...,  3153, 13433,   470])}"
      ]
     },
     "execution_count": 9,
     "metadata": {},
     "output_type": "execute_result"
    }
   ],
   "source": [
    "traindataset[0]"
   ]
  },
  {
   "cell_type": "code",
   "execution_count": 10,
   "metadata": {},
   "outputs": [],
   "source": [
    "\n",
    "\n",
    "#custom kld loss\n",
    "def custom_kld_loss(outputs, labels, num_items_in_batch):\n",
    "    \n",
    "    logits = outputs['logits'][:,:-1]\n",
    "    print(logits.shape, labels.shape, num_items_in_batch)\n",
    "    \n",
    "    #do kld on the last dim\n",
    "    loss = torch.nn.KLDivLoss(reduction='sum')(logits, labels)\n",
    "    if num_items_in_batch == 0 or num_items_in_batch is None:\n",
    "        l = loss/logits.numel()\n",
    "        print(l)\n",
    "        return l\n",
    "    else:\n",
    "        print(loss / num_items_in_batch)\n",
    "        return loss / num_items_in_batch\n",
    "    \n",
    "    "
   ]
  },
  {
   "cell_type": "code",
   "execution_count": 13,
   "metadata": {},
   "outputs": [
    {
     "name": "stderr",
     "output_type": "stream",
     "text": [
      "/home/lliu/miniconda3/envs/NoWAC-VQ/lib/python3.13/site-packages/transformers/training_args.py:1611: FutureWarning: `evaluation_strategy` is deprecated and will be removed in version 4.46 of 🤗 Transformers. Use `eval_strategy` instead\n",
      "  warnings.warn(\n",
      "\u001b[34m\u001b[1mwandb\u001b[0m: Using wandb-core as the SDK backend.  Please refer to https://wandb.me/wandb-core for more information.\n",
      "\u001b[34m\u001b[1mwandb\u001b[0m: Currently logged in as: \u001b[33mm6481\u001b[0m to \u001b[32mhttps://api.wandb.ai\u001b[0m. Use \u001b[1m`wandb login --relogin`\u001b[0m to force relogin\n"
     ]
    },
    {
     "data": {
      "text/html": [
       "Tracking run with wandb version 0.19.8"
      ],
      "text/plain": [
       "<IPython.core.display.HTML object>"
      ]
     },
     "metadata": {},
     "output_type": "display_data"
    },
    {
     "data": {
      "text/html": [
       "Run data is saved locally in <code>/data/lliu/huffman/wandb/run-20250322_182445-1mm2nesk</code>"
      ],
      "text/plain": [
       "<IPython.core.display.HTML object>"
      ]
     },
     "metadata": {},
     "output_type": "display_data"
    },
    {
     "data": {
      "text/html": [
       "Syncing run <strong><a href='https://wandb.ai/m6481/huggingface/runs/1mm2nesk' target=\"_blank\">llama-2-7b-hf</a></strong> to <a href='https://wandb.ai/m6481/huggingface' target=\"_blank\">Weights & Biases</a> (<a href='https://wandb.me/developer-guide' target=\"_blank\">docs</a>)<br>"
      ],
      "text/plain": [
       "<IPython.core.display.HTML object>"
      ]
     },
     "metadata": {},
     "output_type": "display_data"
    },
    {
     "data": {
      "text/html": [
       " View project at <a href='https://wandb.ai/m6481/huggingface' target=\"_blank\">https://wandb.ai/m6481/huggingface</a>"
      ],
      "text/plain": [
       "<IPython.core.display.HTML object>"
      ]
     },
     "metadata": {},
     "output_type": "display_data"
    },
    {
     "data": {
      "text/html": [
       " View run at <a href='https://wandb.ai/m6481/huggingface/runs/1mm2nesk' target=\"_blank\">https://wandb.ai/m6481/huggingface/runs/1mm2nesk</a>"
      ],
      "text/plain": [
       "<IPython.core.display.HTML object>"
      ]
     },
     "metadata": {},
     "output_type": "display_data"
    },
    {
     "data": {
      "text/html": [
       "\n",
       "    <div>\n",
       "      \n",
       "      <progress value='334' max='640' style='width:300px; height:20px; vertical-align: middle;'></progress>\n",
       "      [334/640 45:46 < 42:11, 0.12 it/s, Epoch 5.20/10]\n",
       "    </div>\n",
       "    <table border=\"1\" class=\"dataframe\">\n",
       "  <thead>\n",
       " <tr style=\"text-align: left;\">\n",
       "      <th>Epoch</th>\n",
       "      <th>Training Loss</th>\n",
       "      <th>Validation Loss</th>\n",
       "    </tr>\n",
       "  </thead>\n",
       "  <tbody>\n",
       "    <tr>\n",
       "      <td>0</td>\n",
       "      <td>No log</td>\n",
       "      <td>1.967803</td>\n",
       "    </tr>\n",
       "    <tr>\n",
       "      <td>1</td>\n",
       "      <td>2.021700</td>\n",
       "      <td>1.904445</td>\n",
       "    </tr>\n",
       "    <tr>\n",
       "      <td>2</td>\n",
       "      <td>1.985700</td>\n",
       "      <td>1.890278</td>\n",
       "    </tr>\n",
       "    <tr>\n",
       "      <td>3</td>\n",
       "      <td>1.574100</td>\n",
       "      <td>1.889801</td>\n",
       "    </tr>\n",
       "    <tr>\n",
       "      <td>4</td>\n",
       "      <td>1.790800</td>\n",
       "      <td>1.891467</td>\n",
       "    </tr>\n",
       "    <tr>\n",
       "      <td>5</td>\n",
       "      <td>1.628000</td>\n",
       "      <td>1.893058</td>\n",
       "    </tr>\n",
       "  </tbody>\n",
       "</table><p>"
      ],
      "text/plain": [
       "<IPython.core.display.HTML object>"
      ]
     },
     "metadata": {},
     "output_type": "display_data"
    },
    {
     "name": "stderr",
     "output_type": "stream",
     "text": [
      "`use_cache=True` is incompatible with gradient checkpointing. Setting `use_cache=False`.\n"
     ]
    },
    {
     "ename": "KeyboardInterrupt",
     "evalue": "",
     "output_type": "error",
     "traceback": [
      "\u001b[31m---------------------------------------------------------------------------\u001b[39m",
      "\u001b[31mKeyboardInterrupt\u001b[39m                         Traceback (most recent call last)",
      "\u001b[36mCell\u001b[39m\u001b[36m \u001b[39m\u001b[32mIn[13]\u001b[39m\u001b[32m, line 38\u001b[39m\n\u001b[32m      3\u001b[39m trainer = transformers.Trainer(\n\u001b[32m      4\u001b[39m     model=model,\n\u001b[32m      5\u001b[39m     args=transformers.TrainingArguments(\n\u001b[32m   (...)\u001b[39m\u001b[32m     34\u001b[39m     eval_dataset=validdataset,\n\u001b[32m     35\u001b[39m )\n\u001b[32m     36\u001b[39m \u001b[38;5;66;03m#get the pre training performance\u001b[39;00m\n\u001b[32m     37\u001b[39m \u001b[38;5;66;03m#train the model\u001b[39;00m\n\u001b[32m---> \u001b[39m\u001b[32m38\u001b[39m \u001b[43mtrainer\u001b[49m\u001b[43m.\u001b[49m\u001b[43mtrain\u001b[49m\u001b[43m(\u001b[49m\u001b[43m)\u001b[49m\n",
      "\u001b[36mFile \u001b[39m\u001b[32m~/miniconda3/envs/NoWAC-VQ/lib/python3.13/site-packages/transformers/trainer.py:2245\u001b[39m, in \u001b[36mTrainer.train\u001b[39m\u001b[34m(self, resume_from_checkpoint, trial, ignore_keys_for_eval, **kwargs)\u001b[39m\n\u001b[32m   2243\u001b[39m         hf_hub_utils.enable_progress_bars()\n\u001b[32m   2244\u001b[39m \u001b[38;5;28;01melse\u001b[39;00m:\n\u001b[32m-> \u001b[39m\u001b[32m2245\u001b[39m     \u001b[38;5;28;01mreturn\u001b[39;00m \u001b[43minner_training_loop\u001b[49m\u001b[43m(\u001b[49m\n\u001b[32m   2246\u001b[39m \u001b[43m        \u001b[49m\u001b[43margs\u001b[49m\u001b[43m=\u001b[49m\u001b[43margs\u001b[49m\u001b[43m,\u001b[49m\n\u001b[32m   2247\u001b[39m \u001b[43m        \u001b[49m\u001b[43mresume_from_checkpoint\u001b[49m\u001b[43m=\u001b[49m\u001b[43mresume_from_checkpoint\u001b[49m\u001b[43m,\u001b[49m\n\u001b[32m   2248\u001b[39m \u001b[43m        \u001b[49m\u001b[43mtrial\u001b[49m\u001b[43m=\u001b[49m\u001b[43mtrial\u001b[49m\u001b[43m,\u001b[49m\n\u001b[32m   2249\u001b[39m \u001b[43m        \u001b[49m\u001b[43mignore_keys_for_eval\u001b[49m\u001b[43m=\u001b[49m\u001b[43mignore_keys_for_eval\u001b[49m\u001b[43m,\u001b[49m\n\u001b[32m   2250\u001b[39m \u001b[43m    \u001b[49m\u001b[43m)\u001b[49m\n",
      "\u001b[36mFile \u001b[39m\u001b[32m~/miniconda3/envs/NoWAC-VQ/lib/python3.13/site-packages/transformers/trainer.py:2556\u001b[39m, in \u001b[36mTrainer._inner_training_loop\u001b[39m\u001b[34m(self, batch_size, args, resume_from_checkpoint, trial, ignore_keys_for_eval)\u001b[39m\n\u001b[32m   2549\u001b[39m context = (\n\u001b[32m   2550\u001b[39m     functools.partial(\u001b[38;5;28mself\u001b[39m.accelerator.no_sync, model=model)\n\u001b[32m   2551\u001b[39m     \u001b[38;5;28;01mif\u001b[39;00m i != \u001b[38;5;28mlen\u001b[39m(batch_samples) - \u001b[32m1\u001b[39m\n\u001b[32m   2552\u001b[39m     \u001b[38;5;129;01mand\u001b[39;00m \u001b[38;5;28mself\u001b[39m.accelerator.distributed_type != DistributedType.DEEPSPEED\n\u001b[32m   2553\u001b[39m     \u001b[38;5;28;01melse\u001b[39;00m contextlib.nullcontext\n\u001b[32m   2554\u001b[39m )\n\u001b[32m   2555\u001b[39m \u001b[38;5;28;01mwith\u001b[39;00m context():\n\u001b[32m-> \u001b[39m\u001b[32m2556\u001b[39m     tr_loss_step = \u001b[38;5;28;43mself\u001b[39;49m\u001b[43m.\u001b[49m\u001b[43mtraining_step\u001b[49m\u001b[43m(\u001b[49m\u001b[43mmodel\u001b[49m\u001b[43m,\u001b[49m\u001b[43m \u001b[49m\u001b[43minputs\u001b[49m\u001b[43m,\u001b[49m\u001b[43m \u001b[49m\u001b[43mnum_items_in_batch\u001b[49m\u001b[43m)\u001b[49m\n\u001b[32m   2558\u001b[39m \u001b[38;5;28;01mif\u001b[39;00m (\n\u001b[32m   2559\u001b[39m     args.logging_nan_inf_filter\n\u001b[32m   2560\u001b[39m     \u001b[38;5;129;01mand\u001b[39;00m \u001b[38;5;129;01mnot\u001b[39;00m is_torch_xla_available()\n\u001b[32m   2561\u001b[39m     \u001b[38;5;129;01mand\u001b[39;00m (torch.isnan(tr_loss_step) \u001b[38;5;129;01mor\u001b[39;00m torch.isinf(tr_loss_step))\n\u001b[32m   2562\u001b[39m ):\n\u001b[32m   2563\u001b[39m     \u001b[38;5;66;03m# if loss is nan or inf simply add the average of previous logged losses\u001b[39;00m\n\u001b[32m   2564\u001b[39m     tr_loss = tr_loss + tr_loss / (\u001b[32m1\u001b[39m + \u001b[38;5;28mself\u001b[39m.state.global_step - \u001b[38;5;28mself\u001b[39m._globalstep_last_logged)\n",
      "\u001b[36mFile \u001b[39m\u001b[32m~/miniconda3/envs/NoWAC-VQ/lib/python3.13/site-packages/transformers/trainer.py:3764\u001b[39m, in \u001b[36mTrainer.training_step\u001b[39m\u001b[34m(***failed resolving arguments***)\u001b[39m\n\u001b[32m   3761\u001b[39m \u001b[38;5;28;01mif\u001b[39;00m \u001b[38;5;28mself\u001b[39m.accelerator.distributed_type == DistributedType.DEEPSPEED:\n\u001b[32m   3762\u001b[39m     kwargs[\u001b[33m\"\u001b[39m\u001b[33mscale_wrt_gas\u001b[39m\u001b[33m\"\u001b[39m] = \u001b[38;5;28;01mFalse\u001b[39;00m\n\u001b[32m-> \u001b[39m\u001b[32m3764\u001b[39m \u001b[38;5;28;43mself\u001b[39;49m\u001b[43m.\u001b[49m\u001b[43maccelerator\u001b[49m\u001b[43m.\u001b[49m\u001b[43mbackward\u001b[49m\u001b[43m(\u001b[49m\u001b[43mloss\u001b[49m\u001b[43m,\u001b[49m\u001b[43m \u001b[49m\u001b[43m*\u001b[49m\u001b[43m*\u001b[49m\u001b[43mkwargs\u001b[49m\u001b[43m)\u001b[49m\n\u001b[32m   3766\u001b[39m \u001b[38;5;28;01mreturn\u001b[39;00m loss.detach()\n",
      "\u001b[36mFile \u001b[39m\u001b[32m~/miniconda3/envs/NoWAC-VQ/lib/python3.13/site-packages/accelerate/accelerator.py:2355\u001b[39m, in \u001b[36mAccelerator.backward\u001b[39m\u001b[34m(self, loss, **kwargs)\u001b[39m\n\u001b[32m   2353\u001b[39m     \u001b[38;5;28;01mreturn\u001b[39;00m\n\u001b[32m   2354\u001b[39m \u001b[38;5;28;01melif\u001b[39;00m \u001b[38;5;28mself\u001b[39m.scaler \u001b[38;5;129;01mis\u001b[39;00m \u001b[38;5;129;01mnot\u001b[39;00m \u001b[38;5;28;01mNone\u001b[39;00m:\n\u001b[32m-> \u001b[39m\u001b[32m2355\u001b[39m     \u001b[38;5;28;43mself\u001b[39;49m\u001b[43m.\u001b[49m\u001b[43mscaler\u001b[49m\u001b[43m.\u001b[49m\u001b[43mscale\u001b[49m\u001b[43m(\u001b[49m\u001b[43mloss\u001b[49m\u001b[43m)\u001b[49m\u001b[43m.\u001b[49m\u001b[43mbackward\u001b[49m\u001b[43m(\u001b[49m\u001b[43m*\u001b[49m\u001b[43m*\u001b[49m\u001b[43mkwargs\u001b[49m\u001b[43m)\u001b[49m\n\u001b[32m   2356\u001b[39m \u001b[38;5;28;01melif\u001b[39;00m learning_rate \u001b[38;5;129;01mis\u001b[39;00m \u001b[38;5;129;01mnot\u001b[39;00m \u001b[38;5;28;01mNone\u001b[39;00m \u001b[38;5;129;01mand\u001b[39;00m \u001b[38;5;28mself\u001b[39m.has_lomo_optimizer:\n\u001b[32m   2357\u001b[39m     \u001b[38;5;28mself\u001b[39m.lomo_backward(loss, learning_rate)\n",
      "\u001b[36mFile \u001b[39m\u001b[32m~/miniconda3/envs/NoWAC-VQ/lib/python3.13/site-packages/torch/_tensor.py:626\u001b[39m, in \u001b[36mTensor.backward\u001b[39m\u001b[34m(self, gradient, retain_graph, create_graph, inputs)\u001b[39m\n\u001b[32m    616\u001b[39m \u001b[38;5;28;01mif\u001b[39;00m has_torch_function_unary(\u001b[38;5;28mself\u001b[39m):\n\u001b[32m    617\u001b[39m     \u001b[38;5;28;01mreturn\u001b[39;00m handle_torch_function(\n\u001b[32m    618\u001b[39m         Tensor.backward,\n\u001b[32m    619\u001b[39m         (\u001b[38;5;28mself\u001b[39m,),\n\u001b[32m   (...)\u001b[39m\u001b[32m    624\u001b[39m         inputs=inputs,\n\u001b[32m    625\u001b[39m     )\n\u001b[32m--> \u001b[39m\u001b[32m626\u001b[39m \u001b[43mtorch\u001b[49m\u001b[43m.\u001b[49m\u001b[43mautograd\u001b[49m\u001b[43m.\u001b[49m\u001b[43mbackward\u001b[49m\u001b[43m(\u001b[49m\n\u001b[32m    627\u001b[39m \u001b[43m    \u001b[49m\u001b[38;5;28;43mself\u001b[39;49m\u001b[43m,\u001b[49m\u001b[43m \u001b[49m\u001b[43mgradient\u001b[49m\u001b[43m,\u001b[49m\u001b[43m \u001b[49m\u001b[43mretain_graph\u001b[49m\u001b[43m,\u001b[49m\u001b[43m \u001b[49m\u001b[43mcreate_graph\u001b[49m\u001b[43m,\u001b[49m\u001b[43m \u001b[49m\u001b[43minputs\u001b[49m\u001b[43m=\u001b[49m\u001b[43minputs\u001b[49m\n\u001b[32m    628\u001b[39m \u001b[43m\u001b[49m\u001b[43m)\u001b[49m\n",
      "\u001b[36mFile \u001b[39m\u001b[32m~/miniconda3/envs/NoWAC-VQ/lib/python3.13/site-packages/torch/autograd/__init__.py:347\u001b[39m, in \u001b[36mbackward\u001b[39m\u001b[34m(tensors, grad_tensors, retain_graph, create_graph, grad_variables, inputs)\u001b[39m\n\u001b[32m    342\u001b[39m     retain_graph = create_graph\n\u001b[32m    344\u001b[39m \u001b[38;5;66;03m# The reason we repeat the same comment below is that\u001b[39;00m\n\u001b[32m    345\u001b[39m \u001b[38;5;66;03m# some Python versions print out the first line of a multi-line function\u001b[39;00m\n\u001b[32m    346\u001b[39m \u001b[38;5;66;03m# calls in the traceback and some print out the last line\u001b[39;00m\n\u001b[32m--> \u001b[39m\u001b[32m347\u001b[39m \u001b[43m_engine_run_backward\u001b[49m\u001b[43m(\u001b[49m\n\u001b[32m    348\u001b[39m \u001b[43m    \u001b[49m\u001b[43mtensors\u001b[49m\u001b[43m,\u001b[49m\n\u001b[32m    349\u001b[39m \u001b[43m    \u001b[49m\u001b[43mgrad_tensors_\u001b[49m\u001b[43m,\u001b[49m\n\u001b[32m    350\u001b[39m \u001b[43m    \u001b[49m\u001b[43mretain_graph\u001b[49m\u001b[43m,\u001b[49m\n\u001b[32m    351\u001b[39m \u001b[43m    \u001b[49m\u001b[43mcreate_graph\u001b[49m\u001b[43m,\u001b[49m\n\u001b[32m    352\u001b[39m \u001b[43m    \u001b[49m\u001b[43minputs\u001b[49m\u001b[43m,\u001b[49m\n\u001b[32m    353\u001b[39m \u001b[43m    \u001b[49m\u001b[43mallow_unreachable\u001b[49m\u001b[43m=\u001b[49m\u001b[38;5;28;43;01mTrue\u001b[39;49;00m\u001b[43m,\u001b[49m\n\u001b[32m    354\u001b[39m \u001b[43m    \u001b[49m\u001b[43maccumulate_grad\u001b[49m\u001b[43m=\u001b[49m\u001b[38;5;28;43;01mTrue\u001b[39;49;00m\u001b[43m,\u001b[49m\n\u001b[32m    355\u001b[39m \u001b[43m\u001b[49m\u001b[43m)\u001b[49m\n",
      "\u001b[36mFile \u001b[39m\u001b[32m~/miniconda3/envs/NoWAC-VQ/lib/python3.13/site-packages/torch/autograd/graph.py:823\u001b[39m, in \u001b[36m_engine_run_backward\u001b[39m\u001b[34m(t_outputs, *args, **kwargs)\u001b[39m\n\u001b[32m    821\u001b[39m     unregister_hooks = _register_logging_hooks_on_whole_graph(t_outputs)\n\u001b[32m    822\u001b[39m \u001b[38;5;28;01mtry\u001b[39;00m:\n\u001b[32m--> \u001b[39m\u001b[32m823\u001b[39m     \u001b[38;5;28;01mreturn\u001b[39;00m \u001b[43mVariable\u001b[49m\u001b[43m.\u001b[49m\u001b[43m_execution_engine\u001b[49m\u001b[43m.\u001b[49m\u001b[43mrun_backward\u001b[49m\u001b[43m(\u001b[49m\u001b[43m  \u001b[49m\u001b[38;5;66;43;03m# Calls into the C++ engine to run the backward pass\u001b[39;49;00m\n\u001b[32m    824\u001b[39m \u001b[43m        \u001b[49m\u001b[43mt_outputs\u001b[49m\u001b[43m,\u001b[49m\u001b[43m \u001b[49m\u001b[43m*\u001b[49m\u001b[43margs\u001b[49m\u001b[43m,\u001b[49m\u001b[43m \u001b[49m\u001b[43m*\u001b[49m\u001b[43m*\u001b[49m\u001b[43mkwargs\u001b[49m\n\u001b[32m    825\u001b[39m \u001b[43m    \u001b[49m\u001b[43m)\u001b[49m  \u001b[38;5;66;03m# Calls into the C++ engine to run the backward pass\u001b[39;00m\n\u001b[32m    826\u001b[39m \u001b[38;5;28;01mfinally\u001b[39;00m:\n\u001b[32m    827\u001b[39m     \u001b[38;5;28;01mif\u001b[39;00m attach_logging_hooks:\n",
      "\u001b[31mKeyboardInterrupt\u001b[39m: "
     ]
    }
   ],
   "source": [
    "#train the model on the dataset with transformers trainer\n",
    "\n",
    "trainer = transformers.Trainer(\n",
    "    model=model,\n",
    "    args=transformers.TrainingArguments(\n",
    "        per_device_train_batch_size=per_device_train_batch_size,\n",
    "        gradient_accumulation_steps=1,\n",
    "        gradient_checkpointing=True,\n",
    "        fp16=True,\n",
    "        logging_steps=1,\n",
    "        output_dir=\"./output\",\n",
    "        num_train_epochs=10,\n",
    "        save_total_limit=3,\n",
    "        evaluation_strategy=\"epoch\",\n",
    "        save_strategy=\"epoch\",\n",
    "        # eval_steps=100,\n",
    "        # per_device_train_batch_size=32,\n",
    "        load_best_model_at_end=True,\n",
    "        #add a tqdm progress bar\n",
    "        #set the lr to 1e-5\n",
    "        learning_rate=1e-5,\n",
    "        warmup_steps=100,\n",
    "        lr_scheduler_type=\"cosine_with_restarts\",\n",
    "        lr_scheduler_kwargs={\"num_cycles\": 5},\n",
    "        dataloader_pin_memory=False,\n",
    "        #set the logging dir to ./logs\n",
    "        logging_dir=\"./logs\",\n",
    "        #log to wandb\n",
    "        report_to=\"wandb\",\n",
    "        run_name=\"llama-2-7b-hf\",\n",
    "        eval_on_start = True,\n",
    "    ),\n",
    "    train_dataset=traindataset,\n",
    "    eval_dataset=validdataset,\n",
    ")\n",
    "#get the pre training performance\n",
    "#train the model\n",
    "trainer.train()\n",
    "\n"
   ]
  },
  {
   "cell_type": "code",
   "execution_count": null,
   "metadata": {},
   "outputs": [],
   "source": [
    "model.save_pretrained(\"./output\")   "
   ]
  },
  {
   "cell_type": "code",
   "execution_count": 14,
   "metadata": {},
   "outputs": [
    {
     "name": "stdout",
     "output_type": "stream",
     "text": [
      "Error in callback <bound method _WandbInit._resume_backend of <wandb.sdk.wandb_init._WandbInit object at 0x72202e117a10>> (for pre_run_cell), with arguments args (<ExecutionInfo object at 722020ff37d0, raw_cell=\"#get the path to the best model\n",
      "best_model = train..\" store_history=True silent=False shell_futures=True cell_id=vscode-notebook-cell://ssh-remote%2B164.67.204.101/data/lliu/huffman/train_hard_labels.ipynb#X14sdnNjb2RlLXJlbW90ZQ%3D%3D>,),kwargs {}:\n"
     ]
    },
    {
     "ename": "BrokenPipeError",
     "evalue": "[Errno 32] Broken pipe",
     "output_type": "error",
     "traceback": [
      "\u001b[31m---------------------------------------------------------------------------\u001b[39m",
      "\u001b[31mBrokenPipeError\u001b[39m                           Traceback (most recent call last)",
      "\u001b[36mFile \u001b[39m\u001b[32m~/miniconda3/envs/NoWAC-VQ/lib/python3.13/site-packages/wandb/sdk/wandb_init.py:570\u001b[39m, in \u001b[36m_WandbInit._resume_backend\u001b[39m\u001b[34m(self, *args, **kwargs)\u001b[39m\n\u001b[32m    568\u001b[39m \u001b[38;5;28;01mif\u001b[39;00m \u001b[38;5;28mself\u001b[39m.backend \u001b[38;5;129;01mis\u001b[39;00m \u001b[38;5;129;01mnot\u001b[39;00m \u001b[38;5;28;01mNone\u001b[39;00m \u001b[38;5;129;01mand\u001b[39;00m \u001b[38;5;28mself\u001b[39m.backend.interface \u001b[38;5;129;01mis\u001b[39;00m \u001b[38;5;129;01mnot\u001b[39;00m \u001b[38;5;28;01mNone\u001b[39;00m:\n\u001b[32m    569\u001b[39m     \u001b[38;5;28mself\u001b[39m._logger.info(\u001b[33m\"\u001b[39m\u001b[33mresuming backend\u001b[39m\u001b[33m\"\u001b[39m)  \u001b[38;5;66;03m# type: ignore\u001b[39;00m\n\u001b[32m--> \u001b[39m\u001b[32m570\u001b[39m     \u001b[38;5;28;43mself\u001b[39;49m\u001b[43m.\u001b[49m\u001b[43mbackend\u001b[49m\u001b[43m.\u001b[49m\u001b[43minterface\u001b[49m\u001b[43m.\u001b[49m\u001b[43mpublish_resume\u001b[49m\u001b[43m(\u001b[49m\u001b[43m)\u001b[49m\n",
      "\u001b[36mFile \u001b[39m\u001b[32m~/miniconda3/envs/NoWAC-VQ/lib/python3.13/site-packages/wandb/sdk/interface/interface.py:777\u001b[39m, in \u001b[36mInterfaceBase.publish_resume\u001b[39m\u001b[34m(self)\u001b[39m\n\u001b[32m    775\u001b[39m \u001b[38;5;28;01mdef\u001b[39;00m\u001b[38;5;250m \u001b[39m\u001b[34mpublish_resume\u001b[39m(\u001b[38;5;28mself\u001b[39m) -> \u001b[38;5;28;01mNone\u001b[39;00m:\n\u001b[32m    776\u001b[39m     resume = pb.ResumeRequest()\n\u001b[32m--> \u001b[39m\u001b[32m777\u001b[39m     \u001b[38;5;28;43mself\u001b[39;49m\u001b[43m.\u001b[49m\u001b[43m_publish_resume\u001b[49m\u001b[43m(\u001b[49m\u001b[43mresume\u001b[49m\u001b[43m)\u001b[49m\n",
      "\u001b[36mFile \u001b[39m\u001b[32m~/miniconda3/envs/NoWAC-VQ/lib/python3.13/site-packages/wandb/sdk/interface/interface_shared.py:293\u001b[39m, in \u001b[36mInterfaceShared._publish_resume\u001b[39m\u001b[34m(self, resume)\u001b[39m\n\u001b[32m    291\u001b[39m \u001b[38;5;28;01mdef\u001b[39;00m\u001b[38;5;250m \u001b[39m\u001b[34m_publish_resume\u001b[39m(\u001b[38;5;28mself\u001b[39m, resume: pb.ResumeRequest) -> \u001b[38;5;28;01mNone\u001b[39;00m:\n\u001b[32m    292\u001b[39m     rec = \u001b[38;5;28mself\u001b[39m._make_request(resume=resume)\n\u001b[32m--> \u001b[39m\u001b[32m293\u001b[39m     \u001b[38;5;28;43mself\u001b[39;49m\u001b[43m.\u001b[49m\u001b[43m_publish\u001b[49m\u001b[43m(\u001b[49m\u001b[43mrec\u001b[49m\u001b[43m)\u001b[49m\n",
      "\u001b[36mFile \u001b[39m\u001b[32m~/miniconda3/envs/NoWAC-VQ/lib/python3.13/site-packages/wandb/sdk/interface/interface_sock.py:39\u001b[39m, in \u001b[36mInterfaceSock._publish\u001b[39m\u001b[34m(self, record, local)\u001b[39m\n\u001b[32m     37\u001b[39m \u001b[38;5;28;01mdef\u001b[39;00m\u001b[38;5;250m \u001b[39m\u001b[34m_publish\u001b[39m(\u001b[38;5;28mself\u001b[39m, record: \u001b[33m\"\u001b[39m\u001b[33mpb.Record\u001b[39m\u001b[33m\"\u001b[39m, local: Optional[\u001b[38;5;28mbool\u001b[39m] = \u001b[38;5;28;01mNone\u001b[39;00m) -> \u001b[38;5;28;01mNone\u001b[39;00m:\n\u001b[32m     38\u001b[39m     \u001b[38;5;28mself\u001b[39m._assign(record)\n\u001b[32m---> \u001b[39m\u001b[32m39\u001b[39m     \u001b[38;5;28;43mself\u001b[39;49m\u001b[43m.\u001b[49m\u001b[43m_sock_client\u001b[49m\u001b[43m.\u001b[49m\u001b[43msend_record_publish\u001b[49m\u001b[43m(\u001b[49m\u001b[43mrecord\u001b[49m\u001b[43m)\u001b[49m\n",
      "\u001b[36mFile \u001b[39m\u001b[32m~/miniconda3/envs/NoWAC-VQ/lib/python3.13/site-packages/wandb/sdk/lib/sock_client.py:174\u001b[39m, in \u001b[36mSockClient.send_record_publish\u001b[39m\u001b[34m(self, record)\u001b[39m\n\u001b[32m    172\u001b[39m server_req.request_id = record.control.mailbox_slot\n\u001b[32m    173\u001b[39m server_req.record_publish.CopyFrom(record)\n\u001b[32m--> \u001b[39m\u001b[32m174\u001b[39m \u001b[38;5;28;43mself\u001b[39;49m\u001b[43m.\u001b[49m\u001b[43msend_server_request\u001b[49m\u001b[43m(\u001b[49m\u001b[43mserver_req\u001b[49m\u001b[43m)\u001b[49m\n",
      "\u001b[36mFile \u001b[39m\u001b[32m~/miniconda3/envs/NoWAC-VQ/lib/python3.13/site-packages/wandb/sdk/lib/sock_client.py:154\u001b[39m, in \u001b[36mSockClient.send_server_request\u001b[39m\u001b[34m(self, msg)\u001b[39m\n\u001b[32m    153\u001b[39m \u001b[38;5;28;01mdef\u001b[39;00m\u001b[38;5;250m \u001b[39m\u001b[34msend_server_request\u001b[39m(\u001b[38;5;28mself\u001b[39m, msg: spb.ServerRequest) -> \u001b[38;5;28;01mNone\u001b[39;00m:\n\u001b[32m--> \u001b[39m\u001b[32m154\u001b[39m     \u001b[38;5;28;43mself\u001b[39;49m\u001b[43m.\u001b[49m\u001b[43m_send_message\u001b[49m\u001b[43m(\u001b[49m\u001b[43mmsg\u001b[49m\u001b[43m)\u001b[49m\n",
      "\u001b[36mFile \u001b[39m\u001b[32m~/miniconda3/envs/NoWAC-VQ/lib/python3.13/site-packages/wandb/sdk/lib/sock_client.py:151\u001b[39m, in \u001b[36mSockClient._send_message\u001b[39m\u001b[34m(self, msg)\u001b[39m\n\u001b[32m    149\u001b[39m header = struct.pack(\u001b[33m\"\u001b[39m\u001b[33m<BI\u001b[39m\u001b[33m\"\u001b[39m, \u001b[38;5;28mord\u001b[39m(\u001b[33m\"\u001b[39m\u001b[33mW\u001b[39m\u001b[33m\"\u001b[39m), raw_size)\n\u001b[32m    150\u001b[39m \u001b[38;5;28;01mwith\u001b[39;00m \u001b[38;5;28mself\u001b[39m._lock:\n\u001b[32m--> \u001b[39m\u001b[32m151\u001b[39m     \u001b[38;5;28;43mself\u001b[39;49m\u001b[43m.\u001b[49m\u001b[43m_sendall_with_error_handle\u001b[49m\u001b[43m(\u001b[49m\u001b[43mheader\u001b[49m\u001b[43m \u001b[49m\u001b[43m+\u001b[49m\u001b[43m \u001b[49m\u001b[43mdata\u001b[49m\u001b[43m)\u001b[49m\n",
      "\u001b[36mFile \u001b[39m\u001b[32m~/miniconda3/envs/NoWAC-VQ/lib/python3.13/site-packages/wandb/sdk/lib/sock_client.py:130\u001b[39m, in \u001b[36mSockClient._sendall_with_error_handle\u001b[39m\u001b[34m(self, data)\u001b[39m\n\u001b[32m    128\u001b[39m start_time = time.monotonic()\n\u001b[32m    129\u001b[39m \u001b[38;5;28;01mtry\u001b[39;00m:\n\u001b[32m--> \u001b[39m\u001b[32m130\u001b[39m     sent = \u001b[38;5;28;43mself\u001b[39;49m\u001b[43m.\u001b[49m\u001b[43m_sock\u001b[49m\u001b[43m.\u001b[49m\u001b[43msend\u001b[49m\u001b[43m(\u001b[49m\u001b[43mdata\u001b[49m\u001b[43m)\u001b[49m\n\u001b[32m    131\u001b[39m     \u001b[38;5;66;03m# sent equal to 0 indicates a closed socket\u001b[39;00m\n\u001b[32m    132\u001b[39m     \u001b[38;5;28;01mif\u001b[39;00m sent == \u001b[32m0\u001b[39m:\n",
      "\u001b[31mBrokenPipeError\u001b[39m: [Errno 32] Broken pipe"
     ]
    },
    {
     "name": "stdout",
     "output_type": "stream",
     "text": [
      "Error in callback <bound method _WandbInit._pause_backend of <wandb.sdk.wandb_init._WandbInit object at 0x72202e117a10>> (for post_run_cell), with arguments args (<ExecutionResult object at 722020ff3710, execution_count=14 error_before_exec=None error_in_exec=None info=<ExecutionInfo object at 722020ff37d0, raw_cell=\"#get the path to the best model\n",
      "best_model = train..\" store_history=True silent=False shell_futures=True cell_id=vscode-notebook-cell://ssh-remote%2B164.67.204.101/data/lliu/huffman/train_hard_labels.ipynb#X14sdnNjb2RlLXJlbW90ZQ%3D%3D> result=None>,),kwargs {}:\n"
     ]
    },
    {
     "ename": "BrokenPipeError",
     "evalue": "[Errno 32] Broken pipe",
     "output_type": "error",
     "traceback": [
      "\u001b[31m---------------------------------------------------------------------------\u001b[39m",
      "\u001b[31mBrokenPipeError\u001b[39m                           Traceback (most recent call last)",
      "\u001b[36mFile \u001b[39m\u001b[32m~/miniconda3/envs/NoWAC-VQ/lib/python3.13/site-packages/wandb/sdk/wandb_init.py:565\u001b[39m, in \u001b[36m_WandbInit._pause_backend\u001b[39m\u001b[34m(self, *args, **kwargs)\u001b[39m\n\u001b[32m    563\u001b[39m \u001b[38;5;28;01mif\u001b[39;00m \u001b[38;5;28mself\u001b[39m.backend.interface \u001b[38;5;129;01mis\u001b[39;00m \u001b[38;5;129;01mnot\u001b[39;00m \u001b[38;5;28;01mNone\u001b[39;00m:\n\u001b[32m    564\u001b[39m     \u001b[38;5;28mself\u001b[39m._logger.info(\u001b[33m\"\u001b[39m\u001b[33mpausing backend\u001b[39m\u001b[33m\"\u001b[39m)  \u001b[38;5;66;03m# type: ignore\u001b[39;00m\n\u001b[32m--> \u001b[39m\u001b[32m565\u001b[39m     \u001b[38;5;28;43mself\u001b[39;49m\u001b[43m.\u001b[49m\u001b[43mbackend\u001b[49m\u001b[43m.\u001b[49m\u001b[43minterface\u001b[49m\u001b[43m.\u001b[49m\u001b[43mpublish_pause\u001b[49m\u001b[43m(\u001b[49m\u001b[43m)\u001b[49m\n",
      "\u001b[36mFile \u001b[39m\u001b[32m~/miniconda3/envs/NoWAC-VQ/lib/python3.13/site-packages/wandb/sdk/interface/interface.py:769\u001b[39m, in \u001b[36mInterfaceBase.publish_pause\u001b[39m\u001b[34m(self)\u001b[39m\n\u001b[32m    767\u001b[39m \u001b[38;5;28;01mdef\u001b[39;00m\u001b[38;5;250m \u001b[39m\u001b[34mpublish_pause\u001b[39m(\u001b[38;5;28mself\u001b[39m) -> \u001b[38;5;28;01mNone\u001b[39;00m:\n\u001b[32m    768\u001b[39m     pause = pb.PauseRequest()\n\u001b[32m--> \u001b[39m\u001b[32m769\u001b[39m     \u001b[38;5;28;43mself\u001b[39;49m\u001b[43m.\u001b[49m\u001b[43m_publish_pause\u001b[49m\u001b[43m(\u001b[49m\u001b[43mpause\u001b[49m\u001b[43m)\u001b[49m\n",
      "\u001b[36mFile \u001b[39m\u001b[32m~/miniconda3/envs/NoWAC-VQ/lib/python3.13/site-packages/wandb/sdk/interface/interface_shared.py:289\u001b[39m, in \u001b[36mInterfaceShared._publish_pause\u001b[39m\u001b[34m(self, pause)\u001b[39m\n\u001b[32m    287\u001b[39m \u001b[38;5;28;01mdef\u001b[39;00m\u001b[38;5;250m \u001b[39m\u001b[34m_publish_pause\u001b[39m(\u001b[38;5;28mself\u001b[39m, pause: pb.PauseRequest) -> \u001b[38;5;28;01mNone\u001b[39;00m:\n\u001b[32m    288\u001b[39m     rec = \u001b[38;5;28mself\u001b[39m._make_request(pause=pause)\n\u001b[32m--> \u001b[39m\u001b[32m289\u001b[39m     \u001b[38;5;28;43mself\u001b[39;49m\u001b[43m.\u001b[49m\u001b[43m_publish\u001b[49m\u001b[43m(\u001b[49m\u001b[43mrec\u001b[49m\u001b[43m)\u001b[49m\n",
      "\u001b[36mFile \u001b[39m\u001b[32m~/miniconda3/envs/NoWAC-VQ/lib/python3.13/site-packages/wandb/sdk/interface/interface_sock.py:39\u001b[39m, in \u001b[36mInterfaceSock._publish\u001b[39m\u001b[34m(self, record, local)\u001b[39m\n\u001b[32m     37\u001b[39m \u001b[38;5;28;01mdef\u001b[39;00m\u001b[38;5;250m \u001b[39m\u001b[34m_publish\u001b[39m(\u001b[38;5;28mself\u001b[39m, record: \u001b[33m\"\u001b[39m\u001b[33mpb.Record\u001b[39m\u001b[33m\"\u001b[39m, local: Optional[\u001b[38;5;28mbool\u001b[39m] = \u001b[38;5;28;01mNone\u001b[39;00m) -> \u001b[38;5;28;01mNone\u001b[39;00m:\n\u001b[32m     38\u001b[39m     \u001b[38;5;28mself\u001b[39m._assign(record)\n\u001b[32m---> \u001b[39m\u001b[32m39\u001b[39m     \u001b[38;5;28;43mself\u001b[39;49m\u001b[43m.\u001b[49m\u001b[43m_sock_client\u001b[49m\u001b[43m.\u001b[49m\u001b[43msend_record_publish\u001b[49m\u001b[43m(\u001b[49m\u001b[43mrecord\u001b[49m\u001b[43m)\u001b[49m\n",
      "\u001b[36mFile \u001b[39m\u001b[32m~/miniconda3/envs/NoWAC-VQ/lib/python3.13/site-packages/wandb/sdk/lib/sock_client.py:174\u001b[39m, in \u001b[36mSockClient.send_record_publish\u001b[39m\u001b[34m(self, record)\u001b[39m\n\u001b[32m    172\u001b[39m server_req.request_id = record.control.mailbox_slot\n\u001b[32m    173\u001b[39m server_req.record_publish.CopyFrom(record)\n\u001b[32m--> \u001b[39m\u001b[32m174\u001b[39m \u001b[38;5;28;43mself\u001b[39;49m\u001b[43m.\u001b[49m\u001b[43msend_server_request\u001b[49m\u001b[43m(\u001b[49m\u001b[43mserver_req\u001b[49m\u001b[43m)\u001b[49m\n",
      "\u001b[36mFile \u001b[39m\u001b[32m~/miniconda3/envs/NoWAC-VQ/lib/python3.13/site-packages/wandb/sdk/lib/sock_client.py:154\u001b[39m, in \u001b[36mSockClient.send_server_request\u001b[39m\u001b[34m(self, msg)\u001b[39m\n\u001b[32m    153\u001b[39m \u001b[38;5;28;01mdef\u001b[39;00m\u001b[38;5;250m \u001b[39m\u001b[34msend_server_request\u001b[39m(\u001b[38;5;28mself\u001b[39m, msg: spb.ServerRequest) -> \u001b[38;5;28;01mNone\u001b[39;00m:\n\u001b[32m--> \u001b[39m\u001b[32m154\u001b[39m     \u001b[38;5;28;43mself\u001b[39;49m\u001b[43m.\u001b[49m\u001b[43m_send_message\u001b[49m\u001b[43m(\u001b[49m\u001b[43mmsg\u001b[49m\u001b[43m)\u001b[49m\n",
      "\u001b[36mFile \u001b[39m\u001b[32m~/miniconda3/envs/NoWAC-VQ/lib/python3.13/site-packages/wandb/sdk/lib/sock_client.py:151\u001b[39m, in \u001b[36mSockClient._send_message\u001b[39m\u001b[34m(self, msg)\u001b[39m\n\u001b[32m    149\u001b[39m header = struct.pack(\u001b[33m\"\u001b[39m\u001b[33m<BI\u001b[39m\u001b[33m\"\u001b[39m, \u001b[38;5;28mord\u001b[39m(\u001b[33m\"\u001b[39m\u001b[33mW\u001b[39m\u001b[33m\"\u001b[39m), raw_size)\n\u001b[32m    150\u001b[39m \u001b[38;5;28;01mwith\u001b[39;00m \u001b[38;5;28mself\u001b[39m._lock:\n\u001b[32m--> \u001b[39m\u001b[32m151\u001b[39m     \u001b[38;5;28;43mself\u001b[39;49m\u001b[43m.\u001b[49m\u001b[43m_sendall_with_error_handle\u001b[49m\u001b[43m(\u001b[49m\u001b[43mheader\u001b[49m\u001b[43m \u001b[49m\u001b[43m+\u001b[49m\u001b[43m \u001b[49m\u001b[43mdata\u001b[49m\u001b[43m)\u001b[49m\n",
      "\u001b[36mFile \u001b[39m\u001b[32m~/miniconda3/envs/NoWAC-VQ/lib/python3.13/site-packages/wandb/sdk/lib/sock_client.py:130\u001b[39m, in \u001b[36mSockClient._sendall_with_error_handle\u001b[39m\u001b[34m(self, data)\u001b[39m\n\u001b[32m    128\u001b[39m start_time = time.monotonic()\n\u001b[32m    129\u001b[39m \u001b[38;5;28;01mtry\u001b[39;00m:\n\u001b[32m--> \u001b[39m\u001b[32m130\u001b[39m     sent = \u001b[38;5;28;43mself\u001b[39;49m\u001b[43m.\u001b[49m\u001b[43m_sock\u001b[49m\u001b[43m.\u001b[49m\u001b[43msend\u001b[49m\u001b[43m(\u001b[49m\u001b[43mdata\u001b[49m\u001b[43m)\u001b[49m\n\u001b[32m    131\u001b[39m     \u001b[38;5;66;03m# sent equal to 0 indicates a closed socket\u001b[39;00m\n\u001b[32m    132\u001b[39m     \u001b[38;5;28;01mif\u001b[39;00m sent == \u001b[32m0\u001b[39m:\n",
      "\u001b[31mBrokenPipeError\u001b[39m: [Errno 32] Broken pipe"
     ]
    }
   ],
   "source": [
    "#get the path to the best model\n",
    "best_model = trainer.state.best_model_checkpoint"
   ]
  },
  {
   "cell_type": "code",
   "execution_count": null,
   "metadata": {},
   "outputs": [
    {
     "data": {
      "text/plain": [
       "tensor(13.3660, device='cuda:0', grad_fn=<ToCopyBackward0>)"
      ]
     },
     "execution_count": 24,
     "metadata": {},
     "output_type": "execute_result"
    }
   ],
   "source": [
    "model(valset[0][\"input_ids\"][...,:-2].cuda(),\n",
    "      labels=valset[0][\"input_ids\"][...,1:].cuda()[...,:-1]  # shift labels\n",
    "      ).loss"
   ]
  },
  {
   "cell_type": "code",
   "execution_count": null,
   "metadata": {},
   "outputs": [],
   "source": [
    "import glob\n",
    "import tqdm\n",
    "import torch"
   ]
  },
  {
   "cell_type": "code",
   "execution_count": null,
   "metadata": {},
   "outputs": [
    {
     "name": "stdout",
     "output_type": "stream",
     "text": [
      "1848\n"
     ]
    }
   ],
   "source": [
    "paths = glob.glob(\"/data/lliu/huffman/models/meta-llama/*/hessianDiags/seed_0/pajama/128/*/*.pt\")\n",
    "print(len(paths))"
   ]
  },
  {
   "cell_type": "code",
   "execution_count": null,
   "metadata": {},
   "outputs": [
    {
     "name": "stderr",
     "output_type": "stream",
     "text": [
      "100%|██████████| 1848/1848 [00:01<00:00, 979.71it/s] \n"
     ]
    },
    {
     "ename": "",
     "evalue": "",
     "output_type": "error",
     "traceback": [
      "\u001b[1;31mThe Kernel crashed while executing code in the current cell or a previous cell. \n",
      "\u001b[1;31mPlease review the code in the cell(s) to identify a possible cause of the failure. \n",
      "\u001b[1;31mClick <a href='https://aka.ms/vscodeJupyterKernelCrash'>here</a> for more info. \n",
      "\u001b[1;31mView Jupyter <a href='command:jupyter.viewOutput'>log</a> for further details."
     ]
    }
   ],
   "source": [
    "for p in tqdm.tqdm(paths):\n",
    "    hessianDiag = torch.load(p)\n",
    "    if \"hessianDiag\" in hessianDiag:\n",
    "        continue\n",
    "    torch.save({\"hessianDiag\": hessianDiag[\"hessian\"]}, p)"
   ]
  },
  {
   "cell_type": "code",
   "execution_count": null,
   "metadata": {},
   "outputs": [
    {
     "data": {
      "text/plain": [
       "{'hessianDiag': tensor([0.0067, 0.0076, 0.0071,  ..., 0.0070, 0.0077, 0.0074], device='cuda:1',\n",
       "        dtype=torch.float16)}"
      ]
     },
     "execution_count": 9,
     "metadata": {},
     "output_type": "execute_result"
    }
   ],
   "source": [
    "torch.load(p)"
   ]
  },
  {
   "cell_type": "code",
   "execution_count": null,
   "metadata": {},
   "outputs": [
    {
     "name": "stdout",
     "output_type": "stream",
     "text": [
      "initializing B\n",
      "fn1_B\n"
     ]
    },
    {
     "data": {
      "text/plain": [
       "<__main__.B at 0x7a053f3f42f0>"
      ]
     },
     "execution_count": 27,
     "metadata": {},
     "output_type": "execute_result"
    },
    {
     "ename": "",
     "evalue": "",
     "output_type": "error",
     "traceback": [
      "\u001b[1;31mThe Kernel crashed while executing code in the current cell or a previous cell. \n",
      "\u001b[1;31mPlease review the code in the cell(s) to identify a possible cause of the failure. \n",
      "\u001b[1;31mClick <a href='https://aka.ms/vscodeJupyterKernelCrash'>here</a> for more info. \n",
      "\u001b[1;31mView Jupyter <a href='command:jupyter.viewOutput'>log</a> for further details."
     ]
    }
   ],
   "source": [
    "class A:\n",
    "    \n",
    "    def __init__(self):\n",
    "        self.a = 1\n",
    "        self.b = 2\n",
    "        self.c = 3\n",
    "        \n",
    "    def fn1(self):\n",
    "        print(\"fn1_A\")\n",
    "        \n",
    "    @classmethod\n",
    "    def fn1_static(cls):\n",
    "        c = cls()\n",
    "        c.fn1()\n",
    "        return c\n",
    "    \n",
    "class B(A):\n",
    "    \n",
    "    def __init__(self):\n",
    "        super().__init__()\n",
    "        print(\"initializing B\")\n",
    "        self.d = 4\n",
    "        \n",
    "    def fn1(self):\n",
    "        print(\"fn1_B\")\n",
    "        \n",
    "B.fn1_static()\n",
    "    \n"
   ]
  },
  {
   "cell_type": "code",
   "execution_count": null,
   "metadata": {},
   "outputs": [],
   "source": []
  }
 ],
 "metadata": {
  "kernelspec": {
   "display_name": "NoWAC-VQ",
   "language": "python",
   "name": "python3"
  },
  "language_info": {
   "codemirror_mode": {
    "name": "ipython",
    "version": 3
   },
   "file_extension": ".py",
   "mimetype": "text/x-python",
   "name": "python",
   "nbconvert_exporter": "python",
   "pygments_lexer": "ipython3",
   "version": "3.13.2"
  }
 },
 "nbformat": 4,
 "nbformat_minor": 2
}
