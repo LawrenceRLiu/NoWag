{
 "cells": [
  {
   "cell_type": "code",
   "execution_count": 2,
   "metadata": {},
   "outputs": [],
   "source": [
    "import torch\n",
    "import torch.nn as nn\n",
    "import numpy as np\n",
    "import scipy as sp"
   ]
  },
  {
   "cell_type": "code",
   "execution_count": 3,
   "metadata": {},
   "outputs": [],
   "source": [
    "device = \"cuda:0\"\n",
    "data = torch.load(\"/data/lliu/huffman/test/weights_hessian.pt\")\n",
    "data.keys()\n",
    "\n",
    "\n",
    "W = data[\"weights\"].to(device)\n",
    "H = data[\"hessian\"].to(device)\n",
    "del data"
   ]
  },
  {
   "cell_type": "code",
   "execution_count": 4,
   "metadata": {},
   "outputs": [],
   "source": [
    "# W = torch.randn((4096,14336))"
   ]
  },
  {
   "cell_type": "code",
   "execution_count": 5,
   "metadata": {},
   "outputs": [
    {
     "name": "stdout",
     "output_type": "stream",
     "text": [
      "[16, 16, 16] 1 square\n"
     ]
    }
   ],
   "source": [
    "#config\n",
    "\n",
    "N_qubits = 3\n",
    "N_gates = int(sp.special.comb(N_qubits, 2))\n",
    "d_out, d_in = W.shape\n",
    "\n",
    "from sympy import factorint\n",
    "\n",
    "def get_qubit_dimensions(d, N_qubits):\n",
    "\n",
    "    #we assume that d is some power of 2 times \n",
    "\n",
    "\n",
    "\n",
    "    factors_raw = factorint(d)\n",
    "    factors = []\n",
    "    for k, v in factors_raw.items():\n",
    "        factors += [k]*v\n",
    "    factors = sorted(factors, reverse=True)\n",
    "    # print(factors)\n",
    "    dimensions = [1]*N_qubits\n",
    "    i1= 0\n",
    "    i2 = len(factors)-1\n",
    "    \n",
    "    i = 0\n",
    "    while i1 <= i2:\n",
    "        if i % (N_qubits*2) < N_qubits:\n",
    "            dimensions[i % N_qubits] *= factors[i]\n",
    "            i1 += 1\n",
    "        else:\n",
    "            dimensions[i % N_qubits] *= factors[i]\n",
    "            i2 -= 1\n",
    "        i += 1\n",
    "    # print(dimensions)\n",
    "    assert np.prod(dimensions) == d\n",
    "    return dimensions\n",
    "\n",
    "if d_in > d_out:\n",
    "    layer_type = \"compress\"\n",
    "    qubit_dimensions = get_qubit_dimensions(d_out, N_qubits)\n",
    "    k_factor = int(d_in/(np.prod(qubit_dimensions[1:]))) \n",
    "    assert d_in == k_factor*np.prod(qubit_dimensions[1:])\n",
    "elif d_in < d_out:\n",
    "    layer_type = \"expand\"\n",
    "    qubit_dimensions = get_qubit_dimensions(d_in, N_qubits)\n",
    "    k_factor = int(d_out/(np.prod(qubit_dimensions[1:]))) \n",
    "    assert d_out == k_factor*np.prod(qubit_dimensions[1:])\n",
    "else:\n",
    "    layer_type = \"square\"\n",
    "    qubit_dimensions = get_qubit_dimensions(d_in, N_qubits)\n",
    "    k_factor = 1\n",
    "\n",
    "\n",
    "print(qubit_dimensions, k_factor, layer_type)\n",
    "# qubit_dimensions = [2**int(np.log2(d**(1/N_qubits)))]*N_qubits\n",
    "# print(qubit_dimensions)\n",
    "# print(d/np.prod(qubit_dimensions))\n",
    "# qubit_dimensions[0] *= int(d/np.prod(qubit_dimensions))\n",
    "# assert np.prod(qubit_dimensions) == d\n",
    "# print(qubit_dimensions)"
   ]
  },
  {
   "cell_type": "code",
   "execution_count": 6,
   "metadata": {},
   "outputs": [
    {
     "data": {
      "text/plain": [
       "'...abc,efbc,diaf,ghde->...ghi'"
      ]
     },
     "execution_count": 6,
     "metadata": {},
     "output_type": "execute_result"
    }
   ],
   "source": [
    "import itertools\n",
    "import opt_einsum as oe\n",
    "def quanta_apply_einsum_expr(N):\n",
    "    current_symbols_inds = list(range(N))\n",
    "    expr = \"...\"\n",
    "    for i in current_symbols_inds:\n",
    "        expr += oe.get_symbol(i)\n",
    "    for (dim1, dim2) in itertools.combinations(range(-1, -N-1, -1), 2):\n",
    "        symbol_ind1 = current_symbols_inds[dim1]\n",
    "        symbol_ind2 = current_symbols_inds[dim2]\n",
    "        symbol_ind3 = symbol_ind1 + N\n",
    "        symbol_ind4 = symbol_ind2 + N\n",
    "        expr += \",\" + \\\n",
    "            oe.get_symbol(symbol_ind4) + \\\n",
    "            oe.get_symbol(symbol_ind3) + \\\n",
    "            oe.get_symbol(symbol_ind2) + \\\n",
    "            oe.get_symbol(symbol_ind1)\n",
    "        current_symbols_inds[dim1] = symbol_ind3\n",
    "        current_symbols_inds[dim2] = symbol_ind4\n",
    "    expr += \"->...\"\n",
    "    for i in current_symbols_inds:\n",
    "        expr += oe.get_symbol(i)\n",
    "    return expr\n",
    "\n",
    "def quanta_op_einsum_expr(N):\n",
    "    apply_expression = quanta_apply_einsum_expr(N)\n",
    "    initial_term = apply_expression.split(\",\")[0].split(\"...\")[-1]\n",
    "    final_term = apply_expression.split(\"->\")[-1].split(\"...\")[-1]\n",
    "    middle_terms = apply_expression[apply_expression.find(\",\")+1:apply_expression.find(\"->\")]\n",
    "    return f\"{middle_terms}->{final_term}{initial_term}\"   \n",
    "\n",
    "quanta_apply_einsum_expr(3)"
   ]
  },
  {
   "cell_type": "code",
   "execution_count": 7,
   "metadata": {},
   "outputs": [
    {
     "name": "stdout",
     "output_type": "stream",
     "text": [
      "efbc,diaf,ghde->ghiabc\n"
     ]
    }
   ],
   "source": [
    "einsum_expr = quanta_op_einsum_expr(N_qubits)\n",
    "print(einsum_expr)"
   ]
  },
  {
   "cell_type": "code",
   "execution_count": 8,
   "metadata": {},
   "outputs": [],
   "source": [
    "norm_0 = torch.linalg.norm(W,dim = 0)\n",
    "W_normalized = W/norm_0.unsqueeze(0)\n",
    "\n",
    "norm_1 = torch.linalg.norm(W_normalized,dim = 1)\n",
    "W_normalized = W_normalized/norm_1.unsqueeze(1)"
   ]
  },
  {
   "cell_type": "code",
   "execution_count": 9,
   "metadata": {},
   "outputs": [
    {
     "name": "stdout",
     "output_type": "stream",
     "text": [
      "gate 3 torch.Size([16, 16, 16, 16]), -2, -1\n",
      "gate 2 torch.Size([16, 16, 16, 16]), -3, -1\n",
      "gate 1 torch.Size([16, 16, 16, 16]), -3, -2\n",
      "196608 reduction: 1.17%, bpv 0.1875\n"
     ]
    }
   ],
   "source": [
    "def initialize_gates(N,qubit_dimensions, layer_type, k_factor, W):\n",
    "    gates = []\n",
    "    i = len(qubit_dimensions)\n",
    "    for (dim2,dim1, ) in itertools.combinations(range(-1, -N-1, -1), 2):\n",
    "        if dim1 == -N and dim2 == -1 and layer_type == \"compress\":\n",
    "            new_gate = torch.randn(qubit_dimensions[dim1], qubit_dimensions[dim2], k_factor, qubit_dimensions[dim2]).to(device) * \\\n",
    "                torch.mean(torch.abs(W))**(1/N)/(qubit_dimensions[dim1]*qubit_dimensions[dim2]*k_factor*qubit_dimensions[dim2])**0.25\n",
    "        elif dim1 == -N and dim2 == -N + 1 and layer_type == \"expand\":\n",
    "            new_gate = torch.randn(k_factor, qubit_dimensions[dim2], qubit_dimensions[dim1], qubit_dimensions[dim1]).to(device) * \\\n",
    "                torch.mean(torch.abs(W))**(1/N)/(qubit_dimensions[dim1]*qubit_dimensions[dim2]*k_factor*qubit_dimensions[dim1])**0.25\n",
    "        \n",
    "        else:\n",
    "            new_gate = torch.randn(qubit_dimensions[dim1], qubit_dimensions[dim2], qubit_dimensions[dim1], qubit_dimensions[dim2]).to(device) * \\\n",
    "                    torch.mean(torch.abs(W))**(1/N)/np.sqrt(qubit_dimensions[dim1]*qubit_dimensions[dim2])\n",
    "        gates.append(new_gate)\n",
    "        print(f\"gate {i} {new_gate.shape}, {dim1}, {dim2}\")\n",
    "        i -=1\n",
    "    return gates\n",
    "\n",
    "torch.random.manual_seed(0)\n",
    "torch.cuda.manual_seed(0)\n",
    "gates = initialize_gates(N_qubits, qubit_dimensions, layer_type, k_factor, W)\n",
    "\n",
    "n_params = sum([gate.numel() for gate in gates])    \n",
    "print(f\"{n_params} reduction: {round(n_params/W.numel()*100, 2)}%, bpv {n_params*16/W.numel()}\")\n",
    "      "
   ]
  },
  {
   "cell_type": "code",
   "execution_count": 10,
   "metadata": {},
   "outputs": [
    {
     "data": {
      "text/plain": [
       "'square'"
      ]
     },
     "execution_count": 10,
     "metadata": {},
     "output_type": "execute_result"
    }
   ],
   "source": [
    "layer_type"
   ]
  },
  {
   "cell_type": "code",
   "execution_count": 11,
   "metadata": {},
   "outputs": [
    {
     "data": {
      "text/plain": [
       "'...abc,efbc,diaf,ghde->...ghi'"
      ]
     },
     "execution_count": 11,
     "metadata": {},
     "output_type": "execute_result"
    }
   ],
   "source": [
    "quanta_apply_einsum_expr(N_qubits)"
   ]
  },
  {
   "cell_type": "code",
   "execution_count": 12,
   "metadata": {},
   "outputs": [
    {
     "data": {
      "text/plain": [
       "'efbc,diaf,ghde->ghiabc'"
      ]
     },
     "execution_count": 12,
     "metadata": {},
     "output_type": "execute_result"
    }
   ],
   "source": [
    "einsum_expr"
   ]
  },
  {
   "cell_type": "code",
   "execution_count": 13,
   "metadata": {},
   "outputs": [
    {
     "name": "stdout",
     "output_type": "stream",
     "text": [
      "[torch.Size([16, 16, 16, 16]), torch.Size([16, 16, 16, 16]), torch.Size([16, 16, 16, 16])]\n"
     ]
    }
   ],
   "source": [
    "print([gate.shape for gate in gates])"
   ]
  },
  {
   "cell_type": "code",
   "execution_count": 14,
   "metadata": {},
   "outputs": [
    {
     "data": {
      "text/plain": [
       "torch.Size([16, 16, 16, 16, 16, 16])"
      ]
     },
     "execution_count": 14,
     "metadata": {},
     "output_type": "execute_result"
    }
   ],
   "source": [
    "torch.einsum(einsum_expr, *gates).shape"
   ]
  },
  {
   "cell_type": "code",
   "execution_count": 15,
   "metadata": {},
   "outputs": [
    {
     "data": {
      "text/plain": [
       "tensor([[-1.5607e-04, -1.6371e-04,  3.5334e-05,  ...,  5.0662e-05,\n",
       "          9.9145e-05,  4.0820e-05],\n",
       "        [-2.7871e-06,  8.6832e-05,  1.2173e-04,  ...,  4.9204e-05,\n",
       "         -2.3000e-05,  1.8864e-05],\n",
       "        [-5.8679e-06, -1.3685e-04, -4.1683e-05,  ..., -2.3557e-05,\n",
       "         -1.6948e-05,  1.4832e-04],\n",
       "        ...,\n",
       "        [-6.3560e-05,  5.2123e-05, -1.1675e-04,  ...,  1.1046e-04,\n",
       "         -1.4163e-07,  4.5130e-05],\n",
       "        [-3.0893e-05,  1.7756e-04, -9.4706e-05,  ..., -3.1393e-05,\n",
       "          1.2467e-05, -7.9110e-05],\n",
       "        [-9.9574e-05, -3.4550e-05, -2.1916e-04,  ...,  1.2618e-04,\n",
       "         -2.4452e-04, -4.1142e-05]], device='cuda:0')"
      ]
     },
     "execution_count": 15,
     "metadata": {},
     "output_type": "execute_result"
    }
   ],
   "source": [
    "torch.einsum(einsum_expr, *gates).reshape(W.shape)"
   ]
  },
  {
   "cell_type": "code",
   "execution_count": 16,
   "metadata": {},
   "outputs": [],
   "source": [
    "norm_0 = nn.Parameter(norm_0, requires_grad = False)\n",
    "norm_1 = nn.Parameter(norm_1, requires_grad = False)"
   ]
  },
  {
   "cell_type": "code",
   "execution_count": 17,
   "metadata": {},
   "outputs": [],
   "source": [
    "keep_top = 0.00\n",
    "if keep_top > 0:\n",
    "    \n",
    "    threshold = torch.quantile(torch.concat([norm_0, norm_1]), 1-keep_top)\n",
    "    print(threshold)\n",
    "\n",
    "    mask_0 = norm_0 > threshold\n",
    "    mask_1 = norm_1 > threshold\n",
    "\n",
    "\n",
    "    W_sparse_0 = W_normalized[:,mask_0]\n",
    "    W_sparse_1 = W_normalized[mask_1,:]\n",
    "\n",
    "    print((W_sparse_0.numel() + W_sparse_1.numel())/W.numel()*16)\n",
    "\n",
    "    W_sparse_0 = nn.Parameter(W_sparse_0, requires_grad = True)\n",
    "    W_sparse_1 = nn.Parameter(W_sparse_1, requires_grad = True)\n",
    "\n",
    "else:\n",
    "\n",
    "    mask_0 = torch.zeros_like(norm_0, dtype = torch.bool)\n",
    "    mask_1 = torch.zeros_like(norm_1, dtype = torch.bool)"
   ]
  },
  {
   "cell_type": "code",
   "execution_count": 18,
   "metadata": {},
   "outputs": [
    {
     "name": "stdout",
     "output_type": "stream",
     "text": [
      "0.1953125\n"
     ]
    }
   ],
   "source": [
    "total_parameters = sum([gate.numel() for gate in gates]) + norm_0.numel() + norm_1.numel() + ((W_sparse_0.numel() + W_sparse_1.numel()) if keep_top > 0 else 0)\n",
    "print(total_parameters*16/W.numel())"
   ]
  },
  {
   "cell_type": "code",
   "execution_count": null,
   "metadata": {},
   "outputs": [
    {
     "name": "stdout",
     "output_type": "stream",
     "text": [
      "iter 0, average_error 1.0000265836715698, H_error 5312.076171875, lr 0.01\n",
      "iter 100, average_error 1.8040425777435303, H_error 21.460651397705078, lr 0.01\n",
      "iter 200, average_error 1.6660512685775757, H_error 13.505017280578613, lr 0.01\n",
      "iter 300, average_error 1.5730483531951904, H_error 11.725496292114258, lr 0.01\n",
      "iter 400, average_error 1.522792100906372, H_error 10.231886863708496, lr 0.01\n",
      "iter 500, average_error 1.4972412586212158, H_error 9.210708618164062, lr 0.01\n",
      "iter 600, average_error 1.4829257726669312, H_error 15.025548934936523, lr 0.01\n",
      "iter 700, average_error 1.475117802619934, H_error 8.436769485473633, lr 0.01\n",
      "iter 800, average_error 1.4583978652954102, H_error 8.238386154174805, lr 0.01\n",
      "iter 900, average_error 1.4478546380996704, H_error 6.850631237030029, lr 0.003333333333333333\n",
      "iter 1000, average_error 1.4392722845077515, H_error 6.0877909660339355, lr 0.001111111111111111\n",
      "iter 1100, average_error 1.4306544065475464, H_error 5.775102138519287, lr 0.001111111111111111\n",
      "iter 1200, average_error 1.4235215187072754, H_error 5.670886993408203, lr 0.001111111111111111\n",
      "iter 1300, average_error 1.4171572923660278, H_error 5.569825649261475, lr 0.001111111111111111\n",
      "iter 1400, average_error 1.411278247833252, H_error 5.4741339683532715, lr 0.001111111111111111\n",
      "iter 1500, average_error 1.4057403802871704, H_error 5.387725830078125, lr 0.001111111111111111\n",
      "iter 1600, average_error 1.402613878250122, H_error 5.3904523849487305, lr 0.001111111111111111\n",
      "iter 1700, average_error 1.3991920948028564, H_error 5.207042217254639, lr 0.0003703703703703703\n",
      "iter 1800, average_error 1.3940746784210205, H_error 5.141272068023682, lr 0.0003703703703703703\n",
      "iter 1900, average_error 1.3912245035171509, H_error 5.089601516723633, lr 0.0003703703703703703\n",
      "iter 2000, average_error 1.3882946968078613, H_error 5.041293144226074, lr 0.0003703703703703703\n",
      "iter 2100, average_error 1.3853633403778076, H_error 4.994609355926514, lr 0.0003703703703703703\n",
      "iter 2200, average_error 1.3824214935302734, H_error 4.947269916534424, lr 0.0003703703703703703\n",
      "iter 2300, average_error 1.3798933029174805, H_error 4.911514759063721, lr 0.0003703703703703703\n",
      "iter 2400, average_error 1.3779464960098267, H_error 4.874842166900635, lr 0.0003703703703703703\n",
      "iter 2500, average_error 1.3759175539016724, H_error 4.840229511260986, lr 0.0003703703703703703\n",
      "iter 2600, average_error 1.37388014793396, H_error 4.806124687194824, lr 0.0003703703703703703\n",
      "iter 2700, average_error 1.3718618154525757, H_error 4.772767066955566, lr 0.0003703703703703703\n",
      "iter 2800, average_error 1.3701773881912231, H_error 4.7459001541137695, lr 0.0003703703703703703\n",
      "iter 2900, average_error 1.3687934875488281, H_error 4.728242874145508, lr 0.0003703703703703703\n",
      "iter 3000, average_error 1.3674184083938599, H_error 4.702845096588135, lr 0.0003703703703703703\n",
      "iter 3100, average_error 1.36595618724823, H_error 4.677036762237549, lr 0.0003703703703703703\n",
      "iter 3200, average_error 1.3648173809051514, H_error 4.65647554397583, lr 0.0003703703703703703\n",
      "iter 3300, average_error 1.363825798034668, H_error 4.638957977294922, lr 0.0003703703703703703\n",
      "iter 3400, average_error 1.3627597093582153, H_error 4.620477199554443, lr 0.0003703703703703703\n",
      "iter 3500, average_error 1.3616719245910645, H_error 4.601324081420898, lr 0.0003703703703703703\n",
      "iter 3600, average_error 1.3605766296386719, H_error 4.582718849182129, lr 0.0003703703703703703\n",
      "iter 3700, average_error 1.3594757318496704, H_error 4.565450191497803, lr 0.0003703703703703703\n",
      "iter 3800, average_error 1.3583943843841553, H_error 4.58465051651001, lr 0.0003703703703703703\n",
      "iter 3900, average_error 1.3578826189041138, H_error 4.527212142944336, lr 0.00012345679012345677\n",
      "iter 4000, average_error 1.3569833040237427, H_error 4.5062103271484375, lr 0.00012345679012345677\n",
      "iter 4100, average_error 1.3558531999588013, H_error 4.487680435180664, lr 0.00012345679012345677\n",
      "iter 4200, average_error 1.355122447013855, H_error 4.473989009857178, lr 0.00012345679012345677\n",
      "iter 4300, average_error 1.3543601036071777, H_error 4.460352420806885, lr 0.00012345679012345677\n",
      "iter 4400, average_error 1.3535661697387695, H_error 4.446073055267334, lr 0.00012345679012345677\n",
      "iter 4500, average_error 1.3527429103851318, H_error 4.431411266326904, lr 0.00012345679012345677\n",
      "iter 4600, average_error 1.3518905639648438, H_error 4.416229248046875, lr 0.00012345679012345677\n",
      "iter 4700, average_error 1.3511686325073242, H_error 4.4038238525390625, lr 0.00012345679012345677\n",
      "iter 4800, average_error 1.3505887985229492, H_error 4.393435478210449, lr 0.00012345679012345677\n",
      "iter 4900, average_error 1.3499640226364136, H_error 4.38210391998291, lr 0.00012345679012345677\n",
      "iter 5000, average_error 1.3492995500564575, H_error 4.370111465454102, lr 0.00012345679012345677\n",
      "iter 5100, average_error 1.3486073017120361, H_error 4.357578754425049, lr 0.00012345679012345677\n",
      "iter 5200, average_error 1.3479878902435303, H_error 4.346762657165527, lr 0.00012345679012345677\n",
      "iter 5300, average_error 1.347451090812683, H_error 4.337491035461426, lr 0.00012345679012345677\n",
      "iter 5400, average_error 1.346878170967102, H_error 4.326867580413818, lr 0.00012345679012345677\n",
      "iter 5500, average_error 1.3462716341018677, H_error 4.315755844116211, lr 0.00012345679012345677\n",
      "iter 5600, average_error 1.3456408977508545, H_error 4.303937911987305, lr 0.00012345679012345677\n",
      "iter 5700, average_error 1.345210075378418, H_error 4.297170639038086, lr 0.00012345679012345677\n",
      "iter 5800, average_error 1.3447699546813965, H_error 4.288958549499512, lr 0.00012345679012345677\n",
      "iter 5900, average_error 1.3443067073822021, H_error 4.280361175537109, lr 0.00012345679012345677\n",
      "iter 6000, average_error 1.343819260597229, H_error 4.27125883102417, lr 0.00012345679012345677\n",
      "iter 6100, average_error 1.3433152437210083, H_error 4.261949062347412, lr 0.00012345679012345677\n",
      "iter 6200, average_error 1.342915654182434, H_error 4.253750801086426, lr 0.00012345679012345677\n",
      "iter 6300, average_error 1.3425184488296509, H_error 4.246454238891602, lr 0.00012345679012345677\n",
      "iter 6400, average_error 1.3421303033828735, H_error 4.240161895751953, lr 0.00012345679012345677\n",
      "iter 6500, average_error 1.3417694568634033, H_error 4.233089923858643, lr 0.00012345679012345677\n",
      "iter 6600, average_error 1.3413878679275513, H_error 4.225846767425537, lr 0.00012345679012345677\n",
      "iter 6700, average_error 1.3409889936447144, H_error 4.218282222747803, lr 0.00012345679012345677\n",
      "iter 6800, average_error 1.3405765295028687, H_error 4.2104949951171875, lr 0.00012345679012345677\n",
      "iter 6900, average_error 1.3401563167572021, H_error 4.209517955780029, lr 0.00012345679012345677\n",
      "iter 7000, average_error 1.33985435962677, H_error 4.1984639167785645, lr 0.00012345679012345677\n",
      "iter 7100, average_error 1.3395638465881348, H_error 4.1923828125, lr 0.00012345679012345677\n",
      "iter 7200, average_error 1.3392471075057983, H_error 4.186250686645508, lr 0.00012345679012345677\n",
      "iter 7300, average_error 1.338918924331665, H_error 4.179873943328857, lr 0.00012345679012345677\n",
      "iter 7400, average_error 1.3385759592056274, H_error 4.173277378082275, lr 0.00012345679012345677\n",
      "iter 7500, average_error 1.338221549987793, H_error 4.166681289672852, lr 0.00012345679012345677\n",
      "iter 7600, average_error 1.33785879611969, H_error 4.159982204437256, lr 0.00012345679012345677\n",
      "iter 7700, average_error 1.3375890254974365, H_error 4.15534782409668, lr 0.00012345679012345677\n",
      "iter 7800, average_error 1.3372902870178223, H_error 4.150132656097412, lr 0.00012345679012345677\n",
      "iter 7900, average_error 1.3370176553726196, H_error 4.1449713706970215, lr 0.00012345679012345677\n",
      "iter 8000, average_error 1.3367189168930054, H_error 4.139225482940674, lr 0.00012345679012345677\n",
      "iter 8100, average_error 1.3364055156707764, H_error 4.133363723754883, lr 0.00012345679012345677\n",
      "iter 8200, average_error 1.3360799551010132, H_error 4.127176284790039, lr 0.00012345679012345677\n",
      "iter 8300, average_error 1.3357428312301636, H_error 4.120810508728027, lr 0.00012345679012345677\n",
      "iter 8400, average_error 1.3354034423828125, H_error 4.1242756843566895, lr 0.00012345679012345677\n",
      "iter 8500, average_error 1.3351768255233765, H_error 4.110585689544678, lr 0.00012345679012345677\n",
      "iter 8600, average_error 1.3349356651306152, H_error 4.106673240661621, lr 0.00012345679012345677\n",
      "iter 8700, average_error 1.3346774578094482, H_error 4.101311683654785, lr 0.00012345679012345677\n",
      "iter 8800, average_error 1.3344007730484009, H_error 4.0959153175354, lr 0.00012345679012345677\n",
      "iter 8900, average_error 1.3341119289398193, H_error 4.090397834777832, lr 0.00012345679012345677\n",
      "iter 9000, average_error 1.3338130712509155, H_error 4.084820747375488, lr 0.00012345679012345677\n",
      "iter 9100, average_error 1.3335049152374268, H_error 4.079128742218018, lr 0.00012345679012345677\n",
      "iter 9200, average_error 1.3332760334014893, H_error 4.07511043548584, lr 0.00012345679012345677\n",
      "iter 9300, average_error 1.3330342769622803, H_error 4.070683002471924, lr 0.00012345679012345677\n",
      "iter 9400, average_error 1.3327699899673462, H_error 4.065670490264893, lr 0.00012345679012345677\n",
      "iter 9500, average_error 1.332492709159851, H_error 4.0605149269104, lr 0.00012345679012345677\n",
      "iter 9600, average_error 1.3322250843048096, H_error 4.057745933532715, lr 0.00012345679012345677\n",
      "iter 9700, average_error 1.3319957256317139, H_error 4.051444053649902, lr 0.00012345679012345677\n",
      "iter 9800, average_error 1.331749439239502, H_error 4.0467095375061035, lr 0.00012345679012345677\n",
      "iter 9900, average_error 1.3314876556396484, H_error 4.041916370391846, lr 0.00012345679012345677\n"
     ]
    },
    {
     "data": {
      "image/png": "[encoded data removed]",
      "text/plain": [
       "<Figure size 432x288 with 1 Axes>"
      ]
     },
     "metadata": {
      "needs_background": "light"
     },
     "output_type": "display_data"
    }
   ],
   "source": [
    "gates = [nn.Parameter(gate) for gate in gates]\n",
    "parameters = nn.ParameterList([norm_0, norm_1] + gates + ([W_sparse_0, W_sparse_1] if torch.any(mask_0) or torch.any(mask_1) else []))\n",
    "optimizer = torch.optim.Adam(gates\n",
    "                             , lr=1e-2)\n",
    "# scheduler = torch.optim.lr_scheduler.LinearLR(optimizer, 1/3, 1.0, 10000)\n",
    "scheduler = torch.optim.lr_scheduler.ReduceLROnPlateau(optimizer, \n",
    "                                                       factor = 1/3,\n",
    "                                                       patience = 100)\n",
    "n_iters = 10000\n",
    "losses = []\n",
    "clip_grad = 0.1\n",
    "for i in range(n_iters):\n",
    "    reconstructed_W = torch.einsum(einsum_expr, *gates).reshape(W.shape)\n",
    "    reconstructed_W *= norm_0.unsqueeze(0)\n",
    "    reconstructed_W *= norm_1.unsqueeze(1)\n",
    "    if torch.any(mask_0) or torch.any(mask_1):\n",
    "        reconstructed_W[:,mask_0] += W_sparse_0\n",
    "        reconstructed_W[mask_1,:] += W_sparse_1\n",
    "    diff = W - reconstructed_W\n",
    "\n",
    "    average_error = torch.sum(torch.abs(diff)**1)/torch.sum(torch.abs(W)**1)\n",
    "\n",
    "    H_error = torch.einsum('ik,kl,il->', diff, H/H.shape[0], diff)\n",
    "    \n",
    "    optimizer.zero_grad()\n",
    "    H_error.backward()\n",
    "    #clip the grad\n",
    "    torch.nn.utils.clip_grad_norm_(parameters, clip_grad)\n",
    "    optimizer.step()\n",
    "    scheduler.step(H_error)\n",
    "    \n",
    "    if i % 100 == 0:\n",
    "        print(f\"iter {i}, average_error {average_error}, H_error {H_error}, lr {optimizer.param_groups[0]['lr']}\")\n",
    "    \n",
    "    losses.append(H_error.item())\n",
    "    \n",
    "import matplotlib.pyplot as plt\n",
    "plt.plot(losses)\n",
    "plt.show()"
   ]
  },
  {
   "cell_type": "code",
   "execution_count": 20,
   "metadata": {},
   "outputs": [],
   "source": [
    "import torch.nn.functional as F\n",
    "import time\n",
    "\n",
    "standard_times = []\n",
    "einsum_times = []\n",
    "\n",
    "reconstructed_W = torch.einsum(einsum_expr, *gates).reshape(W.shape)\n",
    "reconstructed_W *= norm_0.unsqueeze(0)\n",
    "# reconstructed_W *= norm_1.unsqueeze(1)\n",
    "# reconstructed_W = torch.einsum(einsum_expr, *gates).reshape(W.shape)\n",
    "\n",
    "with torch.no_grad():\n",
    "    for i in range(100):\n",
    "        x = torch.randn((1000,d_in)).to(device)\n",
    "        x_reshaped = (x * norm_0.unsqueeze(0)).reshape([1000] + (qubit_dimensions if layer_type !=  \"compress\" else [k_factor] + qubit_dimensions[1:]))\n",
    "        \n",
    "        start = time.time()\n",
    "        x_try = x @ reconstructed_W.T\n",
    "        \n",
    "        # F.linear(x, reconstructed_W)\n",
    "        standard_times.append(time.time()-start)\n",
    "        \n",
    "        start = time.time()\n",
    "        x_try2 = torch.einsum(quanta_apply_einsum_expr(N_qubits), x_reshaped, *gates).reshape(x.shape[:-1] + (d_out,)) #* norm_1.unsqueeze(0)\n",
    "        einsum_times.append(time.time()-start)\n",
    "        break"
   ]
  },
  {
   "cell_type": "code",
   "execution_count": 73,
   "metadata": {},
   "outputs": [
    {
     "data": {
      "text/plain": [
       "tensor([[-0.4908,  0.6062, -1.4110,  ..., -0.3367,  0.1120,  0.5138],\n",
       "        [ 0.2419,  0.0143,  0.1184,  ..., -0.1812, -0.1033,  0.9553],\n",
       "        [-0.3329, -0.4994,  0.1030,  ...,  1.4877, -0.2371,  0.3535],\n",
       "        ...,\n",
       "        [ 0.6203, -0.5879,  1.7957,  ..., -0.5400,  0.6840, -1.4585],\n",
       "        [-0.4578,  1.6304,  0.3078,  ...,  0.0738,  0.3206, -0.6771],\n",
       "        [ 0.5914, -0.9025,  0.7389,  ...,  0.8147, -0.9273,  0.3088]],\n",
       "       device='cuda:0')"
      ]
     },
     "execution_count": 73,
     "metadata": {},
     "output_type": "execute_result"
    }
   ],
   "source": [
    "x_try2"
   ]
  },
  {
   "cell_type": "code",
   "execution_count": 74,
   "metadata": {},
   "outputs": [
    {
     "data": {
      "text/plain": [
       "tensor([[-0.4908,  0.6062, -1.4110,  ..., -0.3367,  0.1120,  0.5138],\n",
       "        [ 0.2419,  0.0143,  0.1184,  ..., -0.1812, -0.1033,  0.9553],\n",
       "        [-0.3329, -0.4994,  0.1030,  ...,  1.4877, -0.2371,  0.3535],\n",
       "        ...,\n",
       "        [ 0.6203, -0.5879,  1.7957,  ..., -0.5400,  0.6840, -1.4585],\n",
       "        [-0.4578,  1.6304,  0.3078,  ...,  0.0738,  0.3206, -0.6771],\n",
       "        [ 0.5914, -0.9025,  0.7389,  ...,  0.8147, -0.9273,  0.3088]],\n",
       "       device='cuda:0')"
      ]
     },
     "execution_count": 74,
     "metadata": {},
     "output_type": "execute_result"
    }
   ],
   "source": [
    "x_try"
   ]
  },
  {
   "cell_type": "code",
   "execution_count": 136,
   "metadata": {},
   "outputs": [
    {
     "data": {
      "image/png": "[encoded data removed]",
      "text/plain": [
       "<Figure size 432x288 with 1 Axes>"
      ]
     },
     "metadata": {
      "needs_background": "light"
     },
     "output_type": "display_data"
    }
   ],
   "source": [
    "plt.plot(losses)\n",
    "plt.yscale(\"log\")\n",
    "plt.xscale(\"log\")\n",
    "plt.show()"
   ]
  },
  {
   "cell_type": "code",
   "execution_count": 45,
   "metadata": {},
   "outputs": [
    {
     "data": {
      "text/plain": [
       "3.930149793624878"
      ]
     },
     "execution_count": 45,
     "metadata": {},
     "output_type": "execute_result"
    }
   ],
   "source": [
    "np.min(losses)"
   ]
  },
  {
   "cell_type": "code",
   "execution_count": null,
   "metadata": {},
   "outputs": [],
   "source": []
  }
 ],
 "metadata": {
  "kernelspec": {
   "display_name": "Python 3",
   "language": "python",
   "name": "python3"
  },
  "language_info": {
   "codemirror_mode": {
    "name": "ipython",
    "version": 3
   },
   "file_extension": ".py",
   "mimetype": "text/x-python",
   "name": "python",
   "nbconvert_exporter": "python",
   "pygments_lexer": "ipython3",
   "version": "3.10.12"
  }
 },
 "nbformat": 4,
 "nbformat_minor": 2
}
