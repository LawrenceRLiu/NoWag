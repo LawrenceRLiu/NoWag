{
 "cells": [
  {
   "cell_type": "code",
   "execution_count": 2,
   "metadata": {},
   "outputs": [],
   "source": [
    "import cvxpy as cp \n",
    "import numpy as np"
   ]
  },
  {
   "cell_type": "code",
   "execution_count": 15,
   "metadata": {},
   "outputs": [
    {
     "ename": "ValueError",
     "evalue": "matmul: Input operand 1 has a mismatch in its core dimension 0, with gufunc signature (n?,k),(k,m?)->(n?,m?) (size 100 is different from 6)",
     "output_type": "error",
     "traceback": [
      "\u001b[0;31m---------------------------------------------------------------------------\u001b[0m",
      "\u001b[0;31mValueError\u001b[0m                                Traceback (most recent call last)",
      "Cell \u001b[0;32mIn[15], line 4\u001b[0m\n\u001b[1;32m      1\u001b[0m a \u001b[38;5;241m=\u001b[39m np\u001b[38;5;241m.\u001b[39mempty((\u001b[38;5;241m5\u001b[39m,\u001b[38;5;241m6\u001b[39m))\n\u001b[1;32m      2\u001b[0m b \u001b[38;5;241m=\u001b[39m np\u001b[38;5;241m.\u001b[39mempty((\u001b[38;5;241m6\u001b[39m,\u001b[38;5;241m100\u001b[39m,\u001b[38;5;241m4\u001b[39m))\n\u001b[0;32m----> 4\u001b[0m (a \u001b[38;5;241m@\u001b[39m b)\u001b[38;5;241m.\u001b[39mshape\n",
      "\u001b[0;31mValueError\u001b[0m: matmul: Input operand 1 has a mismatch in its core dimension 0, with gufunc signature (n?,k),(k,m?)->(n?,m?) (size 100 is different from 6)"
     ]
    }
   ],
   "source": [
    "\n",
    "a = np.empty((5,6))\n",
    "b = np.empty((6,100,4))\n",
    "\n",
    "(a @ b).shape"
   ]
  },
  {
   "cell_type": "code",
   "execution_count": 33,
   "metadata": {},
   "outputs": [],
   "source": [
    "eigensum_expr = \"efbc,diaf,ghde->ghiabc\"\n",
    "\n",
    "gates = [np.random.rand(*shape) for shape in [(4, 512, 4, 512), (2, 512, 2, 512), (2, 4, 2, 4)]]\n",
    "\n",
    "reconstructed_tensor = np.einsum(eigensum_expr, *gates, optimize=True)"
   ]
  },
  {
   "cell_type": "code",
   "execution_count": 61,
   "metadata": {},
   "outputs": [],
   "source": [
    "def hardcoded_3_qubit_reconstruct(gates):\n",
    "    # gate_1 of shape i1,,i2,k1,k2\n",
    "    # gate_2 of shape k1,i3,j1,k3\n",
    "    # gate_3 of shape k2,k3,j2,j3\n",
    "\n",
    "    gate_3, gate_2, gate_1 = gates\n",
    "    i1, i2, k1, k2 = gate_1.shape\n",
    "    # print(\"i1=\",i1,\"i2=\",i2,\"k1=\",k1,\"k2=\",k2)\n",
    "    k1, i3, j1, k3 = gate_2.shape\n",
    "    # print(\"k1=\",k1,\"i3=\",i3,\"j1=\",j1,\"k3=\",k3)\n",
    "    k2, k3, j2, j3 = gate_3.shape\n",
    "    print(\"i1=\",i1,\"i2=\",i2, \"i3=\",i3)\n",
    "    print(\"j1=\",j1,\"j2=\",j2,\"j3=\",j3)\n",
    "    print(\"k1=\",k1,\"k2=\",k2,\"k3=\",k3)\n",
    "\n",
    "    #multiply gate_2 and gate_3 along k_3\n",
    "    print(\"gate3.shape\",gate_3.shape)\n",
    "    print(np.transpose(gate_3,(1,0,2,3)).shape)\n",
    "    gate_23 = gate_2.reshape(k1 * i3 * j1, k3) @ np.transpose(gate_3,(1,0,2,3)).reshape((k3, k2 * j2 * j3))\n",
    "    #shape k1*i3*j1, k2*j2*j3\n",
    "    print(gate_23.shape)\n",
    "    print(gate_23.reshape((k1, i3, j1, k2, j2, j3)).shape)\n",
    "    gate_23 = np.transpose(gate_23.reshape((k1, i3, j1, k2, j2, j3)),(0,3,1,2,4,5)) #shape (k1, k2, i3, j1, j2, j3)\n",
    "    print(gate_23.shape)\n",
    "    gate_23 = gate_23.reshape((k1*k2, i3*j1*j2 * j3))\n",
    "    #multiply gate_1 and gate_23 along k_1*k_2\n",
    "    gate_123 = gate_1.reshape((i1*i2, k1*k2)) @ gate_23\n",
    "    gate_123 = gate_123.reshape((i1, i2, i3, j1, j2, j3))\n",
    "    return gate_123"
   ]
  },
  {
   "cell_type": "code",
   "execution_count": 67,
   "metadata": {},
   "outputs": [],
   "source": [
    "def hardcoded_3_qubit_reconstruct(gates):\n",
    "    # gate_1 of shape i1,,i2,k1,k2\n",
    "    # gate_2 of shape k1,i3,j1,k3\n",
    "    # gate_3 of shape k2,k3,j2,j3\n",
    "\n",
    "    gate_3, gate_2, gate_1 = gates\n",
    "    i1, i2, k1, k2 = gate_1.shape\n",
    "    k1, i3, j1, k3 = gate_2.shape\n",
    "    k2, k3, j2, j3 = gate_3.shape\n",
    "\n",
    "    #multiply gate_2 and gate_3 along k_3\n",
    "    gate_23 = gate_2.reshape(k1 * i3 * j1, k3) @ cp.transpose(gate_3,(1,0,2,3)).reshape((k3, k2 * j2 * j3), order='C')\n",
    "    #shape k1*i3*j1, k2*j2*j3\n",
    "    gate_23 = cp.transpose(gate_23.reshape((k1, i3, j1, k2, j2, j3),order = 'C'),(0,3,1,2,4,5)) #shape (k1, k2, i3, j1, j2, j3)\n",
    "    gate_23 = gate_23.reshape((k1*k2, i3*j1*j2 * j3), order = 'C')\n",
    "    #multiply gate_1 and gate_23 along k_1*k_2\n",
    "    gate_123 = gate_1.reshape((i1*i2, k1*k2), order = 'C') @ gate_23\n",
    "    gate_123 = gate_123.reshape((i1, i2, i3, j1, j2, j3), order = 'C')\n",
    "    return gate_123\n",
    "\n",
    "reconstructed_tensor2 = hardcoded_3_qubit_reconstruct(gates)"
   ]
  },
  {
   "cell_type": "code",
   "execution_count": 69,
   "metadata": {},
   "outputs": [
    {
     "data": {
      "text/plain": [
       "True"
      ]
     },
     "execution_count": 69,
     "metadata": {},
     "output_type": "execute_result"
    }
   ],
   "source": [
    "np.allclose(reconstructed_tensor2.value, reconstructed_tensor)"
   ]
  },
  {
   "cell_type": "code",
   "execution_count": null,
   "metadata": {},
   "outputs": [],
   "source": [
    "gate_3, gate_2, gate_1 = gates\n",
    "i1, i2, k1, k2 = gate_1.shape\n",
    "k1, i3, j1, k3 = gate_2.shape\n",
    "k2, k3, j2, j3 = gate_3.shape\n",
    "\n",
    "gate_3 = cp.Variable(gate_3.shape)\n",
    "gate_2 = cp.Variable(gate_2.shape)\n",
    "gate_1 = cp.Variable(gate_1.shape)\n",
    "\n",
    "gate_1 = gate_1.reshape(i1*i2, k1*k2)\n",
    "\n",
    "\n",
    "gate_23 = gate_2.reshape(k1*i3*i2,k3) @ gate_3.reshape"
   ]
  },
  {
   "cell_type": "code",
   "execution_count": 28,
   "metadata": {},
   "outputs": [
    {
     "name": "stdout",
     "output_type": "stream",
     "text": [
      "(1, 2, 3, 4)\n"
     ]
    },
    {
     "ename": "AttributeError",
     "evalue": "'Variable' object has no attribute 'transpose'",
     "output_type": "error",
     "traceback": [
      "\u001b[0;31m---------------------------------------------------------------------------\u001b[0m",
      "\u001b[0;31mAttributeError\u001b[0m                            Traceback (most recent call last)",
      "Cell \u001b[0;32mIn[28], line 3\u001b[0m\n\u001b[1;32m      1\u001b[0m a \u001b[38;5;241m=\u001b[39m cp\u001b[38;5;241m.\u001b[39mVariable((\u001b[38;5;241m1\u001b[39m,\u001b[38;5;241m2\u001b[39m,\u001b[38;5;241m3\u001b[39m,\u001b[38;5;241m4\u001b[39m))\n\u001b[1;32m      2\u001b[0m \u001b[38;5;28mprint\u001b[39m(a\u001b[38;5;241m.\u001b[39mshape)\n\u001b[0;32m----> 3\u001b[0m a[\u001b[38;5;241m0\u001b[39m] \u001b[38;5;241m=\u001b[39m a\u001b[38;5;241m.\u001b[39mtranspose(\u001b[38;5;241m0\u001b[39m,\u001b[38;5;241m2\u001b[39m,\u001b[38;5;241m1\u001b[39m,\u001b[38;5;241m3\u001b[39m)\n\u001b[1;32m      4\u001b[0m \u001b[38;5;28mprint\u001b[39m(a\u001b[38;5;241m.\u001b[39mshape)\n\u001b[1;32m      5\u001b[0m \u001b[38;5;28mprint\u001b[39m(a\u001b[38;5;241m.\u001b[39mT\u001b[38;5;241m.\u001b[39mshape)\n",
      "\u001b[0;31mAttributeError\u001b[0m: 'Variable' object has no attribute 'transpose'"
     ]
    }
   ],
   "source": [
    "a = cp.Variable((1,2,3,4))\n",
    "print(a.shape)\n",
    "a[0] = a.transpose(0,2,1,3)\n",
    "print(a.shape)\n",
    "print(a.T.shape)\n",
    "# print(a.reshape((k2,k3, j2*j3), order = 'C').shape)\n",
    "# a.reshape((k2,k3, j2*j3), order = 'C').T"
   ]
  },
  {
   "cell_type": "code",
   "execution_count": null,
   "metadata": {},
   "outputs": [
    {
     "data": {
      "text/plain": [
       "(4, 3, 2, 1)"
      ]
     },
     "execution_count": 32,
     "metadata": {},
     "output_type": "execute_result"
    }
   ],
   "source": [
    "cp.transpose(np.empty((1,2,3,4)), (0,2,1,3))"
   ]
  },
  {
   "cell_type": "code",
   "execution_count": null,
   "metadata": {},
   "outputs": [],
   "source": []
  }
 ],
 "metadata": {
  "kernelspec": {
   "display_name": "base",
   "language": "python",
   "name": "python3"
  },
  "language_info": {
   "codemirror_mode": {
    "name": "ipython",
    "version": 3
   },
   "file_extension": ".py",
   "mimetype": "text/x-python",
   "name": "python",
   "nbconvert_exporter": "python",
   "pygments_lexer": "ipython3",
   "version": "3.11.5"
  }
 },
 "nbformat": 4,
 "nbformat_minor": 2
}
