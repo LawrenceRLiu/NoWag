{
 "cells": [
  {
   "cell_type": "code",
   "execution_count": 55,
   "metadata": {},
   "outputs": [],
   "source": [
    "import torch\n",
    "import torch.nn as nn\n",
    "import numpy as np \n",
    "import random\n",
    "\n",
    "import tqdm\n",
    "import matplotlib.pyplot as plt"
   ]
  },
  {
   "cell_type": "code",
   "execution_count": 2,
   "metadata": {},
   "outputs": [],
   "source": [
    "device = torch.device(\"cuda:5\")\n",
    "\n",
    "H = torch.load(\"test/original_weights.pt\")[\"H\"].to(device).float()\n",
    "weights = torch.load(\"test/original_weights.pt\")[\"weights\"].to(device).float()    "
   ]
  },
  {
   "cell_type": "code",
   "execution_count": 3,
   "metadata": {},
   "outputs": [],
   "source": [
    "damping = 1e-3\n",
    "\n",
    "H = H + damping * torch.eye(H.shape[0]).to(device)"
   ]
  },
  {
   "cell_type": "code",
   "execution_count": 4,
   "metadata": {},
   "outputs": [],
   "source": [
    "H_chol = torch.linalg.cholesky(H)\n",
    "H_inv = torch.cholesky_inverse(H_chol)"
   ]
  },
  {
   "cell_type": "code",
   "execution_count": 5,
   "metadata": {},
   "outputs": [
    {
     "name": "stdout",
     "output_type": "stream",
     "text": [
      "torch.Size([1024, 4, 4])\n"
     ]
    }
   ],
   "source": [
    "d = 4\n",
    "n_blocks = int(np.ceil(H.shape[0] / d))\n",
    "weights_reshaped = weights.reshape((weights.shape[0], n_blocks, d))\n",
    "\n",
    "block_inverses = []\n",
    "for i in range(int(n_blocks)):\n",
    "    start = i * d\n",
    "    end = (i + 1) * d\n",
    "    block = H[start:end, start:end]\n",
    "    block_chol = torch.linalg.cholesky(block)\n",
    "    block_inv = torch.cholesky_inverse(block_chol)\n",
    "    block_inverses.append(block_inv)\n",
    "\n",
    "block_inverses = torch.stack(block_inverses)\n",
    "print(block_inverses.shape)"
   ]
  },
  {
   "cell_type": "code",
   "execution_count": 6,
   "metadata": {},
   "outputs": [
    {
     "data": {
      "text/plain": [
       "torch.Size([4, 3, 2])"
      ]
     },
     "execution_count": 6,
     "metadata": {},
     "output_type": "execute_result"
    }
   ],
   "source": [
    "(torch.empty((4,3,5)) @ torch.empty((4,5,2))).shape"
   ]
  },
  {
   "cell_type": "code",
   "execution_count": 7,
   "metadata": {},
   "outputs": [
    {
     "name": "stdout",
     "output_type": "stream",
     "text": [
      "torch.Size([4096, 1024])\n"
     ]
    }
   ],
   "source": [
    "removal_errors = weights_reshaped.unsqueeze(-2) @ block_inverses.unsqueeze(0) @ weights_reshaped.unsqueeze(-1)\n",
    "\n",
    "removal_errors = removal_errors.squeeze(-1).squeeze(-1)\n",
    "print(removal_errors.shape)"
   ]
  },
  {
   "cell_type": "code",
   "execution_count": 56,
   "metadata": {},
   "outputs": [],
   "source": [
    "frac_to_remove = 0.125\n",
    "structure_size = 8\n",
    "n_to_remove = int(frac_to_remove * structure_size)\n",
    "\n",
    "sparse_mask = torch.ones_like(removal_errors).reshape(removal_errors.shape[0], -1, structure_size)\n",
    "\n",
    "sparse_mask = sparse_mask.scatter_(-1, removal_errors.reshape(removal_errors.shape[0], -1, structure_size).argsort(-1)[:, :,:n_to_remove], 0)\n",
    "\n",
    "sparse_mask = sparse_mask.reshape(removal_errors.shape)"
   ]
  },
  {
   "cell_type": "code",
   "execution_count": 57,
   "metadata": {},
   "outputs": [],
   "source": [
    "sparse_mask = sparse_mask.repeat_interleave(d, dim=-1)\n",
    "sparse_mask = sparse_mask.bool()"
   ]
  },
  {
   "cell_type": "code",
   "execution_count": 58,
   "metadata": {},
   "outputs": [
    {
     "data": {
      "text/plain": [
       "tensor([ True,  True,  True,  True,  True,  True,  True,  True, False, False,\n",
       "        False, False,  True,  True,  True,  True,  True,  True,  True,  True,\n",
       "         True,  True,  True], device='cuda:5')"
      ]
     },
     "execution_count": 58,
     "metadata": {},
     "output_type": "execute_result"
    }
   ],
   "source": [
    "sparse_mask[0,:23]"
   ]
  },
  {
   "cell_type": "code",
   "execution_count": 59,
   "metadata": {},
   "outputs": [
    {
     "data": {
      "text/plain": [
       "tensor([3584, 3584, 3584,  ..., 3584, 3584, 3584], device='cuda:5')"
      ]
     },
     "execution_count": 59,
     "metadata": {},
     "output_type": "execute_result"
    }
   ],
   "source": [
    "sparse_mask.sum(1)"
   ]
  },
  {
   "cell_type": "code",
   "execution_count": 60,
   "metadata": {},
   "outputs": [
    {
     "name": "stdout",
     "output_type": "stream",
     "text": [
      "2208.296875\n",
      "1870.84228515625\n",
      "1646.024169921875\n",
      "1489.6251220703125\n",
      "1376.3428955078125\n",
      "1292.00732421875\n",
      "1228.068603515625\n",
      "1179.02734375\n",
      "1140.774658203125\n",
      "1110.45556640625\n",
      "1086.05712890625\n",
      "1066.09765625\n",
      "1049.5567626953125\n",
      "1035.72314453125\n",
      "1024.0380859375\n",
      "1014.0767822265625\n",
      "1005.5115356445312\n",
      "998.0770263671875\n",
      "991.5503540039062\n",
      "985.755615234375\n",
      "980.5457763671875\n",
      "975.8153686523438\n",
      "971.4874877929688\n",
      "967.5029296875\n",
      "963.8155517578125\n",
      "960.38818359375\n",
      "957.19775390625\n",
      "954.218505859375\n",
      "951.423583984375\n",
      "948.7957763671875\n",
      "946.3216552734375\n",
      "943.9798583984375\n",
      "941.7530517578125\n",
      "939.62744140625\n",
      "937.5919189453125\n",
      "935.6373291015625\n",
      "933.7556762695312\n",
      "931.9404907226562\n",
      "930.1863403320312\n",
      "928.48828125\n",
      "926.8419189453125\n",
      "925.2438354492188\n",
      "923.6904296875\n",
      "922.178955078125\n",
      "920.706787109375\n",
      "919.271484375\n",
      "917.8709106445312\n",
      "916.5030517578125\n",
      "915.166259765625\n",
      "913.8587646484375\n",
      "912.579345703125\n",
      "911.326171875\n",
      "910.098388671875\n",
      "908.8946533203125\n",
      "907.7137451171875\n",
      "906.554931640625\n",
      "905.4171142578125\n",
      "904.29931640625\n",
      "903.2008666992188\n",
      "902.1209716796875\n",
      "901.0588989257812\n",
      "900.013916015625\n",
      "898.9855346679688\n",
      "897.972900390625\n",
      "896.9757080078125\n",
      "895.9932861328125\n",
      "895.025146484375\n",
      "894.07080078125\n",
      "893.1298828125\n",
      "892.201904296875\n",
      "891.286376953125\n",
      "890.383056640625\n",
      "889.491455078125\n",
      "888.611328125\n",
      "887.7423095703125\n",
      "886.8839111328125\n",
      "886.0360717773438\n",
      "885.1982421875\n",
      "884.3704833984375\n",
      "883.55224609375\n",
      "882.7434692382812\n",
      "881.9437866210938\n",
      "881.15283203125\n",
      "880.3707885742188\n",
      "879.5969848632812\n",
      "878.83154296875\n",
      "878.073974609375\n",
      "877.3243408203125\n",
      "876.582275390625\n",
      "875.8478393554688\n",
      "875.12060546875\n",
      "874.4005126953125\n",
      "873.6875\n",
      "872.9810791015625\n",
      "872.2816162109375\n",
      "871.5884399414062\n",
      "870.9017333984375\n",
      "870.2213745117188\n",
      "869.5470581054688\n",
      "868.8787841796875\n",
      "868.21630859375\n",
      "867.5595703125\n",
      "866.9085083007812\n",
      "866.2630615234375\n",
      "865.623046875\n",
      "864.9882202148438\n",
      "864.3587646484375\n",
      "863.7342529296875\n",
      "863.1148681640625\n",
      "862.5003662109375\n",
      "861.890869140625\n",
      "861.2860717773438\n",
      "860.6858520507812\n",
      "860.0902709960938\n",
      "859.499267578125\n",
      "858.9126586914062\n",
      "858.330322265625\n",
      "857.7523803710938\n",
      "857.1786499023438\n",
      "856.6090087890625\n",
      "856.04345703125\n",
      "855.48193359375\n",
      "854.92431640625\n",
      "854.37060546875\n",
      "853.8207397460938\n",
      "853.274658203125\n",
      "852.732177734375\n",
      "852.193359375\n",
      "851.658203125\n",
      "851.1265869140625\n",
      "850.598388671875\n",
      "850.07373046875\n",
      "849.5523681640625\n",
      "849.0343017578125\n",
      "848.51953125\n",
      "848.0081176757812\n",
      "847.499755859375\n",
      "846.99462890625\n",
      "846.49267578125\n",
      "845.9935913085938\n",
      "845.4976196289062\n",
      "845.0045776367188\n",
      "844.5145874023438\n",
      "844.02734375\n",
      "843.543212890625\n",
      "843.0617065429688\n",
      "842.5828857421875\n",
      "842.1069946289062\n",
      "841.6337280273438\n",
      "841.1632080078125\n",
      "840.6953125\n",
      "840.2299194335938\n",
      "839.7672119140625\n",
      "839.3070678710938\n",
      "838.8494262695312\n",
      "838.3942260742188\n",
      "837.9415893554688\n",
      "837.4913330078125\n",
      "837.043212890625\n",
      "836.597900390625\n",
      "836.1546020507812\n",
      "835.7137451171875\n",
      "835.2750854492188\n",
      "834.8388061523438\n",
      "834.4047241210938\n",
      "833.972900390625\n",
      "833.5431518554688\n",
      "833.1155395507812\n",
      "832.690185546875\n",
      "832.2669067382812\n",
      "831.8455810546875\n",
      "831.4264526367188\n",
      "831.0093994140625\n",
      "830.5942993164062\n",
      "830.1812133789062\n",
      "829.7700805664062\n",
      "829.3610229492188\n",
      "828.953857421875\n",
      "828.5484619140625\n",
      "828.1452026367188\n",
      "827.7435913085938\n",
      "827.3438720703125\n",
      "826.946044921875\n",
      "826.5501098632812\n",
      "826.1558837890625\n",
      "825.763427734375\n",
      "825.3728637695312\n",
      "824.9839477539062\n",
      "824.5968017578125\n",
      "824.2113037109375\n",
      "823.8275756835938\n",
      "823.4454956054688\n",
      "823.0650634765625\n",
      "822.686279296875\n",
      "822.3092041015625\n"
     ]
    },
    {
     "ename": "KeyboardInterrupt",
     "evalue": "",
     "output_type": "error",
     "traceback": [
      "\u001b[0;31m---------------------------------------------------------------------------\u001b[0m",
      "\u001b[0;31mKeyboardInterrupt\u001b[0m                         Traceback (most recent call last)",
      "Cell \u001b[0;32mIn[60], line 18\u001b[0m\n\u001b[1;32m     16\u001b[0m \u001b[38;5;66;03m# print(diff)\u001b[39;00m\n\u001b[1;32m     17\u001b[0m loss \u001b[38;5;241m=\u001b[39m torch\u001b[38;5;241m.\u001b[39meinsum(\u001b[38;5;124m'\u001b[39m\u001b[38;5;124mik,kl,il->\u001b[39m\u001b[38;5;124m'\u001b[39m, diff, H\u001b[38;5;241m/\u001b[39mH\u001b[38;5;241m.\u001b[39mshape[\u001b[38;5;241m0\u001b[39m], diff)\n\u001b[0;32m---> 18\u001b[0m \u001b[38;5;28mprint\u001b[39m(loss\u001b[38;5;241m.\u001b[39mitem())\n\u001b[1;32m     19\u001b[0m loss\u001b[38;5;241m.\u001b[39mbackward()\n\u001b[1;32m     20\u001b[0m \u001b[38;5;66;03m# print(changes_non_masked.grad)\u001b[39;00m\n",
      "\u001b[0;31mKeyboardInterrupt\u001b[0m: "
     ]
    }
   ],
   "source": [
    "changes_non_masked = torch.zeros(sparse_mask.shape[0] * (sparse_mask.shape[-1] - torch.sum(sparse_mask[0]).item())).to(device).requires_grad_(True)\n",
    "\n",
    "\n",
    "\n",
    "\n",
    "\n",
    "lr = 1e-1\n",
    "lr_multiple = 0.9\n",
    "prev_loss = 1e9\n",
    "n_steps = 1000\n",
    "\n",
    "for i in range(n_steps):\n",
    "    diff = torch.zeros_like(weights)\n",
    "    diff[~sparse_mask] = changes_non_masked\n",
    "    diff[sparse_mask] = -weights[sparse_mask]\n",
    "    # print(diff)\n",
    "    loss = torch.einsum('ik,kl,il->', diff, H/H.shape[0], diff)\n",
    "    print(loss.item())\n",
    "    loss.backward()\n",
    "    # print(changes_non_masked.grad)\n",
    "    if loss.item() > prev_loss:\n",
    "        print(\"Decreasing learning rate\")\n",
    "        lr *= lr_multiple\n",
    "    prev_loss = loss.item()\n",
    "    with torch.no_grad():\n",
    "        changes_non_masked.grad = torch.clamp(changes_non_masked.grad, -1, 1)\n",
    "        changes_non_masked -= lr * changes_non_masked.grad\n",
    "        changes_non_masked.grad.zero_()\n",
    "\n"
   ]
  },
  {
   "cell_type": "code",
   "execution_count": 61,
   "metadata": {},
   "outputs": [
    {
     "name": "stderr",
     "output_type": "stream",
     "text": [
      "100%|██████████| 4096/4096 [01:30<00:00, 45.09it/s]\n"
     ]
    }
   ],
   "source": [
    "delta_weights = torch.zeros_like(weights)\n",
    "\n",
    "for i in tqdm.tqdm(range(weights.shape[0])):\n",
    "    # print((torch.cholesky_inverse(torch.cholesky(H[sparse_mask[i],:][:,sparse_mask[i]])) @ weights[i,sparse_mask[i]]).shape)\n",
    "    delta_weights[i] = - H_inv[:,sparse_mask[i]] @ torch.cholesky_inverse(torch.linalg.cholesky(H_inv[sparse_mask[i],:][:,sparse_mask[i]])) @ weights[i,sparse_mask[i]]"
   ]
  },
  {
   "cell_type": "code",
   "execution_count": 30,
   "metadata": {},
   "outputs": [
    {
     "data": {
      "text/plain": [
       "tensor(0.0049, device='cuda:5')"
      ]
     },
     "execution_count": 30,
     "metadata": {},
     "output_type": "execute_result"
    }
   ],
   "source": [
    "torch.max(torch.abs(weights_new[sparse_mask]))"
   ]
  },
  {
   "cell_type": "code",
   "execution_count": 54,
   "metadata": {},
   "outputs": [
    {
     "name": "stdout",
     "output_type": "stream",
     "text": [
      "free = 46991.0, total = 48676.75\n",
      "average error 2.3888800144195557, H error 16.494220733642578\n"
     ]
    }
   ],
   "source": [
    "weights_new = weights + delta_weights\n",
    "weights_new[sparse_mask] = 0\n",
    "weights_new\n",
    "\n",
    "diff = weights - weights_new\n",
    "\n",
    "average_error = torch.sum(torch.abs(diff)**1)/torch.sum(torch.abs(weights)**1)\n",
    "\n",
    "H_error = torch.einsum('ik,kl,il->', diff, H/H.shape[0], diff)\n",
    "\n",
    "free, total = torch.cuda.mem_get_info(device)\n",
    "print(f\"free = {free/1024/1024}, total = {total/1024/1024}\")\n",
    "\n",
    "print(f\"average error {average_error}, H error {H_error}\")"
   ]
  },
  {
   "cell_type": "code",
   "execution_count": 33,
   "metadata": {},
   "outputs": [
    {
     "data": {
      "text/plain": [
       "tensor([[ 0.0000,  0.0000,  0.0000,  ...,  0.0000,  0.0000,  0.0000],\n",
       "        [-0.0235, -0.0183, -0.1044,  ...,  0.0000,  0.0000,  0.0000],\n",
       "        [ 0.0000,  0.0000,  0.0000,  ...,  0.0031,  0.0086, -0.0074],\n",
       "        ...,\n",
       "        [-0.0741, -0.0847,  0.0871,  ...,  0.0643,  0.0177,  0.0345],\n",
       "        [-0.0340,  0.0067,  0.0181,  ..., -0.0323, -0.0030, -0.0301],\n",
       "        [ 0.0604, -0.0908,  0.1693,  ...,  0.0000,  0.0000,  0.0000]],\n",
       "       device='cuda:5')"
      ]
     },
     "execution_count": 33,
     "metadata": {},
     "output_type": "execute_result"
    }
   ],
   "source": [
    "weights_new"
   ]
  },
  {
   "cell_type": "code",
   "execution_count": null,
   "metadata": {},
   "outputs": [],
   "source": []
  }
 ],
 "metadata": {
  "kernelspec": {
   "display_name": "base",
   "language": "python",
   "name": "python3"
  },
  "language_info": {
   "codemirror_mode": {
    "name": "ipython",
    "version": 3
   },
   "file_extension": ".py",
   "mimetype": "text/x-python",
   "name": "python",
   "nbconvert_exporter": "python",
   "pygments_lexer": "ipython3",
   "version": "3.11.5"
  }
 },
 "nbformat": 4,
 "nbformat_minor": 2
}
