{
 "cells": [
  {
   "cell_type": "code",
   "execution_count": 1,
   "metadata": {},
   "outputs": [],
   "source": [
    "import numpy as np\n",
    "\n",
    "import matplotlib.pyplot as plt"
   ]
  },
  {
   "cell_type": "code",
   "execution_count": 20,
   "metadata": {},
   "outputs": [],
   "source": [
    "def get_average_num_bits(truncate_probability, depth = 3):\n",
    "\n",
    "    average_bits = 0\n",
    "    n_possiblities = 0\n",
    "    probabilities = []\n",
    "    for i in range(depth):\n",
    "        average_bits += (2*i+1)*(1 - truncate_probability)**i * truncate_probability\n",
    "        n_possiblities +=  2**i\n",
    "        for j in range(2**i):\n",
    "            probabilities.append(((1 - truncate_probability)/2)**i * truncate_probability)\n",
    "\n",
    "    average_bits += (2*depth+1)*(1 - truncate_probability)**depth\n",
    "    n_possiblities +=  2**(depth+1)\n",
    "    print(sum(probabilities)+ (1 - truncate_probability)**depth)\n",
    "    for j in range(2**(depth+1)):\n",
    "        probabilities.append(((1 - truncate_probability)/2)**depth * 0.5)\n",
    "    assert n_possiblities == len(probabilities)\n",
    "    # print(probabilities)\n",
    "    # print(sum(probabilities))\n",
    "    # assert sum(probabilities) == 1\n",
    "    return average_bits, n_possiblities, probabilities"
   ]
  },
  {
   "cell_type": "code",
   "execution_count": 23,
   "metadata": {},
   "outputs": [
    {
     "name": "stdout",
     "output_type": "stream",
     "text": [
      "1.0\n"
     ]
    }
   ],
   "source": [
    "avg_bits,n_r, probability = get_average_num_bits(1/3,2)"
   ]
  },
  {
   "cell_type": "code",
   "execution_count": 25,
   "metadata": {},
   "outputs": [
    {
     "name": "stdout",
     "output_type": "stream",
     "text": [
      "3.0860486123130384\n",
      "3.2222222222222228\n"
     ]
    }
   ],
   "source": [
    "#measure the entropy\n",
    "import numpy as np\n",
    "entropy = -np.sum([p*np.log2(p) for p in probability])\n",
    "print(entropy)\n",
    "print(avg_bits)"
   ]
  },
  {
   "cell_type": "code",
   "execution_count": 26,
   "metadata": {},
   "outputs": [
    {
     "name": "stdout",
     "output_type": "stream",
     "text": [
      "{0: 0.3333333333333333, 1: 0.11111111111111112, 2: 0.11111111111111112, 3: 0.055555555555555566, 4: 0.055555555555555566, 5: 0.055555555555555566, 6: 0.055555555555555566, 7: 0.055555555555555566, 8: 0.055555555555555566, 9: 0.055555555555555566, 10: 0.055555555555555566}\n",
      "[[0, '11'], [1, '000'], [2, '001'], [3, '0100'], [4, '0101'], [5, '0110'], [6, '0111'], [7, '1000'], [8, '1001'], [9, '1010'], [10, '1011']]\n",
      "3.0860486123130384\n"
     ]
    }
   ],
   "source": [
    "#create a huffman code\n",
    "from heapq import heappush, heappop, heapify\n",
    "from collections import defaultdict\n",
    "\n",
    "def huffman(p):\n",
    "    heap = [[weight, [symbol, \"\"]] for symbol, weight in p.items()]\n",
    "    heapify(heap)\n",
    "    while len(heap) > 1:\n",
    "        lo = heappop(heap)\n",
    "        hi = heappop(heap)\n",
    "        for pair in lo[1:]:\n",
    "            pair[1] = '0' + pair[1]\n",
    "        for pair in hi[1:]:\n",
    "            pair[1] = '1' + pair[1]\n",
    "        heappush(heap, [lo[0] + hi[0]] + lo[1:] + hi[1:])\n",
    "    return sorted(heappop(heap)[1:], key=lambda p: (len(p[-1]), p))\n",
    "\n",
    "p = {i: p for i, p in enumerate(probability)}\n",
    "print(p)\n",
    "print(huffman(p))\n",
    "print(entropy)"
   ]
  },
  {
   "cell_type": "code",
   "execution_count": null,
   "metadata": {},
   "outputs": [],
   "source": [
    "\n",
    "\n"
   ]
  }
 ],
 "metadata": {
  "kernelspec": {
   "display_name": "base",
   "language": "python",
   "name": "python3"
  },
  "language_info": {
   "codemirror_mode": {
    "name": "ipython",
    "version": 3
   },
   "file_extension": ".py",
   "mimetype": "text/x-python",
   "name": "python",
   "nbconvert_exporter": "python",
   "pygments_lexer": "ipython3",
   "version": "3.11.5"
  }
 },
 "nbformat": 4,
 "nbformat_minor": 2
}
