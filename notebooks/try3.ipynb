{
 "cells": [
  {
   "cell_type": "code",
   "execution_count": 3,
   "metadata": {},
   "outputs": [],
   "source": [
    "import torch\n",
    "import torch.nn as nn\n",
    "import torch.nn.functional as F"
   ]
  },
  {
   "cell_type": "code",
   "execution_count": 44,
   "metadata": {},
   "outputs": [],
   "source": [
    "#hyperparameters\n",
    "\n",
    "codebook_size = 2**(2*3)\n",
    "codebook_dim = 2\n",
    "device = torch.device(\"cuda:7\")\n"
   ]
  },
  {
   "cell_type": "code",
   "execution_count": 45,
   "metadata": {},
   "outputs": [],
   "source": [
    "data = torch.load(\"/home/lliu/huffman/test/original_weights2.pt\")\n",
    "for key in data.keys():\n",
    "    if isinstance(data[key], torch.Tensor):\n",
    "        data[key] = data[key].to(device)\n",
    "    elif isinstance(data[key], list):\n",
    "        for i in range(len(data[key])):\n",
    "            data[key][i] = data[key][i].to(device)\n",
    "\n",
    "#if a list stack the tensors\n",
    "def stack_tensors(tensors):\n",
    "    return torch.stack(tensors, dim=0)\n",
    "\n",
    "for key in data.keys():\n",
    "    if isinstance(data[key], list):\n",
    "        data[key] = stack_tensors(data[key])\n",
    "    "
   ]
  },
  {
   "cell_type": "code",
   "execution_count": null,
   "metadata": {},
   "outputs": [],
   "source": [
    "\n",
    "H = torch.load(\"/home/lliu/huffman/test/original_weights.pt\")[\"H\"].to(device)\n",
    "H"
   ]
  },
  {
   "cell_type": "code",
   "execution_count": 47,
   "metadata": {},
   "outputs": [],
   "source": [
    "H = H/H.shape[0]\n",
    "weights = data[\"weights\"]"
   ]
  },
  {
   "cell_type": "code",
   "execution_count": null,
   "metadata": {},
   "outputs": [],
   "source": [
    "#make a codebook through kmeans\n",
    "from sklearn.cluster import KMeans\n",
    "import numpy as np\n",
    "\n",
    "kmeans = KMeans(n_clusters=codebook_size, random_state=0).fit(weights.reshape(-1, codebook_dim).cpu().numpy())"
   ]
  },
  {
   "cell_type": "code",
   "execution_count": 49,
   "metadata": {},
   "outputs": [],
   "source": [
    "class reconstruct(torch.autograd.Function):\n",
    "\n",
    "    @staticmethod\n",
    "    def forward(ctx, assignments, codebook):\n",
    "        ctx.save_for_backward(assignments, codebook)\n",
    "        return torch.sum(assignments.unsqueeze(-1)*codebook, dim=2).reshape(weights.shape)\n",
    "    \n",
    "    @staticmethod\n",
    "    def backward(ctx, grad_output):\n",
    "        assignments, codebook = ctx.saved_tensors\n",
    "        # print(grad_output.shape)\n",
    "        # print(assignments.shape)\n",
    "        # print(codebook.shape)\n",
    "        grad_per_vector_block = grad_output.reshape(grad_output.shape[0], grad_output.shape[1]//codebook_dim, codebook_dim)\n",
    "        codebook_max = codebook[torch.argmax(assignments, dim=2),:]\n",
    "        # print(codebook_max.shape)\n",
    "        # print(assignments.shape)\n",
    "        custom_grad_func = codebook_max.unsqueeze(2) - codebook\n",
    "        custom_grad_func = -torch.sign(custom_grad_func)/(1+torch.abs(custom_grad_func))\n",
    "        # print(custom_grad_func.shape)\n",
    "        grad_assignments = torch.sum(grad_per_vector_block.unsqueeze(2)*custom_grad_func, dim=3)\n",
    "        # print(grad_assignments.shape)\n",
    "        # raise Exception\n",
    "        # grad_assignments = torch.sum(grad_per_vector_block.unsqueeze(-1)*codebook.T, dim=2)\n",
    "        # print(grad_assignments.shape)\n",
    "        # # print(grad_per_vector_block.shape)\n",
    "        # print(grad_per_vector_block.unsqueeze(-1).shape, assignments.shape)\n",
    "        grad_codebook = torch.sum(grad_per_vector_block.unsqueeze(-1)*assignments.unsqueeze(2), dim = (0,1)).T\n",
    "        # print(grad_assignments.shape, grad_codebook.shape)\n",
    "        return grad_assignments, grad_codebook\n",
    "        raise Exception\n",
    "        grad_assignments = grad_output.unsqueeze(-1)*codebook\n",
    "        grad_codebook = torch.sum(grad_output.unsqueeze(-1)*assignments, dim=0)\n",
    "        return grad_assignments, grad_codebook\n",
    "    "
   ]
  },
  {
   "cell_type": "code",
   "execution_count": null,
   "metadata": {},
   "outputs": [],
   "source": []
  },
  {
   "cell_type": "code",
   "execution_count": 10,
   "metadata": {},
   "outputs": [],
   "source": [
    "# codebook = torch.tensor(kmeans.cluster_centers_, device=device, dtype = weights.dtype)"
   ]
  },
  {
   "cell_type": "code",
   "execution_count": null,
   "metadata": {},
   "outputs": [],
   "source": [
    "\n",
    "torch.random.manual_seed(0)\n",
    "torch.cuda.manual_seed(0)\n",
    "assignments = torch.ones(weights.shape[0], weights.shape[1]//codebook_dim, codebook_size, device=device,\n",
    "                            dtype=weights.dtype, requires_grad=True)\n",
    "codebook = torch.tensor(kmeans.cluster_centers_, device=device, dtype = weights.dtype,\n",
    "                        requires_grad=True)\n",
    "\n",
    "x = data[\"Input\"].reshape(-1, weights.shape[0]).to(weights.dtype)\n",
    "y = data[\"Output\"].reshape(-1, weights.shape[0]).to(weights.dtype)\n",
    "\n",
    "\n",
    "\n",
    "def compute_reconstructed(assignments, codebook,activation = nn.Identity()):\n",
    "    return torch.sum(activation(assignments.unsqueeze(-1)*codebook), dim=2).reshape(weights.shape)\n",
    "\n",
    "# compute_reconstructed = reconstruct.apply\n",
    "\n",
    "n_iters = 10000\n",
    "lr = 1\n",
    "\n",
    "beta_init = 10\n",
    "beta_final = 1  \n",
    "lambda_ = 1\n",
    "\n",
    "import tqdm\n",
    "losses = []\n",
    "x_losses = []\n",
    "one_hot_losses = []\n",
    "reconstruction_losses = []\n",
    "\n",
    "H = H.half()\n",
    "\n",
    "# assignments_activation = nn.Identity()\n",
    "assignments_activation = nn.Softmax(dim=2)\n",
    "\n",
    "for i in tqdm.tqdm(range(n_iters)):\n",
    "    assignments_soft = assignments_activation(assignments)\n",
    "    # print(assignments_soft)\n",
    "    reconstructed = compute_reconstructed(assignments_soft, codebook)\n",
    "    # print(reconstructed)\n",
    "    diff = weights - reconstructed\n",
    "    loss_reconstruction = torch.sum(diff**2, dim=(1)).mean()*300\n",
    "    # x_loss = torch.sum((x @ reconstructed.T - y)**2, dim=1).mean()\n",
    "    x_loss = torch.einsum('ik,kl,il->', diff, H, diff)\n",
    "    beta = beta_init + (beta_final - beta_init)*i/n_iters\n",
    "    one_hot_loss = torch.sum(1-torch.abs(2*assignments_soft-1)**beta,dim = 1).mean()\n",
    "    # print(\"one_hot_loss\", one_hot_loss.item())\n",
    "    # one_hot_loss = 0\n",
    "    loss = loss_reconstruction + x_loss + lambda_*one_hot_loss\n",
    "    # assert torch.isfinite(loss).all()\n",
    "    loss.backward()\n",
    "    # print(\"loss\", loss.item(), \"loss_reconstruction\", 1/300*loss_reconstruction.item()/(torch.sum(weights**2,dim = 1).mean().item()),\n",
    "    #              \"x_loss\", x_loss.item(), \"one_hot_loss\", one_hot_loss.item())\n",
    "    if i%100 == 0:\n",
    "        print(\"loss\", loss.item(), \"loss_reconstruction\", 1/300*loss_reconstruction.item()/(torch.sum(weights**2,dim = 1).mean().item()),\n",
    "                 \"x_loss\", x_loss.item(), \"one_hot_loss\", one_hot_loss.item())\n",
    "    losses.append(loss.item())\n",
    "    x_losses.append(x_loss.item())\n",
    "    # one_hot_losses.append(one_hot_loss.item())\n",
    "    reconstruction_losses.append(loss_reconstruction.item())\n",
    "    assert torch.isfinite(loss).all()\n",
    "    # raise Exception\n",
    "\n",
    "    with torch.no_grad():\n",
    "        if i%100 == 0:\n",
    "\n",
    "            print(\"assignments.grad\", torch.norm(assignments.grad).item(),\n",
    "                    \"codebook.grad\", torch.norm(codebook.grad).item())\n",
    "            # print(assignments_soft.grad)\n",
    "            print(\"assignments\", assignments[0,0,0].item(),lr*assignments.grad[0,0,0].item())\n",
    "            print(\"codebook\", codebook[0,0].item(), lr*1e-6*codebook.grad[0,0].item())\n",
    "        assignments -= lr*assignments.grad\n",
    "        codebook -= lr*1e-6*codebook.grad\n",
    "        # print(\"codebook\", codebook[0,0].item())\n",
    "        # print(\"assignments\", assignments[0,0,0])\n",
    "\n",
    "        assignments.grad = None\n",
    "        codebook.grad = None\n",
    "    # raise Exception\n"
   ]
  },
  {
   "cell_type": "code",
   "execution_count": null,
   "metadata": {},
   "outputs": [],
   "source": [
    "import matplotlib.pyplot as plt\n",
    "\n",
    "# plt.plot(losses)\n",
    "plt.plot(np.array(x_losses)/x_losses[0])\n",
    "# plt.plot(one_hot_losses)\n",
    "plt.plot(np.array(reconstruction_losses)/reconstruction_losses[0])\n",
    "plt.yscale(\"log\")"
   ]
  },
  {
   "cell_type": "code",
   "execution_count": null,
   "metadata": {},
   "outputs": [],
   "source": [
    "np.ndarray(x_losses)"
   ]
  },
  {
   "cell_type": "code",
   "execution_count": null,
   "metadata": {},
   "outputs": [],
   "source": [
    "plt.hist(assignments_soft.detach().cpu().numpy().flatten(), bins=100)\n",
    "plt.yscale(\"log\")"
   ]
  },
  {
   "cell_type": "code",
   "execution_count": null,
   "metadata": {},
   "outputs": [],
   "source": [
    "(x.reshape(-1, weights.shape[0]) @ weights).reshape(y.shape)"
   ]
  },
  {
   "cell_type": "code",
   "execution_count": null,
   "metadata": {},
   "outputs": [],
   "source": [
    "assignments_final = assignments.argmax(dim=2)\n",
    "# assignments_final = torch.softmax(assignments, dim=2)\n",
    "assignments_final.shape"
   ]
  },
  {
   "cell_type": "code",
   "execution_count": null,
   "metadata": {},
   "outputs": [],
   "source": [
    "assignments_final"
   ]
  },
  {
   "cell_type": "code",
   "execution_count": 39,
   "metadata": {},
   "outputs": [],
   "source": [
    "reconstructed_final = compute_reconstructed(F.one_hot(assignments_final, codebook_size).half(), codebook)\n",
    "\n",
    "# reconstructed_final = compute_reconstructed(assignments_final, codebook)"
   ]
  },
  {
   "cell_type": "code",
   "execution_count": null,
   "metadata": {},
   "outputs": [],
   "source": [
    "y_hat = x @ reconstructed_final.T\n",
    "print(y_hat)\n",
    "print(torch.mean((y_hat - y)**2).item()/torch.mean(y**2).item())"
   ]
  },
  {
   "cell_type": "code",
   "execution_count": null,
   "metadata": {},
   "outputs": [],
   "source": [
    "y"
   ]
  },
  {
   "cell_type": "code",
   "execution_count": null,
   "metadata": {},
   "outputs": [],
   "source": [
    "weights_hat = reconstructed_final\n",
    "\n",
    "print(torch.mean((weights_hat - weights)**2).item()/torch.mean(weights**2).item())"
   ]
  },
  {
   "cell_type": "code",
   "execution_count": null,
   "metadata": {},
   "outputs": [],
   "source": [
    "weights"
   ]
  },
  {
   "cell_type": "code",
   "execution_count": null,
   "metadata": {},
   "outputs": [],
   "source": [
    "(np.prod(assignments.shape)*16 + np.prod(codebook.shape)*16)/(np.prod(weights.shape)*16)*16"
   ]
  },
  {
   "cell_type": "code",
   "execution_count": null,
   "metadata": {},
   "outputs": [],
   "source": [
    "import time\n",
    "\n",
    "import torch\n",
    "import torch.nn as nn\n",
    "\n",
    "def get_llama(model):\n",
    "    import torch\n",
    "    def skip(*args, **kwargs):\n",
    "        pass\n",
    "    torch.nn.init.kaiming_uniform_ = skip\n",
    "    torch.nn.init.uniform_ = skip\n",
    "    torch.nn.init.normal_ = skip\n",
    "    from transformers import LlamaForCausalLM\n",
    "    model = LlamaForCausalLM.from_pretrained(model, torch_dtype='auto')\n",
    "    model.seqlen = 2048\n",
    "    return model\n",
    "\n",
    "model = get_llama(\"huggyllama/llama-7b\")"
   ]
  },
  {
   "cell_type": "code",
   "execution_count": null,
   "metadata": {},
   "outputs": [],
   "source": [
    "model.model.layers[0].self_attn"
   ]
  },
  {
   "cell_type": "code",
   "execution_count": null,
   "metadata": {},
   "outputs": [],
   "source": [
    "3/16*4096*4"
   ]
  },
  {
   "cell_type": "code",
   "execution_count": null,
   "metadata": {},
   "outputs": [],
   "source": [
    "weights = []\n",
    "for layer in model.model.layers:\n",
    "    weights.append(layer.self_attn.q_proj.weight.clone())\n",
    "    weights.append(layer.self_attn.k_proj.weight.clone())\n",
    "    weights.append(layer.self_attn.v_proj.weight.clone())\n",
    "    weights.append(layer.self_attn.o_proj.weight.clone())\n",
    "\n",
    "weights"
   ]
  },
  {
   "cell_type": "code",
   "execution_count": null,
   "metadata": {},
   "outputs": [],
   "source": []
  }
 ],
 "metadata": {
  "kernelspec": {
   "display_name": "base",
   "language": "python",
   "name": "python3"
  },
  "language_info": {
   "codemirror_mode": {
    "name": "ipython",
    "version": 3
   },
   "file_extension": ".py",
   "mimetype": "text/x-python",
   "name": "python",
   "nbconvert_exporter": "python",
   "pygments_lexer": "ipython3",
   "version": "3.11.5"
  }
 },
 "nbformat": 4,
 "nbformat_minor": 2
}
