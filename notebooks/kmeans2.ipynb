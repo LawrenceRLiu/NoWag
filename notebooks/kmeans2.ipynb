{
 "cells": [
  {
   "cell_type": "code",
   "execution_count": 10,
   "metadata": {},
   "outputs": [
    {
     "data": {
      "application/vnd.jupyter.widget-view+json": {
       "model_id": "1e1d005e73ae465a9f65e4a7efbcfcc6",
       "version_major": 2,
       "version_minor": 0
      },
      "text/plain": [
       "Loading checkpoint shards:   0%|          | 0/2 [00:00<?, ?it/s]"
      ]
     },
     "metadata": {},
     "output_type": "display_data"
    }
   ],
   "source": [
    "import time\n",
    "\n",
    "import torch\n",
    "import torch.nn as nn\n",
    "\n",
    "def get_llama(model):\n",
    "    import torch\n",
    "    def skip(*args, **kwargs):\n",
    "        pass\n",
    "    torch.nn.init.kaiming_uniform_ = skip\n",
    "    torch.nn.init.uniform_ = skip\n",
    "    torch.nn.init.normal_ = skip\n",
    "    from transformers import LlamaForCausalLM\n",
    "    model = LlamaForCausalLM.from_pretrained(model, torch_dtype='auto')\n",
    "    model.seqlen = 2048\n",
    "    return model\n",
    "\n",
    "model = get_llama(\"huggyllama/llama-7b\")"
   ]
  },
  {
   "cell_type": "code",
   "execution_count": 11,
   "metadata": {},
   "outputs": [
    {
     "data": {
      "text/plain": [
       "[tensor([[-0.0096, -0.0301,  0.0085,  ...,  0.0178, -0.0052, -0.0365],\n",
       "         [-0.0029, -0.0101,  0.0100,  ...,  0.0147,  0.0040, -0.0104],\n",
       "         [-0.0004,  0.0139, -0.0074,  ..., -0.0083, -0.0070,  0.0146],\n",
       "         ...,\n",
       "         [-0.0107, -0.0061,  0.0310,  ..., -0.0052, -0.0143,  0.0236],\n",
       "         [-0.0104, -0.0213, -0.0129,  ..., -0.0199, -0.0143, -0.0103],\n",
       "         [ 0.0184,  0.0119,  0.0195,  ...,  0.0343, -0.0327, -0.0355]],\n",
       "        dtype=torch.float16, grad_fn=<CloneBackward0>),\n",
       " tensor([[-0.0316,  0.0256, -0.0027,  ...,  0.0219, -0.0161,  0.0289],\n",
       "         [-0.0054, -0.0039,  0.0031,  ..., -0.0019, -0.0096,  0.0147],\n",
       "         [ 0.0014,  0.0120, -0.0139,  ..., -0.0133,  0.0065, -0.0110],\n",
       "         ...,\n",
       "         [-0.0311,  0.0378, -0.0543,  ...,  0.0161, -0.0359, -0.0412],\n",
       "         [-0.0378,  0.0015, -0.0431,  ...,  0.0348, -0.0481, -0.0129],\n",
       "         [ 0.0179,  0.0389,  0.0396,  ..., -0.0151,  0.0100, -0.0242]],\n",
       "        dtype=torch.float16, grad_fn=<CloneBackward0>),\n",
       " tensor([[ 0.0061,  0.0045,  0.0020,  ..., -0.0079,  0.0114,  0.0150],\n",
       "         [-0.0030, -0.0101, -0.0003,  ...,  0.0090, -0.0078,  0.0049],\n",
       "         [-0.0076, -0.0062, -0.0069,  ...,  0.0076, -0.0008,  0.0050],\n",
       "         ...,\n",
       "         [ 0.0006, -0.0003,  0.0183,  ..., -0.0220, -0.0165, -0.0345],\n",
       "         [-0.0104,  0.0019, -0.0041,  ..., -0.0084, -0.0054, -0.0218],\n",
       "         [ 0.0099, -0.0020, -0.0023,  ..., -0.0068,  0.0156,  0.0027]],\n",
       "        dtype=torch.float16, grad_fn=<CloneBackward0>),\n",
       " tensor([[ 5.3520e-03,  6.9389e-03,  4.0398e-03,  ...,  5.8174e-03,\n",
       "           1.5020e-03, -6.0997e-03],\n",
       "         [ 7.3662e-03,  3.4180e-03,  8.2550e-03,  ..., -3.8600e-04,\n",
       "           1.1452e-02,  5.6458e-03],\n",
       "         [-7.2212e-03,  4.6158e-03,  9.6846e-04,  ..., -1.8005e-02,\n",
       "          -1.3214e-02,  6.8550e-03],\n",
       "         ...,\n",
       "         [-2.3689e-03,  2.7714e-03, -1.4849e-03,  ...,  1.8066e-02,\n",
       "           5.3482e-03, -2.8515e-03],\n",
       "         [-5.5909e-05, -6.5727e-03,  8.5144e-03,  ..., -1.8204e-02,\n",
       "          -7.1907e-03,  2.9411e-03],\n",
       "         [ 6.8817e-03,  1.6747e-03,  5.0621e-03,  ..., -3.0548e-02,\n",
       "           1.4372e-03,  3.9101e-03]], dtype=torch.float16,\n",
       "        grad_fn=<CloneBackward0>)]"
      ]
     },
     "execution_count": 11,
     "metadata": {},
     "output_type": "execute_result"
    }
   ],
   "source": [
    "weights = []\n",
    "layer = model.model.layers[0]\n",
    "weights.append(layer.self_attn.q_proj.weight.clone())\n",
    "weights.append(layer.self_attn.k_proj.weight.clone())\n",
    "weights.append(layer.self_attn.v_proj.weight.clone())\n",
    "weights.append(layer.self_attn.o_proj.weight.clone())\n",
    "\n",
    "weights"
   ]
  },
  {
   "cell_type": "code",
   "execution_count": 12,
   "metadata": {},
   "outputs": [
    {
     "name": "stdout",
     "output_type": "stream",
     "text": [
      "torch.Size([16384, 4096])\n"
     ]
    }
   ],
   "source": [
    "total_weights = torch.concatenate(weights, dim=0)\n",
    "print(total_weights.shape)"
   ]
  },
  {
   "cell_type": "code",
   "execution_count": 13,
   "metadata": {},
   "outputs": [],
   "source": [
    "import tqdm\n",
    "\n",
    "\n",
    "@torch.jit.script\n",
    "def assigment_step(W:torch.Tensor, H:torch.Tensor, quantized_vectors:torch.Tensor):\n",
    "    \"\"\"_summary_\n",
    "\n",
    "    Args:\n",
    "        W (torch.tensor): weights of shape (m,n))\n",
    "        H (torch.tensor): matrix of shape (n,n)\n",
    "        quantized_vectors (torch.tensor): quantized vectors of shape (n,k)\n",
    "            where k is the number of quantized vectors\n",
    "    \n",
    "    Returns:\n",
    "        torch.tensor: updated assignments\n",
    "        torch.tensor: updated errors\n",
    "    \"\"\"\n",
    "\n",
    "    #create a tensor of shape (m,k,n)\n",
    "    #where the slice [i,k,:] consists of \n",
    "    # W[i] - quantized_vectors[k]   \n",
    "    #minus the k quantized vectors\n",
    "    # print(W.dtype)\n",
    "    # print(torch.max(H))\n",
    "    # print(quantized_vectors.shape)\n",
    "    assert torch.all(torch.isfinite(W)), f\"W is not finite, {W}, {W[~torch.isfinite(W)]}\"\n",
    "    assert torch.all(torch.isfinite(quantized_vectors)), f\"quantized_vectors is not finite, {quantized_vectors}, {quantized_vectors[~torch.isfinite(quantized_vectors)]}\"\n",
    "    assignments = torch.zeros(W.shape[0], dtype=torch.long)\n",
    "    error = 0.0\n",
    "    # print(W.shape)\n",
    "    for i in range(W.shape[0]):\n",
    "        diff = W[i].unsqueeze(0) - quantized_vectors.T\n",
    "        #shape (k,n)\n",
    "        # print(diff.shape)\n",
    "        errors = torch.einsum('jk,kl,jl->j', diff, H, diff)\n",
    "        assignments[i] = torch.argmin(errors)\n",
    "        # print(errors)\n",
    "        error += (errors[assignments[i]]).item()\n",
    "        # print(error)\n",
    "    return assignments, error\n",
    "\n",
    "@torch.jit.script\n",
    "def update_step(W:torch.Tensor, prev_quantized:torch.Tensor, assignments:torch.Tensor)->torch.Tensor:\n",
    "    \"\"\"_summary_\n",
    "\n",
    "    Args:\n",
    "        W (torch.tensor): weights of shape (n,n)\n",
    "        assignments (torch.tensor): assignments of shape (n,)\n",
    "    \n",
    "    Returns:\n",
    "        quantized_vectors (torch.tensor): quantized vectors of shape (n,k)\n",
    "    \"\"\"\n",
    "\n",
    "    #initialize the updated quantized vectors\n",
    "    updated_quantized_vectors = torch.zeros_like(prev_quantized)\n",
    "\n",
    "    #the quantized vectors are just the mean of the weights\n",
    "    #that are assigned to the same cluster\n",
    "    for i in range(updated_quantized_vectors.shape[0]):\n",
    "        # assert torch.all(torch.isfinite(W[assignments == i])), f\"W[assigments == i] is not finite, {W[assignments == i]}, {W[assignments == i][~torch.isfinite(W[assignments == i])]}\"\n",
    "        if torch.any(assignments == i):\n",
    "            updated_quantized_vectors[:,i] = W[assignments == i].mean(dim=0)\n",
    "    \n",
    "    return updated_quantized_vectors\n",
    "\n",
    "\n",
    "\n",
    "\n",
    "\n",
    "def vector_quantize(W, H, k, max_iters = 1000, \n",
    "                    max_init_iters = 1,\n",
    "                    convergence_threshold = 1e-3):\n",
    "    \"\"\"_summary_\n",
    "\n",
    "    Args:\n",
    "        W (torch.tensor): weights of shape (n,n)\n",
    "        H (torch.tensor): matrix of shape (n,n)\n",
    "        k (int): number of quantized vectors\n",
    "    \n",
    "    Returns:\n",
    "        torch.tensor: quantized vectors of shape (n,k)\n",
    "    \"\"\"\n",
    "    assert torch.all(torch.isfinite(H)), f\"H is not finite, {H}, {H[~torch.isfinite(H)]}\"\n",
    "    min_error = float('inf')\n",
    "    bar = tqdm.tqdm(total=max_init_iters*max_iters)\n",
    "    for i in range(max_init_iters):\n",
    "        #initialize the quantized vectors\n",
    "        indexs = torch.randperm(W.shape[0])[:k]\n",
    "        quantized_vectors = W[indexs,:].T\n",
    "        converged = False\n",
    "        for i in range(max_iters):\n",
    "            bar.update(1)\n",
    "            updated_assignments,error = assigment_step(W, H, quantized_vectors)\n",
    "            print(\"error\", error)\n",
    "            quantized_vectors = update_step(W, quantized_vectors, updated_assignments)\n",
    "            # print(updated_quantized_vectors.shape)\n",
    "            if i != 0:\n",
    "                if torch.allclose(assignments, updated_assignments, atol=convergence_threshold):\n",
    "                    print(f\"Converged after {i} iterations, error {error}\")\n",
    "                    converged = True\n",
    "                    bar.update(max_iters - i - 1)\n",
    "                    break\n",
    "            assignments = updated_assignments\n",
    "        if not converged:\n",
    "            print(\"warning: did not converge\")\n",
    "        if error < min_error:\n",
    "            min_error = error\n",
    "            best_quantized_vectors = quantized_vectors\n",
    "            best_assignments = assignments\n",
    "    print(\"quantized with best error\", min_error)\n",
    "    return best_quantized_vectors, best_assignments"
   ]
  },
  {
   "cell_type": "code",
   "execution_count": 14,
   "metadata": {},
   "outputs": [],
   "source": [
    "data = torch.load('/home/lliu/huffman/test/original_weights.pt')"
   ]
  },
  {
   "cell_type": "code",
   "execution_count": 15,
   "metadata": {},
   "outputs": [],
   "source": [
    "H = data[\"H\"]"
   ]
  },
  {
   "cell_type": "code",
   "execution_count": 16,
   "metadata": {},
   "outputs": [],
   "source": [
    "device = torch.device(\"cuda:7\")\n",
    "# weights = data[\"weights\"].to(device)\n",
    "weights = total_weights.to(device) \n",
    "H = H.to(device).to(weights.dtype)"
   ]
  },
  {
   "cell_type": "code",
   "execution_count": 17,
   "metadata": {},
   "outputs": [
    {
     "data": {
      "text/plain": [
       "torch.Size([16384, 4096])"
      ]
     },
     "execution_count": 17,
     "metadata": {},
     "output_type": "execute_result"
    }
   ],
   "source": [
    "weights.shape"
   ]
  },
  {
   "cell_type": "code",
   "execution_count": 18,
   "metadata": {},
   "outputs": [
    {
     "name": "stderr",
     "output_type": "stream",
     "text": []
    },
    {
     "name": "stdout",
     "output_type": "stream",
     "text": [
      "error 3\n"
     ]
    },
    {
     "name": "stderr",
     "output_type": "stream",
     "text": []
    },
    {
     "name": "stdout",
     "output_type": "stream",
     "text": [
      "error 0\n"
     ]
    },
    {
     "name": "stderr",
     "output_type": "stream",
     "text": []
    },
    {
     "name": "stdout",
     "output_type": "stream",
     "text": [
      "error 0\n"
     ]
    },
    {
     "name": "stderr",
     "output_type": "stream",
     "text": []
    },
    {
     "name": "stdout",
     "output_type": "stream",
     "text": [
      "error 0\n"
     ]
    },
    {
     "name": "stderr",
     "output_type": "stream",
     "text": []
    },
    {
     "name": "stdout",
     "output_type": "stream",
     "text": [
      "error 0\n"
     ]
    },
    {
     "name": "stderr",
     "output_type": "stream",
     "text": []
    },
    {
     "name": "stdout",
     "output_type": "stream",
     "text": [
      "error 0\n"
     ]
    },
    {
     "name": "stderr",
     "output_type": "stream",
     "text": []
    },
    {
     "name": "stdout",
     "output_type": "stream",
     "text": [
      "error 0\n"
     ]
    },
    {
     "name": "stderr",
     "output_type": "stream",
     "text": []
    },
    {
     "name": "stdout",
     "output_type": "stream",
     "text": [
      "error 0\n"
     ]
    },
    {
     "name": "stderr",
     "output_type": "stream",
     "text": []
    },
    {
     "name": "stdout",
     "output_type": "stream",
     "text": [
      "error 0\n"
     ]
    },
    {
     "name": "stderr",
     "output_type": "stream",
     "text": []
    },
    {
     "name": "stdout",
     "output_type": "stream",
     "text": [
      "error 0\n"
     ]
    },
    {
     "name": "stderr",
     "output_type": "stream",
     "text": []
    },
    {
     "name": "stdout",
     "output_type": "stream",
     "text": [
      "error 0\n"
     ]
    },
    {
     "name": "stderr",
     "output_type": "stream",
     "text": []
    },
    {
     "name": "stdout",
     "output_type": "stream",
     "text": [
      "error 0\n"
     ]
    },
    {
     "name": "stderr",
     "output_type": "stream",
     "text": []
    },
    {
     "name": "stdout",
     "output_type": "stream",
     "text": [
      "error 0\n"
     ]
    },
    {
     "name": "stderr",
     "output_type": "stream",
     "text": []
    },
    {
     "name": "stdout",
     "output_type": "stream",
     "text": [
      "error 0\n"
     ]
    },
    {
     "name": "stderr",
     "output_type": "stream",
     "text": []
    },
    {
     "name": "stdout",
     "output_type": "stream",
     "text": [
      "error 0\n"
     ]
    },
    {
     "name": "stderr",
     "output_type": "stream",
     "text": []
    },
    {
     "name": "stdout",
     "output_type": "stream",
     "text": [
      "error 0\n"
     ]
    },
    {
     "name": "stderr",
     "output_type": "stream",
     "text": []
    },
    {
     "name": "stdout",
     "output_type": "stream",
     "text": [
      "error 0\n"
     ]
    },
    {
     "name": "stderr",
     "output_type": "stream",
     "text": []
    },
    {
     "name": "stdout",
     "output_type": "stream",
     "text": [
      "error 0\n"
     ]
    },
    {
     "name": "stderr",
     "output_type": "stream",
     "text": []
    },
    {
     "name": "stdout",
     "output_type": "stream",
     "text": [
      "error 0\n"
     ]
    },
    {
     "name": "stderr",
     "output_type": "stream",
     "text": []
    },
    {
     "name": "stdout",
     "output_type": "stream",
     "text": [
      "error 0\n"
     ]
    },
    {
     "name": "stderr",
     "output_type": "stream",
     "text": []
    },
    {
     "name": "stdout",
     "output_type": "stream",
     "text": [
      "error 0\n"
     ]
    },
    {
     "name": "stderr",
     "output_type": "stream",
     "text": []
    },
    {
     "name": "stdout",
     "output_type": "stream",
     "text": [
      "error 0\n"
     ]
    },
    {
     "name": "stderr",
     "output_type": "stream",
     "text": []
    },
    {
     "name": "stdout",
     "output_type": "stream",
     "text": [
      "error 0\n"
     ]
    },
    {
     "name": "stderr",
     "output_type": "stream",
     "text": []
    },
    {
     "name": "stdout",
     "output_type": "stream",
     "text": [
      "error 0\n"
     ]
    },
    {
     "name": "stderr",
     "output_type": "stream",
     "text": []
    },
    {
     "name": "stdout",
     "output_type": "stream",
     "text": [
      "error 0\n"
     ]
    },
    {
     "name": "stderr",
     "output_type": "stream",
     "text": [
      "100%|██████████| 1000/1000 [08:34<00:00,  1.94it/s]"
     ]
    },
    {
     "name": "stdout",
     "output_type": "stream",
     "text": [
      "Converged after 24 iterations, error 0\n",
      "quantized with best error 0\n"
     ]
    },
    {
     "name": "stderr",
     "output_type": "stream",
     "text": [
      "\n"
     ]
    }
   ],
   "source": [
    "\n",
    "quantized_vectors, assignments = vector_quantize(weights, H/H.shape[0], 3072)"
   ]
  },
  {
   "cell_type": "code",
   "execution_count": 19,
   "metadata": {},
   "outputs": [],
   "source": [
    "data = torch.load(\"/home/lliu/huffman/test/original_weights2.pt\")\n",
    "\n",
    "device = torch.device(\"cuda:7\")\n",
    "\n",
    "for key in data.keys():\n",
    "    # if isinstance(data[key], torch.Tensor):\n",
    "    #     data[key] = data[key].to(device)\n",
    "    if isinstance(data[key], list):\n",
    "        for i in range(len(data[key])):\n",
    "            data[key][i] = data[key][i].to(device)\n",
    "\n",
    "for key in data.keys():\n",
    "    if isinstance(data[key], list):\n",
    "        data[key] = torch.stack(data[key], dim=0)   \n",
    "\n",
    "x = data[\"Input\"].reshape(-1, H.shape[0]).to(H.dtype)\n",
    "y = data[\"Output\"].reshape(-1, H.shape[0]).to(H.dtype)"
   ]
  },
  {
   "cell_type": "code",
   "execution_count": 20,
   "metadata": {},
   "outputs": [
    {
     "data": {
      "text/plain": [
       "tensor(0.5557, device='cuda:7', dtype=torch.float16, grad_fn=<DivBackward0>)"
      ]
     },
     "execution_count": 20,
     "metadata": {},
     "output_type": "execute_result"
    }
   ],
   "source": [
    "quantized_weights = quantized_vectors[:,assignments[:4096]].T\n",
    "torch.sum((quantized_weights - weights[:4096])**2)/torch.sum(weights[:4096]**2)"
   ]
  },
  {
   "cell_type": "code",
   "execution_count": 21,
   "metadata": {},
   "outputs": [
    {
     "name": "stdout",
     "output_type": "stream",
     "text": [
      "tensor([[ 1.4717,  0.7559, -0.5723,  ...,  0.7559,  0.6211,  0.0622],\n",
      "        [ 1.4893,  0.7520, -0.5386,  ...,  0.7520,  0.5962, -0.0842],\n",
      "        [ 1.5059,  0.7505, -0.5044,  ...,  0.7505,  0.5630, -0.0619],\n",
      "        ...,\n",
      "        [ 1.4482,  0.7217, -0.4734,  ...,  0.7217,  0.6177, -0.0407],\n",
      "        [ 1.4570,  0.6582, -0.5508,  ...,  0.6582,  0.7993, -0.3870],\n",
      "        [ 1.3516,  0.7266, -0.5947,  ...,  0.7266,  0.6470,  0.0765]],\n",
      "       device='cuda:7', dtype=torch.float16, grad_fn=<MmBackward0>)\n",
      "0.04073159784560144\n"
     ]
    }
   ],
   "source": [
    "y_hat = x @ quantized_weights.T\n",
    "print(y_hat)\n",
    "print(torch.mean((y_hat - y)**2).item()/torch.mean(y**2).item())"
   ]
  },
  {
   "cell_type": "code",
   "execution_count": 22,
   "metadata": {},
   "outputs": [
    {
     "data": {
      "text/plain": [
       "<BarContainer object of 3072 artists>"
      ]
     },
     "execution_count": 22,
     "metadata": {},
     "output_type": "execute_result"
    },
    {
     "data": {
      "image/png": "[encoded data removed]",
      "text/plain": [
       "<Figure size 640x480 with 1 Axes>"
      ]
     },
     "metadata": {},
     "output_type": "display_data"
    }
   ],
   "source": [
    "#plot out the distribution for each cluster\n",
    "import matplotlib.pyplot as plt\n",
    "import numpy as np\n",
    "\n",
    "unique, counts = np.unique(assignments.cpu().numpy(), return_counts=True)\n",
    "plt.bar(unique, counts)"
   ]
  },
  {
   "cell_type": "code",
   "execution_count": 23,
   "metadata": {},
   "outputs": [
    {
     "data": {
      "text/plain": [
       "16384"
      ]
     },
     "execution_count": 23,
     "metadata": {},
     "output_type": "execute_result"
    }
   ],
   "source": [
    "np.sum(counts)"
   ]
  },
  {
   "cell_type": "code",
   "execution_count": 24,
   "metadata": {},
   "outputs": [
    {
     "data": {
      "text/plain": [
       "torch.Size([16384])"
      ]
     },
     "execution_count": 24,
     "metadata": {},
     "output_type": "execute_result"
    }
   ],
   "source": [
    "assignments.shape"
   ]
  },
  {
   "cell_type": "code",
   "execution_count": null,
   "metadata": {},
   "outputs": [],
   "source": []
  },
  {
   "cell_type": "code",
   "execution_count": null,
   "metadata": {},
   "outputs": [],
   "source": []
  }
 ],
 "metadata": {
  "kernelspec": {
   "display_name": "base",
   "language": "python",
   "name": "python3"
  },
  "language_info": {
   "codemirror_mode": {
    "name": "ipython",
    "version": 3
   },
   "file_extension": ".py",
   "mimetype": "text/x-python",
   "name": "python",
   "nbconvert_exporter": "python",
   "pygments_lexer": "ipython3",
   "version": "3.11.5"
  }
 },
 "nbformat": 4,
 "nbformat_minor": 2
}
