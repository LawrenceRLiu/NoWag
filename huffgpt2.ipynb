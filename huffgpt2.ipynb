{
 "cells": [
  {
   "cell_type": "code",
   "execution_count": 1,
   "metadata": {},
   "outputs": [],
   "source": [
    "import numpy as np\n",
    "import matplotlib.pyplot as plt\n",
    "import numba as nb\n",
    "\n",
    "import torch\n",
    "import torch.nn as nn\n",
    "import numpy as np \n",
    "\n",
    "import random\n",
    "\n",
    "import tqdm\n",
    "import matplotlib.pyplot as plt\n",
    "import sklearn.cluster"
   ]
  },
  {
   "cell_type": "code",
   "execution_count": 2,
   "metadata": {},
   "outputs": [],
   "source": [
    "@nb.jit(nb.int32[:,:](\n",
    "    nb.float32[:,:],nb.float32[:],nb.int32[:],nb.int32,nb.int32\n",
    "),nopython=True)\n",
    "def adjust_quantizations(weights:np.ndarray[np.float32],\n",
    "                         quantization_values:np.ndarray[np.float32],\n",
    "                         huffman_codes_nbits:np.ndarray[np.int32],\n",
    "                         block_size:int = 64,\n",
    "                         target_average_bits_per_weight:int = 2)->np.ndarray[np.int32]:\n",
    "    \"\"\"Adjust quantizations of weights to match the quantization values and huffman codes.\n",
    "\n",
    "    Args:\n",
    "        weights (np.ndarray[np.float32]): the weights, shape (n,m)\n",
    "        original_quantizations (np.ndarray[np.int32]): the original quantized weights, shape (n,m)\n",
    "        quantization_values (np.ndarray[np.float32]): the quantized weights, shape (n_quantizations,)\n",
    "        huffman_codes_nbits (np.ndarray[np.int32]): the number of bits of each huffman code, shape (n_quantizations,)\n",
    "        block_size (int, optional): the block size. Defaults to 64.\n",
    "        target_average_bits_per_weight (int, optional): the target average bits per weight. Defaults to 2.\n",
    "    \"\"\"\n",
    "\n",
    "    n,m = weights.shape\n",
    "\n",
    "    quantizations = np.zeros((n,m),dtype=np.int32)\n",
    "    #the blocks are along the second dimension so \n",
    "\n",
    "    for i in range(n):\n",
    "        # if i%100 == 0:\n",
    "        #     print(i)\n",
    "        for j in range(0,m,block_size):\n",
    "            block = weights[i,j:j+block_size]\n",
    "            block_quantization = np.zeros(block_size,dtype=np.int32)\n",
    "            current_n_bits_per_value = np.ones(block_size)\n",
    "            nbits = 0\n",
    "\n",
    "            #calculate the number of bits the current quantization uses\n",
    "            for k in range(block_size):\n",
    "                best_quantization_error = np.inf\n",
    "                for q in range(len(quantization_values)):\n",
    "                    error = abs(quantization_values[q] - block[k])\n",
    "                    if error < best_quantization_error:\n",
    "                        best_quantization_error = error\n",
    "                        block_quantization[k] = q\n",
    "                        current_n_bits_per_value[k] = huffman_codes_nbits[q]\n",
    "                nbits += current_n_bits_per_value[k]\n",
    "            # print(nbits)\n",
    "            while nbits > target_average_bits_per_weight*block_size:\n",
    "                #find the quantization that would reduce the number of bits the most\n",
    "                minimal_change = np.inf\n",
    "\n",
    "                location = -1\n",
    "                new_quantization = -1\n",
    "                # print(\"n_bits\",nbits)\n",
    "                for k in range(block_size):\n",
    "                    for q in range(len(quantization_values)):\n",
    "                        change_in_bits = huffman_codes_nbits[q] - huffman_codes_nbits[block_quantization[k]]\n",
    "                        if change_in_bits < 0:\n",
    "                            change = abs(quantization_values[q] - block[k])\n",
    "                            if change < minimal_change:\n",
    "                                minimal_change = change\n",
    "                                change_bits = change_in_bits\n",
    "                                location = k\n",
    "                                new_quantization = q\n",
    "\n",
    "                #apply the change\n",
    "                block_quantization[location] = new_quantization\n",
    "                nbits += change_bits\n",
    "\n",
    "            quantizations[i,j:j+block_size] = block_quantization\n",
    "            # print(\"breaking\")\n",
    "            # raise ValueError(\"break\")\n",
    "    return quantizations\n",
    "\n",
    "\n",
    "            "
   ]
  },
  {
   "cell_type": "code",
   "execution_count": 3,
   "metadata": {},
   "outputs": [],
   "source": [
    "device = torch.device(\"cuda:5\")\n",
    "\n",
    "H = torch.load(\"test/original_weights.pt\")[\"H\"].to(device).float()\n",
    "weights = torch.load(\"test/original_weights.pt\")[\"weights\"].to(device).float()  "
   ]
  },
  {
   "cell_type": "code",
   "execution_count": 4,
   "metadata": {},
   "outputs": [],
   "source": [
    "class huff_node:\n",
    "    def __init__(self, value, count):\n",
    "        self.value = value\n",
    "        self.count = count\n",
    "        self.left = None\n",
    "        self.right = None\n",
    "        self.code = \"\"\n",
    "\n",
    "def huffman_code_recursive(nodes:list[huff_node]):\n",
    "    if len(nodes) == 1:\n",
    "        \n",
    "        return nodes[0]\n",
    "    nodes = sorted(nodes, key = lambda x: x.count)\n",
    "    new_node = huff_node(None, nodes[0].count + nodes[1].count)\n",
    "    new_node.left = nodes[0]\n",
    "    new_node.right = nodes[1]\n",
    "    return huffman_code_recursive([new_node] + nodes[2:])\n",
    "\n",
    "def huffman_code_generate(node:huff_node):\n",
    "    if node.left is not None:\n",
    "        node.left.code = node.code + \"0\"\n",
    "        huffman_code_generate(node.left)\n",
    "    if node.right is not None:\n",
    "        node.right.code = node.code + \"1\"\n",
    "        huffman_code_generate(node.right)\n",
    "\n",
    "def huffman_code(values,counts):\n",
    "    nodes = [huff_node(value, count) for value, count in zip(values,counts)]\n",
    "    root = huffman_code_recursive(nodes)\n",
    "    huffman_code_generate(root)\n",
    "    return {node.value: node.code for node in nodes}\n"
   ]
  },
  {
   "cell_type": "code",
   "execution_count": 5,
   "metadata": {},
   "outputs": [],
   "source": [
    "weights_numpy = weights.cpu().numpy()"
   ]
  },
  {
   "cell_type": "code",
   "execution_count": 6,
   "metadata": {},
   "outputs": [],
   "source": [
    "def optimize_quantizations(weights,quantizations, codebook, H,\n",
    "                           n_iters = 1000, lr = 1e-3,\n",
    "                           lr_multiplier = 0.99):\n",
    "    #cast quantizations to torch array\n",
    "    quantizations = torch.from_numpy(quantizations).to(weights.device)\n",
    "    #cast codebook to torch array\n",
    "    codebook = torch.from_numpy(codebook).to(weights.device).requires_grad_(True)\n",
    "    \n",
    "    prev_loss = np.inf\n",
    "    for i in tqdm.tqdm(range(n_iters)):\n",
    "        #calculate the loss\n",
    "        quantized_weights = codebook[quantizations]\n",
    "        diff = weights - quantized_weights\n",
    "\n",
    "\n",
    "        H_error = torch.einsum('ik,kl,il->', diff, H/H.shape[0], diff)\n",
    "        H_error.backward()\n",
    "        # print(H_error)\n",
    "        \n",
    "        \n",
    "        if H_error > prev_loss:\n",
    "            # print(\"Loss increased, reducing learning rate\")\n",
    "            lr *= lr_multiplier\n",
    "            \n",
    "        prev_loss = H_error.item()\n",
    "        \n",
    "        with torch.no_grad():\n",
    "            codebook -= torch.clamp(lr*codebook.grad,-1e-3,1e-3)\n",
    "            codebook.grad = None\n",
    "    print(H_error.item()) \n",
    "    return quantized_weights.detach().cpu().numpy(), codebook.detach().cpu().numpy()"
   ]
  },
  {
   "cell_type": "code",
   "execution_count": 7,
   "metadata": {},
   "outputs": [],
   "source": [
    "def entropy(counts):\n",
    "    e = 0\n",
    "    \n",
    "    for count in counts:\n",
    "        if count == 0:\n",
    "            continue\n",
    "        e -= count*np.log2(count/np.sum(counts))\n",
    "    return e/np.sum(counts)"
   ]
  },
  {
   "cell_type": "code",
   "execution_count": 8,
   "metadata": {},
   "outputs": [
    {
     "name": "stdout",
     "output_type": "stream",
     "text": [
      "6.0\n",
      "(64,)\n",
      "2.2778780099101126\n",
      "64\n",
      "1 25\n"
     ]
    },
    {
     "name": "stderr",
     "output_type": "stream",
     "text": [
      "100%|██████████| 100/100 [02:42<00:00,  1.63s/it]\n"
     ]
    },
    {
     "name": "stdout",
     "output_type": "stream",
     "text": [
      "41.08998107910156\n"
     ]
    },
    {
     "ename": "Exception",
     "evalue": "stop",
     "output_type": "error",
     "traceback": [
      "\u001b[0;31m---------------------------------------------------------------------------\u001b[0m",
      "\u001b[0;31mException\u001b[0m                                 Traceback (most recent call last)",
      "Cell \u001b[0;32mIn[8], line 29\u001b[0m\n\u001b[1;32m     23\u001b[0m quantized_weights_indexs \u001b[38;5;241m=\u001b[39m adjust_quantizations(weights_numpy,codebook,n_bits,\n\u001b[1;32m     24\u001b[0m                                             block_size\u001b[38;5;241m=\u001b[39m\u001b[38;5;241m256\u001b[39m,target_average_bits_per_weight\u001b[38;5;241m=\u001b[39m\u001b[38;5;241m2\u001b[39m)\n\u001b[1;32m     26\u001b[0m quantized_weights, codebook \u001b[38;5;241m=\u001b[39m optimize_quantizations(weights,quantized_weights_indexs,codebook,H,\n\u001b[1;32m     27\u001b[0m                                                         n_iters \u001b[38;5;241m=\u001b[39m \u001b[38;5;241m100\u001b[39m, lr \u001b[38;5;241m=\u001b[39m \u001b[38;5;241m1e-2\u001b[39m,\n\u001b[1;32m     28\u001b[0m                                                         lr_multiplier \u001b[38;5;241m=\u001b[39m \u001b[38;5;241m0.9\u001b[39m)\n\u001b[0;32m---> 29\u001b[0m \u001b[38;5;28;01mraise\u001b[39;00m \u001b[38;5;167;01mException\u001b[39;00m(\u001b[38;5;124m\"\u001b[39m\u001b[38;5;124mstop\u001b[39m\u001b[38;5;124m\"\u001b[39m)\n\u001b[1;32m     30\u001b[0m counts \u001b[38;5;241m=\u001b[39m np\u001b[38;5;241m.\u001b[39mzeros_like(counts)\n\u001b[1;32m     31\u001b[0m \u001b[38;5;28;01mfor\u001b[39;00m i \u001b[38;5;129;01min\u001b[39;00m \u001b[38;5;28mrange\u001b[39m(n_quantizations):\n",
      "\u001b[0;31mException\u001b[0m: stop"
     ]
    }
   ],
   "source": [
    "\n",
    "\n",
    "n_quantizations = 64\n",
    "print(np.log2(n_quantizations))\n",
    "n_iters = 10\n",
    "\n",
    "codebook = np.linspace(weights_numpy.min(),weights_numpy.max(),n_quantizations).astype(np.float32)\n",
    "\n",
    "# codebook = np.sort(np.random.choice(weights_numpy.flatten(),n_quantizations,replace=False)).astype(np.float32)\n",
    "# print(quantization_values)\n",
    "counts = np.histogram(weights_numpy.flatten(), bins = list(codebook) + [np.inf])[0]\n",
    "\n",
    "for i in range(n_iters):\n",
    "    print(counts.shape)\n",
    "    print(entropy(counts))\n",
    "    # raise Exception(\"stop\")\n",
    "    huffman_codes = huffman_code(codebook,counts)\n",
    "    print(len(huffman_codes))\n",
    "    # raise Exception(\"stop\")\n",
    "    # for q in range(n_quantizations):\n",
    "    #     print(codebook[q],len(huffman_codes[codebook[q]]))\n",
    "    n_bits = np.array([len(huffman_codes[codebook[q]]) for q in range(n_quantizations)]).astype(np.int32)\n",
    "    print(np.min(n_bits),np.max(n_bits))\n",
    "    # raise Exception(\"stop\")\n",
    "    quantized_weights_indexs = adjust_quantizations(weights_numpy,codebook,n_bits,\n",
    "                                                block_size=256,target_average_bits_per_weight=2)\n",
    "    \n",
    "    quantized_weights, codebook = optimize_quantizations(weights,quantized_weights_indexs,codebook,H,\n",
    "                                                            n_iters = 100, lr = 1e-2,\n",
    "                                                            lr_multiplier = 0.9)\n",
    "    raise Exception(\"stop\")\n",
    "    counts = np.zeros_like(counts)\n",
    "    for i in range(n_quantizations):\n",
    "        counts[i] = (quantized_weights_indexs == i).sum()\n",
    "\n"
   ]
  },
  {
   "cell_type": "code",
   "execution_count": 9,
   "metadata": {},
   "outputs": [
    {
     "data": {
      "text/plain": [
       "[<matplotlib.lines.Line2D at 0x783aa8c48c90>]"
      ]
     },
     "execution_count": 9,
     "metadata": {},
     "output_type": "execute_result"
    },
    {
     "data": {
      "image/png": "[encoded data removed]",
      "text/plain": [
       "<Figure size 640x480 with 1 Axes>"
      ]
     },
     "metadata": {},
     "output_type": "display_data"
    }
   ],
   "source": [
    "plt.plot(counts)"
   ]
  },
  {
   "cell_type": "code",
   "execution_count": 10,
   "metadata": {},
   "outputs": [
    {
     "data": {
      "text/plain": [
       "array([[-0.04693748, -0.04693748, -0.04693748, ..., -0.04693748,\n",
       "        -0.04693748, -0.04693748],\n",
       "       [-0.04693748, -0.04693748, -0.04693748, ..., -0.04693748,\n",
       "        -0.04693748, -0.04693748],\n",
       "       [-0.04693748, -0.04693748, -0.04693748, ..., -0.04693748,\n",
       "        -0.04693748, -0.04693748],\n",
       "       ...,\n",
       "       [-0.04693748, -0.04693748,  0.11278902, ..., -0.04693748,\n",
       "        -0.04693748, -0.04693748],\n",
       "       [-0.04693748, -0.04693748, -0.04693748, ..., -0.04693748,\n",
       "        -0.04693748, -0.04693748],\n",
       "       [-0.04693748, -0.04693748, -0.04693748, ...,  0.11278902,\n",
       "        -0.04693748, -0.04693748]], dtype=float32)"
      ]
     },
     "execution_count": 10,
     "metadata": {},
     "output_type": "execute_result"
    }
   ],
   "source": [
    "quantized_weights"
   ]
  },
  {
   "cell_type": "code",
   "execution_count": 23,
   "metadata": {},
   "outputs": [
    {
     "data": {
      "text/plain": [
       "1.93359375"
      ]
     },
     "execution_count": 23,
     "metadata": {},
     "output_type": "execute_result"
    }
   ],
   "source": [
    "np.max(np.sum(n_bits[quantized_weights_indexs].reshape(quantized_weights.shape[0],-1,256),axis=2))/256"
   ]
  },
  {
   "cell_type": "code",
   "execution_count": 25,
   "metadata": {},
   "outputs": [
    {
     "name": "stdout",
     "output_type": "stream",
     "text": [
      "tensor(inf, device='cuda:5', grad_fn=<ViewBackward0>)\n",
      "tensor(nan, device='cuda:5', grad_fn=<ViewBackward0>)\n",
      "tensor(nan, device='cuda:5', grad_fn=<ViewBackward0>)\n",
      "tensor(nan, device='cuda:5', grad_fn=<ViewBackward0>)\n",
      "tensor(nan, device='cuda:5', grad_fn=<ViewBackward0>)\n",
      "tensor(nan, device='cuda:5', grad_fn=<ViewBackward0>)\n",
      "tensor(nan, device='cuda:5', grad_fn=<ViewBackward0>)\n",
      "tensor(nan, device='cuda:5', grad_fn=<ViewBackward0>)\n",
      "tensor(nan, device='cuda:5', grad_fn=<ViewBackward0>)\n",
      "tensor(nan, device='cuda:5', grad_fn=<ViewBackward0>)\n"
     ]
    }
   ],
   "source": [
    "lr = 1e-3\n",
    "lr_multiplier = 0.9\n",
    "\n",
    "#cast quantizations to torch array\n",
    "quantizations = torch.from_numpy(quantized_weights_indexs).to(weights.device)\n",
    "#cast codebook to torch array\n",
    "codebook = torch.from_numpy(codebook).to(weights.device).requires_grad_(True)\n",
    "\n",
    "prev_loss = np.inf\n",
    "for i in range(n_iters):\n",
    "    #calculate the loss\n",
    "    quantized_weights = codebook[quantizations]\n",
    "    diff = weights - quantized_weights\n",
    "\n",
    "\n",
    "    H_error = torch.einsum('ik,kl,il->', diff, H/H.shape[0], diff)\n",
    "    H_error.backward()\n",
    "    print(H_error)\n",
    "    \n",
    "    if H_error > prev_loss:\n",
    "        lr *= lr_multiplier\n",
    "    \n",
    "    prev_loss = H_error\n",
    "    with torch.no_grad():\n",
    "        codebook -= lr*codebook.grad\n",
    "        codebook.grad.zero_()\n",
    "        \n",
    "# return quantized_weights, codebook"
   ]
  },
  {
   "cell_type": "code",
   "execution_count": 16,
   "metadata": {},
   "outputs": [
    {
     "data": {
      "image/png": "[encoded data removed]",
      "text/plain": [
       "<Figure size 640x480 with 1 Axes>"
      ]
     },
     "metadata": {},
     "output_type": "display_data"
    }
   ],
   "source": [
    "plt.hist(weights.flatten(),bins=100)\n",
    "plt.plot(quantization_values,np.ones_like(quantization_values),\"o\")\n",
    "plt.yscale(\"log\")"
   ]
  },
  {
   "cell_type": "code",
   "execution_count": 12,
   "metadata": {},
   "outputs": [
    {
     "data": {
      "text/plain": [
       "array([-0.74511719, -0.73908548, -0.73305377, -0.72702206, -0.72099035,\n",
       "       -0.71495864, -0.70892693, -0.70289522, -0.69686351, -0.6908318 ,\n",
       "       -0.68480009, -0.67876838, -0.67273667, -0.66670496, -0.66067325,\n",
       "       -0.65464154, -0.64860983, -0.64257812, -0.63654642, -0.63051471,\n",
       "       -0.624483  , -0.61845129, -0.61241958, -0.60638787, -0.60035616,\n",
       "       -0.59432445, -0.58829274, -0.58226103, -0.57622932, -0.57019761,\n",
       "       -0.5641659 , -0.55813419, -0.55210248, -0.54607077, -0.54003906,\n",
       "       -0.53400735, -0.52797564, -0.52194393, -0.51591222, -0.50988051,\n",
       "       -0.50384881, -0.4978171 , -0.49178539, -0.48575368, -0.47972197,\n",
       "       -0.47369026, -0.46765855, -0.46162684, -0.45559513, -0.44956342,\n",
       "       -0.44353171, -0.4375    , -0.43146829, -0.42543658, -0.41940487,\n",
       "       -0.41337316, -0.40734145, -0.40130974, -0.39527803, -0.38924632,\n",
       "       -0.38321461, -0.3771829 , -0.37115119, -0.36511949, -0.35908778,\n",
       "       -0.35305607, -0.34702436, -0.34099265, -0.33496094, -0.32892923,\n",
       "       -0.32289752, -0.31686581, -0.3108341 , -0.30480239, -0.29877068,\n",
       "       -0.29273897, -0.28670726, -0.28067555, -0.27464384, -0.26861213,\n",
       "       -0.26258042, -0.25654871, -0.250517  , -0.24448529, -0.23845358,\n",
       "       -0.23242188, -0.22639017, -0.22035846, -0.21432675, -0.20829504,\n",
       "       -0.20226333, -0.19623162, -0.19019991, -0.1841682 , -0.17813649,\n",
       "       -0.17210478, -0.16607307, -0.16004136, -0.15400965, -0.14797794,\n",
       "       -0.14194623, -0.13591452, -0.12988281, -0.1238511 , -0.11781939,\n",
       "       -0.11178768, -0.10575597, -0.09972426, -0.09369256, -0.08766085,\n",
       "       -0.08162914, -0.07559743, -0.06956572, -0.06353401, -0.0575023 ,\n",
       "       -0.05147059, -0.04543888, -0.03940717, -0.03337546, -0.02734375,\n",
       "       -0.02131204, -0.01528033, -0.00924862, -0.00321691,  0.0028148 ,\n",
       "        0.00884651,  0.01487822,  0.02090993,  0.02694164,  0.03297335,\n",
       "        0.03900506,  0.04503676,  0.05106847,  0.05710018,  0.06313189,\n",
       "        0.0691636 ,  0.07519531,  0.08122702,  0.08725873,  0.09329044,\n",
       "        0.09932215,  0.10535386,  0.11138557,  0.11741728,  0.12344899,\n",
       "        0.1294807 ,  0.13551241,  0.14154412,  0.14757583,  0.15360754,\n",
       "        0.15963925,  0.16567096,  0.17170267,  0.17773438,  0.18376608,\n",
       "        0.18979779,  0.1958295 ,  0.20186121,  0.20789292,  0.21392463,\n",
       "        0.21995634,  0.22598805,  0.23201976,  0.23805147,  0.24408318,\n",
       "        0.25011489,  0.2561466 ,  0.26217831,  0.26821002,  0.27424173,\n",
       "        0.28027344,  0.28630515,  0.29233686,  0.29836857,  0.30440028,\n",
       "        0.31043199,  0.31646369,  0.3224954 ,  0.32852711,  0.33455882,\n",
       "        0.34059053,  0.34662224,  0.35265395,  0.35868566,  0.36471737,\n",
       "        0.37074908,  0.37678079,  0.3828125 ,  0.38884421,  0.39487592,\n",
       "        0.40090763,  0.40693934,  0.41297105,  0.41900276,  0.42503447,\n",
       "        0.43106618,  0.43709789,  0.4431296 ,  0.44916131,  0.45519301,\n",
       "        0.46122472,  0.46725643,  0.47328814,  0.47931985,  0.48535156,\n",
       "        0.49138327,  0.49741498,  0.50344669,  0.5094784 ,  0.51551011,\n",
       "        0.52154182,  0.52757353,  0.53360524,  0.53963695,  0.54566866,\n",
       "        0.55170037,  0.55773208,  0.56376379,  0.5697955 ,  0.57582721,\n",
       "        0.58185892,  0.58789062,  0.59392233,  0.59995404,  0.60598575,\n",
       "        0.61201746,  0.61804917,  0.62408088,  0.63011259,  0.6361443 ,\n",
       "        0.64217601,  0.64820772,  0.65423943,  0.66027114,  0.66630285,\n",
       "        0.67233456,  0.67836627,  0.68439798,  0.69042969,  0.6964614 ,\n",
       "        0.70249311,  0.70852482,  0.71455653,  0.72058824,  0.72661994,\n",
       "        0.73265165,  0.73868336,  0.74471507,  0.75074678,  0.75677849,\n",
       "        0.7628102 ,  0.76884191,  0.77487362,  0.78090533,  0.78693704,\n",
       "        0.79296875])"
      ]
     },
     "execution_count": 12,
     "metadata": {},
     "output_type": "execute_result"
    }
   ],
   "source": [
    "quantization_values"
   ]
  },
  {
   "cell_type": "code",
   "execution_count": null,
   "metadata": {},
   "outputs": [],
   "source": []
  }
 ],
 "metadata": {
  "kernelspec": {
   "display_name": "base",
   "language": "python",
   "name": "python3"
  },
  "language_info": {
   "codemirror_mode": {
    "name": "ipython",
    "version": 3
   },
   "file_extension": ".py",
   "mimetype": "text/x-python",
   "name": "python",
   "nbconvert_exporter": "python",
   "pygments_lexer": "ipython3",
   "version": "3.11.5"
  }
 },
 "nbformat": 4,
 "nbformat_minor": 2
}
