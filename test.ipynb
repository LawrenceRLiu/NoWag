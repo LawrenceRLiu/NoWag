{
 "cells": [
  {
   "cell_type": "code",
   "execution_count": 2,
   "metadata": {},
   "outputs": [],
   "source": [
    "import json"
   ]
  },
  {
   "cell_type": "code",
   "execution_count": 5,
   "metadata": {},
   "outputs": [],
   "source": [
    "def load_and_check(path):\n",
    "    data = json.load(open(path))\n",
    "\n",
    "    s = \"\"\n",
    "    running_mean = 0\n",
    "\n",
    "    for key in data:\n",
    "        metric_acc = data[key][\"acc\"]*100\n",
    "        s += f\"{round(metric_acc, 1)} & \"\n",
    "        running_mean += metric_acc\n",
    "    \n",
    "    running_mean /= len(data)\n",
    "    s += f\"{round(running_mean, 2)}\"\n",
    "\n",
    "    print(s)"
   ]
  },
  {
   "cell_type": "code",
   "execution_count": 6,
   "metadata": {},
   "outputs": [
    {
     "name": "stdout",
     "output_type": "stream",
     "text": [
      "67.2 & 56.7 & 74.3 & 69.7 & 36.0 & 60.76\n"
     ]
    }
   ],
   "source": [
    "load_and_check(\"/data/lliu/huffman/models/meta-llama/Meta-Llama-3-8B/compressed/167/results.json\")"
   ]
  },
  {
   "cell_type": "code",
   "execution_count": 7,
   "metadata": {},
   "outputs": [
    {
     "name": "stdout",
     "output_type": "stream",
     "text": [
      "68.8 & 64.3 & 76.2 & 72.9 & 41.0 & 64.66\n"
     ]
    }
   ],
   "source": [
    "load_and_check(\"/data/lliu/huffman/models/meta-llama/Llama-2-13b-hf/compressed/166/results.json\")"
   ]
  },
  {
   "cell_type": "code",
   "execution_count": 8,
   "metadata": {},
   "outputs": [
    {
     "name": "stdout",
     "output_type": "stream",
     "text": [
      "64.9 & 54.5 & 73.0 & 66.8 & 33.6 & 58.57\n"
     ]
    }
   ],
   "source": [
    "load_and_check(\"/data/lliu/huffman/models/meta-llama/Llama-2-7b-hf/compressed/166/results.json\")"
   ]
  },
  {
   "cell_type": "code",
   "execution_count": null,
   "metadata": {},
   "outputs": [],
   "source": []
  }
 ],
 "metadata": {
  "kernelspec": {
   "display_name": "base",
   "language": "python",
   "name": "python3"
  },
  "language_info": {
   "codemirror_mode": {
    "name": "ipython",
    "version": 3
   },
   "file_extension": ".py",
   "mimetype": "text/x-python",
   "name": "python",
   "nbconvert_exporter": "python",
   "pygments_lexer": "ipython3",
   "version": "3.11.5"
  }
 },
 "nbformat": 4,
 "nbformat_minor": 2
}
