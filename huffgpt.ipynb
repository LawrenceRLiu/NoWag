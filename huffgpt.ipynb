{
 "cells": [
  {
   "cell_type": "code",
   "execution_count": 1,
   "metadata": {},
   "outputs": [],
   "source": [
    "import torch\n",
    "import torch.nn as nn\n",
    "import numpy as np \n",
    "import random\n",
    "\n",
    "import tqdm\n",
    "import matplotlib.pyplot as plt\n",
    "import sklearn.cluster"
   ]
  },
  {
   "cell_type": "code",
   "execution_count": 55,
   "metadata": {},
   "outputs": [],
   "source": [
    "device = torch.device(\"cuda:5\")\n",
    "\n",
    "H = torch.load(\"test/original_weights.pt\")[\"H\"].to(device).float()\n",
    "weights = torch.load(\"test/original_weights.pt\")[\"weights\"].to(device).float()  "
   ]
  },
  {
   "cell_type": "code",
   "execution_count": 58,
   "metadata": {},
   "outputs": [
    {
     "name": "stderr",
     "output_type": "stream",
     "text": [
      "/home/lliu/anaconda3/lib/python3.11/site-packages/sklearn/cluster/_kmeans.py:1412: FutureWarning: The default value of `n_init` will change from 10 to 'auto' in 1.4. Set the value of `n_init` explicitly to suppress the warning\n",
      "  super()._check_params_vs_input(X, default_n_init=10)\n"
     ]
    }
   ],
   "source": [
    "weights_masked = weights\n",
    "\n",
    "importances = torch.diag(H).unsqueeze(0).repeat(weights_masked.shape[0],1)\n",
    "importances = torch.ones_like(importances)\n",
    "n_bits_inital = 3\n",
    "centriods = 2**n_bits_inital\n",
    "\n",
    "\n",
    "kmeans = sklearn.cluster.KMeans(n_clusters=centriods, random_state=0)\n",
    "\n",
    "quantized = kmeans.fit_predict(weights_masked.cpu().detach().numpy().reshape(-1,1),\n",
    "                                 sample_weight = importances.cpu().detach().numpy().reshape(-1))\n",
    "quantized = torch.tensor(quantized).to(device)\n",
    "values = torch.tensor(kmeans.cluster_centers_).to(device)"
   ]
  },
  {
   "cell_type": "code",
   "execution_count": 59,
   "metadata": {},
   "outputs": [
    {
     "name": "stdout",
     "output_type": "stream",
     "text": [
      "free = 46851.0, total = 48676.75\n",
      "average error 0.2777968943119049, H error 607.974609375\n"
     ]
    }
   ],
   "source": [
    "w_quantized = values[quantized].reshape(weights_masked.shape)\n",
    "\n",
    "diff = weights - w_quantized\n",
    "\n",
    "average_error = torch.sum(torch.abs(diff)**1)/torch.sum(torch.abs(weights)**1)\n",
    "\n",
    "H_error = torch.einsum('ik,kl,il->', diff, H/H.shape[0], diff)\n",
    "\n",
    "free, total = torch.cuda.mem_get_info(device)\n",
    "print(f\"free = {free/1024/1024}, total = {total/1024/1024}\")\n",
    "\n",
    "print(f\"average error {average_error}, H error {H_error}\")"
   ]
  },
  {
   "cell_type": "code",
   "execution_count": 12,
   "metadata": {},
   "outputs": [
    {
     "name": "stdout",
     "output_type": "stream",
     "text": [
      "entropy = 2.16168475151062\n"
     ]
    }
   ],
   "source": [
    "quantized_counts = torch.unique(quantized, return_counts = True)[1]\n",
    "entropy = -torch.sum(quantized_counts/quantized_counts.sum()*torch.log2(quantized_counts/quantized_counts.sum()))\n",
    "print(f\"entropy = {entropy}\")"
   ]
  },
  {
   "cell_type": "code",
   "execution_count": 13,
   "metadata": {},
   "outputs": [],
   "source": [
    "#huffman code the quantized values\n",
    "\n",
    "class huff_node:\n",
    "    def __init__(self, value, count):\n",
    "        self.value = value\n",
    "        self.count = count\n",
    "        self.left = None\n",
    "        self.right = None\n",
    "        self.code = \"\"\n",
    "\n",
    "def huffman_code_recursive(nodes:list[huff_node]):\n",
    "    if len(nodes) == 1:\n",
    "        \n",
    "        return nodes[0]\n",
    "    nodes = sorted(nodes, key = lambda x: x.count)\n",
    "    new_node = huff_node(None, nodes[0].count + nodes[1].count)\n",
    "    new_node.left = nodes[0]\n",
    "    new_node.right = nodes[1]\n",
    "    return huffman_code_recursive([new_node] + nodes[2:])\n",
    "\n",
    "def huffman_code_generate(node:huff_node):\n",
    "    if node.left is not None:\n",
    "        node.left.code = node.code + \"0\"\n",
    "        huffman_code_generate(node.left)\n",
    "    if node.right is not None:\n",
    "        node.right.code = node.code + \"1\"\n",
    "        huffman_code_generate(node.right)\n",
    "\n",
    "def huffman_code(values,counts):\n",
    "    nodes = [huff_node(value, count) for value, count in zip(values,counts)]\n",
    "    root = huffman_code_recursive(nodes)\n",
    "    huffman_code_generate(root)\n",
    "    return {node.value: node.code for node in nodes}\n",
    "\n",
    "huffman_codes = huffman_code([v.item() for v in torch.unique(quantized)], quantized_counts)\n",
    "\n",
    "\n",
    "\n"
   ]
  },
  {
   "cell_type": "code",
   "execution_count": 14,
   "metadata": {},
   "outputs": [
    {
     "data": {
      "text/plain": [
       "{tensor([0.0350], device='cuda:5'): '100',\n",
       " tensor([-0.0100], device='cuda:5'): '11',\n",
       " tensor([-0.0754], device='cuda:5'): '101011',\n",
       " tensor([0.0747], device='cuda:5'): '10100',\n",
       " tensor([0.0096], device='cuda:5'): '0',\n",
       " tensor([-0.0354], device='cuda:5'): '1011',\n",
       " tensor([-0.1502], device='cuda:5'): '1010100',\n",
       " tensor([0.1487], device='cuda:5'): '1010101'}"
      ]
     },
     "execution_count": 14,
     "metadata": {},
     "output_type": "execute_result"
    }
   ],
   "source": [
    "huffman_codes_ = {values[i]:k for i,k in huffman_codes.items()}\n",
    "huffman_codes_"
   ]
  },
  {
   "cell_type": "code",
   "execution_count": 15,
   "metadata": {},
   "outputs": [
    {
     "data": {
      "text/plain": [
       "{0: '100',\n",
       " 1: '11',\n",
       " 2: '101011',\n",
       " 3: '10100',\n",
       " 4: '0',\n",
       " 5: '1011',\n",
       " 6: '1010100',\n",
       " 7: '1010101'}"
      ]
     },
     "execution_count": 15,
     "metadata": {},
     "output_type": "execute_result"
    }
   ],
   "source": [
    "huffman_codes"
   ]
  },
  {
   "cell_type": "code",
   "execution_count": 16,
   "metadata": {},
   "outputs": [
    {
     "name": "stdout",
     "output_type": "stream",
     "text": [
      "total bits = 37154754, average bits = 2.2145957946777344\n"
     ]
    }
   ],
   "source": [
    "n_bits = torch.zeros(values.shape[0], dtype = torch.int32, device = device)\n",
    "\n",
    "for i in range(values.shape[0]):\n",
    "    n_bits[i] = len(huffman_codes[i])\n",
    "\n",
    "total_bits = torch.sum(n_bits*quantized_counts)\n",
    "print(f\"total bits = {total_bits}, average bits = {total_bits/weights.numel()}\")"
   ]
  },
  {
   "cell_type": "code",
   "execution_count": 29,
   "metadata": {},
   "outputs": [
    {
     "name": "stdout",
     "output_type": "stream",
     "text": [
      "torch.Size([4064, 4032])\n"
     ]
    }
   ],
   "source": [
    "n_bits_per_weight = n_bits[quantized].reshape(weights_masked.shape).float()\n",
    "print(n_bits_per_weight.shape)"
   ]
  },
  {
   "cell_type": "code",
   "execution_count": 28,
   "metadata": {},
   "outputs": [
    {
     "data": {
      "text/plain": [
       "tensor(2.2675, device='cuda:5')"
      ]
     },
     "execution_count": 28,
     "metadata": {},
     "output_type": "execute_result"
    }
   ],
   "source": [
    "torch.mean(n_bits_per_weight.float())"
   ]
  },
  {
   "cell_type": "code",
   "execution_count": 35,
   "metadata": {},
   "outputs": [
    {
     "data": {
      "text/plain": [
       "<matplotlib.lines.Line2D at 0x7321407c35d0>"
      ]
     },
     "execution_count": 35,
     "metadata": {},
     "output_type": "execute_result"
    },
    {
     "data": {
      "image/png": "[encoded data removed]",
      "text/plain": [
       "<Figure size 640x480 with 1 Axes>"
      ]
     },
     "metadata": {},
     "output_type": "display_data"
    }
   ],
   "source": [
    "plt.plot(torch.mean(n_bits_per_weight.reshape(n_bits_per_weight.shape[0],-1,d), dim = [1,2]).cpu().numpy())    \n",
    "plt.axhline(torch.mean(n_bits_per_weight).item(), color = \"red\")"
   ]
  },
  {
   "cell_type": "code",
   "execution_count": 54,
   "metadata": {},
   "outputs": [
    {
     "name": "stdout",
     "output_type": "stream",
     "text": [
      "torch.Size([4032])\n",
      "tensor([2601, 1447, 2867,  ..., 1677, 2203, 2208], device='cuda:5')\n",
      "torch.Size([4064, 4032])\n"
     ]
    },
    {
     "data": {
      "text/plain": [
       "<matplotlib.lines.Line2D at 0x7320d0702f10>"
      ]
     },
     "execution_count": 54,
     "metadata": {},
     "output_type": "execute_result"
    },
    {
     "data": {
      "image/png": "[encoded data removed]",
      "text/plain": [
       "<Figure size 640x480 with 1 Axes>"
      ]
     },
     "metadata": {},
     "output_type": "display_data"
    }
   ],
   "source": [
    "#rearange the rows such that we get close to the minimum\n",
    "\n",
    "args_sorted = torch.argsort(torch.mean(n_bits_per_weight, dim = 0))\n",
    "print(args_sorted.shape)\n",
    "rows_reordered = torch.zeros_like(args_sorted)\n",
    "\n",
    "rows_reordered[0::2] = args_sorted[:args_sorted.shape[0]//2]\n",
    "rows_reordered[1::2] = torch.flip(args_sorted[args_sorted.shape[0]//2:], [0])\n",
    "print(rows_reordered)\n",
    "n_bits_per_weight_new = n_bits[quantized].reshape(weights_masked.shape).float()[:,rows_reordered]\n",
    "print(n_bits_per_weight.shape)\n",
    "\n",
    "plt.hist(torch.sum(n_bits_per_weight.reshape(n_bits_per_weight.shape[0],-1,d), dim = [2]).cpu().numpy().flatten(),\n",
    "            alpha = 0.5, bins = 100)\n",
    "plt.hist(torch.sum(n_bits_per_weight_new.reshape(n_bits_per_weight.shape[0],-1,d), dim = [2]).cpu().numpy().flatten(),\n",
    "            alpha = 0.5, bins = 100)\n",
    "plt.axvline(torch.mean(torch.sum(n_bits_per_weight.reshape(n_bits_per_weight.shape[0],-1,d), dim = [2])).item(), color = \"red\")"
   ]
  },
  {
   "cell_type": "code",
   "execution_count": 52,
   "metadata": {},
   "outputs": [
    {
     "data": {
      "text/plain": [
       "tensor([[3746.0354, 3250.1279, 3177.0342,  ..., 5088.7451, 4580.6938,\n",
       "         5156.8823]], device='cuda:5')"
      ]
     },
     "execution_count": 52,
     "metadata": {},
     "output_type": "execute_result"
    }
   ],
   "source": [
    "x = torch.rand((1,n_bits_per_weight_new.shape[1]), device = device)\n",
    "\n",
    "torch.allclose(x[:] @ n_bits_per_weight_new.T"
   ]
  },
  {
   "cell_type": "code",
   "execution_count": 40,
   "metadata": {},
   "outputs": [],
   "source": [
    "block_size = d\n",
    "\n",
    "quantized_values = values[quantized].reshape(weights_masked.shape)[rows_reordered].reshape(weights_masked.shape[0],-1,block_size)\n",
    "quantized_n_bits = n_bits_per_weight_new.reshape(quantized_values.shape)\n",
    "\n"
   ]
  },
  {
   "cell_type": "code",
   "execution_count": 37,
   "metadata": {},
   "outputs": [
    {
     "name": "stdout",
     "output_type": "stream",
     "text": [
      "average bits per block = 36.18826675415039, average bits per value = 2.2617666721343994\n",
      " maximum bits per block = 89.0, minimum bits per block = 16.0\n",
      " maximum bits per value = 5.5625, minimum bits per value = 1.0\n"
     ]
    }
   ],
   "source": [
    "bits_per_block = n_bits[quantized_blocked].sum(-1).sum(-1).float()\n",
    "n_values_per_block = block_size[0]*block_size[1]\n",
    "\n",
    "print(f\"average bits per block = {torch.mean(bits_per_block).item()}, average bits per value = {torch.mean(bits_per_block).item()/n_values_per_block}\\n\",\n",
    "      f\"maximum bits per block = {torch.max(bits_per_block).item()}, minimum bits per block = {torch.min(bits_per_block).item()}\\n\",\n",
    "        f\"maximum bits per value = {torch.max(bits_per_block).item()/n_values_per_block}, minimum bits per value = {torch.min(bits_per_block).item()/n_values_per_block}\")\n"
   ]
  },
  {
   "cell_type": "code",
   "execution_count": null,
   "metadata": {},
   "outputs": [],
   "source": []
  }
 ],
 "metadata": {
  "kernelspec": {
   "display_name": "base",
   "language": "python",
   "name": "python3"
  },
  "language_info": {
   "codemirror_mode": {
    "name": "ipython",
    "version": 3
   },
   "file_extension": ".py",
   "mimetype": "text/x-python",
   "name": "python",
   "nbconvert_exporter": "python",
   "pygments_lexer": "ipython3",
   "version": "3.11.5"
  }
 },
 "nbformat": 4,
 "nbformat_minor": 2
}
